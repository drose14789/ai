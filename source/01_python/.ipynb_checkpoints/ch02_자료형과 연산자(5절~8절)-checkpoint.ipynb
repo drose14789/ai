{
 "cells": [
  {
   "cell_type": "code",
   "execution_count": 1,
   "id": "ff54c3ed",
   "metadata": {},
   "outputs": [
    {
     "data": {
      "text/html": [
       "\n",
       "<style>\n",
       "div.container{width:90% !important;}\n",
       "div.cell.code_cell.rendered{width:100%;}\n",
       "div.input_prompt{padding:0px;}\n",
       "div.CodeMirror {font-family:Consolas; font-size:12pt;}\n",
       "div.text_cell_render.rendered_html{font-size:12pt;}\n",
       "div.output {font-size:12pt; font-weight:bold;}\n",
       "div.input{font-family:Consolas; font-size:12pt;}\n",
       "div.prompt {min-width:70px;}\n",
       "div#toc-wrapper{padding-top:120px;}\n",
       "div.text_cell_render ul li{font-size:12pt;padding:5px;}\n",
       "table.dataframe{font-size:12px;}\n",
       "</style>\n"
      ],
      "text/plain": [
       "<IPython.core.display.HTML object>"
      ]
     },
     "metadata": {},
     "output_type": "display_data"
    }
   ],
   "source": [
    "from IPython.display import display, HTML\n",
    "display(HTML (\"\"\"\n",
    "<style>\n",
    "div.container{width:90% !important;}\n",
    "div.cell.code_cell.rendered{width:100%;}\n",
    "div.input_prompt{padding:0px;}\n",
    "div.CodeMirror {font-family:Consolas; font-size:12pt;}\n",
    "div.text_cell_render.rendered_html{font-size:12pt;}\n",
    "div.output {font-size:12pt; font-weight:bold;}\n",
    "div.input{font-family:Consolas; font-size:12pt;}\n",
    "div.prompt {min-width:70px;}\n",
    "div#toc-wrapper{padding-top:120px;}\n",
    "div.text_cell_render ul li{font-size:12pt;padding:5px;}\n",
    "table.dataframe{font-size:12px;}\n",
    "</style>\n",
    "\"\"\"))"
   ]
  },
  {
   "cell_type": "markdown",
   "id": "c7083bc4",
   "metadata": {},
   "source": [
    "<b><font size=\"7\" color=\"red\">ch02. </font></b>\n",
    "# 5절. 연산자\n",
    "## 5.1 산술 연산자: +,-,*,/(결과 float),//(몫),%(나머지),**(제곱)"
   ]
  },
  {
   "cell_type": "code",
   "execution_count": 8,
   "id": "b55ca6a2",
   "metadata": {},
   "outputs": [
    {
     "name": "stdout",
     "output_type": "stream",
     "text": [
      "10*5승 = 100000\n",
      "4/2(결과 실수) = 2.0\n",
      "5//2(몫) =  2\n",
      "5%2(나머지) = 1\n"
     ]
    }
   ],
   "source": [
    "print(\"10*5승 =\", 10**5)\n",
    "print(\"4/2(결과 실수) =\", 4/2)\n",
    "print(\"5//2(몫) = \", 5//2)\n",
    "print(\"5%2(나머지) =\", 5%2)"
   ]
  },
  {
   "cell_type": "code",
   "execution_count": 6,
   "id": "50131331",
   "metadata": {},
   "outputs": [
    {
     "name": "stdout",
     "output_type": "stream",
     "text": [
      "4**2 = 16.0\n"
     ]
    }
   ],
   "source": [
    "# 정수끼리 연산은 결과가 정수(단 / 제외)\n",
    "# 정수와 실수, 실수끼리 연산 결과는 실수\n",
    "print(\"4**2 =\", 4**2.0)"
   ]
  },
  {
   "cell_type": "code",
   "execution_count": 19,
   "id": "0cdf96ff",
   "metadata": {},
   "outputs": [
    {
     "name": "stdout",
     "output_type": "stream",
     "text": [
      "정수를 입력하세요:2\n",
      "입력하신 수는 {num}, 2로 나눈 나머지는 {result}라서 {tmep}를 입력하셨습니다.\n"
     ]
    }
   ],
   "source": [
    "# quiz1. 정수를 입력받아 짝수인지 홀수인지 여부를 출력\n",
    "\n",
    "num= int(input(\"정수를 입력하세요:\"))\n",
    "result = num % 2\n",
    "if  result:\n",
    "    temp = \"홀수\"\n",
    "else :\n",
    "    temp = \"짝수\"\n",
    "print(f\"입력하신 수는 {num}, 2로 나눈 나머지는 {result}라서 {tmep}를 입력하셨습니다.\")"
   ]
  },
  {
   "cell_type": "code",
   "execution_count": 72,
   "id": "a543bb25",
   "metadata": {},
   "outputs": [
    {
     "name": "stdout",
     "output_type": "stream",
     "text": [
      "정수를 입력하세요:5\n",
      "5의 배수입니다.\n"
     ]
    }
   ],
   "source": [
    "# quiz2. 정수를 입력받아 5의 배수인지 여부를 출력\n",
    "num= int(input(\"정수를 입력하세요:\"))\n",
    "if  num%5:\n",
    "    print(\"5의 배수가 아닙니다.\")\n",
    "else :\n",
    "    print(\"5의 배수입니다.\")"
   ]
  },
  {
   "cell_type": "code",
   "execution_count": 86,
   "id": "f63ff3f4",
   "metadata": {},
   "outputs": [
    {
     "name": "stdout",
     "output_type": "stream",
     "text": [
      "국어:99\n",
      "영어:100\n",
      "수학:100\n",
      "국어:  99\t영어: 100\t수학: 100\n",
      "총점: 299\t평균: 99.7\n"
     ]
    }
   ],
   "source": [
    "# quiz3. 국,영,수 점수를 입력받아 다음셀에서 다음과 같이 출력하도록 구현하시오\n",
    "#국어:99    영어:100    수학 : 100 \n",
    "#총점:299    평균:99.7\n",
    "kor = int(input(\"국어:\"))\n",
    "eng = int(input(\"영어:\"))\n",
    "mat = int(input(\"수학:\"))\n",
    "sum = kor + eng + mat\n",
    "avg = sum / 3\n",
    "print(\"국어: {:3d}\\t영어: {:3d}\\t수학: {:3d}\".format(kor, eng, mat))\n",
    "print(\"총점: {:3d}\\t평균: {:2.1f}\".format(sum,avg))"
   ]
  },
  {
   "cell_type": "markdown",
   "id": "2fb4c5a0",
   "metadata": {},
   "source": [
    "## 5.2 할당 연산자 : =, +=, -+, /=, *=, //=, %="
   ]
  },
  {
   "cell_type": "code",
   "execution_count": 92,
   "id": "3346f43c",
   "metadata": {},
   "outputs": [
    {
     "name": "stdout",
     "output_type": "stream",
     "text": [
      "a = 15\n"
     ]
    }
   ],
   "source": [
    "a = 10\n",
    "a += 5 #a = a + 5 와 동일\n",
    "print(f\"a = {a}\")"
   ]
  },
  {
   "cell_type": "code",
   "execution_count": 93,
   "id": "c6fbf6fe",
   "metadata": {},
   "outputs": [
    {
     "name": "stdout",
     "output_type": "stream",
     "text": [
      "5빼기 : 10\n",
      "10배 :  100\n",
      "5나눈 몫: 20\n"
     ]
    }
   ],
   "source": [
    "a -= 5 #a = a - 5 \n",
    "print(\"5빼기 :\", a) #10\n",
    "a *= 10 # a = a*10\n",
    "print(\"10배 : \", a) #100 \n",
    "a //= 5 # a = a // 5\n",
    "print(\"5나눈 몫:\", a)"
   ]
  },
  {
   "cell_type": "markdown",
   "id": "a3194a8d",
   "metadata": {},
   "source": [
    "## 5.3 논리 연산자 : &, and, |, or, not"
   ]
  },
  {
   "cell_type": "code",
   "execution_count": 97,
   "id": "833d9816",
   "metadata": {},
   "outputs": [
    {
     "name": "stdout",
     "output_type": "stream",
     "text": [
      "True\n",
      "0\n",
      "1100\n"
     ]
    }
   ],
   "source": [
    "# & : 논리 연산자, 비트 연산자\n",
    "print((10>3) & (10>5)) # 논리 연산 True & True\n",
    "print( 12 & 1) # 비트 연산 1 1 0 0 (12)\n",
    "                       #   0 0 0 1  (1)\n",
    "                      # &:0 0 0 0\n",
    "print(\"{:4b}\".format(12))"
   ]
  },
  {
   "cell_type": "code",
   "execution_count": 103,
   "id": "d1509234",
   "metadata": {},
   "outputs": [
    {
     "name": "stdout",
     "output_type": "stream",
     "text": [
      "True\n",
      "0\n"
     ]
    }
   ],
   "source": [
    "# and : 논리 연산자. False로 판별되는 첫번째 항의 결과 반환\n",
    "        # 모든 항이 True면, 마지막항을 결과 반환\n",
    "print((10>3) and (10>5))\n",
    "print( 0 and 1)"
   ]
  },
  {
   "cell_type": "code",
   "execution_count": 107,
   "id": "dca30243",
   "metadata": {},
   "outputs": [
    {
     "name": "stdout",
     "output_type": "stream",
     "text": [
      "논리연산(연산자 안뒤에 논리형일 때) : True\n",
      "비트연산(연사자 앞이나 뒤에 숫자일 때) : 3\n"
     ]
    }
   ],
   "source": [
    "# | : 논리 연산, 비트 연산\n",
    "result = True | False\n",
    "print('논리연산(연산자 안뒤에 논리형일 때) :', result)\n",
    "result = False | 3 # 0000 (0)\n",
    "                    # 0011 (3)\n",
    "                  # |:0011 (3)\n",
    "print('비트연산(연사자 앞이나 뒤에 숫자일 때) :', result)"
   ]
  },
  {
   "cell_type": "code",
   "execution_count": 110,
   "id": "40620e64",
   "metadata": {},
   "outputs": [
    {
     "name": "stdout",
     "output_type": "stream",
     "text": [
      "[]\n",
      "Hong\n",
      "True\n"
     ]
    }
   ],
   "source": [
    "# or : 논리 연산, 참으로 판별되는 첫번째 항의 결과 반환\n",
    "        # 모든 항이 거짓이면 마지막항의 결과 반환\n",
    "print(False or 0 or '' or None or [])\n",
    "print(False or 0 or 'Hong' or None or [])\n",
    "print(False or 0 or True or None or [])"
   ]
  },
  {
   "cell_type": "code",
   "execution_count": 111,
   "id": "b3c81110",
   "metadata": {},
   "outputs": [
    {
     "data": {
      "text/plain": [
       "False"
      ]
     },
     "execution_count": 111,
     "metadata": {},
     "output_type": "execute_result"
    }
   ],
   "source": [
    "# not : 논리 연산자, 논리 반전\n",
    "not 10>5"
   ]
  },
  {
   "cell_type": "markdown",
   "id": "f3cd6103",
   "metadata": {},
   "source": [
    "## 5.4 비교 연산자 : >, >=, <, <=, ==(같다), !=(다르다)"
   ]
  },
  {
   "cell_type": "code",
   "execution_count": 114,
   "id": "6bc37390",
   "metadata": {},
   "outputs": [
    {
     "name": "stdout",
     "output_type": "stream",
     "text": [
      "True\n",
      "True\n",
      "True\n"
     ]
    }
   ],
   "source": [
    "# 비교 연산자는 이항, 삼항, 사항, ... 다항 연산자\n",
    "x = 95\n",
    "print((90<=x) & (x<= 100))\n",
    "print( 90 <= x <= 100)\n",
    "print( 90 <= x <= 100 >10)"
   ]
  },
  {
   "cell_type": "code",
   "execution_count": 122,
   "id": "b02450e6",
   "metadata": {},
   "outputs": [
    {
     "name": "stdout",
     "output_type": "stream",
     "text": [
      "True\n",
      "False\n",
      "False\n"
     ]
    }
   ],
   "source": [
    "# 비교 연산자의 우선순위가 비트 연산자(|,&)의 우선순위보다 낮다\n",
    "print( (10 > 5) & (10 > 7))\n",
    "print( 10 > 5 & 10 > 7) # 괄호가 없으면 우선순위가 높은 5&10부터 실행\n",
    "print( 10 > 0 > 7)\n",
    "# 0101(5) & 1010 (10)"
   ]
  },
  {
   "cell_type": "code",
   "execution_count": 128,
   "id": "28681f4f",
   "metadata": {},
   "outputs": [
    {
     "name": "stdout",
     "output_type": "stream",
     "text": [
      "True\n",
      "True\n"
     ]
    }
   ],
   "source": [
    "address = \"목동\"\n",
    "age = 29\n",
    "#print((address == \"목동\") & (age <= 30))\n",
    "print((address == \"목동\") & (age <= 30))\n",
    "print(address == \"목동\" and age <= 30)"
   ]
  },
  {
   "cell_type": "code",
   "execution_count": 130,
   "id": "a8831678",
   "metadata": {},
   "outputs": [
    {
     "data": {
      "text/plain": [
       "True"
      ]
     },
     "execution_count": 130,
     "metadata": {},
     "output_type": "execute_result"
    }
   ],
   "source": [
    "# 문자는 ASCII 코드 순으로 비교:: 특수문자 < 숫자문자 < 대문자 < 소문자 (abc순)\n",
    "\"scott\" < \"tiger\""
   ]
  },
  {
   "cell_type": "code",
   "execution_count": 129,
   "id": "d1350f27",
   "metadata": {},
   "outputs": [
    {
     "data": {
      "text/plain": [
       "True"
      ]
     },
     "execution_count": 129,
     "metadata": {},
     "output_type": "execute_result"
    }
   ],
   "source": [
    "\"김길동 \" < \"홍길동\""
   ]
  },
  {
   "cell_type": "markdown",
   "id": "71b916fe",
   "metadata": {},
   "source": [
    "## 5.5 비트 연산: &, |, ^(XOR), ~(반대)\n",
    "\n",
    "    '''\n",
    "    \n",
    "    x     y     x&y    x|y    x^y    ~x\n",
    "    ------------------------------------\n",
    "    0     0      0      0      0      1\n",
    "    0     1      0      1      1      1\n",
    "    1     0      0      1      1      0\n",
    "    1     1      1      1      0      0\n",
    "    \n",
    "    '''"
   ]
  },
  {
   "cell_type": "code",
   "execution_count": 8,
   "id": "d1674186",
   "metadata": {},
   "outputs": [
    {
     "name": "stdout",
     "output_type": "stream",
     "text": [
      "  a = 15 : 1111\n",
      "  b =  2 : 0010\n",
      "a&b =  2 : 0010\n",
      "a|b = 15 : 1111\n",
      "a^b = 13 : 1101\n"
     ]
    }
   ],
   "source": [
    "a = 15 # 1111 (8+4+2+1)\n",
    "b =  2 # 0010 \n",
    "print(\"  a = {0:2} : {0:04b}\".format(a))\n",
    "print(\"  b = {0:2} : {0:04b}\".format(b))\n",
    "print(\"a&b = {0:2} : {0:04b}\".format(a&b))\n",
    "print(\"a|b = {0:2} : {0:04b}\".format(a|b))\n",
    "print(\"a^b = {0:2} : {0:04b}\".format(a^b))"
   ]
  },
  {
   "cell_type": "markdown",
   "id": "c16f03a5",
   "metadata": {},
   "source": [
    "# 6절. 문자열 다루기\n",
    "- 문자열변수[from:to:step] : 일부 문자 추출\n",
    "- len(문자열변수) : 문자수\n",
    "- upper() : 문자열을 대문자로 바꿈 \n",
    "- lower() : 문자열을 소문자로 바꿈\n",
    "- title() : 각 어절의 첫 문자만 대문자로 바꿈\n",
    "- capitalize() : 첫문자만 대문자로 바꿈\n",
    "- count(\"찾을문자열\") : \"찾을문자\"가 몇개 들어있는지 갯수 반환 (대,소문자 구분함)\n",
    "- find(\"찾을문자\") : \"찾을문자\"가 왼쪽부터 몇번째에 있는지 index를 반환 (없으면 -1) (대,소문자 구분함)\n",
    "- rfind(\"찾을문자\") : \"찾을문자\"가 오른쪽부터 몇번째에 있는지 index를 반환 (없으면 -1) (대,소문자 구분함)\n",
    "- index(\"찾을문자) : 찾을문자가 왼쪽부터 몇번째에 있는 index를 반환(없으면 에러) (대,소문자 구분함)\n",
    "- startswith(\"특정문자\") : \"특정문자\"로 시작하는 지 여부 반환 (대,소문자 구분함)\n",
    "- endswith(\"특정문자\") : \"특정문자\"로 끝나는지 여부 반환 (대,소문자 구분함)\n",
    "- strip() : 좌우 공백 제거(trim) \n",
    "- lstrip() : 왼쪽 공백 제거\n",
    "- rstrip() : 오른쪽 공백 제거\n",
    "- split() : 문자열을 공백이나 다른 문자 기준으로 나누어 리스트로 반환\n",
    "- isdigit() : 문자열이 숫자인지 문자인지 여부 반환\n",
    "- islower() : 문자열이 소문자인지 여부 반환\n",
    "- isupper() : 문자열이 대문자인지 여부 반환\n",
    "- replace(oldStr, newStr) : oldStr을 newStr로 변경"
   ]
  },
  {
   "cell_type": "code",
   "execution_count": 20,
   "id": "ed48910e",
   "metadata": {},
   "outputs": [
    {
     "data": {
      "text/plain": [
       "('python is easy. python is smart.python', 38)"
      ]
     },
     "execution_count": 20,
     "metadata": {},
     "output_type": "execute_result"
    }
   ],
   "source": [
    "temp = \"python is easy. python is smart.python\"\n",
    "temp, len(temp)"
   ]
  },
  {
   "cell_type": "code",
   "execution_count": 51,
   "id": "c76aa7b2",
   "metadata": {},
   "outputs": [
    {
     "name": "stdout",
     "output_type": "stream",
     "text": [
      "대문자로: PYTHON IS EASY. PYTHON IS SMART.PYTHON\n",
      "소문자로: python is easy. python is smart.python\n",
      "title(): Python Is Easy. Python Is Smart.Python\n",
      "capitalize(): Python is easy. python is smart.python\n",
      "c가 몇번 나오는지 0\n",
      "python이 몇번 나오는지 3\n",
      "대,소문자 구분없이 python이 몇번: 3\n",
      "대,소문자 구분없이 python이 몇번: 3\n",
      "대,소문자 구분없이 python이 몇번: 3\n",
      "python이 나오는 첫index 위치 0\n",
      "python이 나오는 마지막index 위치 32\n",
      "C가 나오는 index위치: -1\n",
      "python이 나오는 첫index 위치 0\n",
      "python으로 시작하는 여부: True\n",
      "python으로 시작하는 여부: True\n",
      "python으로 끝나는지 여부: True\n",
      "python으로 끝나는지 여부: True\n",
      "python을 R로 변경 : Rn is easy. Rn is smart.Rn\n",
      "python is easy. python is smart.python\n"
     ]
    }
   ],
   "source": [
    "temp = \"python is easy. python is smart.python\"\n",
    "    \n",
    "print(\"대문자로:\", temp.upper())\n",
    "print(\"소문자로:\", temp.lower())\n",
    "print(\"title():\", temp.title())\n",
    "print(\"capitalize():\", temp.capitalize())\n",
    "print(\"c가 몇번 나오는지\", temp.count(\"c\"))\n",
    "print(\"python이 몇번 나오는지\", temp.count(\"python\"))\n",
    "print(\"대,소문자 구분없이 python이 몇번:\", temp.lower().count(\"python\"))\n",
    "print(\"대,소문자 구분없이 python이 몇번:\", temp.upper().count(\"PYTHON\"))\n",
    "print(\"대,소문자 구분없이 python이 몇번:\", temp.title().count(\"Python\"))\n",
    "print(\"python이 나오는 첫index 위치\", temp.find(\"python\"))\n",
    "print(\"python이 나오는 마지막index 위치\", temp.rfind(\"python\"))\n",
    "print(\"C가 나오는 index위치:\", temp.find(\"C\")) # 찾을문자가 없을 경우 -1반환\n",
    "print(\"python이 나오는 첫index 위치\", temp.index(\"python\"))\n",
    "#print(\"C가 나오는 index위치:\", temp.index(\"C\")) - 찾을문자가 없을 경우 에러\n",
    "print(\"python으로 시작하는 여부:\", temp.startswith(\"python\"))\n",
    "print(\"python으로 시작하는 여부:\", temp.lower().startswith(\"python\"))\n",
    "print(\"python으로 끝나는지 여부:\", temp.endswith(\"python\"))\n",
    "print(\"python으로 끝나는지 여부:\", temp.endswith(\"python\"))\n",
    "print(\"python을 R로 변경 :\", temp.replace(\"pytho\", \"R\"))\n",
    "print(temp)"
   ]
  },
  {
   "cell_type": "code",
   "execution_count": 77,
   "id": "10a4a8b9",
   "metadata": {},
   "outputs": [
    {
     "name": "stdout",
     "output_type": "stream",
     "text": [
      "좌우 공백 : [  python is easy  ]\n",
      "좌우 공백 제거 : [python is easy]\n",
      "왼쪽 공백 제거 : [python is easy  ]\n",
      "오른쪽 공백 제거 : [  python is easy]\n",
      "isdigits(숫자문자)인지 여부 : False\n",
      "replace후 isdigits(숫자문자)인지 여부 : True\n",
      "대문자인지 여부 : False\n",
      "소문자인지 여부 : True\n"
     ]
    }
   ],
   "source": [
    "temp = \"  python is easy  \"\n",
    "notdigit = \"1,000\"\n",
    "print(\"좌우 공백 : [{}]\".format(temp))\n",
    "print(\"좌우 공백 제거 : [{}]\".format(temp.strip()))\n",
    "print(\"왼쪽 공백 제거 : [{}]\".format(temp.lstrip()))\n",
    "print(\"오른쪽 공백 제거 : [{}]\".format(temp.rstrip()))\n",
    "print(\"isdigits(숫자문자)인지 여부 :\", notdigit.isdigit())\n",
    "print(\"replace후 isdigits(숫자문자)인지 여부 :\", notdigit.replace(\",\",\"\").isdigit())\n",
    "print(\"대문자인지 여부 :\", temp.isupper()) #공백을 빼고 다 대문자여야 함\n",
    "print(\"소문자인지 여부 :\", temp.islower()) #공백을 빼고 다 소문자여야 함"
   ]
  },
  {
   "cell_type": "code",
   "execution_count": 78,
   "id": "f2d8a321",
   "metadata": {},
   "outputs": [
    {
     "data": {
      "text/plain": [
       "1000"
      ]
     },
     "execution_count": 78,
     "metadata": {},
     "output_type": "execute_result"
    }
   ],
   "source": [
    "int(\"1,000\".replace(\",\", \"\"))"
   ]
  },
  {
   "cell_type": "code",
   "execution_count": 70,
   "id": "80bb27c2",
   "metadata": {},
   "outputs": [
    {
     "name": "stdout",
     "output_type": "stream",
     "text": [
      "space단위로 names 분리(list로 반환): ['홍길동', '김길동', '박길동', '주길동', '고길동']\n",
      "홍길동 김길동 박길동 주길동 고길동\n",
      "['홍길동', '김길동', '박길동', '주길동', '고길동']\n"
     ]
    }
   ],
   "source": [
    "names = \"홍길동 김길동  박길동 주길동 고길동\"\n",
    "name_list = names.split()\n",
    "print(\"space단위로 names 분리(list로 반환):\", names.split())\n",
    "print(name_list[0], name_list[1], name_list[2], name_list[3], name_list[4])\n",
    "print(name_list[0:5])"
   ]
  },
  {
   "cell_type": "code",
   "execution_count": 75,
   "id": "37b5616d",
   "metadata": {},
   "outputs": [
    {
     "name": "stdout",
     "output_type": "stream",
     "text": [
      "['2025', '09', '17']\n",
      "년도 : 2025\n",
      "월 : 09\n",
      "일 : 17\n"
     ]
    }
   ],
   "source": [
    "date_str = \"2025-09-17\"\n",
    "date_list = date_str.split(\"-\")\n",
    "print(date_list)\n",
    "print(\"년도 :\", date_list[0])\n",
    "print(\"월 :\", date_list[1])\n",
    "print(\"일 :\", date_list[2])"
   ]
  },
  {
   "cell_type": "code",
   "execution_count": 79,
   "id": "b63c8b28",
   "metadata": {},
   "outputs": [
    {
     "data": {
      "text/plain": [
       "('A', 'B', 'C')"
      ]
     },
     "execution_count": 79,
     "metadata": {},
     "output_type": "execute_result"
    }
   ],
   "source": [
    "# str_ = \"ABC\"\n",
    "str_ = [\"A\", \"B\", \"C\"]\n",
    "str_[0], str_[1], str_[2]"
   ]
  },
  {
   "cell_type": "code",
   "execution_count": 83,
   "id": "63cb04c8",
   "metadata": {},
   "outputs": [
    {
     "name": "stdout",
     "output_type": "stream",
     "text": [
      "분리된 temp: ['Python', '웹(HTML/CSS/JS)', 'Oracle/MySQL(DBMS)', 'DL/ML(M/DNN/CNN/RNN)', 'LLM(RAG)']\n",
      "join temp : Python/웹(HTML/CSS/JS)/Oracle/MySQL(DBMS)/DL/ML(M/DNN/CNN/RNN)/LLM(RAG)\n"
     ]
    }
   ],
   "source": [
    "# ' - '을 \"/\"로 바꾸기\n",
    "temp = \"Python - 웹(HTML/CSS/JS) - Oracle/MySQL(DBMS) - DL/ML(M/DNN/CNN/RNN) - LLM(RAG)\"\n",
    "# temp.replace(\" - \", \"/\")\n",
    "# split()와 join() 이용하여 replace역할\n",
    "splited_temp = temp.split(\" - \")\n",
    "print(\"분리된 temp:\", splited_temp)\n",
    "joined_temp = \"/\".join(splited_temp) # \"/\"로 매겨변수 list를 연결\n",
    "print(\"join temp :\", joined_temp)"
   ]
  },
  {
   "cell_type": "code",
   "execution_count": 84,
   "id": "76f1a36a",
   "metadata": {
    "collapsed": true
   },
   "outputs": [
    {
     "data": {
      "text/plain": [
       "['__add__',\n",
       " '__class__',\n",
       " '__contains__',\n",
       " '__delattr__',\n",
       " '__dir__',\n",
       " '__doc__',\n",
       " '__eq__',\n",
       " '__format__',\n",
       " '__ge__',\n",
       " '__getattribute__',\n",
       " '__getitem__',\n",
       " '__getnewargs__',\n",
       " '__gt__',\n",
       " '__hash__',\n",
       " '__init__',\n",
       " '__init_subclass__',\n",
       " '__iter__',\n",
       " '__le__',\n",
       " '__len__',\n",
       " '__lt__',\n",
       " '__mod__',\n",
       " '__mul__',\n",
       " '__ne__',\n",
       " '__new__',\n",
       " '__reduce__',\n",
       " '__reduce_ex__',\n",
       " '__repr__',\n",
       " '__rmod__',\n",
       " '__rmul__',\n",
       " '__setattr__',\n",
       " '__sizeof__',\n",
       " '__str__',\n",
       " '__subclasshook__',\n",
       " 'capitalize',\n",
       " 'casefold',\n",
       " 'center',\n",
       " 'count',\n",
       " 'encode',\n",
       " 'endswith',\n",
       " 'expandtabs',\n",
       " 'find',\n",
       " 'format',\n",
       " 'format_map',\n",
       " 'index',\n",
       " 'isalnum',\n",
       " 'isalpha',\n",
       " 'isascii',\n",
       " 'isdecimal',\n",
       " 'isdigit',\n",
       " 'isidentifier',\n",
       " 'islower',\n",
       " 'isnumeric',\n",
       " 'isprintable',\n",
       " 'isspace',\n",
       " 'istitle',\n",
       " 'isupper',\n",
       " 'join',\n",
       " 'ljust',\n",
       " 'lower',\n",
       " 'lstrip',\n",
       " 'maketrans',\n",
       " 'partition',\n",
       " 'removeprefix',\n",
       " 'removesuffix',\n",
       " 'replace',\n",
       " 'rfind',\n",
       " 'rindex',\n",
       " 'rjust',\n",
       " 'rpartition',\n",
       " 'rsplit',\n",
       " 'rstrip',\n",
       " 'split',\n",
       " 'splitlines',\n",
       " 'startswith',\n",
       " 'strip',\n",
       " 'swapcase',\n",
       " 'title',\n",
       " 'translate',\n",
       " 'upper',\n",
       " 'zfill']"
      ]
     },
     "execution_count": 84,
     "metadata": {},
     "output_type": "execute_result"
    }
   ],
   "source": [
    "# 문자열을 다룰 수 있는 함수들 목록\n",
    "# dir(str)"
   ]
  },
  {
   "cell_type": "markdown",
   "id": "369941c9",
   "metadata": {},
   "source": [
    "# 7절. 시간,날짜 다루기"
   ]
  },
  {
   "cell_type": "code",
   "execution_count": 85,
   "id": "fc7f7282",
   "metadata": {},
   "outputs": [
    {
     "data": {
      "text/plain": [
       "'C:\\\\Users\\\\Admin\\\\anaconda3\\\\lib\\\\datetime.py'"
      ]
     },
     "execution_count": 85,
     "metadata": {},
     "output_type": "execute_result"
    }
   ],
   "source": [
    "import datetime\n",
    "datetime.__file__"
   ]
  },
  {
   "cell_type": "code",
   "execution_count": 1,
   "id": "f65891dc",
   "metadata": {},
   "outputs": [],
   "source": [
    "# datetime 모듈(datetime.py)안의 datetime, date, time만 load\n",
    "from datetime import datetime, date, time"
   ]
  },
  {
   "cell_type": "markdown",
   "id": "c3352e8d",
   "metadata": {},
   "source": [
    "## 7.1 시간과 날짜"
   ]
  },
  {
   "cell_type": "code",
   "execution_count": 3,
   "id": "04acf991",
   "metadata": {},
   "outputs": [
    {
     "data": {
      "text/plain": [
       "datetime.datetime(2025, 9, 11, 9, 30)"
      ]
     },
     "execution_count": 3,
     "metadata": {},
     "output_type": "execute_result"
    }
   ],
   "source": [
    "# 특정 시점을 갖는 datetime 객체 생성\n",
    "thatday = datetime(2025, 9, 11, 9, 30)\n",
    "thatday "
   ]
  },
  {
   "cell_type": "code",
   "execution_count": 11,
   "id": "8d63557f",
   "metadata": {},
   "outputs": [
    {
     "name": "stdout",
     "output_type": "stream",
     "text": [
      "25년09월11일(Thursday) 09:3000\n",
      "25년09월11일(Thursday) 09:3000\n",
      "Thu Sep 11 09:30:00 2025\n"
     ]
    }
   ],
   "source": [
    "# 날짜를 문자열로 전환\n",
    "print(\"{:%y년%m월%d일(%A) %H:%M%S}\".format(thatday))\n",
    "print(thatday.strftime(\"%y년%m월%d일(%A) %H:%M%S\"))\n",
    "print(thatday.ctime()) # ctime() : 사람이 읽기 쉬운 형태로 convert"
   ]
  },
  {
   "cell_type": "code",
   "execution_count": 12,
   "id": "ba21484a",
   "metadata": {},
   "outputs": [
    {
     "name": "stdout",
     "output_type": "stream",
     "text": [
      "2025-09-17 14:24:49.004745\n",
      "Wed Sep 17 14:24:49 2025\n",
      "25년09월17일 PM 02:2449\n"
     ]
    }
   ],
   "source": [
    "#지금을 저장하는 dAtetime 객체 생성\n",
    "now = datetime.now()\n",
    "print(now)\n",
    "print(now.ctime())\n",
    "print(now.strftime(\"%y년%m월%d일 %p %I:%M%S\"))"
   ]
  },
  {
   "cell_type": "code",
   "execution_count": 14,
   "id": "b2da4ddb",
   "metadata": {},
   "outputs": [
    {
     "name": "stdout",
     "output_type": "stream",
     "text": [
      "6 days, 4:54:49.004745\n",
      "6\n"
     ]
    }
   ],
   "source": [
    "diff = now-thatday\n",
    "print(diff)\n",
    "print(diff.days)"
   ]
  },
  {
   "cell_type": "markdown",
   "id": "9881aba2",
   "metadata": {},
   "source": [
    "## 7.2 날짜"
   ]
  },
  {
   "cell_type": "code",
   "execution_count": 16,
   "id": "73bb9a9f",
   "metadata": {},
   "outputs": [
    {
     "data": {
      "text/plain": [
       "datetime.date(2025, 9, 11)"
      ]
     },
     "execution_count": 16,
     "metadata": {},
     "output_type": "execute_result"
    }
   ],
   "source": [
    "# 특정한 날짜를 갖는 date 객체 생성\n",
    "someday = date(2025, 9, 11)\n",
    "someday"
   ]
  },
  {
   "cell_type": "code",
   "execution_count": 18,
   "id": "3eff2c94",
   "metadata": {},
   "outputs": [
    {
     "name": "stdout",
     "output_type": "stream",
     "text": [
      "2025-09-11\n",
      "25년09월11일 00:00\n"
     ]
    }
   ],
   "source": [
    "print(someday)\n",
    "print(someday.strftime(\"%y년%m월%d일 %H:%M\"))"
   ]
  },
  {
   "cell_type": "code",
   "execution_count": 20,
   "id": "134bebb2",
   "metadata": {},
   "outputs": [
    {
     "name": "stdout",
     "output_type": "stream",
     "text": [
      "True\n"
     ]
    }
   ],
   "source": [
    "# 오늘을 갖는 date 객체 생성\n",
    "today1 = date.today()\n",
    "today2 = datetime.now().date()\n",
    "print(today1 == today2)"
   ]
  },
  {
   "cell_type": "code",
   "execution_count": 23,
   "id": "f2798f9e",
   "metadata": {},
   "outputs": [
    {
     "name": "stdout",
     "output_type": "stream",
     "text": [
      "25년09월17일 00:00\n",
      "25년09월17일 00:00\n"
     ]
    }
   ],
   "source": [
    "print(today1.strftime(\"%y년%m월%d일 %H:%M\"))\n",
    "print(today2.strftime(\"%y년%m월%d일 %H:%M\"))"
   ]
  },
  {
   "cell_type": "code",
   "execution_count": 28,
   "id": "72f486b7",
   "metadata": {},
   "outputs": [
    {
     "name": "stdout",
     "output_type": "stream",
     "text": [
      "-6 days, 0:00:00\n",
      "-6\n"
     ]
    }
   ],
   "source": [
    "diff = someday - today1\n",
    "print(diff)\n",
    "print(diff.days)"
   ]
  },
  {
   "cell_type": "markdown",
   "id": "3d095c38",
   "metadata": {},
   "source": [
    "## 7.3 시간"
   ]
  },
  {
   "cell_type": "code",
   "execution_count": 30,
   "id": "17d11c3f",
   "metadata": {},
   "outputs": [
    {
     "data": {
      "text/plain": [
       "datetime.time(14, 39)"
      ]
     },
     "execution_count": 30,
     "metadata": {},
     "output_type": "execute_result"
    }
   ],
   "source": [
    "# 특정한 시간을 저장하는 time 객체 생성\n",
    "t = time(14, 39, 0)\n",
    "t"
   ]
  },
  {
   "cell_type": "code",
   "execution_count": 32,
   "id": "acfe3ac6",
   "metadata": {},
   "outputs": [
    {
     "name": "stdout",
     "output_type": "stream",
     "text": [
      "PM 02:39\n"
     ]
    }
   ],
   "source": [
    "print(t.strftime(\"%p %I:%M\"))"
   ]
  },
  {
   "cell_type": "code",
   "execution_count": 33,
   "id": "e780b149",
   "metadata": {},
   "outputs": [
    {
     "name": "stdout",
     "output_type": "stream",
     "text": [
      "00년01월01일 14:39\n"
     ]
    }
   ],
   "source": [
    "print(t.strftime(\"%y년%m월%d일 %H:%M\"))"
   ]
  },
  {
   "cell_type": "code",
   "execution_count": 34,
   "id": "f3d08cb6",
   "metadata": {},
   "outputs": [
    {
     "name": "stdout",
     "output_type": "stream",
     "text": [
      "14:43:34.996436\n"
     ]
    }
   ],
   "source": [
    "# 현재 시간\n",
    "nowtime = datetime.now().time()\n",
    "print(nowtime)"
   ]
  },
  {
   "cell_type": "markdown",
   "id": "54ad32e0",
   "metadata": {},
   "source": [
    "# 8절. 연습문제"
   ]
  },
  {
   "cell_type": "code",
   "execution_count": 35,
   "id": "efdec5dd",
   "metadata": {},
   "outputs": [
    {
     "name": "stdout",
     "output_type": "stream",
     "text": [
      "출력형식: 홍길동님의 나이는 23살입니다.\n"
     ]
    }
   ],
   "source": [
    "#1.이름과 나이 변수를 다음 형식으로 출력하도록 format() 함수를 이용해 형식화하세요\n",
    "# [출력형식 : 홍길동님의 나이는 23살입니다.]\n",
    "name = \"홍길동\"\n",
    "age = 23\n",
    "print(\"출력형식: {}님의 나이는 {}살입니다.\".format(name, age))"
   ]
  },
  {
   "cell_type": "code",
   "execution_count": 36,
   "id": "8ffc31a9",
   "metadata": {},
   "outputs": [
    {
     "name": "stdout",
     "output_type": "stream",
     "text": [
      "첫 번째 숫자:8\n",
      "두 번째 숫자:2\n",
      "덧셈: 10\n",
      "뺄셈: 6\n",
      "곱셈: 16\n",
      "나눗셈: 4.0\n",
      "몫: 4\n",
      "나머지: 0\n"
     ]
    }
   ],
   "source": [
    "#2.두 정수를 입력받아 두 수의 덧셈, 밸셈, 곱셈, 나눗셈, 몫, 나머지를 출력하세요\n",
    "first_number = int(input(\"첫 번째 숫자:\"))\n",
    "second_number = int(input(\"두 번째 숫자:\"))\n",
    "print(\"덧셈:\", first_number + second_number)\n",
    "print(\"뺄셈:\", first_number - second_number)\n",
    "print(\"곱셈:\", first_number * second_number)\n",
    "print(\"나눗셈:\", first_number / second_number)\n",
    "print(\"몫:\", first_number // second_number)\n",
    "print(\"나머지:\", first_number % second_number)"
   ]
  },
  {
   "cell_type": "code",
   "execution_count": 49,
   "id": "77e6b392",
   "metadata": {},
   "outputs": [
    {
     "name": "stdout",
     "output_type": "stream",
     "text": [
      "World Hello \n"
     ]
    }
   ],
   "source": [
    "#3.문자열의 분리하기와 합치기 기능을 이용하여 'Hello World'가 할당된 변수를 이용하여 'World Hello'로 출력하세요\n",
    "str_ = \"Hello World\"\n",
    "print(str_[6:12] + str_[5:6] + str_[0:6])"
   ]
  },
  {
   "cell_type": "code",
   "execution_count": 50,
   "id": "2b932297",
   "metadata": {},
   "outputs": [
    {
     "name": "stdout",
     "output_type": "stream",
     "text": [
      "bcdefa\n"
     ]
    }
   ],
   "source": [
    "#4.x = 'abcdef'를 이용하여 'bcdefa'로 출력하세요(문자 슬라이싱이용)\n",
    "x = 'abcdef'\n",
    "print(x[1:6] + x[0:1])"
   ]
  },
  {
   "cell_type": "code",
   "execution_count": 56,
   "id": "76da9551",
   "metadata": {},
   "outputs": [
    {
     "name": "stdout",
     "output_type": "stream",
     "text": [
      "fedcba\n"
     ]
    }
   ],
   "source": [
    "#5.x = 'abcdef'를 이용하여 'fedcba'로 출력하세요\n",
    "x = 'abcdef'\n",
    "print(x[::-1])"
   ]
  },
  {
   "cell_type": "code",
   "execution_count": 12,
   "id": "1222ae72",
   "metadata": {},
   "outputs": [
    {
     "name": "stdout",
     "output_type": "stream",
     "text": [
      "오늘의 온도:20\n",
      "오늘의 온도:[68]\n"
     ]
    }
   ],
   "source": [
    "#6.오늘의 온도를 섭씨온도로 입력받아 화씨 온도로 변화하는 프로그램을 작성하세요.\n",
    "#화씨온도는 소수점이 있을 경우만 두번째 자리까지 출력되고, 소수점이하 값이 없는 경우 출력하지 않도록합니다.\n",
    "C = int(input(\"오늘의 온도:\"))\n",
    "F = (C*1.8) + 32\n",
    "#if f.is_integer():\n",
    "#if f == round(f):\n",
    "if F % 1 == 0:\n",
    "    print('오늘의 온도:[{:2.0f}]'.format(F))\n",
    "    \n",
    "else :\n",
    "    print('오늘의 온도:[{:2.2f}]'.format(F))\n",
    "    \n"
   ]
  },
  {
   "cell_type": "code",
   "execution_count": 13,
   "id": "17500682",
   "metadata": {},
   "outputs": [],
   "source": [
    "#7.다음 중 변수 선언으로 잘못된 것을 모두 고르시오?\n",
    "##1.for 2.10th 3.Student.name 4._1234\n",
    "### 정답: 1번 2번 3번"
   ]
  },
  {
   "cell_type": "code",
   "execution_count": 14,
   "id": "e9dad4d8",
   "metadata": {},
   "outputs": [
    {
     "name": "stdout",
     "output_type": "stream",
     "text": [
      "SeounSeoul\n",
      "Seoun Seoul\n"
     ]
    }
   ],
   "source": [
    "#8.다음의 코드의 실행결과는?\n",
    "text = \"Seoul A001 - programming with python\"\n",
    "print(text[:4] + text[-1] + text.split()[0])\n",
    "print(text[:4] + text[-1],text.split()[0])"
   ]
  },
  {
   "cell_type": "code",
   "execution_count": 15,
   "id": "9b7483e4",
   "metadata": {},
   "outputs": [],
   "source": [
    "#9.다음 중 파이썬 3.x버전에서 연산식과 그 결과 출력이 잘못된 것은?\n",
    "##1.수식 8//2 결과 4 2. 수식 8/2 결과 4 3. 수식 8**2 결과 64\n",
    "### 정답: 2번"
   ]
  },
  {
   "cell_type": "code",
   "execution_count": 16,
   "id": "955faf6e",
   "metadata": {},
   "outputs": [
    {
     "ename": "TypeError",
     "evalue": "unsupported operand type(s) for +: 'int' and 'str'",
     "output_type": "error",
     "traceback": [
      "\u001b[1;31m---------------------------------------------------------------------------\u001b[0m",
      "\u001b[1;31mTypeError\u001b[0m                                 Traceback (most recent call last)",
      "Cell \u001b[1;32mIn[16], line 4\u001b[0m\n\u001b[0;32m      2\u001b[0m x \u001b[38;5;241m=\u001b[39m\u001b[38;5;241m5\u001b[39m\n\u001b[0;32m      3\u001b[0m y \u001b[38;5;241m=\u001b[39m \u001b[38;5;124m\"\u001b[39m\u001b[38;5;124mJohn\u001b[39m\u001b[38;5;124m\"\u001b[39m\n\u001b[1;32m----> 4\u001b[0m \u001b[38;5;28mprint\u001b[39m(\u001b[43mx\u001b[49m\u001b[38;5;241;43m+\u001b[39;49m\u001b[43my\u001b[49m)\n",
      "\u001b[1;31mTypeError\u001b[0m: unsupported operand type(s) for +: 'int' and 'str'"
     ]
    }
   ],
   "source": [
    "#10.아래 프로그램의 결과는?\n",
    "x =5\n",
    "y = \"John\"\n",
    "print(x+y)"
   ]
  },
  {
   "cell_type": "code",
   "execution_count": 19,
   "id": "eb7f6fed",
   "metadata": {},
   "outputs": [
    {
     "name": "stdout",
     "output_type": "stream",
     "text": [
      "나라 \n"
     ]
    }
   ],
   "source": [
    "#11.split()함수를 이용하여 str_의 값 중 \"나라\"를 출력하는 프로그램을 완성하시오\n",
    "str_= \"우리 나라 대한 민국\"\n",
    "str_list = str_.split()\n",
    "print(str_list[1])"
   ]
  }
 ],
 "metadata": {
  "kernelspec": {
   "display_name": "Python 3 (ipykernel)",
   "language": "python",
   "name": "python3"
  },
  "language_info": {
   "codemirror_mode": {
    "name": "ipython",
    "version": 3
   },
   "file_extension": ".py",
   "mimetype": "text/x-python",
   "name": "python",
   "nbconvert_exporter": "python",
   "pygments_lexer": "ipython3",
   "version": "3.10.9"
  },
  "toc": {
   "base_numbering": 1,
   "nav_menu": {},
   "number_sections": false,
   "sideBar": true,
   "skip_h1_title": false,
   "title_cell": "Table of Contents",
   "title_sidebar": "Contents",
   "toc_cell": false,
   "toc_position": {
    "height": "calc(100% - 180px)",
    "left": "10px",
    "top": "150px",
    "width": "382.391px"
   },
   "toc_section_display": true,
   "toc_window_display": true
  }
 },
 "nbformat": 4,
 "nbformat_minor": 5
}
