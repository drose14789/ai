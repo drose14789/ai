{
 "cells": [
  {
   "cell_type": "code",
   "execution_count": 1,
   "id": "2905cb7e",
   "metadata": {},
   "outputs": [
    {
     "data": {
      "text/html": [
       "\n",
       "<style>\n",
       "div.container{width:90% !important;}\n",
       "div.cell.code_cell.rendered{width:100%;}\n",
       "div.input_prompt{padding:0px;}\n",
       "div.CodeMirror {font-family:Consolas; font-size:12pt;}\n",
       "div.text_cell_render.rendered_html{font-size:12pt;}\n",
       "div.output {font-size:12pt; font-weight:bold;}\n",
       "div.input{font-family:Consolas; font-size:12pt;}\n",
       "div.prompt {min-width:70px;}\n",
       "div#toc-wrapper{padding-top:120px;}\n",
       "div.text_cell_render ul li{font-size:12pt;padding:5px;}\n",
       "table.dataframe{font-size:12px;}\n",
       "</style>\n"
      ],
      "text/plain": [
       "<IPython.core.display.HTML object>"
      ]
     },
     "metadata": {},
     "output_type": "display_data"
    }
   ],
   "source": [
    "from IPython.display import display, HTML\n",
    "display(HTML (\"\"\"\n",
    "<style>\n",
    "div.container{width:90% !important;}\n",
    "div.cell.code_cell.rendered{width:100%;}\n",
    "div.input_prompt{padding:0px;}\n",
    "div.CodeMirror {font-family:Consolas; font-size:12pt;}\n",
    "div.text_cell_render.rendered_html{font-size:12pt;}\n",
    "div.output {font-size:12pt; font-weight:bold;}\n",
    "div.input{font-family:Consolas; font-size:12pt;}\n",
    "div.prompt {min-width:70px;}\n",
    "div#toc-wrapper{padding-top:120px;}\n",
    "div.text_cell_render ul li{font-size:12pt;padding:5px;}\n",
    "table.dataframe{font-size:12px;}\n",
    "</style>\n",
    "\"\"\"))"
   ]
  },
  {
   "cell_type": "markdown",
   "id": "a0535f30",
   "metadata": {},
   "source": [
    "<b><font size=\"7\" color=\"red\">ch07. 객체지향 프로그램</font></b>\n",
    "# 1절. 객체와 클래스\n",
    "- 클래스 : 객체를 만들기 위한 틀(template, buleprint)\n",
    "- class 클래스명(상속받을 클래스명):\n",
    "- 객체 : 클래스의 인스턴스\n",
    "- 객체의 명사적 특성 : 데이터(Data), 변수(Variable), 필드(Field), 속성(Attribute)\n",
    "- 객체의 동사적 특셩 : 행위(Behavior), 함수(Function), 메서드(Method), 기능(Operation)\n",
    "- class 클래스명(상속받을클래스명):\n",
    "    \"독스트링\"\n",
    "    변수나 함수들을 선언"
   ]
  },
  {
   "cell_type": "code",
   "execution_count": 2,
   "id": "c6c14494",
   "metadata": {},
   "outputs": [
    {
     "name": "stdout",
     "output_type": "stream",
     "text": [
      "홍길동 남자\n",
      "{'name': '홍홍동', 'gender': '남자', 'academy': 'MBC'}\n",
      "{'name': '김길숙', 'gender': '여자', 'academy': 'MBC'}\n"
     ]
    }
   ],
   "source": [
    "person1 = {'name':'홍길동', 'gender': '남자', 'academy':'MBC'}\n",
    "person2 = {'name':'김길숙', 'gender': '여자', 'academy':'MBC'}\n",
    "print(person1['name'], person1.get('gender'))\n",
    "person1['name'] = '홍홍동'\n",
    "print(person1)\n",
    "print(person2)\n",
    "# peson1.my_funcetion()"
   ]
  },
  {
   "cell_type": "code",
   "execution_count": 8,
   "id": "98a9e7aa",
   "metadata": {},
   "outputs": [
    {
     "name": "stdout",
     "output_type": "stream",
     "text": [
      "MBC의 김길숙님은 여자입니다.\n",
      "MBC의 홍길동님은 남자입니다.\n",
      "MBC의 홍홍홍님은 여자입니다.\n"
     ]
    }
   ],
   "source": [
    "class Person :\n",
    "    academy = 'MBC' # 클래스 변수\n",
    "    def __init__(self, name, gender): # 생성자 함수\n",
    "        self.name = name\n",
    "        self.gender = gender\n",
    "    def print_info(self):\n",
    "        print(\"{}의 {}님은 {}입니다.\".format(self.academy, self.name, self.gender))\n",
    "p1 = Person(\"김길숙\", \"여자\") # 객체 변수(인스턴스) 생성\n",
    "p1.print_info()\n",
    "p2 = Person(\"홍길동\", \"남자\")\n",
    "p2.print_info()\n",
    "p1.name = \"홍홍홍\"\n",
    "p1.print_info()"
   ]
  },
  {
   "cell_type": "code",
   "execution_count": 10,
   "id": "ad7de0ed",
   "metadata": {},
   "outputs": [
    {
     "name": "stdout",
     "output_type": "stream",
     "text": [
      "SBS의 홍길동님은 남자입니다.\n"
     ]
    }
   ],
   "source": [
    "p2.academy = 'SBS'\n",
    "p2.print_info()"
   ]
  },
  {
   "cell_type": "code",
   "execution_count": 17,
   "id": "61773c5b",
   "metadata": {},
   "outputs": [
    {
     "name": "stdout",
     "output_type": "stream",
     "text": [
      "<__main__.Person object at 0x00000219DDFEF070>\n"
     ]
    }
   ],
   "source": [
    "class Person:\n",
    "    '''\n",
    "    \"Person 클래스는 어쩌구 저쩌구 여러줄 설명하는 독스트링\"\n",
    "    '''\n",
    "    pass\n",
    "p1 = Person()\n",
    "type(p1)\n",
    "print(p1.__str__())"
   ]
  },
  {
   "cell_type": "code",
   "execution_count": 19,
   "id": "08badb63",
   "metadata": {},
   "outputs": [
    {
     "data": {
      "text/plain": [
       "True"
      ]
     },
     "execution_count": 19,
     "metadata": {},
     "output_type": "execute_result"
    }
   ],
   "source": [
    "isinstance(p1, Person)"
   ]
  },
  {
   "cell_type": "code",
   "execution_count": 20,
   "id": "ff99708c",
   "metadata": {},
   "outputs": [
    {
     "data": {
      "text/plain": [
       "'\\n    \"Person 클래스는 어쩌구 저쩌구 여러줄 설명하는 독스트링\"\\n    '"
      ]
     },
     "execution_count": 20,
     "metadata": {},
     "output_type": "execute_result"
    }
   ],
   "source": [
    "p1.__doc__"
   ]
  },
  {
   "cell_type": "markdown",
   "id": "71a36ec6",
   "metadata": {},
   "source": [
    "# 2절. 생성자(`__init__()`)와 소멸자(`__del__`)\n",
    "- 생성자 : __init__(self, [매개변수1, 매개변수2..]) - 객체가 생성될 때 자동 실행\n",
    "  객체 생성시 필요한 코드(인스턴스 변수 생성과 초기화)를 포함한다\n",
    "- 소멸자 : __del__(self) - 객체가 소멸될 때 자동 실행 \n",
    "  객체 소멸시 필용한 코드를 포함\n",
    "  인스턴스(객체)의 레퍼런스 카운트가 0이 될 때 실행"
   ]
  },
  {
   "cell_type": "code",
   "execution_count": 13,
   "id": "b530d272",
   "metadata": {},
   "outputs": [],
   "source": [
    "class Person:\n",
    "    # 생성자함수의 오버로딩 불가. 대신 기본값을 갖는 매개변수 이용\n",
    "    def __init__(self, name = \"홍길동\", gender = \"남자\"):\n",
    "        self.name = name # 인스턴스 변수를 초기화\n",
    "        self.gender = gender\n",
    "        print(\"Person형 객체를 생성\")\n",
    "    def __del__(self):\n",
    "        print(\"Person형 객체 소멸\")\n",
    "    def __str__(self): # 오버라이딩(함수의 재정의)\n",
    "        return \"{}님은 {}입니다.\".format(self.name, self.gender)"
   ]
  },
  {
   "cell_type": "code",
   "execution_count": 7,
   "id": "b5b8f595",
   "metadata": {},
   "outputs": [
    {
     "name": "stdout",
     "output_type": "stream",
     "text": [
      "Person형 객체를 생성\n"
     ]
    }
   ],
   "source": [
    "p1 = Person(\"신사임당\", \"여자\")"
   ]
  },
  {
   "cell_type": "code",
   "execution_count": 8,
   "id": "7addcb65",
   "metadata": {},
   "outputs": [
    {
     "name": "stdout",
     "output_type": "stream",
     "text": [
      "신사임당님은 여자입니다.\n",
      "신사임당님은 여자입니다.\n"
     ]
    }
   ],
   "source": [
    "print(p1)\n",
    "print(p1.__str__())"
   ]
  },
  {
   "cell_type": "code",
   "execution_count": 9,
   "id": "9240ffc9",
   "metadata": {},
   "outputs": [
    {
     "data": {
      "text/plain": [
       "(__main__.Person, True)"
      ]
     },
     "execution_count": 9,
     "metadata": {},
     "output_type": "execute_result"
    }
   ],
   "source": [
    "type(p1), isinstance(p1, Person)"
   ]
  },
  {
   "cell_type": "code",
   "execution_count": 10,
   "id": "9138c457",
   "metadata": {},
   "outputs": [
    {
     "name": "stdout",
     "output_type": "stream",
     "text": [
      "Person형 객체 소멸\n"
     ]
    }
   ],
   "source": [
    "del p1"
   ]
  },
  {
   "cell_type": "code",
   "execution_count": 11,
   "id": "94cb7c55",
   "metadata": {},
   "outputs": [
    {
     "name": "stdout",
     "output_type": "stream",
     "text": [
      "Person형 객체를 생성\n"
     ]
    }
   ],
   "source": [
    "p2 = Person(\"홍길동\", \"남자\")"
   ]
  },
  {
   "cell_type": "code",
   "execution_count": 12,
   "id": "ee46bee8",
   "metadata": {},
   "outputs": [],
   "source": [
    "p3 = p2"
   ]
  },
  {
   "cell_type": "code",
   "execution_count": 13,
   "id": "dc8ed830",
   "metadata": {},
   "outputs": [],
   "source": [
    "del p2"
   ]
  },
  {
   "cell_type": "code",
   "execution_count": 14,
   "id": "3b1d3c78",
   "metadata": {},
   "outputs": [
    {
     "name": "stdout",
     "output_type": "stream",
     "text": [
      "Person형 객체 소멸\n"
     ]
    }
   ],
   "source": [
    "del p3"
   ]
  },
  {
   "cell_type": "markdown",
   "id": "3f5b4142",
   "metadata": {},
   "source": [
    "- **오버라이딩**(함수의 재정의)\n",
    "- **오버로딩**(함수의 중복정의) python은 불가\n",
    "- 생성자 함수 **오버로딩** 불가"
   ]
  },
  {
   "cell_type": "code",
   "execution_count": 14,
   "id": "606f835d",
   "metadata": {},
   "outputs": [
    {
     "name": "stdout",
     "output_type": "stream",
     "text": [
      "Person형 객체를 생성\n",
      "Person형 객체 소멸\n",
      "Person형 객체를 생성\n",
      "Person형 객체 소멸\n",
      "Person형 객체를 생성\n",
      "Person형 객체 소멸\n"
     ]
    }
   ],
   "source": [
    "p1 = Person(\"홍길동\", \"남자\")\n",
    "p2 = Person(gender =\"남자\")\n",
    "p3 = Person(\"강감찬\")"
   ]
  },
  {
   "cell_type": "code",
   "execution_count": 15,
   "id": "954535d9",
   "metadata": {},
   "outputs": [
    {
     "name": "stdout",
     "output_type": "stream",
     "text": [
      "홍길동님은 남자입니다.\n",
      "홍길동님은 남자입니다.\n",
      "강감찬님은 남자입니다.\n"
     ]
    }
   ],
   "source": [
    "print(p1)\n",
    "print(p2)\n",
    "print(p3)"
   ]
  },
  {
   "cell_type": "markdown",
   "id": "e529e71c",
   "metadata": {},
   "source": [
    "# 3절. 변수와 메소드(함수)\n",
    "- 인스턴스 변수 vs 클래스 변수 vs static 변수(정적변수)\n",
    "- 인스턴스 메소드(self) vs 클래스 메소드(cls) vs static 메소드()"
   ]
  },
  {
   "cell_type": "code",
   "execution_count": 12,
   "id": "3d428056",
   "metadata": {},
   "outputs": [
    {
     "name": "stdout",
     "output_type": "stream",
     "text": [
      "MBC\n",
      "p1객체변수(인스턴스) = MBC의 홍길동님은 남자입니다.\n",
      "p2객체변수(인스턴스) = MBC의 홍길동님은 남자입니다.\n",
      "p1객체변수(인스턴스) = SBS의 홍길동님은 남자입니다.\n",
      "p2객체변수(인스턴스) = 다른데의 홍길동님은 남자입니다.\n"
     ]
    }
   ],
   "source": [
    "# 클래스 변수는 클래스 내부에 선언되며, 생성된 모든 인스턴스(객체)에 동일한 값을 가진다\n",
    "# 인스턴스(객체).클래스변수로 수정하면 해당 인스턴스(객체)만 반영\n",
    "# 클래스명.클래스변수로 수정하면 모든 인스턴스에 반영\n",
    "class Person :\n",
    "    academy = 'MBC' # 클래스 변수\n",
    "    def __init__(self, name = \"홍길동\", gender = \"남자\"): # 생성자 함수\n",
    "        self.name = name\n",
    "        self.gender = gender\n",
    "    def __str__(self):\n",
    "        return (\"{}의 {}님은 {}입니다.\".format(self.academy, self.name, self.gender))\n",
    "\n",
    "print(Person.academy)\n",
    "p1 = Person() \n",
    "p2 = Person()\n",
    "print('p1객체변수(인스턴스) =', p1)\n",
    "print('p2객체변수(인스턴스) =', p2)\n",
    "p1.academy = \"SBS\" # 인스턴스.클래스변수로 수정하면 해당 인스턴스만 수정\n",
    "Person.academy = \"다른데\"\n",
    "print('p1객체변수(인스턴스) =', p1)\n",
    "print('p2객체변수(인스턴스) =', p2)"
   ]
  },
  {
   "cell_type": "markdown",
   "id": "6c1e3fdf",
   "metadata": {},
   "source": [
    "※ 인스턴스 메소드 vs 클래스 메소드 vs static 메소드\n",
    "- 인스턴스메소드 : 첫번째 인자에 self를 꼭 명시. 객체를 통해서만 호출할 수 있는 메소드\n",
    "- 클래스메소드 : 메소드 위에 @classmethod를 명시. 첫번째 인자에 class를 뜻하는 clz(cls)를 명시 \n",
    "- static메소드 : 메소드 위에 @staticmethod를 명시. 디폴트 인자가 없음"
   ]
  },
  {
   "cell_type": "code",
   "execution_count": 33,
   "id": "636c3523",
   "metadata": {},
   "outputs": [
    {
     "name": "stdout",
     "output_type": "stream",
     "text": [
      "일반(인스턴스)메소드 - MBC의 0님은 남자입니다.\n",
      "일반(인스턴스)메소드를 통해 익명로 이름변경. 여자로 성별변경\n",
      "클래스 메소드에서 classAcademy로 클래스변수 변경\n",
      "클래스 메소드에서 classAcademy로 클래스변수 변경\n",
      "클래스 메소드에서 sbs로 클래스변수 변경\n",
      "static 메소드에서staticAcademy로 클래스 변수 변겅\n",
      "일반(인스턴스)메소드를 통해 익명로 이름변경. 여자로 성별변경\n",
      "일반(인스턴스)메소드 - staticAcademy의 익명님은 여자입니다.\n"
     ]
    }
   ],
   "source": [
    "class Person :\n",
    "    academy = 'MBC' #클래스 변수\n",
    "    def __init__(self, name = \"홍길동\", gender = \"남자\"):\n",
    "        self.name = name\n",
    "        self.gender = gender\n",
    "    def print_info(self): # 인스턴스메소드 : 객체변수.print_info()로 호출\n",
    "        print(\"일반(인스턴스)메소드 - {}의 {}님은 {}입니다.\".format(self.academy, self.name, self.gender))\n",
    "    \n",
    "    def change_info(self, name = \"익명\", gender = \"여자\"):\n",
    "        self.name = name\n",
    "        self.gender = gender\n",
    "        print(\"일반(인스턴스)메소드를 통해 {}로 이름변경. {}로 성별변경\".format(self.name, self.gender))\n",
    "    \n",
    "    @classmethod\n",
    "    def do_(clz): # clz => Person의미. 클래스 변수를 이용한 로직\n",
    "        clz.academy = 'classAcademy'\n",
    "        print(\"클래스 메소드에서 {}로 클래스변수 변경\".format(clz.academy))\n",
    "        \n",
    "    @classmethod\n",
    "    def done_(clz, academy): # clz => Person의미. 클래스 변수를 이용한 로직\n",
    "        clz.academy = academy\n",
    "        print(\"클래스 메소드에서 {}로 클래스변수 변경\".format(clz.academy))\n",
    "    \n",
    "    @staticmethod\n",
    "    def that_(): # 클래스변수보다는 로직이 우선일 경우\n",
    "        Person.academy = \"staticAcademy\"\n",
    "        print(\"static 메소드에서{}로 클래스 변수 변겅\".format(Person.academy))\n",
    "        \n",
    "    \n",
    "    \n",
    "    \n",
    "    \n",
    "    \n",
    "p1 = Person(0)        \n",
    "p1.print_info()\n",
    "p1.change_info()\n",
    "p1.do_()\n",
    "Person.do_()\n",
    "Person.done_('sbs')\n",
    "Person.that_()\n",
    "p1.change_info()\n",
    "p1.print_info()"
   ]
  },
  {
   "cell_type": "code",
   "execution_count": 34,
   "id": "65eb5bbb",
   "metadata": {},
   "outputs": [
    {
     "name": "stdout",
     "output_type": "stream",
     "text": [
      "일반(인스턴스)메소드 - staticAcademy의 홍길동님은 남자입니다.\n"
     ]
    }
   ],
   "source": [
    "p2 = Person()\n",
    "p2.print_info()"
   ]
  },
  {
   "cell_type": "code",
   "execution_count": 35,
   "id": "c42f11a5",
   "metadata": {},
   "outputs": [
    {
     "name": "stdout",
     "output_type": "stream",
     "text": [
      "클래스 메소드에서 classAcademy로 클래스변수 변경\n",
      "일반(인스턴스)메소드 - classAcademy의 익명님은 여자입니다.\n",
      "일반(인스턴스)메소드 - classAcademy의 홍길동님은 남자입니다.\n"
     ]
    }
   ],
   "source": [
    "Person.do_()\n",
    "p1.print_info()\n",
    "p2.print_info()"
   ]
  },
  {
   "cell_type": "code",
   "execution_count": 38,
   "id": "f992db85",
   "metadata": {},
   "outputs": [
    {
     "name": "stdout",
     "output_type": "stream",
     "text": [
      "클래스 메소드에서 SBS로 클래스변수 변경\n",
      "일반(인스턴스)메소드 - SBS의 익명님은 여자입니다.\n",
      "일반(인스턴스)메소드 - SBS의 홍길동님은 남자입니다.\n"
     ]
    }
   ],
   "source": [
    "Person.done_(\"SBS\")\n",
    "p1.print_info()\n",
    "p2.print_info()"
   ]
  },
  {
   "cell_type": "markdown",
   "id": "6e2c8313",
   "metadata": {},
   "source": [
    "# 4절 상속과 재정의\n",
    "- 클래스 재상용\n",
    "- 상속을 이용하면 부모클래스의 모든 속성을 자식클래스로 물려줄수 있음\n",
    "```\n",
    "class 자식클래스명(부모클래스명):\n",
    " ~~~~~~\n",
    "```"
   ]
  },
  {
   "cell_type": "code",
   "execution_count": 51,
   "id": "9544ad03",
   "metadata": {},
   "outputs": [],
   "source": [
    "class Person:\n",
    "    # 생성자함수의 오버로딩 불가. 대신 기본값을 갖는 매개변수 이용\n",
    "    def __init__(self, name = \"홍길동\", gender = \"남자\"):\n",
    "        self.name = name # 인스턴스 변수를 초기화\n",
    "        self.gender = gender\n",
    "        print(\"Person형 객체를 생성(부모클래스)\")\n",
    "    def print_info(self):\n",
    "        print(self)\n",
    "    def __str__(self): # 오버라이딩(함수의 재정의)\n",
    "        return \"{}님은 {}입니다.\".format(self.name, self.gender)\n",
    "class Student (Person):\n",
    "    def __init__(self, name, gender, major):\n",
    "        self.name = name\n",
    "        self.gender = gender\n",
    "        self.major = major\n",
    "        print(\"Student 객체를 생성(자식클래스)\")\n",
    "    # 재정의(override) : 부모클래스에서 정의한 함수를 자식클래스에서 다시 정의\n",
    "    def __str__(self): # 오버라이딩(함수의 재정의)\n",
    "        return \"{}님은 {}입니다. 전공은 {}입니다.\".format(self.name, self.gender, self.major)"
   ]
  },
  {
   "cell_type": "code",
   "execution_count": 47,
   "id": "93336fcc",
   "metadata": {},
   "outputs": [
    {
     "name": "stdout",
     "output_type": "stream",
     "text": [
      "Person형 객체를 생성(부모클래스)\n",
      "홍길동님은 남자입니다.\n",
      "True\n"
     ]
    }
   ],
   "source": [
    "p1 = Person(\"홍길동\", \"남자\")\n",
    "print(p1)\n",
    "print(isinstance(p1,Person))"
   ]
  },
  {
   "cell_type": "code",
   "execution_count": 52,
   "id": "ce6f1459",
   "metadata": {},
   "outputs": [
    {
     "name": "stdout",
     "output_type": "stream",
     "text": [
      "Student 객체 생성합니다(자식클래스)\n",
      "남자인 홍길동님의 전공은 AI입니다.\n"
     ]
    }
   ],
   "source": [
    "s1 = Student(\"홍길동\", \"남자\", \"AI\")\n",
    "print(s1)"
   ]
  },
  {
   "cell_type": "code",
   "execution_count": 54,
   "id": "8d3d09e9",
   "metadata": {},
   "outputs": [
    {
     "name": "stdout",
     "output_type": "stream",
     "text": [
      "True\n",
      "True\n"
     ]
    }
   ],
   "source": [
    "print(isinstance(s1,Student))\n",
    "print(isinstance(s1, Person))"
   ]
  },
  {
   "cell_type": "markdown",
   "id": "f0cdbdef",
   "metadata": {},
   "source": [
    "### super()이용\n",
    "- super() : \"부모클래스의\"를 의미"
   ]
  },
  {
   "cell_type": "code",
   "execution_count": 56,
   "id": "b7f6ca68",
   "metadata": {},
   "outputs": [],
   "source": [
    "class Person:\n",
    "    # 생성자함수의 오버로딩 불가. 대신 기본값을 갖는 매개변수 이용\n",
    "    def __init__(self, name = \"홍길동\", gender = \"남자\"):\n",
    "        self.name = name # 인스턴스 변수를 초기화\n",
    "        self.gender = gender\n",
    "        print(\"Person형 객체를 생성(부모클래스)\")\n",
    "    def print_info(self):\n",
    "        print(self)\n",
    "    def __str__(self): # 오버라이딩(함수의 재정의)\n",
    "        return \"{}님은 {}입니다.\".format(self.name, self.gender)\n",
    "class Student (Person):\n",
    "    def __init__(self, name, gender, major):\n",
    "        super().__init__(name, gender)\n",
    "        self.major = major\n",
    "        print(\"Student 객체를 생성(자식클래스)\")\n",
    "    # 재정의(override) : 부모클래스에서 정의한 함수를 자식클래스에서 다시 정의\n",
    "    def __str__(self): # 오버라이딩(함수의 재정의)\n",
    "        return super().__str__()+\"전공은 {}입니다.\".format(self.major)"
   ]
  },
  {
   "cell_type": "code",
   "execution_count": 58,
   "id": "182b4d37",
   "metadata": {},
   "outputs": [
    {
     "name": "stdout",
     "output_type": "stream",
     "text": [
      "Person형 객체를 생성(부모클래스)\n",
      "Student 객체를 생성(자식클래스)\n",
      "아무개님은 여자입니다.전공은 AI입니다.\n",
      "아무개님은 여자입니다.전공은 AI입니다.\n"
     ]
    }
   ],
   "source": [
    "s2 = Student(\"아무개\", \"여자\", \"AI\")\n",
    "print(s2)\n",
    "s2.print_info()"
   ]
  },
  {
   "cell_type": "markdown",
   "id": "2da89436",
   "metadata": {},
   "source": [
    "### static 변수(정적변수) : 여러 객체들 사이에 데이터를 공유하고 싶을 때 사용\n",
    "- static 변수 : 앞에 under score2개(__) 붙임.\n",
    "- static변수는 클래스 내부에서만 접근하도록 하려는 용도"
   ]
  },
  {
   "cell_type": "code",
   "execution_count": 65,
   "id": "ecf1d8fb",
   "metadata": {},
   "outputs": [],
   "source": [
    "class Student(Person):\n",
    "    'name, gender에 major변수를 갖는 Student 타입. Student 객체를 몇번 생성했는지 공유'\n",
    "    __count = 0 # static변수\n",
    "    def __init__(self,name,gender,major):\n",
    "        super().__init__(name, gender)\n",
    "        self.major = major\n",
    "        Student._Student__count += 1 # 객체가 생성될 때마다 __count 1 증가\n",
    "    \n",
    "    def __del__(self):\n",
    "        Student._Student__count -= 1\n",
    "    \n",
    "    def __str__(self):\n",
    "        return super().__str__() + \", 전공은 {} - 객체 {} 생성\".format(self.major,Student._Student__count)\n",
    "    def print_info(self):\n",
    "        print(self)\n",
    "        \n",
    "    @classmethod\n",
    "    def get_count(cls): # 클래스변수나 static변수를 이용하는 로직\n",
    "        #return Student._Student__count\n",
    "        return cls.__count"
   ]
  },
  {
   "cell_type": "code",
   "execution_count": 66,
   "id": "0d57a2c3",
   "metadata": {},
   "outputs": [
    {
     "name": "stdout",
     "output_type": "stream",
     "text": [
      "Person형 객체를 생성(부모클래스)\n",
      "홍길동님은 남자입니다., 전공은 AI - 객체 1 생성\n"
     ]
    }
   ],
   "source": [
    "s1 = Student(\"홍길동\", \"남자\", \"AI\")\n",
    "Student.get_count()\n",
    "print(s1)"
   ]
  },
  {
   "cell_type": "code",
   "execution_count": null,
   "id": "d5097664",
   "metadata": {},
   "outputs": [],
   "source": []
  },
  {
   "cell_type": "code",
   "execution_count": null,
   "id": "cdfb55d6",
   "metadata": {},
   "outputs": [],
   "source": []
  },
  {
   "cell_type": "code",
   "execution_count": null,
   "id": "1668e33f",
   "metadata": {},
   "outputs": [],
   "source": []
  },
  {
   "cell_type": "markdown",
   "id": "e9ceb97a",
   "metadata": {},
   "source": [
    "# 연습문제(실습형)"
   ]
  },
  {
   "cell_type": "code",
   "execution_count": 89,
   "id": "68cd0ecf",
   "metadata": {},
   "outputs": [
    {
     "data": {
      "text/plain": [
       "'\\n도형(Shape)클래스와 삼각형(Triangle) 클래스를 만들어야 합니다.\\n도형(Shape)클래스\"\\n    - 생성자를 통해 x, y좌표를 초기화할 수 있습니다. x,y 좌표의 기본값은 0, 0입니다.\\n    - x, y 좌표를 이동시킬 수 있는 move 함수가 있습니다.\\n    - x, y 좌표값 정보를 문자열로 리턴하는 __str__함수가 있습니다.\\n    - 도형의 면적을 구하는 함수(calc_area)가 있습니다. 다만 도형 클래스의 calc_area()는\\n      구현되어 있지 않아 호출하면 오류가 발생합니다(파이썬은 추상메소드가 없음. 추상메소드 역할을 구현)\\n    - 정적메소드(staticmethod)를 하나 이상 구현합니다.\\n삼각형(Triangle)클래스는 도형(Shape)클래스이다. 관계가 성립해야 합니다\\n    - 생성자를 통해, width, height, x, y 좌표를 초기화하고 x, y 좌표의 기본값은 0, 0입니다.\\n    - 삼각형의 면적을 구하는 메소드 cala_area를 재정의합니다.\\n    - 삼각형의 정보를 문자열로 반환하는 __str__()함수가 있습니다.\\n    - 삼각형 객체가 몇 개가 만들어져 있는지 정보를 저장하는 클래스 변수를 추가하고 생성자에서\\n      객체를 만들 때마다 증가시키고 소멸자에서 객체를 소멸시킬 때마다 감소합니다.\\n'"
      ]
     },
     "execution_count": 89,
     "metadata": {},
     "output_type": "execute_result"
    }
   ],
   "source": [
    "#1. 다음 조건을 만족하는 클래스를 작성하세요\n",
    "'''\n",
    "도형(Shape)클래스와 삼각형(Triangle) 클래스를 만들어야 합니다.\n",
    "도형(Shape)클래스\"\n",
    "    - 생성자를 통해 x, y좌표를 초기화할 수 있습니다. x,y 좌표의 기본값은 0, 0입니다.\n",
    "    - x, y 좌표를 이동시킬 수 있는 move 함수가 있습니다.\n",
    "    - x, y 좌표값 정보를 문자열로 리턴하는 __str__함수가 있습니다.\n",
    "    - 도형의 면적을 구하는 함수(calc_area)가 있습니다. 다만 도형 클래스의 calc_area()는\n",
    "      구현되어 있지 않아 호출하면 오류가 발생합니다(파이썬은 추상메소드가 없음. 추상메소드 역할을 구현)\n",
    "    - 정적메소드(staticmethod)를 하나 이상 구현합니다.\n",
    "삼각형(Triangle)클래스는 도형(Shape)클래스이다. 관계가 성립해야 합니다\n",
    "    - 생성자를 통해, width, height, x, y 좌표를 초기화하고 x, y 좌표의 기본값은 0, 0입니다.\n",
    "    - 삼각형의 면적을 구하는 메소드 cala_area를 재정의합니다.\n",
    "    - 삼각형의 정보를 문자열로 반환하는 __str__()함수가 있습니다.\n",
    "    - 삼각형 객체가 몇 개가 만들어져 있는지 정보를 저장하는 클래스 변수를 추가하고 생성자에서\n",
    "      객체를 만들 때마다 증가시키고 소멸자에서 객체를 소멸시킬 때마다 감소합니다.\n",
    "'''        "
   ]
  },
  {
   "cell_type": "code",
   "execution_count": 152,
   "id": "7a2916c7",
   "metadata": {},
   "outputs": [],
   "source": [
    "import math\n",
    "\n",
    "class Shape:\n",
    "    def __init__(self, x=0, y=0):\n",
    "        self.x = x\n",
    "        self.y = y\n",
    "     \n",
    "    def move(self) : # x축으로 얼마 move할지, y축으로 얼마 move할지를 받아 move\n",
    "        x = self.x\n",
    "        y = self.y\n",
    "        \n",
    "    def __str__(self):\n",
    "        return \"좌표값은 {},{}입니다.\".format(self.x, self.y)\n",
    "    \n",
    "    def calc_area(self): # 호출시 강제로 예외발생\n",
    "        raise Exception(\"예외메시지\")\n",
    "    \n",
    "    @staticmethod\n",
    "    def staticmethod():\n",
    "        print('도형 클래스의 staticmethod 호출')\n",
    "        \n",
    "class Triangle(Shape):\n",
    "    __count = 0\n",
    "    def __init__(self, width, height, x=0, y=0):\n",
    "        super().__init__(x,y)\n",
    "        self.width = width\n",
    "        self.height = height\n",
    "        Triangle._Triangle__count += 1\n",
    "        \n",
    "    def __del__(self):\n",
    "        Triangle._Triangle__count -= 1\n",
    "    \n",
    "    def __str__(self):\n",
    "        return super().__str__() + \"밑변 : {}, 높이 : {}, 면적:{} 입니다.\".format(self.width, self.height,self.calc_area())\n",
    "    \n",
    "    def calc_area(self):\n",
    "        return (self.width*self.width) + (self.height*self.height)\n",
    "    \n",
    "    @classmethod\n",
    "    def get_count(cls):\n",
    "        return cls.__count"
   ]
  },
  {
   "cell_type": "code",
   "execution_count": 153,
   "id": "16e42eda",
   "metadata": {},
   "outputs": [
    {
     "name": "stdout",
     "output_type": "stream",
     "text": [
      "좌표값은 1,1입니다.밑변 : 1, 높이 : 1, 면적:2 입니다.\n"
     ]
    }
   ],
   "source": [
    "T1 = Triangle(1,1,1,1)\n",
    "print(T1)"
   ]
  },
  {
   "cell_type": "code",
   "execution_count": null,
   "id": "bb892b5b",
   "metadata": {},
   "outputs": [],
   "source": []
  },
  {
   "cell_type": "markdown",
   "id": "e9d47e9f",
   "metadata": {},
   "source": [
    "# 연습문제(서술형)"
   ]
  },
  {
   "cell_type": "code",
   "execution_count": 154,
   "id": "f0099d3b",
   "metadata": {},
   "outputs": [
    {
     "data": {
      "text/plain": [
       "'\\n2번 class Person():\\n3번 p1 = Person()\\n4번 def Person:\\n'"
      ]
     },
     "execution_count": 154,
     "metadata": {},
     "output_type": "execute_result"
    }
   ],
   "source": [
    "#1번. 다음 중 올바른 클래스 정의는?\n",
    "'''\n",
    "2번 class Person():\n",
    "3번 p1 = Person()\n",
    "4번 def Person:\n",
    "'''\n",
    "##정답: 1번 class Person:"
   ]
  },
  {
   "cell_type": "code",
   "execution_count": null,
   "id": "677e54c1",
   "metadata": {},
   "outputs": [],
   "source": [
    "#2번. 다음 중 Person 클래스의 객체를 생성하는 올바른 방법은?\n",
    "'''\n",
    "1번 p1 = Person\n",
    "3번 Person.p1\n",
    "4번 p1 = Person.init_()\n",
    "'''\n",
    "###정답: p1 = Person()"
   ]
  },
  {
   "cell_type": "code",
   "execution_count": null,
   "id": "70664fa8",
   "metadata": {},
   "outputs": [],
   "source": [
    "#3번. 다음 중 인스턴스메소드를 선언하는 가장 올바른 방법은?\n",
    "'''\n",
    "1번 def print_info():\n",
    "2번 @instancemethod\n",
    "    def print_inf0():\n",
    "3번 @method\n",
    "    def print_info():\n",
    "'''\n",
    "##정답: 4번 def print_info(self):"
   ]
  },
  {
   "cell_type": "code",
   "execution_count": null,
   "id": "fd03425c",
   "metadata": {},
   "outputs": [],
   "source": [
    "#4번. 다음 중 생성자와 소멸자에 대해 잘못 설명한 것은?\n",
    "'''\n",
    "2번 소멸자는 객체 참조 수가 0이 되면 실행된다.\n",
    "3번 생성자의 원형은 init_(self)이다.\n",
    "4번 생성자는 객체의 변수(또는 속성)를 초기화 하는데 사용한다.\n",
    "'''\n",
    "##정답: 1번 생성자는 중복(Overloading) 정의해서 사용할 수 있다."
   ]
  },
  {
   "cell_type": "code",
   "execution_count": null,
   "id": "3869bfcb",
   "metadata": {},
   "outputs": [],
   "source": [
    "#5번. 다음 중 \"Student is a Person\"을 클래스 상속으로 바르게 표현한 것은?\n",
    "'''\n",
    "1번 class Person(Student):\n",
    "3번 class Person is Student:\n",
    "4번 class Student:Person:\n",
    "'''\n",
    "##정답: 2번 class Student(Person):"
   ]
  },
  {
   "cell_type": "code",
   "execution_count": null,
   "id": "2a5afd58",
   "metadata": {},
   "outputs": [],
   "source": [
    "#6번 다음 중 상속과 재정의(Overriding)에 대해 잘 못 설명한 것은?\n",
    "'''\n",
    "1번 부모클래스의 메소드를 자식클래스에서 정의하는 것을 '재정의'라고한다.\n",
    "2번 메소드의 재정의는 상속을 전제로 한다.\n",
    "4번 super()를 이용하면 부모의 멤버를 호출 할 수 있다.\n",
    "'''\n",
    "##정답: 3번 재정의는 메소드의 이름은 같고, 매개변수의 수는 다르게 정의해야 한다."
   ]
  },
  {
   "cell_type": "code",
   "execution_count": 155,
   "id": "e70657d8",
   "metadata": {},
   "outputs": [],
   "source": [
    "#7번 다음 클래스의 메소드를 호출 하는 방법 중 잘못된 것은?\n",
    "class SomeClass:\n",
    "    def method_a(self):\n",
    "        print(\"method_a\")\n",
    "        \n",
    "    @classmethod\n",
    "    def method_b(cls):\n",
    "        print(\"method_b\")"
   ]
  },
  {
   "cell_type": "code",
   "execution_count": 156,
   "id": "809a9bda",
   "metadata": {},
   "outputs": [],
   "source": [
    "obj = SomeClass()"
   ]
  },
  {
   "cell_type": "code",
   "execution_count": 157,
   "id": "9fb05ed2",
   "metadata": {},
   "outputs": [
    {
     "data": {
      "text/plain": [
       "'\\n1번 obj.method_a()\\n2번 obj.method_b()\\n4번 SomeClass.method_b() \\n'"
      ]
     },
     "execution_count": 157,
     "metadata": {},
     "output_type": "execute_result"
    }
   ],
   "source": [
    "'''\n",
    "1번 obj.method_a()\n",
    "2번 obj.method_b()\n",
    "4번 SomeClass.method_b() \n",
    "'''\n",
    "##정답: 3번 SomeClass.method_a()"
   ]
  },
  {
   "cell_type": "code",
   "execution_count": 158,
   "id": "cb9b8f4d",
   "metadata": {},
   "outputs": [],
   "source": [
    "#8번 두 클래스와 코드의 실행결과 다음과 같이 출력되도록 해야한다면 빈칸에 넣을 수 없는 것을 고르시오\n",
    "class Super:\n",
    "    def do_(self, a):\n",
    "        print(\"super.do_\")"
   ]
  },
  {
   "cell_type": "code",
   "execution_count": 159,
   "id": "7b1a88e9",
   "metadata": {},
   "outputs": [],
   "source": [
    "class Sub(Super):\n",
    "    def do_(self,a):\n",
    "        Super.do_(self,a)#super.do_(a)"
   ]
  },
  {
   "cell_type": "code",
   "execution_count": 160,
   "id": "21598670",
   "metadata": {},
   "outputs": [
    {
     "name": "stdout",
     "output_type": "stream",
     "text": [
      "super.do_\n"
     ]
    }
   ],
   "source": [
    "s1 = Sub()\n",
    "s1.do_(10)"
   ]
  },
  {
   "cell_type": "code",
   "execution_count": 161,
   "id": "e03e21ef",
   "metadata": {},
   "outputs": [],
   "source": [
    "##정답: 3번 super.do(a)"
   ]
  },
  {
   "cell_type": "code",
   "execution_count": null,
   "id": "09ed9f09",
   "metadata": {},
   "outputs": [],
   "source": [
    "#9번 다음 중 파이썬의 특별할 용도로 정의되어 있는 속성과 메소드에 대한 셜명 중 잘못된것은?\n",
    "##정답 : __str__() 메소드는 print()함수의 인자로 객체를 전달할 때 호출되는 메소드이다. 이 메소드는 매개변수를 가질 수 없다."
   ]
  }
 ],
 "metadata": {
  "kernelspec": {
   "display_name": "Python 3 (ipykernel)",
   "language": "python",
   "name": "python3"
  },
  "language_info": {
   "codemirror_mode": {
    "name": "ipython",
    "version": 3
   },
   "file_extension": ".py",
   "mimetype": "text/x-python",
   "name": "python",
   "nbconvert_exporter": "python",
   "pygments_lexer": "ipython3",
   "version": "3.10.9"
  },
  "toc": {
   "base_numbering": 1,
   "nav_menu": {},
   "number_sections": false,
   "sideBar": true,
   "skip_h1_title": false,
   "title_cell": "Table of Contents",
   "title_sidebar": "Contents",
   "toc_cell": false,
   "toc_position": {
    "height": "calc(100% - 180px)",
    "left": "10px",
    "top": "150px",
    "width": "344.901px"
   },
   "toc_section_display": true,
   "toc_window_display": true
  }
 },
 "nbformat": 4,
 "nbformat_minor": 5
}
