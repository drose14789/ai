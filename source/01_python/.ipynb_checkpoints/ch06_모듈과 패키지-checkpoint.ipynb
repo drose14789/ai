{
 "cells": [
  {
   "cell_type": "code",
   "execution_count": 4,
   "id": "5e67ff44",
   "metadata": {},
   "outputs": [
    {
     "data": {
      "text/html": [
       "\n",
       "<style>\n",
       "div.container{width:90% !important;}\n",
       "div.cell.code_cell.rendered{width:100%;}\n",
       "div.input_prompt{padding:0px;}\n",
       "div.CodeMirror {font-family:Consolas; font-size:12pt;}\n",
       "div.text_cell_render.rendered_html{font-size:12pt;}\n",
       "div.output {font-size:12pt; font-weight:bold;}\n",
       "div.input{font-family:Consolas; font-size:12pt;}\n",
       "div.prompt {min-width:70px;}\n",
       "div#toc-wrapper{padding-top:120px;}\n",
       "div.text_cell_render ul li{font-size:12pt;padding:5px;}\n",
       "table.dataframe{font-size:12px;}\n",
       "</style>\n"
      ],
      "text/plain": [
       "<IPython.core.display.HTML object>"
      ]
     },
     "metadata": {},
     "output_type": "display_data"
    }
   ],
   "source": [
    "from IPython.display import display, HTML\n",
    "display(HTML (\"\"\"\n",
    "<style>\n",
    "div.container{width:90% !important;}\n",
    "div.cell.code_cell.rendered{width:100%;}\n",
    "div.input_prompt{padding:0px;}\n",
    "div.CodeMirror {font-family:Consolas; font-size:12pt;}\n",
    "div.text_cell_render.rendered_html{font-size:12pt;}\n",
    "div.output {font-size:12pt; font-weight:bold;}\n",
    "div.input{font-family:Consolas; font-size:12pt;}\n",
    "div.prompt {min-width:70px;}\n",
    "div#toc-wrapper{padding-top:120px;}\n",
    "div.text_cell_render ul li{font-size:12pt;padding:5px;}\n",
    "table.dataframe{font-size:12px;}\n",
    "</style>\n",
    "\"\"\"))"
   ]
  },
  {
   "cell_type": "markdown",
   "id": "6f4240de",
   "metadata": {},
   "source": [
    "<b><font size=\"7\" color=\"red\">ch06. 모듈과 패키지</font></b>\n",
    "# 1절. 파이썬 표준 모듈\n",
    "- 모듈 :  함수, 변수, 클래스 등을 담고 있는 파이썬 코드 파일(#.py)\n",
    "- pythom.org : 파이썬 표준 모듈 200여개 파이썬 인터프리터와 함께 install 됨(sys, re, datetime,...)\n",
    "- miniconda는 python.org버전보다 조금 더 많은 모듈을 install\n",
    "- anaconda는 15000개 이상의 패키지 install(정확한 갯수는 버전마다 상이)"
   ]
  },
  {
   "cell_type": "code",
   "execution_count": 5,
   "id": "e42d7e83",
   "metadata": {},
   "outputs": [
    {
     "data": {
      "text/plain": [
       "'Thu Sep 25 14:26:36 2025'"
      ]
     },
     "execution_count": 5,
     "metadata": {},
     "output_type": "execute_result"
    }
   ],
   "source": [
    "# 1. import 모듈명 : 모듈안의 함수, 클래스, 변수를 모듈명.함수명().. 사용\n",
    "import time\n",
    "time.ctime()"
   ]
  },
  {
   "cell_type": "code",
   "execution_count": 6,
   "id": "99f586cd",
   "metadata": {},
   "outputs": [
    {
     "data": {
      "text/plain": [
       "1758778037.1702144"
      ]
     },
     "execution_count": 6,
     "metadata": {},
     "output_type": "execute_result"
    }
   ],
   "source": [
    "time.time() # 1970.1.부터의 초수 (unix 타임)"
   ]
  },
  {
   "cell_type": "code",
   "execution_count": 7,
   "id": "9572a01f",
   "metadata": {},
   "outputs": [],
   "source": [
    "del time # time 모듈 메모리에서 unload"
   ]
  },
  {
   "cell_type": "code",
   "execution_count": 9,
   "id": "75dc5a11",
   "metadata": {},
   "outputs": [
    {
     "data": {
      "text/plain": [
       "1758779383.798655"
      ]
     },
     "execution_count": 9,
     "metadata": {},
     "output_type": "execute_result"
    }
   ],
   "source": [
    "# 2. from 모듈(A) import 함수/클래스/변수(B) : A모듈안의 B만 로드\n",
    "#    from 패키지(A) import 모듈(B) : A패캐지안의 B모듈을 로드\n",
    "#    from 패키지(A).모듈명(B) import 함수명(C) : A(패키지)안의.B 모듈안의 C함수만 로드\n",
    "from time import ctime, time\n",
    "ctime()\n",
    "time()"
   ]
  },
  {
   "cell_type": "code",
   "execution_count": 12,
   "id": "076eb8c1",
   "metadata": {},
   "outputs": [],
   "source": [
    "del ctime\n",
    "del time"
   ]
  },
  {
   "cell_type": "code",
   "execution_count": 13,
   "id": "44e1c404",
   "metadata": {},
   "outputs": [
    {
     "data": {
      "text/plain": [
       "'Thu Sep 25 14:53:35 2025'"
      ]
     },
     "execution_count": 13,
     "metadata": {},
     "output_type": "execute_result"
    }
   ],
   "source": [
    "# 3. import 모듈(A) as 모듈(B) : A모듈을 B이름으로 메모리 로드\n",
    "import time as t\n",
    "t.ctime()"
   ]
  },
  {
   "cell_type": "code",
   "execution_count": 14,
   "id": "c3f88541",
   "metadata": {},
   "outputs": [],
   "source": [
    "del t"
   ]
  },
  {
   "cell_type": "code",
   "execution_count": 23,
   "id": "c1da9819",
   "metadata": {},
   "outputs": [
    {
     "data": {
      "text/plain": [
       "'Thu Sep 25 15:29:23 2025'"
      ]
     },
     "execution_count": 23,
     "metadata": {},
     "output_type": "execute_result"
    }
   ],
   "source": [
    "# 4. from 패키지(A) import 모듈(B) as C : A패키지안의 B모듈을 C이름 가져옴\n",
    "#    from 함수(A) import 모듈(B) as C : A함수안의 B모듈을 C이름 가져옴\n",
    "#    from A.B import C as D : A.B안의 C모듈을 D이름으로 가져옴 \n",
    "from time import ctime as ct, time as t\n",
    "ct()"
   ]
  },
  {
   "cell_type": "code",
   "execution_count": 24,
   "id": "88d6158d",
   "metadata": {},
   "outputs": [],
   "source": [
    "del ct"
   ]
  },
  {
   "cell_type": "markdown",
   "id": "66460f27",
   "metadata": {},
   "source": [
    "# 2절. 사용자 정의 모듈\n",
    "- 함수나 클래스 등을 파이썬 파일에 저장해서 모듈을 만들고 재사용할 수 있음\n",
    "- 모듈을 가져오는 순서 (1)표준 모듈 (2)sys.path변수에 저장된경로"
   ]
  },
  {
   "cell_type": "code",
   "execution_count": 31,
   "id": "dbd03239",
   "metadata": {},
   "outputs": [
    {
     "name": "stdout",
     "output_type": "stream",
     "text": [
      "['C:\\\\ai\\\\source\\\\01_python', 'C:\\\\Users\\\\Admin\\\\anaconda3\\\\python310.zip', 'C:\\\\Users\\\\Admin\\\\anaconda3\\\\DLLs', 'C:\\\\Users\\\\Admin\\\\anaconda3\\\\lib', 'C:\\\\Users\\\\Admin\\\\anaconda3', '', 'C:\\\\Users\\\\Admin\\\\anaconda3\\\\lib\\\\site-packages', 'C:\\\\Users\\\\Admin\\\\anaconda3\\\\lib\\\\site-packages\\\\win32', 'C:\\\\Users\\\\Admin\\\\anaconda3\\\\lib\\\\site-packages\\\\win32\\\\lib', 'C:\\\\Users\\\\Admin\\\\anaconda3\\\\lib\\\\site-packages\\\\Pythonwin', 'C:ai\\\\source\\\\pylib', 'C:\\\\ai\\\\source\\\\pylib']\n"
     ]
    }
   ],
   "source": [
    "import sys\n",
    "#sys.path.pop() # 맨 끝 index 데이터 제겁\n",
    "sys.path.append(r'C:\\ai\\source\\pylib')\n",
    "print(sys.path)"
   ]
  },
  {
   "cell_type": "code",
   "execution_count": 32,
   "id": "d7f95cf6",
   "metadata": {},
   "outputs": [],
   "source": [
    "# 1. import 모듈명\n",
    "import fibonacci"
   ]
  },
  {
   "cell_type": "code",
   "execution_count": 33,
   "id": "3d601d3d",
   "metadata": {},
   "outputs": [
    {
     "data": {
      "text/plain": [
       "[0, 1, 1, 2, 3, 5, 8]"
      ]
     },
     "execution_count": 33,
     "metadata": {},
     "output_type": "execute_result"
    }
   ],
   "source": [
    "fibonacci.fibonacci(10)"
   ]
  },
  {
   "cell_type": "code",
   "execution_count": 34,
   "id": "1ef9051a",
   "metadata": {},
   "outputs": [
    {
     "name": "stdout",
     "output_type": "stream",
     "text": [
      "0 1 1 2 3 5 8 \n"
     ]
    }
   ],
   "source": [
    "fibonacci.fibonacci_print(10)"
   ]
  },
  {
   "cell_type": "code",
   "execution_count": 42,
   "id": "75ca7579",
   "metadata": {},
   "outputs": [],
   "source": [
    "# 2. from 모듈명 import 함수명\n",
    "from fibonacci import fibonacci, fibonacci_print"
   ]
  },
  {
   "cell_type": "code",
   "execution_count": 43,
   "id": "1b3bba27",
   "metadata": {},
   "outputs": [
    {
     "data": {
      "text/plain": [
       "[0, 1, 1, 2, 3, 5, 8]"
      ]
     },
     "execution_count": 43,
     "metadata": {},
     "output_type": "execute_result"
    }
   ],
   "source": [
    "fibonacci(10)"
   ]
  },
  {
   "cell_type": "code",
   "execution_count": 44,
   "id": "ec511226",
   "metadata": {},
   "outputs": [
    {
     "name": "stdout",
     "output_type": "stream",
     "text": [
      "0 1 1 2 3 5 8 \n"
     ]
    }
   ],
   "source": [
    "fibonacci_print(10)"
   ]
  },
  {
   "cell_type": "code",
   "execution_count": 45,
   "id": "f6d8052d",
   "metadata": {},
   "outputs": [],
   "source": [
    "# 3. import 모듈명 as 별칭\n",
    "import fibonacci as fib"
   ]
  },
  {
   "cell_type": "code",
   "execution_count": 46,
   "id": "6bafbd59",
   "metadata": {},
   "outputs": [
    {
     "data": {
      "text/plain": [
       "[0, 1, 1, 2, 3, 5, 8]"
      ]
     },
     "execution_count": 46,
     "metadata": {},
     "output_type": "execute_result"
    }
   ],
   "source": [
    "fib.fibonacci(10)"
   ]
  },
  {
   "cell_type": "code",
   "execution_count": 47,
   "id": "201bf1a1",
   "metadata": {},
   "outputs": [
    {
     "name": "stdout",
     "output_type": "stream",
     "text": [
      "0 1 1 2 3 5 8 \n"
     ]
    }
   ],
   "source": [
    "fib.fibonacci_print(10)"
   ]
  },
  {
   "cell_type": "code",
   "execution_count": 51,
   "id": "90aedd24",
   "metadata": {},
   "outputs": [],
   "source": [
    "# 4. from 모듈명 import 함수 as 별칭\n",
    "from fibonacci import fibonacci as fib, fibonacci_print as fib_p"
   ]
  },
  {
   "cell_type": "code",
   "execution_count": 52,
   "id": "8eedc5b1",
   "metadata": {},
   "outputs": [
    {
     "data": {
      "text/plain": [
       "[0, 1, 1, 2, 3, 5, 8]"
      ]
     },
     "execution_count": 52,
     "metadata": {},
     "output_type": "execute_result"
    }
   ],
   "source": [
    "fib(10)"
   ]
  },
  {
   "cell_type": "code",
   "execution_count": 53,
   "id": "7dc084ea",
   "metadata": {},
   "outputs": [
    {
     "name": "stdout",
     "output_type": "stream",
     "text": [
      "0 1 1 2 3 5 8 \n"
     ]
    }
   ],
   "source": [
    "fib_p(10)"
   ]
  },
  {
   "cell_type": "markdown",
   "id": "1b698a73",
   "metadata": {},
   "source": [
    "# 3절. 패키지\n",
    "- 모듈이 들어있는 폴더(`__init__.py`)"
   ]
  },
  {
   "cell_type": "code",
   "execution_count": 54,
   "id": "16da45d9",
   "metadata": {
    "scrolled": true
   },
   "outputs": [
    {
     "data": {
      "text/plain": [
       "['C:\\\\ai\\\\source\\\\01_python',\n",
       " 'C:\\\\Users\\\\Admin\\\\anaconda3\\\\python310.zip',\n",
       " 'C:\\\\Users\\\\Admin\\\\anaconda3\\\\DLLs',\n",
       " 'C:\\\\Users\\\\Admin\\\\anaconda3\\\\lib',\n",
       " 'C:\\\\Users\\\\Admin\\\\anaconda3',\n",
       " '',\n",
       " 'C:\\\\Users\\\\Admin\\\\anaconda3\\\\lib\\\\site-packages',\n",
       " 'C:\\\\Users\\\\Admin\\\\anaconda3\\\\lib\\\\site-packages\\\\win32',\n",
       " 'C:\\\\Users\\\\Admin\\\\anaconda3\\\\lib\\\\site-packages\\\\win32\\\\lib',\n",
       " 'C:\\\\Users\\\\Admin\\\\anaconda3\\\\lib\\\\site-packages\\\\Pythonwin',\n",
       " 'C:ai\\\\source\\\\pylib',\n",
       " 'C:\\\\ai\\\\source\\\\pylib']"
      ]
     },
     "execution_count": 54,
     "metadata": {},
     "output_type": "execute_result"
    }
   ],
   "source": [
    "import sys\n",
    "sys.path"
   ]
  },
  {
   "cell_type": "code",
   "execution_count": 55,
   "id": "2a121f0e",
   "metadata": {},
   "outputs": [
    {
     "name": "stdout",
     "output_type": "stream",
     "text": [
      "sampel_pac 패키지를 import 합니다.\n"
     ]
    }
   ],
   "source": [
    "# 상위패키지를 import한다고 하위패키지가 import되지 않는다.\n",
    "import sample_pac"
   ]
  },
  {
   "cell_type": "code",
   "execution_count": 56,
   "id": "96e72009",
   "metadata": {},
   "outputs": [
    {
     "name": "stdout",
     "output_type": "stream",
     "text": [
      "smaple_pac안의 test()입니다.\n"
     ]
    }
   ],
   "source": [
    "sample_pac.test()"
   ]
  },
  {
   "cell_type": "code",
   "execution_count": 58,
   "id": "f397d290",
   "metadata": {},
   "outputs": [
    {
     "data": {
      "text/plain": [
       "['C:\\\\ai\\\\source\\\\01_python',\n",
       " 'C:\\\\Users\\\\Admin\\\\anaconda3\\\\python310.zip',\n",
       " 'C:\\\\Users\\\\Admin\\\\anaconda3\\\\DLLs',\n",
       " 'C:\\\\Users\\\\Admin\\\\anaconda3\\\\lib',\n",
       " 'C:\\\\Users\\\\Admin\\\\anaconda3',\n",
       " '',\n",
       " 'C:\\\\Users\\\\Admin\\\\anaconda3\\\\lib\\\\site-packages',\n",
       " 'C:\\\\Users\\\\Admin\\\\anaconda3\\\\lib\\\\site-packages\\\\win32',\n",
       " 'C:\\\\Users\\\\Admin\\\\anaconda3\\\\lib\\\\site-packages\\\\win32\\\\lib',\n",
       " 'C:\\\\Users\\\\Admin\\\\anaconda3\\\\lib\\\\site-packages\\\\Pythonwin',\n",
       " 'C:ai\\\\source\\\\pylib',\n",
       " 'C:\\\\ai\\\\source\\\\pylib']"
      ]
     },
     "execution_count": 58,
     "metadata": {},
     "output_type": "execute_result"
    }
   ],
   "source": [
    "import sys\n",
    "sys.path"
   ]
  },
  {
   "cell_type": "code",
   "execution_count": 60,
   "id": "be8908ed",
   "metadata": {},
   "outputs": [],
   "source": [
    "import sample_pac"
   ]
  },
  {
   "cell_type": "code",
   "execution_count": 68,
   "id": "c0258b8e",
   "metadata": {},
   "outputs": [],
   "source": [
    "import sample_pac.ab # ab/__init__.py"
   ]
  },
  {
   "cell_type": "code",
   "execution_count": 70,
   "id": "e8722a7d",
   "metadata": {},
   "outputs": [],
   "source": [
    "from sample_pac.ab import * #__init__.py의 __all__ 속성만 로드"
   ]
  },
  {
   "cell_type": "code",
   "execution_count": 72,
   "id": "f6ba8fb0",
   "metadata": {},
   "outputs": [
    {
     "name": "stdout",
     "output_type": "stream",
     "text": [
      "smple_pac.ab.a모듈의 hello\n"
     ]
    }
   ],
   "source": [
    "a.hello()"
   ]
  },
  {
   "cell_type": "code",
   "execution_count": 74,
   "id": "61ec8824",
   "metadata": {},
   "outputs": [],
   "source": [
    "from sample_pac.ab import b"
   ]
  },
  {
   "cell_type": "code",
   "execution_count": 75,
   "id": "1d741bea",
   "metadata": {},
   "outputs": [
    {
     "name": "stdout",
     "output_type": "stream",
     "text": [
      "smple_pac.ab.b모듈의 world\n"
     ]
    }
   ],
   "source": [
    "b.world()"
   ]
  },
  {
   "cell_type": "code",
   "execution_count": 1,
   "id": "e59deea7",
   "metadata": {},
   "outputs": [],
   "source": [
    "import sys\n",
    "sys.path.append(r'C:\\ai\\source\\pylib')"
   ]
  },
  {
   "cell_type": "code",
   "execution_count": 2,
   "id": "ff914d6a",
   "metadata": {},
   "outputs": [
    {
     "name": "stdout",
     "output_type": "stream",
     "text": [
      "sampel_pac 패키지를 import 합니다.\n",
      "cd 패키지를 import합니다\n"
     ]
    }
   ],
   "source": [
    "import sample_pac.cd"
   ]
  },
  {
   "cell_type": "code",
   "execution_count": 3,
   "id": "8b301a6e",
   "metadata": {},
   "outputs": [
    {
     "name": "stdout",
     "output_type": "stream",
     "text": [
      "sample_pac.ab 패키지를 로드합니다.\n"
     ]
    }
   ],
   "source": [
    "from sample_pac.cd import c"
   ]
  },
  {
   "cell_type": "code",
   "execution_count": 4,
   "id": "3c6e0307",
   "metadata": {},
   "outputs": [],
   "source": [
    "from sample_pac.ab import *"
   ]
  },
  {
   "cell_type": "code",
   "execution_count": 5,
   "id": "54bd03c4",
   "metadata": {},
   "outputs": [],
   "source": [
    "from sample_pac.cd import c"
   ]
  },
  {
   "cell_type": "code",
   "execution_count": 6,
   "id": "04213826",
   "metadata": {},
   "outputs": [
    {
     "name": "stdout",
     "output_type": "stream",
     "text": [
      "sample_pac/cd안의 c모듈\n",
      "smple_pac.ab.a모듈의 hello\n"
     ]
    }
   ],
   "source": [
    "c.nice()"
   ]
  },
  {
   "cell_type": "markdown",
   "id": "b91657ad",
   "metadata": {},
   "source": [
    "# 4절. 패키지 설치 및 삭제\n",
    "- 패키지 설치 : pip install 패키지명[==버전] / ==버전 안하면 최신 버전으로 다운로드\n",
    "  conda install 패키지명[==버전] /  ==버전 안하면 최신 버전으로 다운로드\n",
    "  whl 파일을 이용한 설치 : python -m pip install whl파일명\n",
    "- 패키지 확인 : pip show 패키지명 / conda list 패키지명\n",
    "- 패키지 삭제 : pip uninstall 패캐지명 / conda remove 패키지명"
   ]
  },
  {
   "cell_type": "code",
   "execution_count": 1,
   "id": "90976ec2",
   "metadata": {},
   "outputs": [],
   "source": [
    "import objgraph # 메모리 사용량을 출력하는 함수"
   ]
  },
  {
   "cell_type": "code",
   "execution_count": 2,
   "id": "16cf2f6a",
   "metadata": {},
   "outputs": [
    {
     "name": "stdout",
     "output_type": "stream",
     "text": [
      "dict                       25870\n",
      "list                       18821\n",
      "function                   18541\n",
      "tuple                      12869\n",
      "Operator                   10461\n",
      "Name                       6913\n",
      "PythonNode                 6698\n",
      "ReferenceType              5436\n",
      "DFAPlan                    5418\n",
      "builtin_function_or_method 3263\n"
     ]
    }
   ],
   "source": [
    "objgraph.show_most_common_types()"
   ]
  },
  {
   "cell_type": "markdown",
   "id": "90f9f66a",
   "metadata": {},
   "source": [
    "# 연습문제"
   ]
  },
  {
   "cell_type": "code",
   "execution_count": 3,
   "id": "97f897b5",
   "metadata": {},
   "outputs": [],
   "source": [
    "#1번. 파이썬 모듈과 패키지에 대해 잘못 설명한 것은?\n",
    "'''\n",
    "1번 모듈은 파일 단위로 작성하며 확장자가 .py인 파이썬 파일이다.\n",
    "2번 패키지는 모듈들의 모음이며 디렉터리 단위로 존재한다.\n",
    "4번 일부 모듈 세트는 특정 플랫폼에서만 사용할 수 있다.\n",
    "\n",
    "정답: 3번 파이썬 표준 라이브러리는 import 하지 않고 사용할 수 있다.\n",
    "'''"
   ]
  },
  {
   "cell_type": "code",
   "execution_count": 4,
   "id": "b1b7ab36",
   "metadata": {},
   "outputs": [
    {
     "data": {
      "text/plain": [
       "'\\n1번.import time\\n    time.ctime()\\n2번.import time as t\\n    t.ctime()\\n3번.from time import ctime\\n    ctime()\\n4번.from time import ctime as ct\\n    ctime()\\n'"
      ]
     },
     "execution_count": 4,
     "metadata": {},
     "output_type": "execute_result"
    }
   ],
   "source": [
    "#2번. 다음 중 모듈의 import와 import후 사용 방법이 잘못된 것은?\n",
    "'''\n",
    "1번.import time\n",
    "    time.ctime()\n",
    "2번.import time as t\n",
    "    t.ctime()\n",
    "3번.from time import ctime\n",
    "    ctime()\n",
    "    \n",
    "정답: 4번.from time import ctime as ct\n",
    "          ctime()\n",
    "'''"
   ]
  },
  {
   "cell_type": "code",
   "execution_count": 5,
   "id": "f8be03ec",
   "metadata": {},
   "outputs": [],
   "source": [
    "#3번. 파이썬이 디렉터리를 패키지에 포함하도록 처리하기 위해 필요한 파일은?\n",
    "\n",
    "## 정답: __init__.py"
   ]
  },
  {
   "cell_type": "code",
   "execution_count": 6,
   "id": "1dfda0ae",
   "metadata": {},
   "outputs": [],
   "source": [
    "#4번. import *을 이용하면 패키지에 있는 서브 모듈을 찾아서 모두 가져옵니다. \n",
    "#그렇기 때문에 패키지 작성자가 패키지의 명시적 색인 제공하기 위해 사용하는 속성의 이름은 무엇인가요?\n",
    "\n",
    "##정답: __all__"
   ]
  },
  {
   "cell_type": "code",
   "execution_count": null,
   "id": "e31b660f",
   "metadata": {},
   "outputs": [],
   "source": [
    "#5번. 다음 중 파이썬 패키지를 설치하는 방법이 아닌 것은?\n",
    "'''\n",
    "2번 pip install 패키지명\n",
    "3번 conda install 패키지명\n",
    "4번 pip install whl파일경로\n",
    "\n",
    "정답: 1번 python -m pip install --upgrade pip\n",
    "'''"
   ]
  }
 ],
 "metadata": {
  "kernelspec": {
   "display_name": "Python 3 (ipykernel)",
   "language": "python",
   "name": "python3"
  },
  "language_info": {
   "codemirror_mode": {
    "name": "ipython",
    "version": 3
   },
   "file_extension": ".py",
   "mimetype": "text/x-python",
   "name": "python",
   "nbconvert_exporter": "python",
   "pygments_lexer": "ipython3",
   "version": "3.10.9"
  },
  "toc": {
   "base_numbering": 1,
   "nav_menu": {},
   "number_sections": false,
   "sideBar": true,
   "skip_h1_title": false,
   "title_cell": "Table of Contents",
   "title_sidebar": "Contents",
   "toc_cell": false,
   "toc_position": {
    "height": "calc(100% - 180px)",
    "left": "10px",
    "top": "150px",
    "width": "344.901px"
   },
   "toc_section_display": true,
   "toc_window_display": true
  }
 },
 "nbformat": 4,
 "nbformat_minor": 5
}
