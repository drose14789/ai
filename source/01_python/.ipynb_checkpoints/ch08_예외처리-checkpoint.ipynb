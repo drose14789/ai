{
 "cells": [
  {
   "cell_type": "code",
   "execution_count": 1,
   "id": "e7a6dfff",
   "metadata": {},
   "outputs": [
    {
     "data": {
      "text/html": [
       "\n",
       "<style>\n",
       "div.container{width:90% !important;}\n",
       "div.cell.code_cell.rendered{width:100%;}\n",
       "div.input_prompt{padding:0px;}\n",
       "div.CodeMirror {font-family:Consolas; font-size:12pt;}\n",
       "div.text_cell_render.rendered_html{font-size:12pt;}\n",
       "div.output {font-size:12pt; font-weight:bold;}\n",
       "div.input{font-family:Consolas; font-size:12pt;}\n",
       "div.prompt {min-width:70px;}\n",
       "div#toc-wrapper{padding-top:120px;}\n",
       "div.text_cell_render ul li{font-size:12pt;padding:5px;}\n",
       "table.dataframe{font-size:12px;}\n",
       "</style>\n"
      ],
      "text/plain": [
       "<IPython.core.display.HTML object>"
      ]
     },
     "metadata": {},
     "output_type": "display_data"
    }
   ],
   "source": [
    "from IPython.display import display, HTML\n",
    "display(HTML (\"\"\"\n",
    "<style>\n",
    "div.container{width:90% !important;}\n",
    "div.cell.code_cell.rendered{width:100%;}\n",
    "div.input_prompt{padding:0px;}\n",
    "div.CodeMirror {font-family:Consolas; font-size:12pt;}\n",
    "div.text_cell_render.rendered_html{font-size:12pt;}\n",
    "div.output {font-size:12pt; font-weight:bold;}\n",
    "div.input{font-family:Consolas; font-size:12pt;}\n",
    "div.prompt {min-width:70px;}\n",
    "div#toc-wrapper{padding-top:120px;}\n",
    "div.text_cell_render ul li{font-size:12pt;padding:5px;}\n",
    "table.dataframe{font-size:12px;}\n",
    "</style>\n",
    "\"\"\"))"
   ]
  },
  {
   "cell_type": "markdown",
   "id": "6f78910a",
   "metadata": {},
   "source": [
    "<b><font size=\"7\" color=\"red\">ch08. 예외처리</font></b>\n",
    "```\n",
    "- 에러\n",
    "    (1) 문법에러 : 문법적으로 나타나는 에러(프로그램을 수정)\n",
    "    (2) 실행에러(실행시 에러) :\n",
    "        * 시스템에러 : 프로그래머의 의지와 상관없이 나타나는 에러\n",
    "        * 예외 : 정상적으로 동작하는 프로그램에서 나타나는 에러(MILD한 에러)\n",
    "```        \n",
    "# 1절. 예외처리 필요성\n",
    "- 예외가 날 가능성이 있는 부분에 대해서 미리 예상하고, 그에 대한 처리를 프로그래밍하는 것\n",
    "    (필요한 이유 : 좀 더 안정적인 시스템)\n",
    "```\n",
    "    ex1. 파일을 다룰 때, 파일이 없거나, 쓰기금지, 파일 인코딩 방법에 인한 오류\n",
    "    ex2. 데이터베이스 프로그래밍 시 제약조건 등에 의한 CRUD(create, road, update, delete) 명령 수행 오류, DBMS 서버 오류\n",
    "    ex3. 네트워크 프로그래밍 시 네트워크 연결 오류\n",
    "    ex4. 리스트나 튜플의 인덱스를 벗어난 참조에 의한 오류\n",
    "```"
   ]
  },
  {
   "cell_type": "code",
   "execution_count": 2,
   "id": "22d3c868",
   "metadata": {},
   "outputs": [
    {
     "name": "stdout",
     "output_type": "stream",
     "text": [
      "파일명은?ch08.txt\n"
     ]
    },
    {
     "data": {
      "text/plain": [
       "'Hello\\nPython'"
      ]
     },
     "execution_count": 2,
     "metadata": {},
     "output_type": "execute_result"
    }
   ],
   "source": [
    "# 파일명(ch08.txt, ch02.txt)은 사용자에게 입력받아 해당 파일 내용을 출력\n",
    "filename = input('파일명은?')\n",
    "f = open('data/' + filename, 'r') # 파일은 연다(스트림객체 생성)\n",
    "f.read()"
   ]
  },
  {
   "cell_type": "code",
   "execution_count": 3,
   "id": "4ceea53e",
   "metadata": {},
   "outputs": [],
   "source": [
    "f.close()"
   ]
  },
  {
   "cell_type": "code",
   "execution_count": 4,
   "id": "1b6a8b76",
   "metadata": {},
   "outputs": [
    {
     "name": "stdout",
     "output_type": "stream",
     "text": [
      "파일명은?ch02.txt\n",
      "Hello, Python.\n",
      "Hello, World\n",
      "\n"
     ]
    }
   ],
   "source": [
    "# 예외발생 : 파일이 잘못 되었을 경우\n",
    "filename = input('파일명은?')\n",
    "f = open('data/' + filename, 'r') # 파일은 연다(스트림객체 생성)\n",
    "print(f.read())\n",
    "f.close()"
   ]
  },
  {
   "cell_type": "code",
   "execution_count": 9,
   "id": "993c6790",
   "metadata": {},
   "outputs": [
    {
     "name": "stdout",
     "output_type": "stream",
     "text": [
      "파일명은?ch08(1).txt\n",
      "Hello\n",
      "Python\n",
      "주피터노트북 txt파일 저장은 기본이 utf-8로 저장\n",
      "김설믜\n"
     ]
    }
   ],
   "source": [
    "# 예외발생 : 인코딩방식 에러\n",
    "# 한글인코딩 방법:\n",
    "# 한글완성형(euc-kr < cp949) :한글 1만1,172자 중 2,850자만 코드표현법\n",
    "# 한글조합형(utf-8) : 초중종성을 따로 코드값을 받음 / ch08.txt \n",
    "filename = input('파일명은?')\n",
    "#f = open('data/' + filename, 'r') # 파일은 연다(cp949코드가 기본 encoding 방식)\n",
    "f = open('data/' + filename, 'r', encoding='utf-8') # (utf-8로 encoding)  \n",
    "print(f.read())\n",
    "f.close()"
   ]
  },
  {
   "cell_type": "code",
   "execution_count": 10,
   "id": "ce96b25e",
   "metadata": {},
   "outputs": [
    {
     "ename": "ZeroDivisionError",
     "evalue": "division by zero",
     "output_type": "error",
     "traceback": [
      "\u001b[1;31m---------------------------------------------------------------------------\u001b[0m",
      "\u001b[1;31mZeroDivisionError\u001b[0m                         Traceback (most recent call last)",
      "Cell \u001b[1;32mIn[10], line 1\u001b[0m\n\u001b[1;32m----> 1\u001b[0m \u001b[38;5;241;43m4\u001b[39;49m\u001b[38;5;241;43m/\u001b[39;49m\u001b[38;5;241;43m0\u001b[39;49m\n",
      "\u001b[1;31mZeroDivisionError\u001b[0m: division by zero"
     ]
    }
   ],
   "source": [
    "4/0"
   ]
  },
  {
   "cell_type": "code",
   "execution_count": 11,
   "id": "b9a8e16e",
   "metadata": {},
   "outputs": [
    {
     "ename": "IndexError",
     "evalue": "list index out of range",
     "output_type": "error",
     "traceback": [
      "\u001b[1;31m---------------------------------------------------------------------------\u001b[0m",
      "\u001b[1;31mIndexError\u001b[0m                                Traceback (most recent call last)",
      "Cell \u001b[1;32mIn[11], line 2\u001b[0m\n\u001b[0;32m      1\u001b[0m a \u001b[38;5;241m=\u001b[39m [\u001b[38;5;241m1\u001b[39m,\u001b[38;5;241m2\u001b[39m,\u001b[38;5;241m3\u001b[39m]\n\u001b[1;32m----> 2\u001b[0m \u001b[43ma\u001b[49m\u001b[43m[\u001b[49m\u001b[38;5;241;43m3\u001b[39;49m\u001b[43m]\u001b[49m\n",
      "\u001b[1;31mIndexError\u001b[0m: list index out of range"
     ]
    }
   ],
   "source": [
    "a = [1,2,3]\n",
    "a[3]"
   ]
  },
  {
   "cell_type": "markdown",
   "id": "f01659ab",
   "metadata": {},
   "source": [
    "# 2절 try~except로 예외처리\n",
    "## 2.1 try~except\n",
    "```\n",
    "try :\n",
    "     예외가 발생할 가능성이 있는 명령어들\n",
    "     \n",
    "except :\n",
    "    예외가 발생했을 경우 실행할 명령어들\n",
    "```"
   ]
  },
  {
   "cell_type": "code",
   "execution_count": 16,
   "id": "f6a379e5",
   "metadata": {
    "scrolled": true
   },
   "outputs": [
    {
     "name": "stdout",
     "output_type": "stream",
     "text": [
      "100을 나눌 정수를 입력하세요:0\n"
     ]
    },
    {
     "ename": "ZeroDivisionError",
     "evalue": "division by zero",
     "output_type": "error",
     "traceback": [
      "\u001b[1;31m---------------------------------------------------------------------------\u001b[0m",
      "\u001b[1;31mZeroDivisionError\u001b[0m                         Traceback (most recent call last)",
      "Cell \u001b[1;32mIn[16], line 4\u001b[0m\n\u001b[0;32m      1\u001b[0m \u001b[38;5;66;03m# 100을 입력받은 정수값으로 나눠 출력\u001b[39;00m\n\u001b[0;32m      2\u001b[0m \u001b[38;5;66;03m#ValueError: invalid literal for int() with base 10: '삼'(정수를 입력하지 않은 경우)\u001b[39;00m\n\u001b[0;32m      3\u001b[0m x \u001b[38;5;241m=\u001b[39m \u001b[38;5;28mint\u001b[39m(\u001b[38;5;28minput\u001b[39m(\u001b[38;5;124m'\u001b[39m\u001b[38;5;124m100을 나눌 정수를 입력하세요:\u001b[39m\u001b[38;5;124m'\u001b[39m))\n\u001b[1;32m----> 4\u001b[0m \u001b[38;5;28mprint\u001b[39m(\u001b[38;5;124m'\u001b[39m\u001b[38;5;124m100을 입력한 정수로 나누면 \u001b[39m\u001b[38;5;132;01m{0:.2f}\u001b[39;00m\u001b[38;5;124m'\u001b[39m\u001b[38;5;241m.\u001b[39mformat(\u001b[38;5;241;43m100\u001b[39;49m\u001b[38;5;241;43m/\u001b[39;49m\u001b[43mx\u001b[49m))\n",
      "\u001b[1;31mZeroDivisionError\u001b[0m: division by zero"
     ]
    }
   ],
   "source": [
    "# 100을 입력받은 정수값으로 나눠 출력\n",
    "# ValueError: invalid literal for int() with base 10: '삼'(정수를 입력하지 않은 경우)\n",
    "# ZeroDivisionError: division by zero(0을 입력한 경우 예외 객체의 타입과 메세지)\n",
    "x = int(input('100을 나눌 정수를 입력하세요:'))\n",
    "print('100을 입력한 정수로 나누면 {0:.2f}'.format(100/x))"
   ]
  },
  {
   "cell_type": "code",
   "execution_count": 21,
   "id": "bbd4bd11",
   "metadata": {},
   "outputs": [
    {
     "name": "stdout",
     "output_type": "stream",
     "text": [
      "100을 나눌 정수를 입력하세요:ㄴ\n",
      "유효한 정수가 아닙니다\n"
     ]
    }
   ],
   "source": [
    "# 100을 입력받은 정수값으로 나눠 출력\n",
    "# ValueError: invalid literal for int() with base 10: '삼'(정수를 입력하지 않은 경우)\n",
    "# ZeroDivisionError: division by zero(0을 입력한 경우 예외 객체의 타입과 메세지)\n",
    "# try절에 예외가 발생 되지 않은면 except절은 수행되지 않음\n",
    "# try절에 예외가 발생되면, try절 수행을 멈추고 except절을 수행\n",
    "try:\n",
    "    x = int(input('100을 나눌 정수를 입력하세요:'))\n",
    "    print('100을 입력한 정수로 나누면 {0:.2f}'.format(100/x))\n",
    "except:\n",
    "    print('유효한 정수가 아닙니다')"
   ]
  },
  {
   "cell_type": "code",
   "execution_count": 2,
   "id": "c356c287",
   "metadata": {},
   "outputs": [
    {
     "name": "stdout",
     "output_type": "stream",
     "text": [
      "100을 나눌 정수를 입력하세요:0\n",
      "유효한 정수가 아닙니다\n",
      "100을 나눌 정수를 입력하세요:1\n",
      "100을 입력한 정수로 나누면 100.00\n"
     ]
    }
   ],
   "source": [
    "# 100을 나눌 유효한 정수를 입력할때까지 입력받아 100을 나눈 결과를 출력\n",
    "while True:\n",
    "    try:\n",
    "        x = int(input('100을 나눌 정수를 입력하세요:'))\n",
    "        print('100을 입력한 정수로 나누면 {0:.2f}'.format(100/x))\n",
    "        break\n",
    "    except:\n",
    "        print('유효한 정수가 아닙니다')"
   ]
  },
  {
   "cell_type": "markdown",
   "id": "d43f8816",
   "metadata": {},
   "source": [
    "## 2.2 지정된 예외 처리\n",
    "```\n",
    "try:\n",
    "    예외가 발생할 수도 있는 명령어\n",
    "except (예외타입1,예외타입2) :\n",
    "    해당 예외가 발생할 경우 실행할 명령어\n",
    "except 예외타입1 :\n",
    "    해당 예외가 발생할 경우 실행할 명령어\n",
    "except 예외타입2 :\n",
    "    해당 예외가 발생할 경우 실행할 명령어\n",
    "```"
   ]
  },
  {
   "cell_type": "code",
   "execution_count": 20,
   "id": "01e3ecc0",
   "metadata": {},
   "outputs": [
    {
     "name": "stdout",
     "output_type": "stream",
     "text": [
      "100을 나눌 정수를 입력하세요:0\n",
      "0으로 나눌수 없습니다\n"
     ]
    }
   ],
   "source": [
    "# 수를 입력받아 100을 나눈 결과 출력\n",
    "# ValueError: invalid literal for int() with base 10: '삼'(정수를 입력하지 않은 경우)\n",
    "# ZeroDivisionError: division by zero(0을 입력한 경우 예외 객체의 타입과 메세지)\n",
    "try:\n",
    "    x = int(input('100을 나눌 정수를 입력하세요:'))\n",
    "    print('100을 입력한 정수로 나누면 {0:.2f}'.format(100/x))\n",
    "except ValueError:\n",
    "    print('정수를 입력하지 않았습니다.')\n",
    "except ZeroDivisionError:\n",
    "    print('0으로 나눌수 없습니다')"
   ]
  },
  {
   "cell_type": "code",
   "execution_count": 3,
   "id": "3bd38a76",
   "metadata": {},
   "outputs": [
    {
     "name": "stdout",
     "output_type": "stream",
     "text": [
      "100을 나눌 정수를 입력하세요:1\n",
      "100을 입력한 정수로 나누면 100.00\n"
     ]
    }
   ],
   "source": [
    "while True:\n",
    "    try:\n",
    "        x = int(input('100을 나눌 정수를 입력하세요:'))\n",
    "        print('100을 입력한 정수로 나누면 {0:.2f}'.format(100/x))\n",
    "        break\n",
    "    except ValueError:\n",
    "        print('정수를 입력하지 않았습니다.')\n",
    "    except ZeroDivisionError:\n",
    "        print('0으로 나눌수 없습니다.')"
   ]
  },
  {
   "cell_type": "code",
   "execution_count": 10,
   "id": "a7c36036",
   "metadata": {},
   "outputs": [
    {
     "name": "stdout",
     "output_type": "stream",
     "text": [
      "100을 나눌 정수를 입력하세요:0\n",
      "0으로 나눌수 없습니다.\n"
     ]
    }
   ],
   "source": [
    "try:\n",
    "    x = int(input('100을 나눌 정수를 입력하세요:'))\n",
    "    print('100을 입력한 정수로 나누면 {0:.2f}'.format(100/x))\n",
    "except ZeroDivisionError:\n",
    "    print('0으로 나눌수 없습니다.')\n",
    "except ValueError:\n",
    "    print('정수를 입력하지 않았습니다.')\n",
    "except Exception:\n",
    "    print('기타 다른 예외입니다.')"
   ]
  },
  {
   "cell_type": "code",
   "execution_count": 12,
   "id": "98887da4",
   "metadata": {},
   "outputs": [
    {
     "name": "stdout",
     "output_type": "stream",
     "text": [
      "100을 나눌 정수를 입력하세요:0\n",
      "나눌 수 있는 유효한 수가 아닙니다\n"
     ]
    }
   ],
   "source": [
    "try:\n",
    "    x = int(input('100을 나눌 정수를 입력하세요:'))\n",
    "    print('100을 입력한 정수로 나누면 {0:.2f}'.format(100/x))\n",
    "except (ValueError,ZeroDivisionError):\n",
    "    print('나눌 수 있는 유효한 수가 아닙니다')\n",
    "except Exception:\n",
    "    print('기타 다른 예외입니다.')"
   ]
  },
  {
   "cell_type": "markdown",
   "id": "fa1dfe13",
   "metadata": {},
   "source": [
    "## 2.3 예외 인수(e) \n",
    "```\n",
    "try:\n",
    "    예외가 발생할 수도 있는 명령어\n",
    "except 예외타입 as e:\n",
    "    print(e)\n",
    "    print(e.args[0]) # 예외메세지 출력\n",
    "```"
   ]
  },
  {
   "cell_type": "code",
   "execution_count": 16,
   "id": "c2d72ab9",
   "metadata": {},
   "outputs": [],
   "source": [
    "e = Exception(\"에러메세지\")"
   ]
  },
  {
   "cell_type": "code",
   "execution_count": 17,
   "id": "0b4b2764",
   "metadata": {},
   "outputs": [
    {
     "data": {
      "text/plain": [
       "('에러메세지',)"
      ]
     },
     "execution_count": 17,
     "metadata": {},
     "output_type": "execute_result"
    }
   ],
   "source": [
    "e.args"
   ]
  },
  {
   "cell_type": "code",
   "execution_count": 18,
   "id": "1dd2052e",
   "metadata": {},
   "outputs": [
    {
     "name": "stdout",
     "output_type": "stream",
     "text": [
      "에러메세지\n"
     ]
    }
   ],
   "source": [
    "print(e)"
   ]
  },
  {
   "cell_type": "code",
   "execution_count": 23,
   "id": "792e7c60",
   "metadata": {},
   "outputs": [
    {
     "name": "stdout",
     "output_type": "stream",
     "text": [
      "100을 나눌 정수를 입력하세요:0\n",
      "예외 유형: <class 'ZeroDivisionError'>\n",
      "예외 메세지 division by zero\n",
      "예외 메세지: division by zero\n",
      "예외 메세지: ('division by zero',)\n"
     ]
    }
   ],
   "source": [
    "try:\n",
    "    x = int(input('100을 나눌 정수를 입력하세요:'))\n",
    "    print('100을 입력한 정수로 나누면 {0:.2f}'.format(100/x))\n",
    "except (ValueError,ZeroDivisionError) as e:\n",
    "    print('예외 유형:', type(e))\n",
    "    print('예외 메세지',e)\n",
    "    print('예외 메세지:',e.__str__())\n",
    "    print('예외 메세지:',e.args)\n",
    "except Exception:\n",
    "    print('기타 다른 예외입니다.')"
   ]
  },
  {
   "cell_type": "markdown",
   "id": "2da4ea5e",
   "metadata": {},
   "source": [
    "```\n",
    "try:\n",
    "    예외 발생 가능성 명령어\n",
    "except [예외타입 [as e]]:\n",
    "    예외타입 발생시 실행할 명령어\n",
    "[else:\n",
    "    try절 수행하다 예외가 발생 안되면 else절 수행\n",
    "    try절 수행하다 예외가 발생하면 except 절 수행(else절 수행 안 함)\n",
    "]\n",
    "[finally:\n",
    "    try절에서 예외가 발생하든 안하든 마지막에 수행\n",
    "]\n",
    "```"
   ]
  },
  {
   "cell_type": "code",
   "execution_count": 26,
   "id": "011b0dbb",
   "metadata": {},
   "outputs": [
    {
     "name": "stdout",
     "output_type": "stream",
     "text": [
      "Hello\n",
      "Python\n",
      "주피터노트북 txt파일 저장은 기본이 utf-8로 저장\n",
      "김설믜\n"
     ]
    }
   ],
   "source": [
    "try:\n",
    "    file = open('data/ch08.txt', 'r', encoding='utf-8')\n",
    "except FileNotFoundError as e:\n",
    "        print('해당 폴더나 파일이 없습니다')\n",
    "        print(e)\n",
    "else:\n",
    "    print(file.read())\n",
    "finally:\n",
    "    file.close()"
   ]
  },
  {
   "cell_type": "code",
   "execution_count": 27,
   "id": "e9805ad8",
   "metadata": {},
   "outputs": [
    {
     "name": "stdout",
     "output_type": "stream",
     "text": [
      "Hello\n",
      "Python\n",
      "주피터노트북 txt파일 저장은 기본이 utf-8로 저장\n",
      "김설믜\n"
     ]
    }
   ],
   "source": [
    "try:\n",
    "    file = open('data/ch08.txt', 'r', encoding='utf-8')\n",
    "    print(file.read())\n",
    "except FileNotFoundError as e:\n",
    "        print('해당 폴더나 파일이 없습니다')\n",
    "        print(e)\n",
    "finally:\n",
    "    file.close()"
   ]
  },
  {
   "cell_type": "markdown",
   "id": "289e27f1",
   "metadata": {},
   "source": [
    "# 3절 raise\n",
    "- 강제 예외 발생"
   ]
  },
  {
   "cell_type": "code",
   "execution_count": null,
   "id": "18e053a8",
   "metadata": {},
   "outputs": [],
   "source": [
    "raise ZeroDivisionError('0으로 나누려고 했네')"
   ]
  },
  {
   "cell_type": "code",
   "execution_count": 28,
   "id": "101c2c11",
   "metadata": {},
   "outputs": [],
   "source": [
    "# 사용자 정의 예외: Exception클래스로부터 상속받아 구현\n",
    "class LengthZeroError(Exception):\n",
    "    '길이가 0일 때 발생하는 예외'\n",
    "    def __init__(self, message):\n",
    "        super().__init__(message)"
   ]
  },
  {
   "cell_type": "code",
   "execution_count": 31,
   "id": "24dbc653",
   "metadata": {},
   "outputs": [],
   "source": [
    "def insert(*data): #튜플매개변수\n",
    "    print('data=', data)\n",
    "    if len(data)==0:\n",
    "        raise LengthZeroError(\"매개변수의 갯수가 0이면 예외에요(사용자 정의 예외)\")\n",
    "    for item in data:\n",
    "        print(item, end = ' ')\n",
    "    print('등을 입력하였습니다')"
   ]
  },
  {
   "cell_type": "code",
   "execution_count": 34,
   "id": "a0926bae",
   "metadata": {},
   "outputs": [
    {
     "name": "stdout",
     "output_type": "stream",
     "text": [
      "data= (1, 2, '3')\n",
      "1 2 3 등을 입력하였습니다\n"
     ]
    }
   ],
   "source": [
    "insert(1,2,'3')"
   ]
  },
  {
   "cell_type": "code",
   "execution_count": 38,
   "id": "ee9a29c2",
   "metadata": {},
   "outputs": [
    {
     "name": "stdout",
     "output_type": "stream",
     "text": [
      "data= ()\n",
      "매개변수의 갯수가 0이면 예외에요(사용자 정의 예외)\n",
      "예외가 발생하든 안하든 무조건 실행\n"
     ]
    }
   ],
   "source": [
    "data = ()\n",
    "try:\n",
    "    insert(*data)\n",
    "except Exception as e:\n",
    "    print(e)\n",
    "else:\n",
    "    print('예외가 발생 안 할 때만 실행')\n",
    "finally:\n",
    "    print('예외가 발생하든 안하든 무조건 실행')"
   ]
  },
  {
   "cell_type": "markdown",
   "id": "b6a86c15",
   "metadata": {},
   "source": [
    "# 4절 추상클래스\n",
    "- 추상클래스 : 추상메소드가 1개 이상 포함된 클래스를 추상클래스.\n",
    "- 추상메소드 : 호출할 수 없는 메소드. 상속받은 클래스에서 재정의를 강요할 때\n",
    "- python에서 추상메소드는 @abstractmethod나raise를 이용"
   ]
  },
  {
   "cell_type": "code",
   "execution_count": 51,
   "id": "a1417f0c",
   "metadata": {},
   "outputs": [],
   "source": [
    "class Shape:\n",
    "    def __init__(self):\n",
    "        raise NotImplementedError(\"추상클래스 역할\")\n",
    "    def calc_area(self):\n",
    "        raise NotImplementedError(\"추상메소드 역할\")"
   ]
  },
  {
   "cell_type": "code",
   "execution_count": 55,
   "id": "d0d88ff7",
   "metadata": {},
   "outputs": [],
   "source": [
    "from abc import ABC, abstractclassmethod\n",
    "class Shape(ABC):\n",
    "    @abstractclassmethod\n",
    "    def __init__(self):\n",
    "        pass\n",
    "    @abstractclassmethod\n",
    "    def calc_area(self):\n",
    "        pass"
   ]
  },
  {
   "cell_type": "code",
   "execution_count": 56,
   "id": "b12d26f6",
   "metadata": {},
   "outputs": [],
   "source": [
    "import numpy as np\n",
    "class Circle(Shape):\n",
    "    def __init__(self, radius = 3):\n",
    "        self.radius = radius\n",
    "    def calc_area(self):\n",
    "        '원의 넒이를 return'\n",
    "        return np.pi * (self.radius**2)"
   ]
  },
  {
   "cell_type": "code",
   "execution_count": 57,
   "id": "7d54229c",
   "metadata": {},
   "outputs": [
    {
     "data": {
      "text/plain": [
       "78.53981633974483"
      ]
     },
     "execution_count": 57,
     "metadata": {},
     "output_type": "execute_result"
    }
   ],
   "source": [
    "myCircle = Circle(5)\n",
    "myCircle.calc_area()"
   ]
  },
  {
   "cell_type": "markdown",
   "id": "cad10088",
   "metadata": {},
   "source": [
    "# 5절 파일 정리 작업(with 절 이용)"
   ]
  },
  {
   "cell_type": "code",
   "execution_count": 59,
   "id": "e4438749",
   "metadata": {},
   "outputs": [
    {
     "name": "stdout",
     "output_type": "stream",
     "text": [
      "['Hello\\n', 'Python\\n', '주피터노트북 txt파일 저장은 기본이 utf-8로 저장\\n', '김설믜']\n"
     ]
    }
   ],
   "source": [
    "try:\n",
    "    f = open('data/ch08.txt', 'r', encoding = 'utf-8')\n",
    "    lines = f.readlines() # 한줄한줄 모든 줄을 한꺼번에 list로 읽어오기\n",
    "    print(lines)\n",
    "except Exception as e:\n",
    "    print(e)\n",
    "finally:\n",
    "    f.close()"
   ]
  },
  {
   "cell_type": "code",
   "execution_count": 60,
   "id": "55ebc463",
   "metadata": {},
   "outputs": [
    {
     "name": "stdout",
     "output_type": "stream",
     "text": [
      "['Hello\\n', 'Python\\n', '주피터노트북 txt파일 저장은 기본이 utf-8로 저장\\n', '김설믜']\n"
     ]
    }
   ],
   "source": [
    "# with 절 이후에는 자동적으로 close() 실행\n",
    "with open('data/ch08.txt', 'r', encoding='utf-8') as f:\n",
    "    lines = f.readlines()\n",
    "print(lines)"
   ]
  },
  {
   "cell_type": "code",
   "execution_count": 61,
   "id": "80eb60f9",
   "metadata": {},
   "outputs": [
    {
     "name": "stdout",
     "output_type": "stream",
     "text": [
      "['Hello\\n', 'Python\\n', '주피터노트북 txt파일 저장은 기본이 utf-8로 저장\\n', '김설믜']\n"
     ]
    }
   ],
   "source": [
    "try :\n",
    "    with open('data/ch08.txt', 'r', encoding='utf-8') as f:\n",
    "        lines = f.readlines()\n",
    "    print(lines)\n",
    "except (FileNotFoundError, UnicodeDecodeError) as e:\n",
    "    print(e)"
   ]
  },
  {
   "cell_type": "markdown",
   "id": "29f554a7",
   "metadata": {},
   "source": [
    "# 연습문제(실습형)"
   ]
  },
  {
   "cell_type": "code",
   "execution_count": null,
   "id": "c51208d0",
   "metadata": {},
   "outputs": [],
   "source": [
    "# 1번 숫자 두개를 입력받아 나눗셈 연산을 하는 프로그램을 작성하세요.\n",
    "# - 두 숫자는 정수 또는 실수일 수 있으며, 0으로 나눌 수 없습니다.\n",
    "# - 올바른 두 수를 입력하고 나눗셈 연산 결과를 출력한 후 종료해야 합니다.\n",
    "# - 다음은 실행 후 출력 예시입니다."
   ]
  },
  {
   "cell_type": "code",
   "execution_count": 2,
   "id": "b1f7de4f",
   "metadata": {},
   "outputs": [
    {
     "name": "stdout",
     "output_type": "stream",
     "text": [
      "100을 나눌 정수를 입력하세요:hello\n",
      "유효한 숫자가 아닙니다. 다시 시도하세요.\n",
      "100을 나눌 정수를 입력하세요:10\n",
      "100을 나눌 정수를 입력하세요:0\n",
      "입력한 수는 10.0와0.0입니다\n",
      "유효한 숫자가 아닙니다. 다시 시도하세요.\n",
      "100을 나눌 정수를 입력하세요:3.5\n",
      "100을 나눌 정수를 입력하세요:hello\n",
      "유효한 숫자가 아닙니다. 다시 시도하세요.\n",
      "100을 나눌 정수를 입력하세요:3.5\n",
      "100을 나눌 정수를 입력하세요:2\n",
      "입력한 수는 3.5와2.0입니다\n",
      "3.5을 2.0로 나누면 1.75 입니다\n"
     ]
    }
   ],
   "source": [
    "while True:\n",
    "    try:\n",
    "        x = float(input('100을 나눌 정수를 입력하세요:'))\n",
    "        y = float(input('100을 나눌 정수를 입력하세요:'))\n",
    "        print('입력한 수는 {}와{}입니다'.format(x,y))\n",
    "        print(\"{}을 {}로 나누면\".format(x,y), x/y,\"입니다\" )\n",
    "        break\n",
    "    except Exception:\n",
    "        print('유효한 숫자가 아닙니다. 다시 시도하세요.')"
   ]
  },
  {
   "cell_type": "code",
   "execution_count": null,
   "id": "28caf578",
   "metadata": {},
   "outputs": [],
   "source": [
    "# 2번. 1번 코드의 예외처리를 예외에 따라 다르게 처리하세요\n",
    "# - 숫자로 바꿀 수 없을 경우 ValueError가 발생합니다.\n",
    "# - 0으로 나누려고 할 때 ZeroDivisionError가 발생합니다.\n",
    "# - 다음은 실행후 출력 예시입니다."
   ]
  },
  {
   "cell_type": "code",
   "execution_count": 3,
   "id": "7934dc69",
   "metadata": {},
   "outputs": [
    {
     "name": "stdout",
     "output_type": "stream",
     "text": [
      "100을 나눌 정수를 입력하세요:abc\n",
      "유효한 숫자가 아닙니다. 다시 시도하세요.\n",
      "100을 나눌 정수를 입력하세요:10\n",
      "100을 나눌 정수를 입력하세요:0\n",
      "입력한 수는 10.0와0.0입니다\n",
      "0으로 나눌 수 없습니다. 다시 시도하세요.\n",
      "100을 나눌 정수를 입력하세요:5\n",
      "100을 나눌 정수를 입력하세요:3\n",
      "입력한 수는 5.0와3.0입니다\n",
      "5.0을 3.0로 나누면 1.6666666666666667 입니다\n"
     ]
    }
   ],
   "source": [
    "while True:\n",
    "    try:\n",
    "        x = float(input('100을 나눌 정수를 입력하세요:'))\n",
    "        y = float(input('100을 나눌 정수를 입력하세요:'))\n",
    "        print('입력한 수는 {}와{}입니다'.format(x,y))\n",
    "        print(\"{}을 {}로 나누면\".format(x,y), x/y,\"입니다\" )\n",
    "        break\n",
    "    except ValueError:\n",
    "        print('유효한 숫자가 아닙니다. 다시 시도하세요.')\n",
    "    except ZeroDivisionError:\n",
    "        print('0으로 나눌 수 없습니다. 다시 시도하세요.')"
   ]
  },
  {
   "cell_type": "markdown",
   "id": "bcf2ffcc",
   "metadata": {},
   "source": [
    "# 연습문제(문제풀이형)"
   ]
  },
  {
   "cell_type": "code",
   "execution_count": 4,
   "id": "6db26774",
   "metadata": {},
   "outputs": [],
   "source": [
    "# 1번. 다음 중 예외 처리에 대해 잘못 설명한 것은?\n",
    "## 1. try 블록은 예외가 발생할 가능성이 있는 문장을 작성한다.\n",
    "## 2. 예외가 발생하면 except 블록이 실행된다\n",
    "## 4. finally 블록은 예외의 발생 유/무와 상관없이 실행된다\n",
    "### 정답: 3. 상위 예외 처리를 위한 except 블록은 하위 예외 처리 except블록에 비해 먼저 선언되어야 한다."
   ]
  },
  {
   "cell_type": "code",
   "execution_count": 5,
   "id": "b05173bd",
   "metadata": {},
   "outputs": [],
   "source": [
    "# 2번. 다음 중 예외 처리에 대한 설명 중 잘못된 것은?\n",
    "## 1. raise는 강제로 예외를 발생시킬 때 사용한다.\n",
    "## 3. 다른 예외를 하나의 예외처리 구문으로 처리할 수 있다.\n",
    "## 4. else 절은 예외가 발생하지 않을 경우 실행된다.\n",
    "###정답: 2. catch 절은 예외를 처리하기 위해 사용하는 구문이다."
   ]
  },
  {
   "cell_type": "code",
   "execution_count": 6,
   "id": "9cb89e0a",
   "metadata": {},
   "outputs": [],
   "source": [
    "# 3번. 다음 중 except 절은 잘못 사용한 것은?\n",
    "## 1. except :\n",
    "## 2. except Exception:\n",
    "## 3. except Exception as e:\n",
    "## 정답: 4. except Exception e:"
   ]
  },
  {
   "cell_type": "code",
   "execution_count": null,
   "id": "feb445aa",
   "metadata": {},
   "outputs": [],
   "source": [
    "# 4번. 다음 중 예외 처리에 사용하지 않는 구문은?\n",
    "## 1. try\n",
    "## 2. except\n",
    "## 4. finally\n",
    "### 정답 : 3. with"
   ]
  }
 ],
 "metadata": {
  "kernelspec": {
   "display_name": "Python 3 (ipykernel)",
   "language": "python",
   "name": "python3"
  },
  "language_info": {
   "codemirror_mode": {
    "name": "ipython",
    "version": 3
   },
   "file_extension": ".py",
   "mimetype": "text/x-python",
   "name": "python",
   "nbconvert_exporter": "python",
   "pygments_lexer": "ipython3",
   "version": "3.10.9"
  },
  "toc": {
   "base_numbering": 1,
   "nav_menu": {},
   "number_sections": false,
   "sideBar": true,
   "skip_h1_title": false,
   "title_cell": "Table of Contents",
   "title_sidebar": "Contents",
   "toc_cell": false,
   "toc_position": {
    "height": "calc(100% - 180px)",
    "left": "10px",
    "top": "150px",
    "width": "165px"
   },
   "toc_section_display": true,
   "toc_window_display": true
  }
 },
 "nbformat": 4,
 "nbformat_minor": 5
}
