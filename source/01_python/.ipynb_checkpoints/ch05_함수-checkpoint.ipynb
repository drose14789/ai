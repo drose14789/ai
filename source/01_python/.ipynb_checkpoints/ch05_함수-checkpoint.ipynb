{
 "cells": [
  {
   "cell_type": "code",
   "execution_count": 1,
   "id": "c5b42aed",
   "metadata": {},
   "outputs": [
    {
     "data": {
      "text/html": [
       "\n",
       "<style>\n",
       "div.container{width:90% !important;}\n",
       "div.cell.code_cell.rendered{width:100%;}\n",
       "div.input_prompt{padding:0px;}\n",
       "div.CodeMirror {font-family:Consolas; font-size:12pt;}\n",
       "div.text_cell_render.rendered_html{font-size:12pt;}\n",
       "div.output {font-size:12pt; font-weight:bold;}\n",
       "div.input{font-family:Consolas; font-size:12pt;}\n",
       "div.prompt {min-width:70px;}\n",
       "div#toc-wrapper{padding-top:120px;}\n",
       "div.text_cell_render ul li{font-size:12pt;padding:5px;}\n",
       "table.dataframe{font-size:12px;}\n",
       "</style>\n"
      ],
      "text/plain": [
       "<IPython.core.display.HTML object>"
      ]
     },
     "metadata": {},
     "output_type": "display_data"
    }
   ],
   "source": [
    "from IPython.display import display, HTML\n",
    "display(HTML (\"\"\"\n",
    "<style>\n",
    "div.container{width:90% !important;}\n",
    "div.cell.code_cell.rendered{width:100%;}\n",
    "div.input_prompt{padding:0px;}\n",
    "div.CodeMirror {font-family:Consolas; font-size:12pt;}\n",
    "div.text_cell_render.rendered_html{font-size:12pt;}\n",
    "div.output {font-size:12pt; font-weight:bold;}\n",
    "div.input{font-family:Consolas; font-size:12pt;}\n",
    "div.prompt {min-width:70px;}\n",
    "div#toc-wrapper{padding-top:120px;}\n",
    "div.text_cell_render ul li{font-size:12pt;padding:5px;}\n",
    "table.dataframe{font-size:12px;}\n",
    "</style>\n",
    "\"\"\"))"
   ]
  },
  {
   "cell_type": "markdown",
   "id": "21f22cbd",
   "metadata": {},
   "source": [
    "<b><font size=\"7\" color=\"red\">ch05. 함수</font></b>\n",
    "- 반복해서 사용할 코드를 묶엇 놓고 그것에 이름을 붙인 것\n",
    "- 오버로딩 불가(같은 이름의 함수는 덮어씀)\n",
    "- 함수 정의\n",
    "```\n",
    "def 함수명([매개변수1, 매개변수2, ..]):\n",
    "    명령어1\n",
    "    명령어2.....\n",
    "```\n",
    "# 1절. 함수의 정의 및 사용\n",
    "## 1.1  함수 정의"
   ]
  },
  {
   "cell_type": "code",
   "execution_count": 2,
   "id": "58b9eb70",
   "metadata": {},
   "outputs": [],
   "source": [
    "def my_message(x, msg): # msg를 x번 출력하는 함수 정의\n",
    "    for i in range(x):\n",
    "        print(i, msg)"
   ]
  },
  {
   "cell_type": "code",
   "execution_count": 3,
   "id": "b078ce7a",
   "metadata": {},
   "outputs": [
    {
     "name": "stdout",
     "output_type": "stream",
     "text": [
      "0 Hello\n",
      "1 Hello\n",
      "2 Hello\n"
     ]
    }
   ],
   "source": [
    "# 함수 사용 == 함수 호출\n",
    "my_message(3, 'Hello')"
   ]
  },
  {
   "cell_type": "code",
   "execution_count": 4,
   "id": "8bcffa1f",
   "metadata": {},
   "outputs": [
    {
     "name": "stdout",
     "output_type": "stream",
     "text": [
      "0 Hello\n",
      "1 Hello\n",
      "0 Python\n",
      "1 Python\n",
      "2 Python\n"
     ]
    }
   ],
   "source": [
    "# 함수 이름 변경\n",
    "my_msg = my_message\n",
    "my_message(2,  'Hello')\n",
    "my_msg(3, 'Python')"
   ]
  },
  {
   "cell_type": "code",
   "execution_count": 5,
   "id": "babfce81",
   "metadata": {},
   "outputs": [
    {
     "data": {
      "text/plain": [
       "(function, function)"
      ]
     },
     "execution_count": 5,
     "metadata": {},
     "output_type": "execute_result"
    }
   ],
   "source": [
    "type(my_msg), type(my_message)"
   ]
  },
  {
   "cell_type": "code",
   "execution_count": 6,
   "id": "c55fa31a",
   "metadata": {},
   "outputs": [
    {
     "name": "stdout",
     "output_type": "stream",
     "text": [
      "Hello\n",
      "Hello\n"
     ]
    }
   ],
   "source": [
    "print('Hello') # 파이썬 내장 함수(import 하지 않고 사용할 수 있는 함수)\n",
    "print = 5\n",
    "#print('Hello')\n",
    "del print\n",
    "print('Hello')"
   ]
  },
  {
   "cell_type": "code",
   "execution_count": 7,
   "id": "1340dcc1",
   "metadata": {},
   "outputs": [
    {
     "name": "stdout",
     "output_type": "stream",
     "text": [
      "0 Hello\n",
      "1 Hello\n"
     ]
    }
   ],
   "source": [
    "my_message(2, 'Hello')"
   ]
  },
  {
   "cell_type": "code",
   "execution_count": 9,
   "id": "bb8d50a2",
   "metadata": {},
   "outputs": [
    {
     "name": "stdout",
     "output_type": "stream",
     "text": [
      "0 Hello\n",
      "1 Hello\n"
     ]
    },
    {
     "ename": "TypeError",
     "evalue": "'int' object is not callable",
     "output_type": "error",
     "traceback": [
      "\u001b[1;31m---------------------------------------------------------------------------\u001b[0m",
      "\u001b[1;31mTypeError\u001b[0m                                 Traceback (most recent call last)",
      "Cell \u001b[1;32mIn[9], line 3\u001b[0m\n\u001b[0;32m      1\u001b[0m my_message \u001b[38;5;241m=\u001b[39m \u001b[38;5;241m5\u001b[39m\n\u001b[0;32m      2\u001b[0m my_msg(\u001b[38;5;241m2\u001b[39m, \u001b[38;5;124m'\u001b[39m\u001b[38;5;124mHello\u001b[39m\u001b[38;5;124m'\u001b[39m)\n\u001b[1;32m----> 3\u001b[0m \u001b[43mmy_message\u001b[49m\u001b[43m(\u001b[49m\u001b[38;5;241;43m2\u001b[39;49m\u001b[43m,\u001b[49m\u001b[43m \u001b[49m\u001b[38;5;124;43m'\u001b[39;49m\u001b[38;5;124;43mHello\u001b[39;49m\u001b[38;5;124;43m'\u001b[39;49m\u001b[43m)\u001b[49m\n",
      "\u001b[1;31mTypeError\u001b[0m: 'int' object is not callable"
     ]
    }
   ],
   "source": [
    "my_message = 5\n",
    "my_msg(2, 'Hello')\n",
    "my_message(2, 'Hello')"
   ]
  },
  {
   "cell_type": "code",
   "execution_count": 10,
   "id": "7d52109a",
   "metadata": {},
   "outputs": [
    {
     "ename": "NameError",
     "evalue": "name 'my_message' is not defined",
     "output_type": "error",
     "traceback": [
      "\u001b[1;31m---------------------------------------------------------------------------\u001b[0m",
      "\u001b[1;31mNameError\u001b[0m                                 Traceback (most recent call last)",
      "Cell \u001b[1;32mIn[10], line 2\u001b[0m\n\u001b[0;32m      1\u001b[0m \u001b[38;5;28;01mdel\u001b[39;00m my_message\n\u001b[1;32m----> 2\u001b[0m \u001b[43mmy_message\u001b[49m(\u001b[38;5;241m2\u001b[39m,\u001b[38;5;124m'\u001b[39m\u001b[38;5;124mHello\u001b[39m\u001b[38;5;124m'\u001b[39m)\n",
      "\u001b[1;31mNameError\u001b[0m: name 'my_message' is not defined"
     ]
    }
   ],
   "source": [
    "del my_message # 변수 및 함수 제거하여도 \n",
    "my_message(2,'Hello') # 사용자 정의함수, 라이브러리 함수는 del 하여도 사용불가"
   ]
  },
  {
   "cell_type": "code",
   "execution_count": 11,
   "id": "b8975132",
   "metadata": {},
   "outputs": [],
   "source": [
    "# Python에서는 함수 중복 정의 불가(오버로딩 불가)\n",
    "def my_hello(): _\n",
    "    print('Hello Python')\n",
    "    print('Hello World')\n",
    "def my_hello(cnt): # cnt번 출력\n",
    "    for i in range(cnt):\n",
    "        print('Hello, Python', end = '\\t')\n",
    "        print('Hello, World')"
   ]
  },
  {
   "cell_type": "code",
   "execution_count": 12,
   "id": "83b4154c",
   "metadata": {},
   "outputs": [
    {
     "ename": "TypeError",
     "evalue": "my_hello() missing 1 required positional argument: 'cnt'",
     "output_type": "error",
     "traceback": [
      "\u001b[1;31m---------------------------------------------------------------------------\u001b[0m",
      "\u001b[1;31mTypeError\u001b[0m                                 Traceback (most recent call last)",
      "Cell \u001b[1;32mIn[12], line 1\u001b[0m\n\u001b[1;32m----> 1\u001b[0m \u001b[43mmy_hello\u001b[49m\u001b[43m(\u001b[49m\u001b[43m)\u001b[49m\n",
      "\u001b[1;31mTypeError\u001b[0m: my_hello() missing 1 required positional argument: 'cnt'"
     ]
    }
   ],
   "source": [
    "my_hello()"
   ]
  },
  {
   "cell_type": "code",
   "execution_count": 13,
   "id": "52454815",
   "metadata": {},
   "outputs": [
    {
     "name": "stdout",
     "output_type": "stream",
     "text": [
      "Hello, Python\tHello, World\n",
      "Hello, Python\tHello, World\n"
     ]
    }
   ],
   "source": [
    "my_hello(2)"
   ]
  },
  {
   "cell_type": "code",
   "execution_count": 16,
   "id": "cd412380",
   "metadata": {},
   "outputs": [
    {
     "name": "stdout",
     "output_type": "stream",
     "text": [
      "Hello, Python\tHello, World\n",
      "Hello, Python\tHello, World\n"
     ]
    }
   ],
   "source": [
    "if __name__ == '__main__':\n",
    "    my_hello(2)"
   ]
  },
  {
   "cell_type": "code",
   "execution_count": 1,
   "id": "28a5fff9",
   "metadata": {},
   "outputs": [],
   "source": [
    "import ch05 # ch05모듈이 해석되서 메모리 로드"
   ]
  },
  {
   "cell_type": "code",
   "execution_count": 2,
   "id": "b58b70fd",
   "metadata": {},
   "outputs": [
    {
     "name": "stdout",
     "output_type": "stream",
     "text": [
      "ch05\n",
      "Hello, Python\tHello, World\n",
      "Hello, Python\tHello, World\n",
      "Hello, Python\tHello, World\n"
     ]
    }
   ],
   "source": [
    "ch05.my_hello(3)"
   ]
  },
  {
   "cell_type": "code",
   "execution_count": 3,
   "id": "d34b00eb",
   "metadata": {},
   "outputs": [
    {
     "name": "stdout",
     "output_type": "stream",
     "text": [
      "ch05\n",
      "Hello, Python\tHello, World\n",
      "Hello, Python\tHello, World\n",
      "Hello, Python\tHello, World\n"
     ]
    }
   ],
   "source": [
    "from ch05 import my_hello # ch05모듈안의 my_hell만 메모리 로드\n",
    "my_hello(3)"
   ]
  },
  {
   "cell_type": "markdown",
   "id": "7ad09924",
   "metadata": {},
   "source": [
    "## 1.2 docstring"
   ]
  },
  {
   "cell_type": "code",
   "execution_count": 4,
   "id": "013aab81",
   "metadata": {},
   "outputs": [],
   "source": [
    "def my_function():\n",
    "    '''\n",
    "    함수의 첫 라인에 독스트링을 포함할 수 있습니다\n",
    "    독스트링은 함수의 설명서를 달아주는 역할\n",
    "    주석보다 많은 기능(함수 호출시 shift+tab으로 독스트링을 볼 수 있음)\n",
    "    '''\n",
    "    pass"
   ]
  },
  {
   "cell_type": "code",
   "execution_count": 6,
   "id": "5b0ee133",
   "metadata": {
    "scrolled": true
   },
   "outputs": [
    {
     "name": "stdout",
     "output_type": "stream",
     "text": [
      "\n",
      "    함수의 첫 라인에 독스트링을 포함할 수 있습니다\n",
      "    독스트링은 함수의 설명서를 달아주는 역할\n",
      "    주석보다 많은 기능(함수 호출시 shift+tab으로 독스트링을 볼 수 있음)\n",
      "    \n"
     ]
    }
   ],
   "source": [
    "print(my_function.__doc__)"
   ]
  },
  {
   "cell_type": "code",
   "execution_count": 7,
   "id": "eb4aef95",
   "metadata": {},
   "outputs": [],
   "source": [
    "def fibonacci(n):\n",
    "    '''\n",
    "    매개변수로 들어온 n값 미만의 피보나치 수열을 출력하는 함수\n",
    "    ex. n=10 : 0, 1, 1, 2, 3, 5, 8\n",
    "        n=100 : 0 1 1 2 3 5 8 13 21 34 55 89\n",
    "    '''\n",
    "    a, b = 0, 1 # 함수 내에 선언하 변수 : 지역변수(반:전역변수)\n",
    "    while a < n:\n",
    "        print(a, end = ' ')\n",
    "        a, b = b, a+b\n",
    "    print() # 개행"
   ]
  },
  {
   "cell_type": "code",
   "execution_count": 8,
   "id": "bb2d41a9",
   "metadata": {},
   "outputs": [
    {
     "name": "stdout",
     "output_type": "stream",
     "text": [
      "0 1 1 2 3 5 8 13 21 34 55 89 \n"
     ]
    }
   ],
   "source": [
    "fibonacci(100)"
   ]
  },
  {
   "cell_type": "code",
   "execution_count": 9,
   "id": "16508fed",
   "metadata": {},
   "outputs": [
    {
     "name": "stdout",
     "output_type": "stream",
     "text": [
      "0 1 1 2 3 5 8 \n"
     ]
    }
   ],
   "source": [
    "fibonacci(10)"
   ]
  },
  {
   "cell_type": "code",
   "execution_count": 10,
   "id": "c8765642",
   "metadata": {},
   "outputs": [
    {
     "name": "stdout",
     "output_type": "stream",
     "text": [
      "0 1 1 2 3 5 8 13 21 34 55 89 144 233 377 610 987 \n"
     ]
    }
   ],
   "source": [
    "fibonacci(1000)"
   ]
  },
  {
   "cell_type": "code",
   "execution_count": 11,
   "id": "e21b46b6",
   "metadata": {},
   "outputs": [
    {
     "name": "stdout",
     "output_type": "stream",
     "text": [
      "0 1 1 2 3 5 8 13 21 34 55 89 144 233 377 610 987 1597 2584 4181 6765 \n"
     ]
    }
   ],
   "source": [
    "fibonacci(10000)"
   ]
  },
  {
   "cell_type": "code",
   "execution_count": 12,
   "id": "bcd82b18",
   "metadata": {},
   "outputs": [
    {
     "ename": "NameError",
     "evalue": "name 'a' is not defined",
     "output_type": "error",
     "traceback": [
      "\u001b[1;31m---------------------------------------------------------------------------\u001b[0m",
      "\u001b[1;31mNameError\u001b[0m                                 Traceback (most recent call last)",
      "Cell \u001b[1;32mIn[12], line 1\u001b[0m\n\u001b[1;32m----> 1\u001b[0m \u001b[43ma\u001b[49m, b\n",
      "\u001b[1;31mNameError\u001b[0m: name 'a' is not defined"
     ]
    }
   ],
   "source": [
    "a, b # 지역변수는 함수내에서만 사용가능"
   ]
  },
  {
   "cell_type": "markdown",
   "id": "55b5f6bf",
   "metadata": {},
   "source": [
    "## 1.3 지역변수(local var)와 전역변수(global var)"
   ]
  },
  {
   "cell_type": "code",
   "execution_count": 17,
   "id": "2d4b4e25",
   "metadata": {},
   "outputs": [
    {
     "name": "stdout",
     "output_type": "stream",
     "text": [
      "함수안 : 100\n",
      "함수밖 : 100\n"
     ]
    }
   ],
   "source": [
    "global_var = 100\n",
    "def func1():\n",
    "    print('함수안 :', global_var)\n",
    "func1()\n",
    "print(\"함수밖 :\", global_var)"
   ]
  },
  {
   "cell_type": "code",
   "execution_count": 19,
   "id": "2bf3f028",
   "metadata": {},
   "outputs": [
    {
     "name": "stdout",
     "output_type": "stream",
     "text": [
      "함수안: 200\n"
     ]
    }
   ],
   "source": [
    "def func2():\n",
    "    local_var = 200 # 지역변수(함수내에서 할당)\n",
    "    print('함수안:',local_var)\n",
    "func2()"
   ]
  },
  {
   "cell_type": "code",
   "execution_count": 20,
   "id": "7db0cb92",
   "metadata": {},
   "outputs": [],
   "source": [
    "#print('함수밖에서 지역변수 :', local_var) #에러"
   ]
  },
  {
   "cell_type": "code",
   "execution_count": 21,
   "id": "33522279",
   "metadata": {},
   "outputs": [
    {
     "name": "stdout",
     "output_type": "stream",
     "text": [
      "g_var : 200\n",
      "g_var : 100\n"
     ]
    }
   ],
   "source": [
    "# 렉시컬 특성 : 변수가 어디서 선언되었는지에 따라\n",
    "# 변수의 범위가 정해짐(지역vs전역)\n",
    "g_var = 100 # 전역변수\n",
    "def func3():\n",
    "    g_var = 200\n",
    "    print('g_var :',g_var) #지역변수 (함수내에서 할당)\n",
    "func3()\n",
    "print('g_var :', g_var)"
   ]
  },
  {
   "cell_type": "code",
   "execution_count": 22,
   "id": "85190275",
   "metadata": {},
   "outputs": [
    {
     "ename": "UnboundLocalError",
     "evalue": "local variable 'g_var' referenced before assignment",
     "output_type": "error",
     "traceback": [
      "\u001b[1;31m---------------------------------------------------------------------------\u001b[0m",
      "\u001b[1;31mUnboundLocalError\u001b[0m                         Traceback (most recent call last)",
      "Cell \u001b[1;32mIn[22], line 5\u001b[0m\n\u001b[0;32m      3\u001b[0m     \u001b[38;5;28mprint\u001b[39m(\u001b[38;5;124m'\u001b[39m\u001b[38;5;124mg_var :\u001b[39m\u001b[38;5;124m'\u001b[39m,g_var)\n\u001b[0;32m      4\u001b[0m     g_var \u001b[38;5;241m=\u001b[39m \u001b[38;5;241m200\u001b[39m \u001b[38;5;66;03m# 지역변수 (함수내에서 할당)\u001b[39;00m\n\u001b[1;32m----> 5\u001b[0m \u001b[43mfunc3\u001b[49m\u001b[43m(\u001b[49m\u001b[43m)\u001b[49m\n\u001b[0;32m      6\u001b[0m \u001b[38;5;28mprint\u001b[39m(\u001b[38;5;124m'\u001b[39m\u001b[38;5;124mg_var :\u001b[39m\u001b[38;5;124m'\u001b[39m, g_var)\n",
      "Cell \u001b[1;32mIn[22], line 3\u001b[0m, in \u001b[0;36mfunc3\u001b[1;34m()\u001b[0m\n\u001b[0;32m      2\u001b[0m \u001b[38;5;28;01mdef\u001b[39;00m \u001b[38;5;21mfunc3\u001b[39m():\n\u001b[1;32m----> 3\u001b[0m     \u001b[38;5;28mprint\u001b[39m(\u001b[38;5;124m'\u001b[39m\u001b[38;5;124mg_var :\u001b[39m\u001b[38;5;124m'\u001b[39m,\u001b[43mg_var\u001b[49m)\n\u001b[0;32m      4\u001b[0m     g_var \u001b[38;5;241m=\u001b[39m \u001b[38;5;241m200\u001b[39m\n",
      "\u001b[1;31mUnboundLocalError\u001b[0m: local variable 'g_var' referenced before assignment"
     ]
    }
   ],
   "source": [
    "# 렉시컬 특성\n",
    "g_var = 100 # 전역변수\n",
    "def func3():\n",
    "    print('g_var :',g_var)\n",
    "    g_var = 200 # 지역변수 (함수내에서 할당)\n",
    "func3()\n",
    "print('g_var :', g_var)"
   ]
  },
  {
   "cell_type": "code",
   "execution_count": 23,
   "id": "2411bd6f",
   "metadata": {},
   "outputs": [
    {
     "name": "stdout",
     "output_type": "stream",
     "text": [
      "g_var : 100\n",
      "g_var : 200\n"
     ]
    }
   ],
   "source": [
    "#렉시컬 특성\n",
    "g_var = 100 # 전역변수\n",
    "def func3():\n",
    "    global g_var # 함수내에서의 g_var는 전역변수를 쓰겠다\n",
    "    print('g_var :',g_var)\n",
    "    g_var = 200 # 지역변수 (함수내에서 할당)\n",
    "func3()\n",
    "print('g_var :', g_var)"
   ]
  },
  {
   "cell_type": "markdown",
   "id": "1820dab9",
   "metadata": {},
   "source": [
    "## 1.4 값에 의한 호출\n",
    "- 함수에 인수로 전달되는 변수 스칼라변수(문자, 숫자, 논리형)"
   ]
  },
  {
   "cell_type": "code",
   "execution_count": 24,
   "id": "c9e38652",
   "metadata": {},
   "outputs": [
    {
     "data": {
      "text/plain": [
       "1651452700464"
      ]
     },
     "execution_count": 24,
     "metadata": {},
     "output_type": "execute_result"
    }
   ],
   "source": [
    "foo = 'a' # 전역변수\n",
    "id(foo)"
   ]
  },
  {
   "cell_type": "code",
   "execution_count": 25,
   "id": "a44e07b8",
   "metadata": {},
   "outputs": [
    {
     "name": "stdout",
     "output_type": "stream",
     "text": [
      "before a 의 주소는 1651452700464\n",
      "after aaa 의 주소는 1651535805808\n"
     ]
    }
   ],
   "source": [
    "def func1(f): # 매개변수는 지역변수\n",
    "    print('before', f, '의 주소는', id(f))\n",
    "    f = f*3\n",
    "    print('after', f, '의 주소는', id(f))\n",
    "func1(foo)"
   ]
  },
  {
   "cell_type": "code",
   "execution_count": 26,
   "id": "e37ad61c",
   "metadata": {},
   "outputs": [
    {
     "name": "stdout",
     "output_type": "stream",
     "text": [
      "foo = a 의 주소는 1651452700464\n"
     ]
    }
   ],
   "source": [
    "print('foo =', foo, '의 주소는', id(foo))"
   ]
  },
  {
   "cell_type": "markdown",
   "id": "0d466709",
   "metadata": {},
   "source": [
    "## 1.5 참조에 의한 호출\n",
    "- 함수에 인수로 전달되는 변수가 리스트, 튜플, 셋, 딕셔너리, 기타 객체일 경우"
   ]
  },
  {
   "cell_type": "code",
   "execution_count": 27,
   "id": "07446095",
   "metadata": {},
   "outputs": [
    {
     "data": {
      "text/plain": [
       "1651531323072"
      ]
     },
     "execution_count": 27,
     "metadata": {},
     "output_type": "execute_result"
    }
   ],
   "source": [
    "L = [1, 2, 3, 4, 5]\n",
    "id(L)"
   ]
  },
  {
   "cell_type": "code",
   "execution_count": 28,
   "id": "f38f87d0",
   "metadata": {},
   "outputs": [
    {
     "name": "stdout",
     "output_type": "stream",
     "text": [
      "before: [1, 2, 3, 4, 5] 의 주소는 1651531323072\n",
      "after: [1, 2, 3, 4, 5, 6] 의 주소는 1651531323072\n"
     ]
    }
   ],
   "source": [
    "def func2(f): # 매개변수는 지역변수\n",
    "    print('before:', f, '의 주소는', id(L))\n",
    "    f.append(6)\n",
    "    print('after:', f, '의 주소는', id(L))\n",
    "func2(L)"
   ]
  },
  {
   "cell_type": "code",
   "execution_count": 29,
   "id": "92336252",
   "metadata": {},
   "outputs": [
    {
     "name": "stdout",
     "output_type": "stream",
     "text": [
      "L= [1, 2, 3, 4, 5, 6] 의 주소는 1651531323072\n"
     ]
    }
   ],
   "source": [
    "print('L=', L, '의 주소는', id(L))"
   ]
  },
  {
   "cell_type": "markdown",
   "id": "7f28194d",
   "metadata": {},
   "source": [
    "# 2절. 함수의 실행 결과를 반환하는 return"
   ]
  },
  {
   "cell_type": "code",
   "execution_count": 31,
   "id": "0186e6c2",
   "metadata": {},
   "outputs": [],
   "source": [
    "def fibonacci_print(n):\n",
    "    '''\n",
    "    매개변수로 들어온 n값 미만의 피보나치 수열을 출력하는 함수\n",
    "    ex. n=10 : 0, 1, 1, 2, 3, 5, 8\n",
    "        n=100 : 0 1 1 2 3 5 8 13 21 34 55 89\n",
    "    '''\n",
    "    a, b = 0, 1 # 함수 내에 선언하 변수 : 지역변수(반:전역변수)\n",
    "    while a < n:\n",
    "        print(a, end = ' ')\n",
    "        a, b = b, a+b\n",
    "    print() # 개행\n",
    "def fibonacci(n):\n",
    "    \"n미만의 피보나치수열을 리스트로 return\"\n",
    "    result = [] # 피보나치수열을 append할 리스트\n",
    "    a, b = 0, 1\n",
    "    while a<n:\n",
    "        result.append(a) # 리스트에 append\n",
    "        a, b = b, a+b\n",
    "    return result"
   ]
  },
  {
   "cell_type": "code",
   "execution_count": 33,
   "id": "2f2cdd1c",
   "metadata": {},
   "outputs": [
    {
     "name": "stdout",
     "output_type": "stream",
     "text": [
      "[0, 1, 1, 2, 3, 5, 8]\n",
      "<class 'list'>\n"
     ]
    }
   ],
   "source": [
    "x = fibonacci(10)\n",
    "print(x)\n",
    "print(type(x))"
   ]
  },
  {
   "cell_type": "code",
   "execution_count": 34,
   "id": "aaaefb65",
   "metadata": {},
   "outputs": [
    {
     "name": "stdout",
     "output_type": "stream",
     "text": [
      "0 1 1 2 3 5 8 \n",
      "None\n",
      "<class 'NoneType'>\n"
     ]
    }
   ],
   "source": [
    "x = fibonacci_print(10)\n",
    "print(x)\n",
    "print(type(x))"
   ]
  },
  {
   "cell_type": "markdown",
   "id": "bd443601",
   "metadata": {},
   "source": [
    "### 여러개 값 return\n",
    "- 여러개 값을 갖는 튜플로 return"
   ]
  },
  {
   "cell_type": "code",
   "execution_count": 35,
   "id": "3ab78773",
   "metadata": {},
   "outputs": [],
   "source": [
    "def swap(a,b):\n",
    "    '매개변수의 순서를 바꿔서 return'\n",
    "    return b,a # return (b,a)"
   ]
  },
  {
   "cell_type": "code",
   "execution_count": 36,
   "id": "2341c6a7",
   "metadata": {},
   "outputs": [
    {
     "data": {
      "text/plain": [
       "tuple"
      ]
     },
     "execution_count": 36,
     "metadata": {},
     "output_type": "execute_result"
    }
   ],
   "source": [
    "a = swap(1,2)\n",
    "type(a)"
   ]
  },
  {
   "cell_type": "code",
   "execution_count": 37,
   "id": "9ad4f124",
   "metadata": {},
   "outputs": [
    {
     "name": "stdout",
     "output_type": "stream",
     "text": [
      "(2, 1)\n"
     ]
    }
   ],
   "source": [
    "print(a)"
   ]
  },
  {
   "cell_type": "code",
   "execution_count": 38,
   "id": "076d3685",
   "metadata": {},
   "outputs": [],
   "source": [
    "x, y = swap(1,2)"
   ]
  },
  {
   "cell_type": "code",
   "execution_count": 39,
   "id": "a2b3c778",
   "metadata": {},
   "outputs": [
    {
     "name": "stdout",
     "output_type": "stream",
     "text": [
      "2 1\n"
     ]
    }
   ],
   "source": [
    "print(x,y)"
   ]
  },
  {
   "cell_type": "code",
   "execution_count": 43,
   "id": "36e50570",
   "metadata": {},
   "outputs": [
    {
     "name": "stdout",
     "output_type": "stream",
     "text": [
      "함수 실행 전 x,y = 5 10\n",
      "함수 실행 후 x,y = 10 5\n"
     ]
    }
   ],
   "source": [
    "x=5; y=10\n",
    "print('함수 실행 전 x,y =', x,y)\n",
    "x, y = swap(x,y)\n",
    "print('함수 실행 후 x,y =', x, y)"
   ]
  },
  {
   "cell_type": "markdown",
   "id": "3717715a",
   "metadata": {},
   "source": [
    "# 3절 함수의 매개변수 ★\n",
    "## 3.1 기본 값을 갖는 매개변수"
   ]
  },
  {
   "cell_type": "code",
   "execution_count": 44,
   "id": "65452a00",
   "metadata": {},
   "outputs": [],
   "source": [
    "def make_url(ip, port=80): #순서인수가 앞에 있어야함 > 기본값을 갖는 매개변수\n",
    "    return \"http://{}:{}\".format(ip, port)"
   ]
  },
  {
   "cell_type": "code",
   "execution_count": 50,
   "id": "04dfbf45",
   "metadata": {},
   "outputs": [
    {
     "name": "stdout",
     "output_type": "stream",
     "text": [
      "http://localhost:80\n",
      "http://localhost:8090\n",
      "http://www.naver.com:80\n",
      "http://localhost:9090\n"
     ]
    }
   ],
   "source": [
    "print(make_url(\"localhost\"))\n",
    "print(make_url(\"localhost\", 8090))\n",
    "print(make_url(\"www.naver.com\"))\n",
    "print(make_url(port=9090, ip=\"localhost\"))\n",
    "#print(make_url(port=9090)) ip는 기본값을 가지지 않음 에러"
   ]
  },
  {
   "cell_type": "code",
   "execution_count": 51,
   "id": "fa5c7d4f",
   "metadata": {},
   "outputs": [],
   "source": [
    "#def make_url(port=80, ip): #순서인수가 앞에 있어야함 > 기본값을 갖는 매개변수\n",
    "#    return \"http://{}:{}\".format(ip, port) 에러"
   ]
  },
  {
   "cell_type": "markdown",
   "id": "e1da369e",
   "metadata": {},
   "source": [
    "## 3.2 기본 변수를 갖는 매개변수\n",
    "- 기본변수가 스칼라변수(문자, 숫자, 논리형)일 때\n",
    "- 기본변수가 리스트, 셋, 딕셔너리, 기타 객체일 때"
   ]
  },
  {
   "cell_type": "code",
   "execution_count": 52,
   "id": "994376b7",
   "metadata": {},
   "outputs": [],
   "source": [
    "i = 80\n",
    "# 기본 변수가 스칼라 변수일 때 : 함수가 정의 되는 시점으로 기본값 셋팅\n",
    "def make_url(ip, port=i):\n",
    "    return \"http://{}:{}\".format(ip, port)"
   ]
  },
  {
   "cell_type": "code",
   "execution_count": 53,
   "id": "67a0d27e",
   "metadata": {},
   "outputs": [
    {
     "data": {
      "text/plain": [
       "'http://localhost:80'"
      ]
     },
     "execution_count": 53,
     "metadata": {},
     "output_type": "execute_result"
    }
   ],
   "source": [
    "i = 90\n",
    "make_url(\"localhost\")"
   ]
  },
  {
   "cell_type": "code",
   "execution_count": 55,
   "id": "252be2b7",
   "metadata": {},
   "outputs": [
    {
     "name": "stdout",
     "output_type": "stream",
     "text": [
      "[10]\n"
     ]
    }
   ],
   "source": [
    "list_ = []\n",
    "# 기본 변수가 리스트, 셋, 딕셔너리, 객체일 때: 함수가 실행되는 시점으로 기본값 셋팅\n",
    "def func3(a, L = list_):\n",
    "    L.append(a)\n",
    "    return L\n",
    "print(func3(10))\n"
   ]
  },
  {
   "cell_type": "code",
   "execution_count": 57,
   "id": "418df357",
   "metadata": {},
   "outputs": [
    {
     "name": "stdout",
     "output_type": "stream",
     "text": [
      "[10, 20, 3]\n"
     ]
    }
   ],
   "source": [
    "print(func3(3))"
   ]
  },
  {
   "cell_type": "code",
   "execution_count": 58,
   "id": "00474bc4",
   "metadata": {},
   "outputs": [
    {
     "name": "stdout",
     "output_type": "stream",
     "text": [
      "list_= [10, 20, 3]\n"
     ]
    }
   ],
   "source": [
    "print(\"list_=\", list_)"
   ]
  },
  {
   "cell_type": "code",
   "execution_count": 60,
   "id": "1ec7a161",
   "metadata": {},
   "outputs": [
    {
     "name": "stdout",
     "output_type": "stream",
     "text": [
      "[10]\n",
      "[10]\n",
      "[10]\n",
      "[1, 2, 3, 10]\n",
      "[10]\n"
     ]
    }
   ],
   "source": [
    "# 실행할 때마다 L을 공유하는게 싫으면 \n",
    "def func3(a, L= None):\n",
    "    if L is None:\n",
    "        L = []\n",
    "    L.append(a)\n",
    "    return L\n",
    "print(func3(10))\n",
    "print(func3(10))\n",
    "print(func3(10))\n",
    "print(func3(10, [1,2,3]))\n",
    "print(func3(10))"
   ]
  },
  {
   "cell_type": "markdown",
   "id": "bdfdda10",
   "metadata": {},
   "source": [
    "## 3.3 순서인수, 키워드인수\n",
    "- 순서인수 : 함수에 정의된 순서대로 전달방식\n",
    "- 키워드인수 : 인수의 이름을 명시하는 방식\n",
    "- 함수 정의시 순서인수와 키워드인수가 같이 올 때는 순서인수 > 키워드인수 순으로"
   ]
  },
  {
   "cell_type": "code",
   "execution_count": 61,
   "id": "3bd84a85",
   "metadata": {},
   "outputs": [],
   "source": [
    "def func3(a, L= None): #순서 거꾸로시 에러\n",
    "    if L is None:\n",
    "        L = []\n",
    "    L.append(a)\n",
    "    return L"
   ]
  },
  {
   "cell_type": "code",
   "execution_count": 62,
   "id": "766247d0",
   "metadata": {},
   "outputs": [
    {
     "name": "stdout",
     "output_type": "stream",
     "text": [
      "[10]\n",
      "[10, 20]\n"
     ]
    }
   ],
   "source": [
    "lst = []\n",
    "print(func3(10, lst))     # 순서인수 : 함수 정의된 순서대로 전달하는 방식\n",
    "print(func3(L=lst, a=20)) # 키워드인수 : 인수의 이름을 명시하여 전달하는 방식"
   ]
  },
  {
   "cell_type": "markdown",
   "id": "72df5162",
   "metadata": {},
   "source": [
    "## 3.4 튜플 매개변수를 이용한 가변인수 설정\n",
    "- 가변인수 : 매개변수의 갯수가 가변"
   ]
  },
  {
   "cell_type": "code",
   "execution_count": 67,
   "id": "cf3ea836",
   "metadata": {},
   "outputs": [],
   "source": [
    "# 파이썬은 함수의 중복정의(오버로딩)을 지원하지 않음\n",
    "# args 앞에 * : args가 튜플로 전달받는다\n",
    "def add(*args):# 매개변수 앞에 *를 붙여 정의\n",
    "    print('args=', args)\n",
    "    '전달받은 매개변수들의 합을 return. 매개변수가 없는 경우 0을 return'\n",
    "    sum = 0 # 누적변수\n",
    "    for num in args:\n",
    "        sum = sum + num # sum += num\n",
    "    return sum"
   ]
  },
  {
   "cell_type": "code",
   "execution_count": 83,
   "id": "244799c8",
   "metadata": {},
   "outputs": [
    {
     "name": "stdout",
     "output_type": "stream",
     "text": [
      "args= (10, 20)\n",
      "30\n",
      "args= (10, 20, 30)\n",
      "60\n",
      "args= (10, 20, 30, 40)\n",
      "100\n"
     ]
    }
   ],
   "source": [
    "print(add(10, 20))\n",
    "print(add(10, 20 ,30))\n",
    "print(add(10,20,30,40))"
   ]
  },
  {
   "cell_type": "code",
   "execution_count": 85,
   "id": "2a087084",
   "metadata": {},
   "outputs": [],
   "source": [
    "# 튜플 매개변수와 일반 매개변수가 같이 있을때\n",
    "def concat(*subject, sep):\n",
    "    return sep.join(subject)"
   ]
  },
  {
   "cell_type": "code",
   "execution_count": 89,
   "id": "0918be8b",
   "metadata": {},
   "outputs": [
    {
     "ename": "TypeError",
     "evalue": "concat() missing 1 required keyword-only argument: 'sep'",
     "output_type": "error",
     "traceback": [
      "\u001b[1;31m---------------------------------------------------------------------------\u001b[0m",
      "\u001b[1;31mTypeError\u001b[0m                                 Traceback (most recent call last)",
      "Cell \u001b[1;32mIn[89], line 1\u001b[0m\n\u001b[1;32m----> 1\u001b[0m \u001b[43mconcat\u001b[49m\u001b[43m(\u001b[49m\u001b[38;5;124;43m'\u001b[39;49m\u001b[38;5;124;43mPython\u001b[39;49m\u001b[38;5;124;43m'\u001b[39;49m\u001b[43m,\u001b[49m\u001b[43m \u001b[49m\u001b[38;5;124;43m'\u001b[39;49m\u001b[38;5;124;43mHTML/CSS\u001b[39;49m\u001b[38;5;124;43m'\u001b[39;49m\u001b[43m,\u001b[49m\u001b[43m \u001b[49m\u001b[38;5;124;43m'\u001b[39;49m\u001b[38;5;124;43mJavaScript\u001b[39;49m\u001b[38;5;124;43m'\u001b[39;49m\u001b[43m,\u001b[49m\u001b[43m \u001b[49m\u001b[38;5;124;43m'\u001b[39;49m\u001b[38;5;124;43mOracle/MySQL\u001b[39;49m\u001b[38;5;124;43m'\u001b[39;49m\u001b[43m,\u001b[49m\u001b[38;5;124;43m'\u001b[39;49m\u001b[38;5;124;43m-\u001b[39;49m\u001b[38;5;124;43m'\u001b[39;49m\u001b[43m)\u001b[49m\n",
      "\u001b[1;31mTypeError\u001b[0m: concat() missing 1 required keyword-only argument: 'sep'"
     ]
    }
   ],
   "source": [
    "concat('Python', 'HTML/CSS', 'JavaScript', 'Oracle/MySQL','-')"
   ]
  },
  {
   "cell_type": "code",
   "execution_count": 90,
   "id": "9230c5e6",
   "metadata": {},
   "outputs": [],
   "source": [
    "# 해결책1 : 매개변수 이름을 지정해서 호출\n",
    "concat('Python', 'HTML/CSS', 'JavaScript', 'Oracle/MySQL',sep ='-')"
   ]
  },
  {
   "cell_type": "code",
   "execution_count": 95,
   "id": "749d9218",
   "metadata": {},
   "outputs": [],
   "source": [
    "# 해결책2 : 기본값을 갖는 키워드인수 사용\n",
    "def concat(*args, sep = '-'): # 튜플매개변수 > 키워드인수\n",
    "    return sep.join(subject)"
   ]
  },
  {
   "cell_type": "code",
   "execution_count": 97,
   "id": "fbc10c45",
   "metadata": {},
   "outputs": [
    {
     "data": {
      "text/plain": [
       "'Python-HTML/CSS-JavaScript-Oracle/MySQL'"
      ]
     },
     "execution_count": 97,
     "metadata": {},
     "output_type": "execute_result"
    }
   ],
   "source": [
    "concat('Python', 'HTML/CSS', 'JavaScript', 'Oracle/MySQL')"
   ]
  },
  {
   "cell_type": "code",
   "execution_count": 100,
   "id": "661c061f",
   "metadata": {},
   "outputs": [],
   "source": [
    "#해결책3 : sep을 순서인수로 앞으로 -강추\n",
    "def concat(sep, *args):\n",
    "    return sep.join(args)"
   ]
  },
  {
   "cell_type": "code",
   "execution_count": 101,
   "id": "9e5ba593",
   "metadata": {},
   "outputs": [
    {
     "data": {
      "text/plain": [
       "'Python-HTML/CSS-JavaScript-Oracle/MySQL'"
      ]
     },
     "execution_count": 101,
     "metadata": {},
     "output_type": "execute_result"
    }
   ],
   "source": [
    "concat('-', 'Python', 'HTML/CSS', 'JavaScript', 'Oracle/MySQL')"
   ]
  },
  {
   "cell_type": "code",
   "execution_count": 69,
   "id": "ea368dd5",
   "metadata": {},
   "outputs": [],
   "source": [
    "def concat(*args, sep):\n",
    "    return sep.join(args)"
   ]
  },
  {
   "cell_type": "code",
   "execution_count": 82,
   "id": "63b149e2",
   "metadata": {},
   "outputs": [
    {
     "name": "stdout",
     "output_type": "stream",
     "text": [
      "earth/mars/venus\n"
     ]
    }
   ],
   "source": [
    "print(concat(\"earth\", \"mars\", \"venus\", sep = \"/\"))"
   ]
  },
  {
   "cell_type": "code",
   "execution_count": 74,
   "id": "be99f473",
   "metadata": {},
   "outputs": [],
   "source": [
    "def concat(sep, *args):\n",
    "    return sep.join(args)"
   ]
  },
  {
   "cell_type": "code",
   "execution_count": 75,
   "id": "a0d7adf4",
   "metadata": {},
   "outputs": [
    {
     "name": "stdout",
     "output_type": "stream",
     "text": [
      "earth/mars/venus\n"
     ]
    }
   ],
   "source": [
    "print(concat(\"/\",\"earth\", \"mars\", \"venus\"))"
   ]
  },
  {
   "cell_type": "code",
   "execution_count": 76,
   "id": "6b67fee8",
   "metadata": {},
   "outputs": [],
   "source": [
    "def concat(sep = \"/\", *args):\n",
    "    return sep.join(args)"
   ]
  },
  {
   "cell_type": "code",
   "execution_count": 77,
   "id": "e94a315b",
   "metadata": {},
   "outputs": [
    {
     "name": "stdout",
     "output_type": "stream",
     "text": [
      "marsearthvenus\n"
     ]
    }
   ],
   "source": [
    "print(concat(\"earth\", \"mars\", \"venus\"))"
   ]
  },
  {
   "cell_type": "code",
   "execution_count": 78,
   "id": "069d4ce1",
   "metadata": {},
   "outputs": [],
   "source": [
    "def concat(*args,sep = \"/\"):\n",
    "    return sep.join(args)"
   ]
  },
  {
   "cell_type": "code",
   "execution_count": 102,
   "id": "8a151227",
   "metadata": {},
   "outputs": [
    {
     "data": {
      "text/plain": [
       "'marsearthvenus'"
      ]
     },
     "execution_count": 102,
     "metadata": {},
     "output_type": "execute_result"
    }
   ],
   "source": [
    "concat(\"earth\", \"mars\",\"venus\")"
   ]
  },
  {
   "cell_type": "markdown",
   "id": "ebf2c184",
   "metadata": {},
   "source": [
    "## 3.5 딕셔너리 매개변수\n",
    "- 딕셔너리 인수 : 여러개의 키워드 인수를 딕셔너리 형태로 받아서 가변인수로 처리"
   ]
  },
  {
   "cell_type": "code",
   "execution_count": 108,
   "id": "31e11d13",
   "metadata": {},
   "outputs": [],
   "source": [
    "def func5(**args): # args : 딕셔너리로 전달받음\n",
    "    print(args)"
   ]
  },
  {
   "cell_type": "code",
   "execution_count": 113,
   "id": "765b22dc",
   "metadata": {},
   "outputs": [
    {
     "name": "stdout",
     "output_type": "stream",
     "text": [
      "{'name': '홍길동', 'age': 30, 'tel': '010-0000-0000', 'address': '서울 관악구', 'width': 300, 'color': 'red'}\n"
     ]
    }
   ],
   "source": [
    "func5(name = '홍길동', age = 30, tel = '010-0000-0000', address = '서울 관악구', width=300, color='red')"
   ]
  },
  {
   "cell_type": "code",
   "execution_count": 125,
   "id": "8e908591",
   "metadata": {},
   "outputs": [],
   "source": [
    "def func5(**args): # args : 딕셔너리로 전달받음\n",
    "    print('이름 :', args.get('name', '몰라'))\n",
    "    print('나이 :', args.get('age', 20))\n",
    "    print('전화 :', args.get('tel', '없음'))\n",
    "    print('주소 :', args.get('address', '서울 종로'))"
   ]
  },
  {
   "cell_type": "code",
   "execution_count": 127,
   "id": "4e74c444",
   "metadata": {},
   "outputs": [
    {
     "name": "stdout",
     "output_type": "stream",
     "text": [
      "이름 : 홍길동\n",
      "나이 : 30\n",
      "전화 : 010-0000-0000\n",
      "주소 : 서울 관악구\n"
     ]
    }
   ],
   "source": [
    "func5(name = '홍길동', age = 30, tel = '010-0000-0000',address = '서울 관악구',  width=300, color='red')"
   ]
  },
  {
   "cell_type": "code",
   "execution_count": 128,
   "id": "7b0f468a",
   "metadata": {},
   "outputs": [],
   "source": [
    "def func5(**args):\n",
    "    print(args)\n",
    "    print(type(args))\n",
    "    for key, value in args.items():\n",
    "        print(\"{}:{}\".format(key,value))"
   ]
  },
  {
   "cell_type": "code",
   "execution_count": 130,
   "id": "2eb82f25",
   "metadata": {},
   "outputs": [
    {
     "name": "stdout",
     "output_type": "stream",
     "text": [
      "{'name': '홍길동', 'age': 30, 'tel': '010-0000-0000', 'address': '서울 관악구', 'width': 300, 'color': 'red'}\n",
      "<class 'dict'>\n",
      "name:홍길동\n",
      "age:30\n",
      "tel:010-0000-0000\n",
      "address:서울 관악구\n",
      "width:300\n",
      "color:red\n"
     ]
    }
   ],
   "source": [
    "func5(name = '홍길동', age = 30, tel = '010-0000-0000', address = '서울 관악구', width=300, color='red')"
   ]
  },
  {
   "cell_type": "code",
   "execution_count": 145,
   "id": "ee3bccc1",
   "metadata": {},
   "outputs": [],
   "source": [
    "def func5(**args):\n",
    "    print(args)\n",
    "    print(type(args))\n",
    "    if not 'addrss' in args: # args에 address 키가 없으면 if문 True\n",
    "       # args['address'] = '서울시 관악구'\n",
    "       # args.update({'address' : '서울시 관악구'})\n",
    "        args.update(address = '서울시 관악구')\n",
    "    for key, value in args.items():\n",
    "        print(\"{}:{}\".format(key,value))"
   ]
  },
  {
   "cell_type": "code",
   "execution_count": 146,
   "id": "fc07812e",
   "metadata": {},
   "outputs": [
    {
     "name": "stdout",
     "output_type": "stream",
     "text": [
      "{'name': '홍길동', 'age': 30, 'tel': '010-0000-0000'}\n",
      "<class 'dict'>\n",
      "name:홍길동\n",
      "age:30\n",
      "tel:010-0000-0000\n",
      "address:서울시 관악구\n"
     ]
    }
   ],
   "source": [
    "func5(name = '홍길동', age = 30, tel = '010-0000-0000')"
   ]
  },
  {
   "cell_type": "markdown",
   "id": "048517e2",
   "metadata": {},
   "source": [
    "## 3.6 함수 정의시 매개변수의 순서\n",
    "- 순서인수 > 튜플인수(*) > 키워드인수(기본값) > 딕셔너리인수(**)"
   ]
  },
  {
   "cell_type": "code",
   "execution_count": 147,
   "id": "7c6f076b",
   "metadata": {},
   "outputs": [],
   "source": [
    "# 순서인수 > 튜플인수 > 딕셔너리인수\n",
    "def func6(a, b, *c, **d):\n",
    "    print('순서인수 a = ', a)\n",
    "    print('순서인수 b = ', b)\n",
    "    print('튜플인수 c = ', c)\n",
    "    print('딕셔너리인수 d = ', d)"
   ]
  },
  {
   "cell_type": "code",
   "execution_count": 149,
   "id": "4142a860",
   "metadata": {},
   "outputs": [
    {
     "name": "stdout",
     "output_type": "stream",
     "text": [
      "순서인수 a =  10\n",
      "순서인수 b =  20\n",
      "튜플인수 c =  (1, 2, 3, 4, 5, 6, 7, 8, 9)\n",
      "딕셔너리인수 d =  {'name': '홍길동', 'age': 30, 'address': '신림'}\n"
     ]
    }
   ],
   "source": [
    "func6(10, 20, 1, 2, 3, 4, 5, 6, 7, 8, 9, name = '홍길동', age = 30, address = '신림' )"
   ]
  },
  {
   "cell_type": "code",
   "execution_count": 155,
   "id": "dda0e4bc",
   "metadata": {},
   "outputs": [],
   "source": [
    "# 순서인수 > 튜플인수> 키워드인수 > 딕셔너리인수\n",
    "def func7(a, b, c, *d, e=10,**f):\n",
    "    print('순서인수 a = ', a)\n",
    "    print('순서인수 b = ', b)\n",
    "    print('순서인수 c = ', c)\n",
    "    print('튜플인수 d = ', d)\n",
    "    print('키워드인수(기본값) = ', e)\n",
    "    print('딕셔너리인수 = ', f)"
   ]
  },
  {
   "cell_type": "code",
   "execution_count": 161,
   "id": "3093ba34",
   "metadata": {},
   "outputs": [
    {
     "name": "stdout",
     "output_type": "stream",
     "text": [
      "순서인수 a =  10\n",
      "순서인수 b =  20\n",
      "순서인수 c =  30\n",
      "튜플인수 d =  ()\n",
      "키워드인수(기본값) =  10\n",
      "딕셔너리인수 =  {}\n",
      "순서인수 a =  10\n",
      "순서인수 b =  20\n",
      "순서인수 c =  30\n",
      "튜플인수 d =  (4, 5)\n",
      "키워드인수(기본값) =  10\n",
      "딕셔너리인수 =  {'name': '홍길동'}\n",
      "순서인수 a =  10\n",
      "순서인수 b =  20\n",
      "순서인수 c =  30\n",
      "튜플인수 d =  (4, 5)\n",
      "키워드인수(기본값) =  100\n",
      "딕셔너리인수 =  {'shape': 'rect', 'width': 20, 'height': 30}\n"
     ]
    }
   ],
   "source": [
    "func7(10, 20, 30)\n",
    "(func7(10, 20, 30, 4, 5, name = '홍길동'))\n",
    "(func7(10, 20, 30, 4, 5, e=100, shape = 'rect', width = 20, height = 30))"
   ]
  },
  {
   "cell_type": "markdown",
   "id": "6c52f423",
   "metadata": {},
   "source": [
    "## 3.7 인수의 언패킹\n",
    "### 튜플인수 언패킹\n",
    "- 언패킹 : 함수 호출시 매개변수 앞에 * 붙임\n",
    "- 패킹 : 함수 정의시 매개변수 앞에 *나 ** 붙임(튜플매개변수)"
   ]
  },
  {
   "cell_type": "code",
   "execution_count": 162,
   "id": "0234fa18",
   "metadata": {},
   "outputs": [],
   "source": [
    "#패킹\n",
    "def add(*args):\n",
    "    sum = 0\n",
    "    for num in args :\n",
    "        sum += num\n",
    "    return sum\n"
   ]
  },
  {
   "cell_type": "code",
   "execution_count": 163,
   "id": "4c956a89",
   "metadata": {},
   "outputs": [
    {
     "data": {
      "text/plain": [
       "6"
      ]
     },
     "execution_count": 163,
     "metadata": {},
     "output_type": "execute_result"
    }
   ],
   "source": [
    "add(1,2,3)"
   ]
  },
  {
   "cell_type": "code",
   "execution_count": 164,
   "id": "47d670a7",
   "metadata": {},
   "outputs": [
    {
     "ename": "TypeError",
     "evalue": "unsupported operand type(s) for +=: 'int' and 'tuple'",
     "output_type": "error",
     "traceback": [
      "\u001b[1;31m---------------------------------------------------------------------------\u001b[0m",
      "\u001b[1;31mTypeError\u001b[0m                                 Traceback (most recent call last)",
      "Cell \u001b[1;32mIn[164], line 2\u001b[0m\n\u001b[0;32m      1\u001b[0m numbers \u001b[38;5;241m=\u001b[39m (\u001b[38;5;241m1\u001b[39m, \u001b[38;5;241m2\u001b[39m, \u001b[38;5;241m3\u001b[39m)\n\u001b[1;32m----> 2\u001b[0m \u001b[43madd\u001b[49m\u001b[43m(\u001b[49m\u001b[43mnumbers\u001b[49m\u001b[43m)\u001b[49m\n",
      "Cell \u001b[1;32mIn[162], line 4\u001b[0m, in \u001b[0;36madd\u001b[1;34m(*args)\u001b[0m\n\u001b[0;32m      2\u001b[0m \u001b[38;5;28msum\u001b[39m \u001b[38;5;241m=\u001b[39m \u001b[38;5;241m0\u001b[39m\n\u001b[0;32m      3\u001b[0m \u001b[38;5;28;01mfor\u001b[39;00m num \u001b[38;5;129;01min\u001b[39;00m args :\n\u001b[1;32m----> 4\u001b[0m     \u001b[38;5;28msum\u001b[39m \u001b[38;5;241m+\u001b[39m\u001b[38;5;241m=\u001b[39m num\n\u001b[0;32m      5\u001b[0m \u001b[38;5;28;01mreturn\u001b[39;00m \u001b[38;5;28msum\u001b[39m\n",
      "\u001b[1;31mTypeError\u001b[0m: unsupported operand type(s) for +=: 'int' and 'tuple'"
     ]
    }
   ],
   "source": [
    "numbers = (1, 2, 3)\n",
    "add(numbers)"
   ]
  },
  {
   "cell_type": "code",
   "execution_count": 165,
   "id": "903700d4",
   "metadata": {},
   "outputs": [
    {
     "data": {
      "text/plain": [
       "6"
      ]
     },
     "execution_count": 165,
     "metadata": {},
     "output_type": "execute_result"
    }
   ],
   "source": [
    "add(*numbers) # 언패킹 : 변수 앞에 *를 븉여 튜플을 언패킹 하여 전달"
   ]
  },
  {
   "cell_type": "markdown",
   "id": "cb909cc9",
   "metadata": {},
   "source": [
    "### 딕셔너리 인수 언패킹"
   ]
  },
  {
   "cell_type": "code",
   "execution_count": 166,
   "id": "51b1f7dc",
   "metadata": {},
   "outputs": [],
   "source": [
    "def func8(**data):\n",
    "    print(data)\n",
    "    for item in data.items():\n",
    "        print(item)"
   ]
  },
  {
   "cell_type": "code",
   "execution_count": 168,
   "id": "5d0b7b99",
   "metadata": {},
   "outputs": [
    {
     "name": "stdout",
     "output_type": "stream",
     "text": [
      "{'shape': 'rect', 'width': 40, 'height': 30}\n",
      "('shape', 'rect')\n",
      "('width', 40)\n",
      "('height', 30)\n"
     ]
    }
   ],
   "source": [
    "func8(shape ='rect', width = 40, height =30)"
   ]
  },
  {
   "cell_type": "code",
   "execution_count": 171,
   "id": "26758271",
   "metadata": {},
   "outputs": [],
   "source": [
    "info = {'shape':'rect', 'width': 40, 'height':30}"
   ]
  },
  {
   "cell_type": "code",
   "execution_count": 172,
   "id": "01433e12",
   "metadata": {},
   "outputs": [
    {
     "ename": "TypeError",
     "evalue": "func8() takes 0 positional arguments but 1 was given",
     "output_type": "error",
     "traceback": [
      "\u001b[1;31m---------------------------------------------------------------------------\u001b[0m",
      "\u001b[1;31mTypeError\u001b[0m                                 Traceback (most recent call last)",
      "Cell \u001b[1;32mIn[172], line 1\u001b[0m\n\u001b[1;32m----> 1\u001b[0m \u001b[43mfunc8\u001b[49m\u001b[43m(\u001b[49m\u001b[43minfo\u001b[49m\u001b[43m)\u001b[49m\n",
      "\u001b[1;31mTypeError\u001b[0m: func8() takes 0 positional arguments but 1 was given"
     ]
    }
   ],
   "source": [
    "func8(info)"
   ]
  },
  {
   "cell_type": "code",
   "execution_count": 173,
   "id": "39e308b3",
   "metadata": {},
   "outputs": [
    {
     "name": "stdout",
     "output_type": "stream",
     "text": [
      "{'shape': 'rect', 'width': 40, 'height': 30}\n",
      "('shape', 'rect')\n",
      "('width', 40)\n",
      "('height', 30)\n"
     ]
    }
   ],
   "source": [
    "func8(**info)"
   ]
  },
  {
   "cell_type": "markdown",
   "id": "4c8c46d4",
   "metadata": {},
   "source": [
    "# 4절. 람다식\n",
    "- return 한 줄짜리 작은 익명함수\n",
    "## 4.1 람다식 연습"
   ]
  },
  {
   "cell_type": "code",
   "execution_count": 1,
   "id": "827ae0ae",
   "metadata": {},
   "outputs": [],
   "source": [
    "def add(a,b):\n",
    "    return a+b"
   ]
  },
  {
   "cell_type": "code",
   "execution_count": 5,
   "id": "450fe622",
   "metadata": {},
   "outputs": [
    {
     "data": {
      "text/plain": [
       "3"
      ]
     },
     "execution_count": 5,
     "metadata": {},
     "output_type": "execute_result"
    }
   ],
   "source": [
    "add(1,2)"
   ]
  },
  {
   "cell_type": "code",
   "execution_count": 3,
   "id": "2b24539c",
   "metadata": {},
   "outputs": [],
   "source": [
    "add2 = lambda a,b : a+b"
   ]
  },
  {
   "cell_type": "code",
   "execution_count": 4,
   "id": "5bd8595b",
   "metadata": {},
   "outputs": [
    {
     "data": {
      "text/plain": [
       "3"
      ]
     },
     "execution_count": 4,
     "metadata": {},
     "output_type": "execute_result"
    }
   ],
   "source": [
    "add2(1,2)"
   ]
  },
  {
   "cell_type": "code",
   "execution_count": 16,
   "id": "47ad71a8",
   "metadata": {},
   "outputs": [
    {
     "data": {
      "text/plain": [
       "'홀수'"
      ]
     },
     "execution_count": 16,
     "metadata": {},
     "output_type": "execute_result"
    }
   ],
   "source": [
    "# ex1. 매개변수로 들어온 값이 짝수인지 홀수인지 return하는 함수를 람다식으로 만들어보시오\n",
    "def even_odd_chk(num):\n",
    "#    if num%2:\n",
    "#        result = \"홀수\"\n",
    "#    else:\n",
    "#        result = \"짝수\"\n",
    "    return  \"홀수\" if num%2 else \"짝수\"\n",
    "even_odd_chk2 = lambda num : \"홀수\" if num%2 else \"짝수\"\n",
    "even_odd_chk2(5)"
   ]
  },
  {
   "cell_type": "code",
   "execution_count": 18,
   "id": "763139b7",
   "metadata": {},
   "outputs": [
    {
     "data": {
      "text/plain": [
       "4"
      ]
     },
     "execution_count": 18,
     "metadata": {},
     "output_type": "execute_result"
    }
   ],
   "source": [
    "# ex2. 두 매개변수의 차이를 return하는 함수를 람다식으로 만들어보시오\n",
    "def sub1(a,b):\n",
    "    return a-b if a>b else b-a\n",
    "sub2 = lambda a,b : a-b if a>b else b-a\n",
    "sub2(1,5)"
   ]
  },
  {
   "cell_type": "code",
   "execution_count": 20,
   "id": "709dba16",
   "metadata": {},
   "outputs": [
    {
     "data": {
      "text/plain": [
       "'negative'"
      ]
     },
     "execution_count": 20,
     "metadata": {},
     "output_type": "execute_result"
    }
   ],
   "source": [
    "# ex3. 매개변수로 잔액을 받아, 잔액이 0이상이면 잔액을 return, 음수면 'negative'\n",
    "ex3 = lambda balance : balance if balance >=0 else 'negative'\n",
    "ex3(-1)"
   ]
  },
  {
   "cell_type": "code",
   "execution_count": 36,
   "id": "ebf53956",
   "metadata": {},
   "outputs": [
    {
     "data": {
      "text/plain": [
       "('A팀', '유효하지 않음', '유효하지 않음')"
      ]
     },
     "execution_count": 36,
     "metadata": {},
     "output_type": "execute_result"
    }
   ],
   "source": [
    "# ex4. 정수를 입력받아 80점 이상은 'A팀', 60점 이상은 'B팀', 60점 미만은 '재시험'\n",
    "                    #100점 촤과, 0점미만은 '유효하지 않음'을 return\n",
    "def levelChk(score):\n",
    "    if 80<=score<=100:\n",
    "        result = 'A팀'\n",
    "    elif 60<=score<80:\n",
    "        result = 'B팀'\n",
    "    elif 0<=score<60:\n",
    "        result = '재시험'\n",
    "    else :\n",
    "        result = '유효하지 않음'\n",
    "    return result\n",
    "ex4 = lambda score : 'A팀' if 100>= score >=80  else \\\n",
    "                      'B팀' if 60<= score <80 else \\\n",
    "                      '재시험' if 0<= score < 60 else \\\n",
    "                      '유효하지 않음'\n",
    "ex4(99), ex4(101), ex4(-1)"
   ]
  },
  {
   "cell_type": "code",
   "execution_count": 38,
   "id": "5bc8ad35",
   "metadata": {},
   "outputs": [
    {
     "data": {
      "text/plain": [
       "('D학점', '유효하지 않음')"
      ]
     },
     "execution_count": 38,
     "metadata": {},
     "output_type": "execute_result"
    }
   ],
   "source": [
    "# 점수를 입력받아 학점을 return \n",
    "score_grade = lambda score : 'A학점' if 100>= score >=90  else \\\n",
    "                              'B학점' if 80<= score <90 else \\\n",
    "                              'C학점' if 70<= score < 80 else \\\n",
    "                              'D학점' if 60<= score < 70 else \\\n",
    "                              'F학점' if 0<= score < 60 else \\\n",
    "                              '유효하지 않음' \n",
    "score_grade(60), score_grade(120)"
   ]
  },
  {
   "cell_type": "code",
   "execution_count": 41,
   "id": "a94c7bb3",
   "metadata": {},
   "outputs": [
    {
     "data": {
      "text/plain": [
       "(-1, 2)"
      ]
     },
     "execution_count": 41,
     "metadata": {},
     "output_type": "execute_result"
    }
   ],
   "source": [
    "# ex5 safe_index함수를 람다식으로\n",
    "def safe_index(lst, item, start=0):\n",
    "    return lst.index(item, start) if item in lst[start:] else -1\n",
    "ex5 = lambda lst, item, start = 0 : lst.index(item, start) if item in lst[start:] else -1\n",
    "lst = [1,2,3]\n",
    "safe_index(lst,4), ex5(lst,3, 1)"
   ]
  },
  {
   "cell_type": "code",
   "execution_count": 50,
   "id": "412ea97d",
   "metadata": {},
   "outputs": [
    {
     "data": {
      "text/plain": [
       "[25, 15, 100, 4.0]"
      ]
     },
     "execution_count": 50,
     "metadata": {},
     "output_type": "execute_result"
    }
   ],
   "source": [
    "# 람다식을 list에 들어갈 수 있음\n",
    "add = lambda a, b : a + b\n",
    "sub = lambda a, b : a - b\n",
    "mul = lambda a, b : a * b\n",
    "div = lambda a, b : a / b if b else '두번째 인자가 0이면 못 나눔'\n",
    "operations = [add, sub, mul, div] #사칙연산 함수들\n",
    "\n",
    "def act_opertions(a, b, operations = operations) : # a,b의 사칙연산 결과를 return\n",
    "    result = []\n",
    "    for op in operations :\n",
    "        result.append(op(a, b))\n",
    "    return result\n",
    "\n",
    "act_opertions(20, 5)"
   ]
  },
  {
   "cell_type": "code",
   "execution_count": null,
   "id": "bf12c24d",
   "metadata": {},
   "outputs": [],
   "source": [
    "act_opertions(8, 2, [lambda x,y : x**y, lambda x,y: 10*x+y])"
   ]
  },
  {
   "cell_type": "code",
   "execution_count": 51,
   "id": "0bbf33c3",
   "metadata": {},
   "outputs": [
    {
     "data": {
      "text/plain": [
       "5"
      ]
     },
     "execution_count": 51,
     "metadata": {},
     "output_type": "execute_result"
    }
   ],
   "source": [
    "operations.append(lambda x, y : x**y)\n",
    "len(operations)"
   ]
  },
  {
   "cell_type": "code",
   "execution_count": 52,
   "id": "7161b2c7",
   "metadata": {},
   "outputs": [
    {
     "data": {
      "text/plain": [
       "[10, 6, 16, 4.0, 64]"
      ]
     },
     "execution_count": 52,
     "metadata": {},
     "output_type": "execute_result"
    }
   ],
   "source": [
    "act_opertions(8, 2) # 기본값을 갖는 변수(기본 변수)가 리스트면 기본값은 호출할 시점"
   ]
  },
  {
   "cell_type": "markdown",
   "id": "0e1a5208",
   "metadata": {},
   "source": [
    "## 4.2 함수의 매개변수(인수)에 람다식 사용\n",
    "- 람다식을 사용하는 곳 : 함수의 매개변수 > return 문\n",
    "###  (1) map"
   ]
  },
  {
   "cell_type": "code",
   "execution_count": 71,
   "id": "c849251f",
   "metadata": {},
   "outputs": [],
   "source": [
    "def map_template(func, L=[]):\n",
    "    result = []\n",
    "    for item in L:\n",
    "        result.append(func(item))\n",
    "    return result"
   ]
  },
  {
   "cell_type": "code",
   "execution_count": 68,
   "id": "77f84411",
   "metadata": {},
   "outputs": [
    {
     "data": {
      "text/plain": [
       "[1, 2, 3]"
      ]
     },
     "execution_count": 68,
     "metadata": {},
     "output_type": "execute_result"
    }
   ],
   "source": [
    "map_template(lambda a:a, [1,2,3])"
   ]
  },
  {
   "cell_type": "code",
   "execution_count": 81,
   "id": "f41c2c80",
   "metadata": {},
   "outputs": [
    {
     "data": {
      "text/plain": [
       "[2, 4, 6, 8, 10, 12, 14, 16, 18]"
      ]
     },
     "execution_count": 81,
     "metadata": {},
     "output_type": "execute_result"
    }
   ],
   "source": [
    "list_data = [1,2,3,4,5,6,7,8,9]\n",
    "#def x_2(x):\n",
    "#    return x*2\n",
    "x_2 = lambda x : x*2\n",
    "map_template(x_2, list_data)\n"
   ]
  },
  {
   "cell_type": "code",
   "execution_count": 80,
   "id": "cdfabc4d",
   "metadata": {},
   "outputs": [
    {
     "data": {
      "text/plain": [
       "[2, 4, 6, 8, 10, 12, 14, 16, 18]"
      ]
     },
     "execution_count": 80,
     "metadata": {},
     "output_type": "execute_result"
    }
   ],
   "source": [
    "map_template(lambda x:x*2, list_data)"
   ]
  },
  {
   "cell_type": "code",
   "execution_count": 83,
   "id": "4bfdef4f",
   "metadata": {},
   "outputs": [
    {
     "data": {
      "text/plain": [
       "[2, 4, 6, 8, 10, 12, 14, 16, 18]"
      ]
     },
     "execution_count": 83,
     "metadata": {},
     "output_type": "execute_result"
    }
   ],
   "source": [
    "# 리스트 컴프리헨션\n",
    "[item*2 for item in list_data]"
   ]
  },
  {
   "cell_type": "code",
   "execution_count": 89,
   "id": "9e6b24c9",
   "metadata": {},
   "outputs": [
    {
     "data": {
      "text/plain": [
       "[2, 4, 6, 8, 10, 12, 14, 16, 18]"
      ]
     },
     "execution_count": 89,
     "metadata": {},
     "output_type": "execute_result"
    }
   ],
   "source": [
    "list(map(lambda x : x*2 , list_data))\n"
   ]
  },
  {
   "cell_type": "code",
   "execution_count": 90,
   "id": "a27d2d73",
   "metadata": {},
   "outputs": [
    {
     "name": "stdout",
     "output_type": "stream",
     "text": [
      "2 4 6 8 10 12 14 16 18 "
     ]
    }
   ],
   "source": [
    "for data in map(lambda x:x*2, list_data):\n",
    "    print(data, end = ' ')"
   ]
  },
  {
   "cell_type": "code",
   "execution_count": 104,
   "id": "091d3334",
   "metadata": {},
   "outputs": [
    {
     "name": "stdout",
     "output_type": "stream",
     "text": [
      "5000 5000 6000 1000 5000 5000 6000 1000 "
     ]
    }
   ],
   "source": [
    "'''\n",
    "예제 1 \n",
    "prices = ['5,000', '5000', '6,000', '1000','5,000', '5000', '6,000', '1000’]를 [5000,5000,6000,1000]식으로 바꾸시오\n",
    "'''\n",
    "prices = ['5,000', '5000', '6,000', '1000','5,000', '5000', '6,000', '1000']\n",
    "#def toint(value):\n",
    "#    return int(value.replace(',',''))\n",
    "#toint('500,000')\n",
    "prices_int = map(lambda value : int(value.replace(',','')),prices)\n",
    "\n",
    "for price in prices_int:\n",
    "    print(price, end = ' ')"
   ]
  },
  {
   "cell_type": "code",
   "execution_count": 124,
   "id": "19bad40b",
   "metadata": {},
   "outputs": [
    {
     "data": {
      "text/plain": [
       "({'year': 2025, 'month': 1, 'day': 1}, {'year': 1995, 'month': 12, 'day': 21})"
      ]
     },
     "execution_count": 124,
     "metadata": {},
     "output_type": "execute_result"
    }
   ],
   "source": [
    "'''\n",
    "예제 2\n",
    "members1 = [{'name':'홍길동', 'birth':'2000-01-01’},\n",
    "{'name':'신길동', 'birth':'1995-12-18'},]를\n",
    "members2 = [\n",
    "{'name':'홍길동', 'year':2000, 'month':1,'day':1},\n",
    "{'name':'신길동', 'year':1995, 'month':12, 'day':18},] 변환\n",
    "'''\n",
    "members1 = [{'name':'홍길동', 'birth':'2000-01-01'},{'name':'신길동', 'birth':'1995-12-18'}]\n",
    "# '2000-01-01' => {'year' : 2000, 'month' : 1, 'day':1}\n",
    "def split_date(date):\n",
    "        split_date = date.split('-')\n",
    "        return {\n",
    "            'year':int(split_date[0]),\n",
    "            'month':int(split_date[1]),\n",
    "            'day' : int(split_date[2])\n",
    "    }\n",
    "    \n",
    "split_date('2025-01-01'), split_date('1995-12-21')"
   ]
  },
  {
   "cell_type": "code",
   "execution_count": 132,
   "id": "261fbba8",
   "metadata": {},
   "outputs": [
    {
     "data": {
      "text/plain": [
       "{'year': 2025, 'month': 10, 'day': 10}"
      ]
     },
     "execution_count": 132,
     "metadata": {},
     "output_type": "execute_result"
    }
   ],
   "source": [
    "def split_date(data):\n",
    "    return {\n",
    "        'year' : int(data['birth'].split('-')[0]),\n",
    "        'month' : int(data['birth'].split('-')[1]),\n",
    "        'day' : int(data['birth'].split('-')[2])\n",
    "    }\n",
    "split_date({'birth' : '2025-10-10'})"
   ]
  },
  {
   "cell_type": "code",
   "execution_count": 133,
   "id": "02259da7",
   "metadata": {},
   "outputs": [
    {
     "data": {
      "text/plain": [
       "{'name': '홍길동', 'year': 2000, 'month': 1, 'day': 1}"
      ]
     },
     "execution_count": 133,
     "metadata": {},
     "output_type": "execute_result"
    }
   ],
   "source": [
    "def member_preprocessing(member):\n",
    "    return{\n",
    "        'name' : member.get('name', '이름없음'), #member['name']\n",
    "        'year' : int(member.get('birth').split('-')[0]),\n",
    "        'month' : int(member.get('birth').split('-')[1]),\n",
    "        'day' : int(member.get('birth').split('-')[2]),\n",
    "    }\n",
    "member_preprocessing({'name' : '홍길동', 'birth':'2000-01-01'})"
   ]
  },
  {
   "cell_type": "code",
   "execution_count": 138,
   "id": "ee50be68",
   "metadata": {},
   "outputs": [
    {
     "data": {
      "text/plain": [
       "[{'name': '홍길동', 'year': 2000, 'month': 1, 'day': 1},\n",
       " {'name': '신길동', 'year': 1995, 'month': 12, 'day': 18}]"
      ]
     },
     "execution_count": 138,
     "metadata": {},
     "output_type": "execute_result"
    }
   ],
   "source": [
    "members2 = list(map(lambda member : {\n",
    "                                'name' : member.get('name', '이름없음'), \n",
    "                                'year' : int(member.get('birth').split('-')[0]),\n",
    "                                'month' : int(member.get('birth').split('-')[1]),\n",
    "                                'day' : int(member.get('birth').split('-')[2]),\n",
    "                            }, members1 \n",
    "                   )\n",
    "               )\n",
    "members2"
   ]
  },
  {
   "cell_type": "code",
   "execution_count": 145,
   "id": "62c99ea5",
   "metadata": {},
   "outputs": [
    {
     "data": {
      "text/plain": [
       "'2000-09-09'"
      ]
     },
     "execution_count": 145,
     "metadata": {},
     "output_type": "execute_result"
    }
   ],
   "source": [
    "'''\n",
    "예제3 members2를 members1로 전환\n",
    "'''\n",
    "def join_date(data):\n",
    "    return \"{}-{:02}-{:02}\".format(data.get('year'), data.get('month'), data.get('day'))\n",
    "join_date({'year':2000, 'month': 9, 'day': 9})"
   ]
  },
  {
   "cell_type": "code",
   "execution_count": 147,
   "id": "42a3bd2d",
   "metadata": {},
   "outputs": [
    {
     "data": {
      "text/plain": [
       "'2000-09-09'"
      ]
     },
     "execution_count": 147,
     "metadata": {},
     "output_type": "execute_result"
    }
   ],
   "source": [
    "def join_date(data):\n",
    "    return \"{year}-{month:02}-{day:02}\".format(**data)\n",
    "join_date({'year':2000, 'month': 9, 'day': 9})"
   ]
  },
  {
   "cell_type": "code",
   "execution_count": 148,
   "id": "17dc5c52",
   "metadata": {},
   "outputs": [
    {
     "data": {
      "text/plain": [
       "{'birth': '2000-09-09'}"
      ]
     },
     "execution_count": 148,
     "metadata": {},
     "output_type": "execute_result"
    }
   ],
   "source": [
    "def join_date(data):\n",
    "    return {\"birth\":\"{year}-{month:02}-{day:02}\".format(**data)}\n",
    "join_date({'year':2000, 'month': 9, 'day': 9})"
   ]
  },
  {
   "cell_type": "code",
   "execution_count": 160,
   "id": "231b3457",
   "metadata": {},
   "outputs": [
    {
     "data": {
      "text/plain": [
       "{'name': 'hong', 'birth': '2000-01-01'}"
      ]
     },
     "execution_count": 160,
     "metadata": {},
     "output_type": "execute_result"
    }
   ],
   "source": [
    "def members_preprocessing(member):\n",
    "    return {\n",
    "        'name': member.get('name'),\n",
    "        'birth':\"{year}-{month:02}-{day:02}\".format(**member)\n",
    "    }\n",
    "members_preprocessing({'name': 'hong', 'year':2000,'month':1,'day':1})"
   ]
  },
  {
   "cell_type": "code",
   "execution_count": 166,
   "id": "7b45547b",
   "metadata": {},
   "outputs": [
    {
     "data": {
      "text/plain": [
       "[{'name': '홍길동', 'birth': '2000-01-01'},\n",
       " {'name': '신길동', 'birth': '1995-12-18'}]"
      ]
     },
     "execution_count": 166,
     "metadata": {},
     "output_type": "execute_result"
    }
   ],
   "source": [
    "list(map(lambda member:{\n",
    "         'name': member.get('name'),\n",
    "         'birth':\"{year}-{month:02}-{day:02}\".format(**member)\n",
    "            }, members2 \n",
    "                )\n",
    "               )"
   ]
  },
  {
   "cell_type": "markdown",
   "id": "d062f747",
   "metadata": {},
   "source": [
    "### (2) filter"
   ]
  },
  {
   "cell_type": "code",
   "execution_count": 167,
   "id": "23d4aa8d",
   "metadata": {},
   "outputs": [],
   "source": [
    "def filter_template(func, L=[]):\n",
    "    result = []\n",
    "    for item in L :\n",
    "        if func(item):\n",
    "            result.append(item)\n",
    "    return result"
   ]
  },
  {
   "cell_type": "code",
   "execution_count": 169,
   "id": "f75d9e78",
   "metadata": {},
   "outputs": [
    {
     "data": {
      "text/plain": [
       "[1, 3, 5, 7, 9]"
      ]
     },
     "execution_count": 169,
     "metadata": {},
     "output_type": "execute_result"
    }
   ],
   "source": [
    "list_data = [1,2,3,4,5,6,7,8,9]\n",
    "def odd_chk(value):\n",
    "    return value%2 \n",
    "#    if value%2 :\n",
    "#        return True\n",
    "#    else:\n",
    "#        return False\n",
    "filter_template(lambda value : value%2, list_data)"
   ]
  },
  {
   "cell_type": "code",
   "execution_count": 171,
   "id": "8b21674b",
   "metadata": {},
   "outputs": [
    {
     "data": {
      "text/plain": [
       "[1, 3, 5, 7, 9]"
      ]
     },
     "execution_count": 171,
     "metadata": {},
     "output_type": "execute_result"
    }
   ],
   "source": [
    "# 리스트컴프리헨션\n",
    "[value for value in list_data if value%2!=0]"
   ]
  },
  {
   "cell_type": "code",
   "execution_count": 177,
   "id": "b0e5a8d6",
   "metadata": {},
   "outputs": [
    {
     "data": {
      "text/plain": [
       "[1, 3.0, 100, -2]"
      ]
     },
     "execution_count": 177,
     "metadata": {},
     "output_type": "execute_result"
    }
   ],
   "source": [
    "# 예제 : 다음 리스트에서 소수점 이하가 0인 수만 추출하시오(filter/리스트컴프리헨션)\n",
    "L = [1, 1.2, 1.5, 3.0, 10.5, 100,-2, -12.2]\n",
    "list(filter(lambda x : x%1==0, L))\n",
    "[value for value in L if value%1==0]"
   ]
  },
  {
   "cell_type": "markdown",
   "id": "eb200e74",
   "metadata": {},
   "source": [
    "### (3) sort"
   ]
  },
  {
   "cell_type": "code",
   "execution_count": 178,
   "id": "884d789e",
   "metadata": {},
   "outputs": [
    {
     "data": {
      "text/plain": [
       "[(1, 'one'), (2, 'two'), (3, 'three'), (4, 'four')]"
      ]
     },
     "execution_count": 178,
     "metadata": {},
     "output_type": "execute_result"
    }
   ],
   "source": [
    "# 무조건 0번째 item을 기준으로 오름차순 정렬\n",
    "pairs = [(2, 'two'), (1, 'one'), (3, 'three'), (4, 'four')]\n",
    "pairs.sort()\n",
    "pairs"
   ]
  },
  {
   "cell_type": "code",
   "execution_count": 180,
   "id": "86d7cd89",
   "metadata": {},
   "outputs": [
    {
     "data": {
      "text/plain": [
       "[(4, 'four'), (1, 'one'), (3, 'three'), (2, 'two')]"
      ]
     },
     "execution_count": 180,
     "metadata": {},
     "output_type": "execute_result"
    }
   ],
   "source": [
    "# 1번째 item 기준으로 내림차순 정렬\n",
    "pairs.sort(key=lambda data : data[1])\n",
    "pairs"
   ]
  },
  {
   "cell_type": "code",
   "execution_count": 182,
   "id": "27481863",
   "metadata": {},
   "outputs": [
    {
     "data": {
      "text/plain": [
       "[(2, 'two'), (3, 'three'), (1, 'one'), (4, 'four')]"
      ]
     },
     "execution_count": 182,
     "metadata": {},
     "output_type": "execute_result"
    }
   ],
   "source": [
    "pairs.sort(key=lambda data : data[1], reverse=True)\n",
    "pairs"
   ]
  },
  {
   "cell_type": "code",
   "execution_count": 200,
   "id": "e2ef8448",
   "metadata": {},
   "outputs": [
    {
     "data": {
      "text/plain": [
       "[[10, 200], [1, 100], [9, 9]]"
      ]
     },
     "execution_count": 200,
     "metadata": {},
     "output_type": "execute_result"
    }
   ],
   "source": [
    "# 합이 큰 순으로 정렬\n",
    "number_2d = [[9,9], [1,100], [10,200]]\n",
    "number_2d.sort(key=lambda items : sum(items), reverse =True)\n",
    "number_2d"
   ]
  },
  {
   "cell_type": "code",
   "execution_count": 203,
   "id": "e8a398d9",
   "metadata": {},
   "outputs": [],
   "source": [
    "students = [{'name' : '홍', 'score' : 99},\n",
    "           {'name' : '김', 'score' : 50},\n",
    "           {'name' : '박', 'score' : 77},\n",
    "           {'score' : 99}]"
   ]
  },
  {
   "cell_type": "code",
   "execution_count": 204,
   "id": "832aeaea",
   "metadata": {},
   "outputs": [
    {
     "data": {
      "text/plain": [
       "90"
      ]
     },
     "execution_count": 204,
     "metadata": {},
     "output_type": "execute_result"
    }
   ],
   "source": [
    "name_select = lambda data : data.get('score')\n",
    "name_select({'name':'홍', 'score':90})"
   ]
  },
  {
   "cell_type": "code",
   "execution_count": 208,
   "id": "f1e1be36",
   "metadata": {},
   "outputs": [
    {
     "data": {
      "text/plain": [
       "[{'score': 99},\n",
       " {'name': '김', 'score': 50},\n",
       " {'name': '박', 'score': 77},\n",
       " {'name': '홍', 'score': 99}]"
      ]
     },
     "execution_count": 208,
     "metadata": {},
     "output_type": "execute_result"
    }
   ],
   "source": [
    "# students를 name순으로 정렬(ㄱㄴㄷ 순)\n",
    "students.sort(key= lambda data : data.get('name', ' '))\n",
    "students"
   ]
  },
  {
   "cell_type": "code",
   "execution_count": 210,
   "id": "187d79bb",
   "metadata": {},
   "outputs": [
    {
     "data": {
      "text/plain": [
       "[{'score': 99},\n",
       " {'name': '홍', 'score': 99},\n",
       " {'name': '박', 'score': 77},\n",
       " {'name': '김', 'score': 50}]"
      ]
     },
     "execution_count": 210,
     "metadata": {},
     "output_type": "execute_result"
    }
   ],
   "source": [
    "# students를 score 큰 순 정렬\n",
    "students.sort(key= lambda data : data.get('score', ' '),reverse = True)\n",
    "students"
   ]
  },
  {
   "cell_type": "code",
   "execution_count": 221,
   "id": "57558d7f",
   "metadata": {},
   "outputs": [],
   "source": [
    "# 예제 : bokks 정렬(no, title, price)\n",
    "books = \\\n",
    "[{'no':2, 'title':'더트릭컬', 'writer': '폴빠','price':'19,800'},\n",
    "{'no':1, 'title':'흔한남매', 'writer':'백난도', 'price':'15,120'},\n",
    "{'no':3, 'title':'단 한 번의 삶', 'writer':'김영하', 'price':'15,120'},\n",
    "{'no':4, 'title':'가격잘못', 'writer':'홍길동', 'price':'ㅁ'},\n",
    "{'no':5, 'title':'가격이숫자', 'writer':'백난도', 'price':30200},\n",
    "{'no':6, 'title':'가격이없음', 'writer':'이길동'},] "
   ]
  },
  {
   "cell_type": "code",
   "execution_count": 226,
   "id": "5ad04d28",
   "metadata": {},
   "outputs": [
    {
     "data": {
      "text/plain": [
       "[{'no': 1, 'title': '흔한남매', 'writer': '백난도', 'price': '15,120'},\n",
       " {'no': 2, 'title': '더트릭컬', 'writer': '폴빠', 'price': '19,800'},\n",
       " {'no': 3, 'title': '단 한 번의 삶', 'writer': '김영하', 'price': '15,120'},\n",
       " {'no': 4, 'title': '가격잘못', 'writer': '홍길동', 'price': 'ㅁ'},\n",
       " {'no': 5, 'title': '가격이숫자', 'writer': '백난도', 'price': 30200},\n",
       " {'no': 6, 'title': '가격이없음', 'writer': '이길동'}]"
      ]
     },
     "execution_count": 226,
     "metadata": {},
     "output_type": "execute_result"
    }
   ],
   "source": [
    "books.sort(key= lambda data : data['no'])\n",
    "books"
   ]
  },
  {
   "cell_type": "code",
   "execution_count": 228,
   "id": "34e090cb",
   "metadata": {},
   "outputs": [
    {
     "data": {
      "text/plain": [
       "[{'no': 5, 'title': '가격이숫자', 'writer': '백난도', 'price': 30200},\n",
       " {'no': 6, 'title': '가격이없음', 'writer': '이길동'},\n",
       " {'no': 4, 'title': '가격잘못', 'writer': '홍길동', 'price': 'ㅁ'},\n",
       " {'no': 3, 'title': '단 한 번의 삶', 'writer': '김영하', 'price': '15,120'},\n",
       " {'no': 2, 'title': '더트릭컬', 'writer': '폴빠', 'price': '19,800'},\n",
       " {'no': 1, 'title': '흔한남매', 'writer': '백난도', 'price': '15,120'}]"
      ]
     },
     "execution_count": 228,
     "metadata": {},
     "output_type": "execute_result"
    }
   ],
   "source": [
    "books.sort(key = lambda data : data['title'])\n",
    "books"
   ]
  },
  {
   "cell_type": "code",
   "execution_count": 235,
   "id": "7e33deb0",
   "metadata": {},
   "outputs": [
    {
     "data": {
      "text/plain": [
       "0"
      ]
     },
     "execution_count": 235,
     "metadata": {},
     "output_type": "execute_result"
    }
   ],
   "source": [
    "def parse_int (price):\n",
    "    if isinstance(price,str) and price.replace(',','').isdigit():\n",
    "        return int(price.replace(',', ''))\n",
    "    elif isinstance(price,int):\n",
    "        return price\n",
    "    else:\n",
    "        return 0\n",
    "parse_int = lambda price : \\\n",
    "            int(price.replace(',','')\\\n",
    "                if isinstance(price,str) and price.replace(',','').isdigit() else \\\n",
    "            price if isinstance(price,int) else 0       )\n",
    "parse_int(None)"
   ]
  },
  {
   "cell_type": "code",
   "execution_count": 244,
   "id": "9f1044d3",
   "metadata": {},
   "outputs": [
    {
     "data": {
      "text/plain": [
       "15120"
      ]
     },
     "execution_count": 244,
     "metadata": {},
     "output_type": "execute_result"
    }
   ],
   "source": [
    "parse_int = lambda book : \\\n",
    "            int(book.get('price').replace(',','')\\\n",
    "                if isinstance(book.get('price'),str) and book.get('price').replace(',','').isdigit() else \\\n",
    "            price if isinstance(book.get('price'),int) else 0       )\n",
    "parse_int({'no': 1, 'title': '흔한남매', 'writer': '백난도', 'price': '15,120'})"
   ]
  },
  {
   "cell_type": "code",
   "execution_count": 247,
   "id": "e5c01559",
   "metadata": {},
   "outputs": [
    {
     "data": {
      "text/plain": [
       "0"
      ]
     },
     "execution_count": 247,
     "metadata": {},
     "output_type": "execute_result"
    }
   ],
   "source": [
    "def parse_int (price):\n",
    "    if str(price) and str(price).replace(',','').isdigit():\n",
    "        return int(str(price).replace(',', ''))\n",
    "    else:\n",
    "        return 0\n",
    "parse_int(None)"
   ]
  },
  {
   "cell_type": "code",
   "execution_count": 254,
   "id": "23ca7632",
   "metadata": {},
   "outputs": [
    {
     "data": {
      "text/plain": [
       "[{'no': 5, 'title': '가격이숫자', 'writer': '백난도', 'price': 30200},\n",
       " {'no': 2, 'title': '더트릭컬', 'writer': '폴빠', 'price': '19,800'},\n",
       " {'no': 3, 'title': '단 한 번의 삶', 'writer': '김영하', 'price': '15,120'},\n",
       " {'no': 1, 'title': '흔한남매', 'writer': '백난도', 'price': '15,120'},\n",
       " {'no': 6, 'title': '가격이없음', 'writer': '이길동'},\n",
       " {'no': 4, 'title': '가격잘못', 'writer': '홍길동', 'price': 'ㅁ'}]"
      ]
     },
     "execution_count": 254,
     "metadata": {},
     "output_type": "execute_result"
    }
   ],
   "source": [
    "copyBooks = books.copy() #복제\n",
    "copyBooks.sort(key= lambda book : \\\n",
    "            int(book.get('price').replace(',',''))\\\n",
    "                if isinstance(book.get('price'),str) and book.get('price').replace(',','').isdigit() else \\\n",
    "            book.get('price') if isinstance(book.get('price'), int) else \\\n",
    "                0,\n",
    "            reverse = True)\n",
    "copyBooks"
   ]
  },
  {
   "cell_type": "markdown",
   "id": "d4781eeb",
   "metadata": {},
   "source": [
    "# 5절. 파이썬 내장함수\n",
    "- import 하지 않고 바로 사용 가능한 함수\n",
    "- 키워드(if, while, ..)처럼 간주되므로, 식별자(변수명, 함수명, 클래스명)으로 사용하는 것을 피한다"
   ]
  },
  {
   "cell_type": "code",
   "execution_count": 261,
   "id": "bd0cfdc7",
   "metadata": {},
   "outputs": [],
   "source": [
    "a =10"
   ]
  },
  {
   "cell_type": "code",
   "execution_count": 262,
   "id": "2b2ddd6d",
   "metadata": {
    "collapsed": true
   },
   "outputs": [
    {
     "data": {
      "text/plain": [
       "{'__name__': '__main__',\n",
       " '__doc__': '\\n예제3 members2를 members1로 전환\\n',\n",
       " '__package__': None,\n",
       " '__loader__': None,\n",
       " '__spec__': None,\n",
       " '__builtin__': <module 'builtins' (built-in)>,\n",
       " '__builtins__': <module 'builtins' (built-in)>,\n",
       " '_ih': ['',\n",
       "  'def add(a,b):\\n    return a+b',\n",
       "  'add(1,2)',\n",
       "  'add2 = lambda a,b : a+b',\n",
       "  'add2(1,2)',\n",
       "  'add(1,2)',\n",
       "  '# ex1. 매개변수로 들어온 값이 짝수인지 홀수인지 return 함수를 람다식으로 만들어보시오',\n",
       "  '# ex2. 두 매개변수의 차이를 return하는 함수를 람다식으로 만들어보시오',\n",
       "  '# ex1. 매개변수로 들어온 값이 짝수인지 홀수인지 return하는 함수를 람다식으로 만들어보시오\\ndef even_odd_chk(num):\\n    if num%2:\\n        result = \"홀수\"\\n    else:\\n        result = \"짝수\"\\n    return result\\neven_odd_chk(5)',\n",
       "  '# ex1. 매개변수로 들어온 값이 짝수인지 홀수인지 return하는 함수를 람다식으로 만들어보시오\\ndef even_odd_chk(num):\\n    if num%2:\\n        result = \"홀수\"\\n    else:\\n        result = \"짝수\"\\n    return result\\neven_odd_chk(5), even_odd_chk(-4)',\n",
       "  '# ex1. 매개변수로 들어온 값이 짝수인지 홀수인지 return하는 함수를 람다식으로 만들어보시오\\ndef even_odd_chk(num):\\n    if num%2:\\n        result = \"홀수\"\\n    else:\\n        result = \"짝수\"\\n    return result\\neven_odd_chk(5), even_odd_chk(-5)',\n",
       "  '# ex1. 매개변수로 들어온 값이 짝수인지 홀수인지 return하는 함수를 람다식으로 만들어보시오\\ndef even_odd_chk(num):\\n    if num%2:\\n        result = \"홀수\"\\n    else:\\n        result = \"짝수\"\\n    return result\\neven_odd_chk(5), even_odd_chk(-4)',\n",
       "  '# ex1. 매개변수로 들어온 값이 짝수인지 홀수인지 return하는 함수를 람다식으로 만들어보시오\\ndef even_odd_chk(num):\\n    if num%2:\\n        result = \"홀수\"\\n    else:\\n        result = \"짝수\"\\n    return result\\neven_odd_chk(5), even_odd_chk(-4)\\neven_odd_chk2 = lambda num : num%2 ',\n",
       "  '# ex1. 매개변수로 들어온 값이 짝수인지 홀수인지 return하는 함수를 람다식으로 만들어보시오\\ndef even_odd_chk(num):\\n    if num%2:\\n        result = \"홀수\"\\n    else:\\n        result = \"짝수\"\\n    return result\\neven_odd_chk(5), even_odd_chk(-4)\\neven_odd_chk2 = lambda num : num%2 \\neven_ood_chk2(5)',\n",
       "  '# ex1. 매개변수로 들어온 값이 짝수인지 홀수인지 return하는 함수를 람다식으로 만들어보시오\\ndef even_odd_chk(num):\\n    if num%2:\\n        result = \"홀수\"\\n    else:\\n        result = \"짝수\"\\n    return result\\neven_odd_chk(5), even_odd_chk(-4)\\neven_odd_chk2 = lambda num : num%2 \\neven_odd_chk2(5)',\n",
       "  '# ex1. 매개변수로 들어온 값이 짝수인지 홀수인지 return하는 함수를 람다식으로 만들어보시오\\ndef even_odd_chk(num):\\n#    if num%2:\\n#        result = \"홀수\"\\n#    else:\\n#        result = \"짝수\"\\n    return = \"홀수\" if num%2 else \"짝수\"\\neven_odd_chk2 = lambda num : \"홀수\" if num%2 else \"짝수\"',\n",
       "  '# ex1. 매개변수로 들어온 값이 짝수인지 홀수인지 return하는 함수를 람다식으로 만들어보시오\\ndef even_odd_chk(num):\\n#    if num%2:\\n#        result = \"홀수\"\\n#    else:\\n#        result = \"짝수\"\\n    return  \"홀수\" if num%2 else \"짝수\"\\neven_odd_chk2 = lambda num : \"홀수\" if num%2 else \"짝수\"\\neven_odd_chk2(5)',\n",
       "  '# ex2. 두 매개변수의 차이를 return하는 함수를 람다식으로 만들어보시오\\ndef sub1(a,b):\\n    return a-b\\nsub2 = lambda a,b : a-b\\nsub2(1,5)',\n",
       "  '# ex2. 두 매개변수의 차이를 return하는 함수를 람다식으로 만들어보시오\\ndef sub1(a,b):\\n    return a-b\\nsub2 = lambda a,b : a-b if a>b else b-a\\nsub2(1,5)',\n",
       "  \"# ex3. 매개변수로 잔액을 받아, 잔액이 양수면 잔액을 return, 음수면 'negative'\\nex3 = lambda balance : balance if balance >=0 else 'negative'\\nex3(1)\",\n",
       "  \"# ex3. 매개변수로 잔액을 받아, 잔액이 0이상이면 잔액을 return, 음수면 'negative'\\nex3 = lambda balance : balance if balance >=0 else 'negative'\\nex3(-1)\",\n",
       "  \"# ex4. 정수를 입력받아 80점 이상은 'A팀', 60점 이상은 'B팀', 60점 미만은 '재시험'\\n                    #100점 촤과, 0점미만은 '유효하지 않음'을 return\\nex4 = lambda score : score if 100>=score>=80 'A팀' elif 80>score>>=60 'B팀' elif 60>score>=0 '재시험'else '유효하지 않음'\",\n",
       "  \"# ex4. 정수를 입력받아 80점 이상은 'A팀', 60점 이상은 'B팀', 60점 미만은 '재시험'\\n                    #100점 촤과, 0점미만은 '유효하지 않음'을 return\\nex4 = lambda score : score if 100>=score>=80 'A팀' elif 80>score>>=60 'B팀' elif 60>score>=0 '재시험' else '유효하지 않음'\",\n",
       "  \"# ex4. 정수를 입력받아 80점 이상은 'A팀', 60점 이상은 'B팀', 60점 미만은 '재시험'\\n                    #100점 촤과, 0점미만은 '유효하지 않음'을 return\\nex4 = lambda score : 'A팀' if 100>=score>=80 'A팀' elif 80>score>>=60 'B팀' elif 60>score>=0 '재시험' else '유효하지 않음'\",\n",
       "  \"# ex4. 정수를 입력받아 80점 이상은 'A팀', 60점 이상은 'B팀', 60점 미만은 '재시험'\\n                    #100점 촤과, 0점미만은 '유효하지 않음'을 return\\nex4 = lambda score : 'A팀' if 100>=score>=80 'A팀' else 80>score>>=60 'B팀' else 60>score>=0 '재시험' else '유효하지 않음'\",\n",
       "  \"# ex4. 정수를 입력받아 80점 이상은 'A팀', 60점 이상은 'B팀', 60점 미만은 '재시험'\\n                    #100점 촤과, 0점미만은 '유효하지 않음'을 return\\nex4 = lambda score : 'A팀' if 100>=score>=80 'A팀' else if 80>score>>=60 'B팀' else if 60>score>=0 '재시험' else '유효하지 않음'\",\n",
       "  \"# ex4. 정수를 입력받아 80점 이상은 'A팀', 60점 이상은 'B팀', 60점 미만은 '재시험'\\n                    #100점 촤과, 0점미만은 '유효하지 않음'을 return\\nex4 = lambda score : score if 100>=score>=80 'A팀' else if 80>score>>=60 'B팀' else if 60>score>=0 '재시험' else '유효하지 않음'\",\n",
       "  \"# ex4. 정수를 입력받아 80점 이상은 'A팀', 60점 이상은 'B팀', 60점 미만은 '재시험'\\n                    #100점 촤과, 0점미만은 '유효하지 않음'을 return\\nex4 = lambda score : score if 100>= score >=80 'A팀' else if 80>score>>=60 'B팀' else if 60>score>=0 '재시험' else '유효하지 않음'\",\n",
       "  \"# ex4. 정수를 입력받아 80점 이상은 'A팀', 60점 이상은 'B팀', 60점 미만은 '재시험'\\n                    #100점 촤과, 0점미만은 '유효하지 않음'을 return\\nex4 = lambda score : score if 100>= score >=80 'A팀' else 80>score>>=60 'B팀' \",\n",
       "  \"# ex4. 정수를 입력받아 80점 이상은 'A팀', 60점 이상은 'B팀', 60점 미만은 '재시험'\\n                    #100점 촤과, 0점미만은 '유효하지 않음'을 return\\nex4 = lambda score : score if 100>= score >=80 'A팀' else 'B팀' \",\n",
       "  \"# ex4. 정수를 입력받아 80점 이상은 'A팀', 60점 이상은 'B팀', 60점 미만은 '재시험'\\n                    #100점 촤과, 0점미만은 '유효하지 않음'을 return\\nex4 = lambda score : 'A팀' if 100>= score >=80  else 'B팀' \",\n",
       "  \"# ex4. 정수를 입력받아 80점 이상은 'A팀', 60점 이상은 'B팀', 60점 미만은 '재시험'\\n                    #100점 촤과, 0점미만은 '유효하지 않음'을 return\\ndef levelChk(score):\\n    if 80<=score<=100:\\n        result = 'A팀'\\n    elif 60<=score<80:\\n        result = 'B팀'\\n    elif 0<=score<60:\\n        result = '재시험'\\n    else :\\n        result = '유효하지 않음'\\n    return result\\nex4 = lambda score : 'A팀' if 100>= score >=80  else 'B팀' \",\n",
       "  \"# ex4. 정수를 입력받아 80점 이상은 'A팀', 60점 이상은 'B팀', 60점 미만은 '재시험'\\n                    #100점 촤과, 0점미만은 '유효하지 않음'을 return\\ndef levelChk(score):\\n    if 80<=score<=100:\\n        result = 'A팀'\\n    elif 60<=score<80:\\n        result = 'B팀'\\n    elif 0<=score<60:\\n        result = '재시험'\\n    else :\\n        result = '유효하지 않음'\\n    return result\\nex4 = lambda score : 'A팀' if 100>= score >=80  else \\\\\\n                      'B팀' if 60<= score <80 else \\\\\\n                      '재시험' if 0<= score < 60 else '재시험'\",\n",
       "  'ex4(101)',\n",
       "  'ex4(99)',\n",
       "  \"# ex4. 정수를 입력받아 80점 이상은 'A팀', 60점 이상은 'B팀', 60점 미만은 '재시험'\\n                    #100점 촤과, 0점미만은 '유효하지 않음'을 return\\ndef levelChk(score):\\n    if 80<=score<=100:\\n        result = 'A팀'\\n    elif 60<=score<80:\\n        result = 'B팀'\\n    elif 0<=score<60:\\n        result = '재시험'\\n    else :\\n        result = '유효하지 않음'\\n    return result\\nex4 = lambda score : 'A팀' if 100>= score >=80  else \\\\\\n                      'B팀' if 60<= score <80 else \\\\\\n                      '재시험' if 0<= score < 60 else \\\\\\n                      '유효하지 않음'\",\n",
       "  \"# ex4. 정수를 입력받아 80점 이상은 'A팀', 60점 이상은 'B팀', 60점 미만은 '재시험'\\n                    #100점 촤과, 0점미만은 '유효하지 않음'을 return\\ndef levelChk(score):\\n    if 80<=score<=100:\\n        result = 'A팀'\\n    elif 60<=score<80:\\n        result = 'B팀'\\n    elif 0<=score<60:\\n        result = '재시험'\\n    else :\\n        result = '유효하지 않음'\\n    return result\\nex4 = lambda score : 'A팀' if 100>= score >=80  else \\\\\\n                      'B팀' if 60<= score <80 else \\\\\\n                      '재시험' if 0<= score < 60 else \\\\\\n                      '유효하지 않음'\\nex4(99), ex4(101), ex4(-1)\",\n",
       "  \"# 점수를 입력받아 학점을 return \\nscore_grade = lambda score : 'A학점' if 100>= score >=90  else \\\\\\n                              'B학점' if 80<= score <90 else \\\\\\n                              'C학점' if 70<= score < 80 else \\\\\\n                              'D학점' if 60<= score < 70 else \\\\\\n                              'F학점' if 0<= score < 60 else \\\\\\n                              '유효하지 않음' \",\n",
       "  \"# 점수를 입력받아 학점을 return \\nscore_grade = lambda score : 'A학점' if 100>= score >=90  else \\\\\\n                              'B학점' if 80<= score <90 else \\\\\\n                              'C학점' if 70<= score < 80 else \\\\\\n                              'D학점' if 60<= score < 70 else \\\\\\n                              'F학점' if 0<= score < 60 else \\\\\\n                              '유효하지 않음' \\nscore_grade(60), score_grade(120)\",\n",
       "  '#1번. 함수의 인자로 리스트를 받은 후 리스트 내에 있는 모든 정수값에 대한 최대값과 최소값을 리턴하는 함수를 작성하세요',\n",
       "  '# ex5 safe_index함수를 람다식으로\\ndef safe_index(lst, item, start=0):\\n    return lst.index(item, start) if item in lst[start:] else -1\\nex5 = lambda lst, item, start = 0 : lst.index(item, start) if item in lst[start:] else -1',\n",
       "  '# ex5 safe_index함수를 람다식으로\\ndef safe_index(lst, item, start=0):\\n    return lst.index(item, start) if item in lst[start:] else -1\\nex5 = lambda lst, item, start = 0 : lst.index(item, start) if item in lst[start:] else -1\\nlst = [1,2,3]\\nsafe_index(lst,4), ex5(lst,3, 1)',\n",
       "  \"#2번. 체질량 지수(Body Mass Index, BMI)는 체중과 키를 이용해 비만도를 나타내는 지수로 아래의 수식에 의해 계산됩니다.\\n#     함수의 인자로 체중(kg)과 신장(m)를 입력받은 후 BMI값에 따라 '마른체형','표준','비만','고도비만' 중 하나의 상테를\\n#     출력하는 함수를 구현해 보세요\",\n",
       "  '#3번. 직각삼각형의 밑변과 높이를 입력받은 후 삼각형의 면적과 둘레를 계산하는 함수를 작성하세요.',\n",
       "  '#4번. 함수의 인자로 시작과 끝 숫자가 주어질 때 시작부터 끝까지의 모든 정수값의 합을 리턴하는 함수를 작성하세요.',\n",
       "  '#5번. 함수의 인자로 문자열을 포함하는 리스트가 입력될 때 각 문자열의 첫 세글자로만 구성된 리스트를 리턴하는 함수와 람닥실을\\n#    작성하세요.',\n",
       "  '#6. 다음 코드를 람다 함수 형태로 수정할 때 알맞은 코드를 작성하시오.',\n",
       "  '#7. ex =[1,2,3,4,5]를 [1,4,9,16,25]의 결과를 얻을 수 있도록 람다함수와 map()함수를 사용하여 구현과 리스트 컴프리헨션으로\\n#   구하시오.',\n",
       "  '#9번. 다음 코드의 실행 결과는?',\n",
       "  '#10번. n개의 벡터(리스트나 튜플, 셋등)들의 크기가 같은지 여부를 return하는\\n#     vector_size_check(*vector_var)를 한 줄의 코드(리스트 컴프리헨션 이용)로 작성하시오.',\n",
       "  \"# 람다식을 list에 들어갈 수 있음\\nadd = lambda a, b : a + b\\nsub = lambda a, b : a - b\\nmul = lambda a, b : a * b\\ndiv = lambda a, b : a / b if b else '두번째 인자가 0이면 못 나눔'\\noperations = [add, sub, mul, div] #사칙연산 함수들\\n\\ndef act_opertions(a, b, operations = operations) : # a,b의 사칙연산 결과를 return\\n    result = []\\n    for op in operations :\\n        result.append(op(a, b))\\n    return result\\n\\nact_opertions(20, 5)\",\n",
       "  'operations.append(lambda x, y : x**y)\\nlen(operations)',\n",
       "  'act_opertions(8, 2)',\n",
       "  '#11번. 다음과 같은 결과를 얻기 위해 하나의 스칼라값을 리스트나 튜플, 셋등 벡터에 곱하는 코드를 작성하시오.',\n",
       "  '#1번. 다음 코드의 실행 결과는?',\n",
       "  '#2번. 함수 영역과 변수들의 참조 영역에 따른 동작을 보여주기 위한 문제입니다. 오류가 발생하는 라인을 찾고\\n#    문제를 해결하기 위한 코드를 작성하며, 실행 결과를 쓰세요.',\n",
       "  '#3번. 다음 구문을 실행한 결과는',\n",
       "  '#4번. 다음 구문의 실행 결과는?',\n",
       "  '#5번. 다음 구문의 실행 결과는?',\n",
       "  '#6번. 파이썬 함수에 대한 설명 중 잘못된 것은?',\n",
       "  '#7번. 다음과 같은 구문이 있을 경우 오류가 발생하는 함수 호출은?',\n",
       "  '#8번. 다음 보기가 설명하는 것을 작성하기 위한 키워드를 쓰세요.(영문 소문자로 쓰세요)',\n",
       "  'map_template(lambda a:a, [1,2,3])',\n",
       "  'def map_template(func, L=[]):\\n    result = []\\n    for item in L:\\n        result.appemd(item)\\n    return result',\n",
       "  'map_template(lambda a:a, [1,2,3])',\n",
       "  'def map_template(func, L=[]):\\n    result = []\\n    for item in L:\\n        result.append(item)\\n    return result',\n",
       "  'map_template(lambda a:a, [1,2,3])',\n",
       "  'def map_template(func, L=[]):\\n    result = []\\n    for item in L:\\n        result.append(func(item))\\n    return result',\n",
       "  'map_template(lambda a:a, [1,2,3])',\n",
       "  'list_dat = [1,2,3,4,5,6,7,8,9]\\ndef x_2(x):\\n    return x*2\\nmap_template(x_2, list_data)',\n",
       "  'list_data = [1,2,3,4,5,6,7,8,9]\\ndef x_2(x):\\n    return x*2\\nmap_template(x_2, list_data)',\n",
       "  'def map_template(func, L=[]):\\n    result = []\\n    for item in L:\\n        result.append(func(item))\\n    return result',\n",
       "  'list_data = [1,2,3,4,5,6,7,8,9]\\ndef x_2(x):\\n    return x*2\\nmap_template(x_2, list_data)',\n",
       "  'list_data = [1,2,3,4,5,6,7,8,9]\\ndef x_2(x):\\n    return x*2\\nmap_template(x_2, list_data)',\n",
       "  'list_data = [1,2,3,4,5,6,7,8,9]\\ndef x_2(x):\\n#    return x*2\\n#map_template(x_2, list_data)\\nx_2= lamabda x : x*2',\n",
       "  'list_data = [1,2,3,4,5,6,7,8,9]\\ndef x_2(x):\\n#    return x*2\\n#map_template(x_2, list_data)\\nx_2= lambda x : x*2',\n",
       "  'list_data = [1,2,3,4,5,6,7,8,9]\\ndef x_2(x):\\n#    return x*2\\n#map_template(x_2, list_data)\\nx_2 = lambda x : x*2',\n",
       "  'list_data = [1,2,3,4,5,6,7,8,9]\\n#def x_2(x):\\n#    return x*2\\nmap_template(x_2, list_data)\\nx_2 = lambda x : x*2',\n",
       "  'map_template(lambda x:x*2, list_data)',\n",
       "  'list_data = [1,2,3,4,5,6,7,8,9]\\n#def x_2(x):\\n#    return x*2\\nmap_template(x_2, list_data)\\nx_2 = lambda x : x*2',\n",
       "  'map_template(lambda x:x*2, list_data)',\n",
       "  'list_data = [1,2,3,4,5,6,7,8,9]\\n#def x_2(x):\\n#    return x*2\\nx_2 = lambda x : x*2\\nmap_template(x_2, list_data)',\n",
       "  '# 리스트 컴프리헨션\\n[item*2 for item in lst_data]',\n",
       "  '# 리스트 컴프리헨션\\n[item*2 for item in list_data]',\n",
       "  'map(lambda x; x*2, list_data)',\n",
       "  'map(lambda x ; x*2, list_data)',\n",
       "  'map(lambda x : x*2, list_data)',\n",
       "  'map(lambda x : x*2, list_data)',\n",
       "  'map(lambda x : x*2 , list_data)',\n",
       "  'list(map(lambda x : x*2 , list_data))',\n",
       "  \"for data in map(lambda x:x*2, list_data):\\n    print(data, end = ' ')\",\n",
       "  \"'''\\n예제 1 prices = ['5,000', '5000', '6,000', '1000','5,000', '5000', '6,000', '1000’]를 [5000,5000,6000,1000]식으로 바꾸시오\\n'''\\nprices = ['5,000', '5000', '6,000', '1000','5,000', '5000', '6,000', '1000']\\nprices_int = [5000, 5000, 6000, 1000]\",\n",
       "  \"'''\\n예제 1 prices = ['5,000', '5000', '6,000', '1000','5,000', '5000', '6,000', '1000’]를 [5000,5000,6000,1000]식으로 바꾸시오\\n'''\\nprices = ['5,000', '5000', '6,000', '1000','5,000', '5000', '6,000', '1000']\\nmap(lambda x : x, prices)\",\n",
       "  \"'''\\n예제 1 prices = ['5,000', '5000', '6,000', '1000','5,000', '5000', '6,000', '1000’]를 [5000,5000,6000,1000]식으로 바꾸시오\\n'''\\nprices = ['5,000', '5000', '6,000', '1000','5,000', '5000', '6,000', '1000']\\nlist(map(lambda x : x, prices))\",\n",
       "  \"'''\\n예제 1 prices = ['5,000', '5000', '6,000', '1000','5,000', '5000', '6,000', '1000’]를 [5000,5000,6000,1000]식으로 바꾸시오\\n'''\\nprices = ['5,000', '5000', '6,000', '1000','5,000', '5000', '6,000', '1000']\\nreplace(map(lambda x : x, prices))\",\n",
       "  \"'''\\n예제 1 prices = ['5,000', '5000', '6,000', '1000','5,000', '5000', '6,000', '1000’]를 [5000,5000,6000,1000]식으로 바꾸시오\\n'''\\nprices = ['5,000', '5000', '6,000', '1000','5,000', '5000', '6,000', '1000']\\ndef toint(value):\\n    return int(value.replace(',',''))\\ntoint(prices)\",\n",
       "  \"'''\\n예제 1 prices = ['5,000', '5000', '6,000', '1000','5,000', '5000', '6,000', '1000’]를 [5000,5000,6000,1000]식으로 바꾸시오\\n'''\\nprices = ['5,000', '5000', '6,000', '1000','5,000', '5000', '6,000', '1000']\\ndef toint(value):\\n    return int(value.replace(',',''))\\ntoint('500000')\",\n",
       "  \"'''\\n예제 1 prices = ['5,000', '5000', '6,000', '1000','5,000', '5000', '6,000', '1000’]를 [5000,5000,6000,1000]식으로 바꾸시오\\n'''\\nprices = ['5,000', '5000', '6,000', '1000','5,000', '5000', '6,000', '1000']\\ndef toint(value):\\n    return int(value.replace(',',''))\\ntoint('500,000')\",\n",
       "  \"'''\\n예제 1 prices = ['5,000', '5000', '6,000', '1000','5,000', '5000', '6,000', '1000’]를 [5000,5000,6000,1000]식으로 바꾸시오\\n'''\\nprices = ['5,000', '5000', '6,000', '1000','5,000', '5000', '6,000', '1000']\\n#def toint(value):\\n#    return int(value.replace(',',''))\\n#toint('500,000')\\nmap(lambda value : int(value.replace(',',''), prices))\",\n",
       "  \"'''\\n예제 1 prices = ['5,000', '5000', '6,000', '1000','5,000', '5000', '6,000', '1000’]를 [5000,5000,6000,1000]식으로 바꾸시오\\n'''\\nprices = ['5,000', '5000', '6,000', '1000','5,000', '5000', '6,000', '1000']\\n#def toint(value):\\n#    return int(value.replace(',',''))\\n#toint('500,000')\\nmap(lambda value : int(value.replace(',','')),prices)\",\n",
       "  \"'''\\n예제 1 prices = ['5,000', '5000', '6,000', '1000','5,000', '5000', '6,000', '1000’]를 [5000,5000,6000,1000]식으로 바꾸시오\\n'''\\nprices = ['5,000', '5000', '6,000', '1000','5,000', '5000', '6,000', '1000']\\n#def toint(value):\\n#    return int(value.replace(',',''))\\n#toint('500,000')\\nprices_int = map(lambda value : int(value.replace(',','')),prices)\\nfor price in prices_int:\\n    print(price, end = ' ')\",\n",
       "  \"'''\\n예제 1 prices = ['5,000', '5000', '6,000', '1000','5,000', '5000', '6,000', '1000’]를 [5000,5000,6000,1000]식으로 바꾸시오\\n'''\\nprices = ['5,000', '5000', '6,000', '1000','5,000', '5000', '6,000', '1000']\\n#def toint(value):\\n#    return int(value.replace(',',''))\\n#toint('500,000')\\nprices_int = map(lambda value : int(sorted.value.replace(',','')),prices)\\nfor price in prices_int:\\n    print(price, end = ' ')\",\n",
       "  \"'''\\n예제 1 prices = ['5,000', '5000', '6,000', '1000','5,000', '5000', '6,000', '1000’]를 [5000,5000,6000,1000]식으로 바꾸시오\\n'''\\nprices = ['5,000', '5000', '6,000', '1000','5,000', '5000', '6,000', '1000']\\n#def toint(value):\\n#    return int(value.replace(',',''))\\n#toint('500,000')\\nprices_int = map(lambda value : int(sort.value.replace(',','')),prices)\\nfor price in prices_int:\\n    print(price, end = ' ')\",\n",
       "  \"'''\\n예제 1 prices = ['5,000', '5000', '6,000', '1000','5,000', '5000', '6,000', '1000’]를 [5000,5000,6000,1000]식으로 바꾸시오\\n'''\\nprices = ['5,000', '5000', '6,000', '1000','5,000', '5000', '6,000', '1000']\\n#def toint(value):\\n#    return int(value.replace(',',''))\\n#toint('500,000')\\nprices_int = map(lambda value : int(value.replace(',','')),prices)\\n\\nfor price in prices_int:\\n    print(sorted.price, end = ' ')\",\n",
       "  \"'''\\n예제 1 prices = ['5,000', '5000', '6,000', '1000','5,000', '5000', '6,000', '1000’]를 [5000,5000,6000,1000]식으로 바꾸시오\\n'''\\nprices = ['5,000', '5000', '6,000', '1000','5,000', '5000', '6,000', '1000']\\n#def toint(value):\\n#    return int(value.replace(',',''))\\n#toint('500,000')\\nprices_int = map(lambda value : int(value.replace(',','')),prices)\\n\\nfor price in prices_int:\\n    print(price, end = ' ')\",\n",
       "  '\\'\\'\\'\\n예제 2\\nmembers1 = [{\\'name\\':\\'홍길동\\', \\'birth\\':\\'2000-01-01’},\\n{\\'name\\':\\'신길동\\', \\'birth\\':\\'1995-12-18\\'},]를\\nmembers2 = [\\n{\\'name\\':\\'홍길동\\', \\'year\\':2000, \\'month\\':1,\\'day\\':1},\\n{\\'name\\':\\'신길동\\', \\'year\\':1995, \\'month\\':12, \\'day\\':18},] 변환\\n\\'\\'\\'\\nmembers1 = [{\\'name\\':\\'홍길동\\', \\'birth\\':\\'2000-01-01\\'},{\\'name\\':\\'신길동\\', \\'birth\\':\\'1995-12-18\\'}]\\n# \\'2000-01-01\\' => {\\'year\\' : 2000, \\'month\\' : 1, \\'day\\':1}\\ndef func2 (**args) :\\n    for key, value in args.items():\\n        print(\"{}:{}\".format(key,value))\\nfun2()\\n    ',\n",
       "  '\\'\\'\\'\\n예제 2\\nmembers1 = [{\\'name\\':\\'홍길동\\', \\'birth\\':\\'2000-01-01’},\\n{\\'name\\':\\'신길동\\', \\'birth\\':\\'1995-12-18\\'},]를\\nmembers2 = [\\n{\\'name\\':\\'홍길동\\', \\'year\\':2000, \\'month\\':1,\\'day\\':1},\\n{\\'name\\':\\'신길동\\', \\'year\\':1995, \\'month\\':12, \\'day\\':18},] 변환\\n\\'\\'\\'\\nmembers1 = [{\\'name\\':\\'홍길동\\', \\'birth\\':\\'2000-01-01\\'},{\\'name\\':\\'신길동\\', \\'birth\\':\\'1995-12-18\\'}]\\n# \\'2000-01-01\\' => {\\'year\\' : 2000, \\'month\\' : 1, \\'day\\':1}\\ndef func2 (**args) :\\n    for key, value in args.items():\\n        print(\"{}:{}\".format(key,value))\\nfun2(name = \\'홍길동\\', age = 30, tel = \\'010-0000-0000\\', address = \\'서울 관악구\\', width=300, color=\\'red\\')\\n    ',\n",
       "  '\\'\\'\\'\\n예제 2\\nmembers1 = [{\\'name\\':\\'홍길동\\', \\'birth\\':\\'2000-01-01’},\\n{\\'name\\':\\'신길동\\', \\'birth\\':\\'1995-12-18\\'},]를\\nmembers2 = [\\n{\\'name\\':\\'홍길동\\', \\'year\\':2000, \\'month\\':1,\\'day\\':1},\\n{\\'name\\':\\'신길동\\', \\'year\\':1995, \\'month\\':12, \\'day\\':18},] 변환\\n\\'\\'\\'\\nmembers1 = [{\\'name\\':\\'홍길동\\', \\'birth\\':\\'2000-01-01\\'},{\\'name\\':\\'신길동\\', \\'birth\\':\\'1995-12-18\\'}]\\n# \\'2000-01-01\\' => {\\'year\\' : 2000, \\'month\\' : 1, \\'day\\':1}\\ndef func2 (**args) :\\n    for key, value in args.items():\\n        print(\"{}:{}\".format(key,value))\\nfunc2(name = \\'홍길동\\', age = 30, tel = \\'010-0000-0000\\', address = \\'서울 관악구\\', width=300, color=\\'red\\')\\n    ',\n",
       "  \"'''\\n예제 2\\nmembers1 = [{'name':'홍길동', 'birth':'2000-01-01’},\\n{'name':'신길동', 'birth':'1995-12-18'},]를\\nmembers2 = [\\n{'name':'홍길동', 'year':2000, 'month':1,'day':1},\\n{'name':'신길동', 'year':1995, 'month':12, 'day':18},] 변환\\n'''\\nmembers1 = [{'name':'홍길동', 'birth':'2000-01-01'},{'name':'신길동', 'birth':'1995-12-18'}]\\n# '2000-01-01' => {'year' : 2000, 'month' : 1, 'day':1}\\ndef split_date(date):\\n    split_date = date.split('-')\\n    return split_date\\nsplit_dat('2025-01-01')\\n    \",\n",
       "  \"'''\\n예제 2\\nmembers1 = [{'name':'홍길동', 'birth':'2000-01-01’},\\n{'name':'신길동', 'birth':'1995-12-18'},]를\\nmembers2 = [\\n{'name':'홍길동', 'year':2000, 'month':1,'day':1},\\n{'name':'신길동', 'year':1995, 'month':12, 'day':18},] 변환\\n'''\\nmembers1 = [{'name':'홍길동', 'birth':'2000-01-01'},{'name':'신길동', 'birth':'1995-12-18'}]\\n# '2000-01-01' => {'year' : 2000, 'month' : 1, 'day':1}\\ndef split_date(date):\\n    split_date = date.split('-')\\n    return split_date\\nsplit_date('2025-01-01')\\n    \",\n",
       "  \"'''\\n예제 2\\nmembers1 = [{'name':'홍길동', 'birth':'2000-01-01’},\\n{'name':'신길동', 'birth':'1995-12-18'},]를\\nmembers2 = [\\n{'name':'홍길동', 'year':2000, 'month':1,'day':1},\\n{'name':'신길동', 'year':1995, 'month':12, 'day':18},] 변환\\n'''\\nmembers1 = [{'name':'홍길동', 'birth':'2000-01-01'},{'name':'신길동', 'birth':'1995-12-18'}]\\n# '2000-01-01' => {'year' : 2000, 'month' : 1, 'day':1}\\ndef split_date(date):\\n    split_date = date.split('-')\\n    return {\\n            'year':int(split_date[0]),\\n            'month':int(split_date[1]),\\n            'day' : int(split_date[2])\\n    }\\nsplit_date('2025-01-01'), split_date('1995-12-21')\\n    \",\n",
       "  \"'''\\n예제 2\\nmembers1 = [{'name':'홍길동', 'birth':'2000-01-01’},\\n{'name':'신길동', 'birth':'1995-12-18'},]를\\nmembers2 = [\\n{'name':'홍길동', 'year':2000, 'month':1,'day':1},\\n{'name':'신길동', 'year':1995, 'month':12, 'day':18},] 변환\\n'''\\nmembers1 = [{'name':'홍길동', 'birth':'2000-01-01'},{'name':'신길동', 'birth':'1995-12-18'}]\\n# '2000-01-01' => {'year' : 2000, 'month' : 1, 'day':1}\\ndef split_date(date):\\n    split_date = date.split('-')\\n    return {\\n            'year':int(split_date[0]),\\n            'month':int(split_date[1]),\\n            'day' : int(split_date[2])\\n    }\\nsplit_date('2025-01-01'), split_date('1995-12-21')\\n    \",\n",
       "  \"def split_date(date):\\n    return {\\n            'year':int(split_date[0]),\\n            'month':int(split_date[1]),\\n            'day' : int(split_date[2])\\n    }\\nsplit_date('2025-01-01'), split_date('1995-12-21')\\nmap(lambda date : int(date.split('-')), 'year', 'month', 'day')\",\n",
       "  \"def split_date(date):\\n    return {\\n            'year':int(split_date[0]),\\n            'month':int(split_date[1]),\\n            'day' : int(split_date[2])\\n    }\\nsplit_date('2025-01-01'), split_date('1995-12-21')\\nmap(lambda date : int(date.split('-')[]), 'year', 'month', 'day')\",\n",
       "  \"def split_date(date):\\n    return {\\n            'year':int(split_date[0]),\\n            'month':int(split_date[1]),\\n            'day' : int(split_date[2])\\n    }\\nsplit_date('2025-01-01'), split_date('1995-12-21')\\nmap(lambda date : int(date.split('-')[0]), 'year', 'month', 'day')\",\n",
       "  \"split_date = date.splint('-')\\nmap(lambda date : int(splite_date[]), 'year', 'month', 'day')\",\n",
       "  \"split_date = date.splint('-')\\nmap(lambda date : int(split_date[]), 'year', 'month', 'day')\",\n",
       "  \"split_date = date.splint('-')\\nmap(lambda date : int(split_date), ['year', 'month', 'day'])\",\n",
       "  \"split_date = date.split('-')\\nmap(lambda date : int(split_date), ['year', 'month', 'day'])\",\n",
       "  \"split_date = date.split('-')\\nmap(lambda date : int(split_date[]), ['year', 'month', 'day'])\",\n",
       "  \"split_date = date.split('-')\\nmap(lambda date : int(split_date), ['year', 'month', 'day'])\",\n",
       "  \"'''\\n예제 2\\nmembers1 = [{'name':'홍길동', 'birth':'2000-01-01’},\\n{'name':'신길동', 'birth':'1995-12-18'},]를\\nmembers2 = [\\n{'name':'홍길동', 'year':2000, 'month':1,'day':1},\\n{'name':'신길동', 'year':1995, 'month':12, 'day':18},] 변환\\n'''\\nmembers1 = [{'name':'홍길동', 'birth':'2000-01-01'},{'name':'신길동', 'birth':'1995-12-18'}]\\n# '2000-01-01' => {'year' : 2000, 'month' : 1, 'day':1}\\ndef split_date(date):\\n    split_date = date.split('-')\\n        return {\\n            'year':int(split_date[0]),\\n            'month':int(split_date[1]),\\n            'day' : int(split_date[2])\\n    }\\nsplit_date('2025-01-01'), split_date('1995-12-21')\\n    \",\n",
       "  \"'''\\n예제 2\\nmembers1 = [{'name':'홍길동', 'birth':'2000-01-01’},\\n{'name':'신길동', 'birth':'1995-12-18'},]를\\nmembers2 = [\\n{'name':'홍길동', 'year':2000, 'month':1,'day':1},\\n{'name':'신길동', 'year':1995, 'month':12, 'day':18},] 변환\\n'''\\nmembers1 = [{'name':'홍길동', 'birth':'2000-01-01'},{'name':'신길동', 'birth':'1995-12-18'}]\\n# '2000-01-01' => {'year' : 2000, 'month' : 1, 'day':1}\\ndef split_date(date):\\n    split_date = date.split('-')\\n        return {\\n            'year':int(split_date[0]),\\n            'month':int(split_date[1]),\\n            'day' : int(split_date[2])\\n    }\\nsplit_date('2025-01-01'), split_date('1995-12-21')\\n    \",\n",
       "  \"'''\\n예제 2\\nmembers1 = [{'name':'홍길동', 'birth':'2000-01-01’},\\n{'name':'신길동', 'birth':'1995-12-18'},]를\\nmembers2 = [\\n{'name':'홍길동', 'year':2000, 'month':1,'day':1},\\n{'name':'신길동', 'year':1995, 'month':12, 'day':18},] 변환\\n'''\\nmembers1 = [{'name':'홍길동', 'birth':'2000-01-01'},{'name':'신길동', 'birth':'1995-12-18'}]\\n# '2000-01-01' => {'year' : 2000, 'month' : 1, 'day':1}\\ndef split_date(date):\\n    split_date = date.split('-')\\n        return {\\n            'year':int(split_date[0]),\\n            'month':int(split_date[1]),\\n            'day' : int(split_date[2])\\n    }\\n    \\nsplit_date('2025-01-01'), split_date('1995-12-21')\\n    \",\n",
       "  \"'''\\n예제 2\\nmembers1 = [{'name':'홍길동', 'birth':'2000-01-01’},\\n{'name':'신길동', 'birth':'1995-12-18'},]를\\nmembers2 = [\\n{'name':'홍길동', 'year':2000, 'month':1,'day':1},\\n{'name':'신길동', 'year':1995, 'month':12, 'day':18},] 변환\\n'''\\nmembers1 = [{'name':'홍길동', 'birth':'2000-01-01'},{'name':'신길동', 'birth':'1995-12-18'}]\\n# '2000-01-01' => {'year' : 2000, 'month' : 1, 'day':1}\\ndef split_date(date):\\n        split_date = date.split('-')\\n        return {\\n            'year':int(split_date[0]),\\n            'month':int(split_date[1]),\\n            'day' : int(split_date[2])\\n    }\\n    \\nsplit_date('2025-01-01'), split_date('1995-12-21')\",\n",
       "  \"def split_date(data):\\n    return {\\n        'year' : int(data['birth'].split('-')[0])\\n        'month' : int(data['birth'].split('-')[1])\\n        'day' : int(data['birth'].split('-')[2])\\n    }\\nsplit_date('2025-01-01'), split_date('1995-12-21')\",\n",
       "  \"def split_date(data):\\n    return {\\n        'year' : int(data['birth'].split('-')[0],)\\n        'month' : int(data['birth'].split('-')[1],)\\n        'day' : int(data['birth'].split('-')[2])\\n    }\\nsplit_date('2025-01-01'), split_date('1995-12-21')\",\n",
       "  \"def split_date(data):\\n    return {\\n        'year' : int(data['birth'].split('-')[0]),\\n        'month' : int(data['birth'].split('-')[1]),\\n        'day' : int(data['birth'].split('-')[2])\\n    }\\nsplit_date('2025-01-01'), split_date('1995-12-21')\",\n",
       "  \"def split_date(data):\\n    return {\\n        'year' : int(data['birth'].split('-')[0]),\\n        'month' : int(data['birth'].split('-')[1]),\\n        'day' : int(data['birth'].split('-')[2])\\n    }\",\n",
       "  \"def split_date(data):\\n    return {\\n        'year' : int(data['birth'].split('-')[0]),\\n        'month' : int(data['birth'].split('-')[1]),\\n        'day' : int(data['birth'].split('-')[2])\\n    }\\nsplit_date({'birth:2025-10-10'})\",\n",
       "  \"def split_date(data):\\n    return {\\n        'year' : int(data['birth'].split('-')[0]),\\n        'month' : int(data['birth'].split('-')[1]),\\n        'day' : int(data['birth'].split('-')[2])\\n    }\\nsplit_date({'birth : 2025-10-10'})\",\n",
       "  \"def member_preprocessing(member):\\n    return{\\n        'name' : member.get('name', '이름없음'), #member['name']\\n        'year' : int(member.get('birth').split('-')[0]),\\n        'month' : int(member.get('birth').split('-')[1]),\\n        'day' : int(member.get('birth').split('-')[2]),\\n    }\\nmember_preprocessing({'name' : '홍길동', 'birth':'2000-01-01'})\",\n",
       "  \"def split_date(data):\\n    return {\\n        'year' : int(data['birth'].split('-')[0]),\\n        'month' : int(data['birth'].split('-')[1]),\\n        'day' : int(data['birth'].split('-')[2])\\n    }\\nsplit_date({'birth' : '2025-10-10'})\",\n",
       "  \"def member_preprocessing(member):\\n    return{\\n        'name' : member.get('name', '이름없음'), #member['name']\\n        'year' : int(member.get('birth').split('-')[0]),\\n        'month' : int(member.get('birth').split('-')[1]),\\n        'day' : int(member.get('birth').split('-')[2]),\\n    }\\nmember_preprocessing({'name' : '홍길동', 'birth':'2000-01-01'})\",\n",
       "  \"members2 = list(map(lambda member : {\\n                                'name' : member.get('name', '이름없음'), \\n                                'year' : int(member.get('birth').split('-')[0]),\\n                                'month' : int(member.get('birth').split('-')[1]),\\n                                'day' : int(member.get('birth').split('-')[2]),\\n                            }, \\n                   members1)\\n               )\",\n",
       "  \"members2 = list(map(lambda member : {\\n                                'name' : member.get('name', '이름없음'), \\n                                'year' : int(member.get('birth').split('-')[0]),\\n                                'month' : int(member.get('birth').split('-')[1]),\\n                                'day' : int(member.get('birth').split('-')[2]),\\n                            }, \\n                   members1)\\n               )\",\n",
       "  \"members2 = list(map(lambda member : {\\n                                'name' : member.get('name', '이름없음'), \\n                                'year' : int(member.get('birth').split('-')[0]),\\n                                'month' : int(member.get('birth').split('-')[1]),\\n                                'day' : int(member.get('birth').split('-')[2]),\\n                            }, members1 \\n                   )\\n               )\",\n",
       "  \"members2 = list(map(lambda member : {\\n                                'name' : member.get('name', '이름없음'), \\n                                'year' : int(member.get('birth').split('-')[0]),\\n                                'month' : int(member.get('birth').split('-')[1]),\\n                                'day' : int(member.get('birth').split('-')[2]),\\n                            }, members1 \\n                   )\\n               )\\nmembers2\",\n",
       "  \"members2 = list(map(lambda member : {\\n                                'name' : member.get('name', '이름없음'), \\n                                'year' : int(member.get('birth').split('-')[0]),\\n                                'month' : int(member.get('birth').split('-')[1]),\\n                                'day' : int(member.get('birth').split('-')[2]),\\n                            }, members1 \\n                   )\\n               )\\nmembers2\",\n",
       "  \"'''\\n예제3 members2를 members1로 전환\\n'''\\nmembers1 = list(map(lambda member : {\\n                                'name' : member.get('name', '이름없음'), \\n                                'birht' : int(member.get('year', 'month', 'day').join('-')[0])\\n                                }, members2\\n                   )\\n               )\",\n",
       "  \"'''\\n예제3 members2를 members1로 전환\\n'''\\nmembers1 = list(map(lambda member : {\\n                                'name' : member.get('name', '이름없음'), \\n                                'birth' : int(member.get('year', 'month', 'day').join('-')[0])\\n                                }, members2\\n                   )\\n               )\",\n",
       "  '\\'\\'\\'\\n예제3 members2를 members1로 전환\\n\\'\\'\\'\\ndef join_data(data):\\n    return \"{}-{:02}-{}\".format(data.get(\\'year\\'), data.get(month), data.get(\\'day\\'))\\njoin_date({\\'year\\':2000, \\'month\\': 9, \\'day\\': 9})',\n",
       "  '\\'\\'\\'\\n예제3 members2를 members1로 전환\\n\\'\\'\\'\\ndef join_date(data):\\n    return \"{}-{:02}-{}\".format(data.get(\\'year\\'), data.get(month), data.get(\\'day\\'))\\njoin_date({\\'year\\':2000, \\'month\\': 9, \\'day\\': 9})',\n",
       "  '\\'\\'\\'\\n예제3 members2를 members1로 전환\\n\\'\\'\\'\\ndef join_date(data):\\n    return \"{}-{:02}-{}\".format(data.get(\\'year\\'), data.get(\\'month\\'), data.get(\\'day\\'))\\njoin_date({\\'year\\':2000, \\'month\\': 9, \\'day\\': 9})',\n",
       "  '\\'\\'\\'\\n예제3 members2를 members1로 전환\\n\\'\\'\\'\\ndef join_date(data):\\n    return \"{}-{:02}-{}\".format(data.get(\\'year\\'), data.get(\\'month\\'), data.get(\\'day\\'))\\njoin_date({\\'year\\':2000, \\'month\\': 9, \\'day\\': 9})',\n",
       "  '\\'\\'\\'\\n예제3 members2를 members1로 전환\\n\\'\\'\\'\\ndef join_date(data):\\n    return \"{}-{:02}-{:02}\".format(data.get(\\'year\\'), data.get(\\'month\\'), data.get(\\'day\\'))\\njoin_date({\\'year\\':2000, \\'month\\': 9, \\'day\\': 9})',\n",
       "  'def join_date(data):\\n    return \"{year}-{month:02}-{day:02}\".format(year=data.get(\\'year\\'), \\n                                                month=data.get(\\'month\\'), \\n                                                day=data.get(\\'day\\'))\\njoin_date({\\'year\\':2000, \\'month\\': 9, \\'day\\': 9})',\n",
       "  'def join_date(data):\\n    return \"{year}-{month:02}-{day:02}\".format(**data)\\njoin_date({\\'year\\':2000, \\'month\\': 9, \\'day\\': 9})',\n",
       "  'def join_date(data):\\n    return {\"birth\":\"{year}-{month:02}-{day:02}\".format(**data)}\\njoin_date({\\'year\\':2000, \\'month\\': 9, \\'day\\': 9})',\n",
       "  'def join_date(data):\\n    return {\"name\":birth\":\"{year}-{month:02}-{day:02}\".format(**data)}\\njoin_date({\\'year\\':2000, \\'month\\': 9, \\'day\\': 9})',\n",
       "  'def join_date(data):\\n    return {\"name\": \"birth\":\"{year}-{month:02}-{day:02}\".format(**data)}\\njoin_date({\\'year\\':2000, \\'month\\': 9, \\'day\\': 9})',\n",
       "  'def join_date(data):\\n    return {\"name\": \"birth\":\"{year}-{month:02}-{day:02}\".format(**data)}\\njoin_date({\\'name\\':hong \\'year\\':2000, \\'month\\': 9, \\'day\\': 9})',\n",
       "  'def join_date(data):\\n    return {\"name\":, \"birth\":\"{year}-{month:02}-{day:02}\".format(**data)}\\njoin_date({\\'name\\':hong \\'year\\':2000, \\'month\\': 9, \\'day\\': 9})',\n",
       "  'def join_date(data):\\n    return {\"name\":\"birth\":\"{year}-{month:02}-{day:02}\".format(**data)}\\njoin_date({\\'name\\':hong \\'year\\':2000, \\'month\\': 9, \\'day\\': 9})',\n",
       "  'def join_date(data):\\n    return {\"name\":\"hong\"\"birth\":\"{year}-{month:02}-{day:02}\".format(**data)}\\njoin_date({\\'name\\':hong \\'year\\':2000, \\'month\\': 9, \\'day\\': 9})',\n",
       "  'def join_date(data):\\n    return {\"name\":\"\"\"birth\":\"{year}-{month:02}-{day:02}\".format(**data)}\\njoin_date({\\'name\\':hong \\'year\\':2000, \\'month\\': 9, \\'day\\': 9})',\n",
       "  'def join_date(data):\\n    return {\"name\":hong \"birth\":\"{year}-{month:02}-{day:02}\".format(**data)}\\njoin_date({\\'name\\':hong \\'year\\':2000, \\'month\\': 9, \\'day\\': 9})',\n",
       "  'def join_date(data):\\n    return {\"name\": data.get(\\'name\\'), \"birth\":\"{year}-{month:02}-{day:02}\".format(**data)}\\njoin_date({\\'name\\':hong \\'year\\':2000, \\'month\\': 9, \\'day\\': 9})',\n",
       "  'def join_date(data):\\n    return {\"name:\", \"birth\":\"{year}-{month:02}-{day:02}\".format(**data)}\\njoin_date({\\'name\\':hong \\'year\\':2000, \\'month\\': 9, \\'day\\': 9})',\n",
       "  'def members_preprocessing(member):\\n    return {\\n        \\'name\\': member.get(\\'name\\'),\\n        \\'birth\\':\"{year}-{month:02}-{day:02}\".format(**member)\\n    }',\n",
       "  'def members_preprocessing(member):\\n    return {\\n        \\'name\\': member.get(\\'name\\'),\\n        \\'birth\\':\"{year}-{month:02}-{day:02}\".format(**member)\\n    }\\nmembers_preprocessing({\\'name\\': \\'hong\\', \\'year\\':2000,\\'month\\':1,\\'day\\':1})',\n",
       "  'members1 = list(map(lambda member: {\\n         \\'name\\': member.get(\\'name\\'),\\n         \\'birth\\':\"{year}-{month:02}-{day:02}\".format(**member)\\n            } members2\\n                   ))',\n",
       "  'members1 = list(map(lambda member: {\\n         \\'name\\': member.get(\\'name\\'),\\n         \\'birth\\':int(\"{year}-{month:02}-{day:02}\".format(**member))\\n            } members2\\n                   ))',\n",
       "  'members1 = list(map(lambda member:{\\n         \\'name\\': member.get(\\'name\\'),\\n         \\'birth\\':\"{year}-{month:02}-{day:02}\".format(**member)\\n            }, members2 \\n                   ))',\n",
       "  'members1 = list(map(lambda member:{\\n         \\'name\\': member.get(\\'name\\'),\\n         \\'birth\\':\"{year}-{month:02}-{day:02}\".format(**member)\\n            }, members2 \\n                   ))',\n",
       "  'members1 = list(map(lambda member:{\\n         \\'name\\': member.get(\\'name\\'),\\n         \\'birth\\':\"{year}-{month:02}-{day:02}\".format(**member)\\n            }, members2 \\n                )\\n               )',\n",
       "  'list(map(lambda member:{\\n         \\'name\\': member.get(\\'name\\'),\\n         \\'birth\\':\"{year}-{month:02}-{day:02}\".format(**member)\\n            }, members2 \\n                )\\n               )',\n",
       "  'def filter_template(func, L=[]):\\n    result = []\\n    for item in L :\\n        if func(item):\\n            result.append(item)\\n    return result',\n",
       "  'list_data = [1,2,3,4,5,6,7,8,9]\\ndef odd_chk(value):\\n    return value%2:\\n#    if value%2 :\\n#        return True\\n#    else:\\n#        return False\\nfilter_template(lambda value : value%2, list_data)',\n",
       "  'list_data = [1,2,3,4,5,6,7,8,9]\\ndef odd_chk(value):\\n    return value%2 \\n#    if value%2 :\\n#        return True\\n#    else:\\n#        return False\\nfilter_template(lambda value : value%2, list_data)',\n",
       "  '# 리스트컴프리헨션\\n[for value in list_data if value %2 != 0]',\n",
       "  '# 리스트컴프리헨션\\n[value for value in list_data if value%2!=0]',\n",
       "  '# 예제 : 다음 리스트에서 소수점 이하가 0인 수만 추출하시오(filter/리스트컴프리헨션)\\nL = [1, 1.2, 1.5, 3.0, 10.5, 100,-2, -12.2]\\n[value for value in L if value%1 = 0]',\n",
       "  '# 예제 : 다음 리스트에서 소수점 이하가 0인 수만 추출하시오(filter/리스트컴프리헨션)\\nL = [1, 1.2, 1.5, 3.0, 10.5, 100,-2, -12.2]\\n[value for value in L if value%1!=0]',\n",
       "  '# 예제 : 다음 리스트에서 소수점 이하가 0인 수만 추출하시오(filter/리스트컴프리헨션)\\nL = [1, 1.2, 1.5, 3.0, 10.5, 100,-2, -12.2]\\n[value for value in L if value%1d=0]',\n",
       "  '# 예제 : 다음 리스트에서 소수점 이하가 0인 수만 추출하시오(filter/리스트컴프리헨션)\\nL = [1, 1.2, 1.5, 3.0, 10.5, 100,-2, -12.2]\\n[value for value in L if value%1==0]',\n",
       "  '# 예제 : 다음 리스트에서 소수점 이하가 0인 수만 추출하시오(filter/리스트컴프리헨션)\\nL = [1, 1.2, 1.5, 3.0, 10.5, 100,-2, -12.2]\\nlist(filter(lambda x : x%1==0))\\n[value for value in L if value%1==0]',\n",
       "  '# 예제 : 다음 리스트에서 소수점 이하가 0인 수만 추출하시오(filter/리스트컴프리헨션)\\nL = [1, 1.2, 1.5, 3.0, 10.5, 100,-2, -12.2]\\nlist(filter(lambda x : x%1==0, L))\\n[value for value in L if value%1==0]',\n",
       "  \"# 무조건 0번째 item을 기준으로 오름차순 정렬\\npairs = [(2, 'two'), (1, 'one'), (3, 'three'), (4, 'four')]\\npairs.sort()\\npairs\",\n",
       "  '# 1번째 item 기준으로 내림차순 정렬\\npairs.sort(key=lambda data : data[1])',\n",
       "  '# 1번째 item 기준으로 내림차순 정렬\\npairs.sort(key=lambda data : data[1])\\npairs',\n",
       "  'pairs.sort(key=lambda data : data[1], revese=True)\\npairs',\n",
       "  'pairs.sort(key=lambda data : data[1], reverse=True)\\npairs',\n",
       "  '# 합이 큰 순으로 정렬\\nnumber_2d = [[9,9], [1,100], [10,1]]\\nnumber_2d.sort(key=lambda data : data[1])',\n",
       "  '# 합이 큰 순으로 정렬\\nnumber_2d = [[9,9], [1,100], [10,1]]\\nnumber_2d.sort(key=lambda data : data[1])\\nnumber_2d',\n",
       "  '# 합이 큰 순으로 정렬\\nnumber_2d = [[9,9], [1,100], [10,200]]\\nnumber_2d.sort(key=lambda data : data[[0]+[1]])\\nnumber_2d',\n",
       "  '# 합이 큰 순으로 정렬\\nnumber_2d = [[9,9], [1,100], [10,200]]\\nnumber_2d.sort(key=lambda data : data[sum[0][1]])\\nnumber_2d',\n",
       "  '# 합이 큰 순으로 정렬\\nnumber_2d = [[9,9], [1,100], [10,200]]\\nnumber_2d.sort(key=lambda data : sum += data)\\nnumber_2d',\n",
       "  '# 합이 큰 순으로 정렬\\nnumber_2d = [[9,9], [1,100], [10,200]]\\nnumber_2d.sort(key=lambda data : sum += data,number_2d)\\nnumber_2d',\n",
       "  '# 합이 큰 순으로 정렬\\nnumber_2d = [[9,9], [1,100], [10,200]]\\nnumber_2d.sort(key=lambda data : data += data,number_2d)\\nnumber_2d',\n",
       "  '# 합이 큰 순으로 정렬\\nnumber_2d = [[9,9], [1,100], [10,200]]\\nnumber_2d.sort(key=lambda x : sum +=x ,number_2d)\\nnumber_2d',\n",
       "  '# 합이 큰 순으로 정렬\\nnumber_2d = [[9,9], [1,100], [10,200]]\\nnumber_2d.sort(key=(lambda items : sum(itmes),number_2d)\\nnumber_2d',\n",
       "  '# 합이 큰 순으로 정렬\\nnumber_2d = [[9,9], [1,100], [10,200]]\\nnumber_2d.sort(key=(lambda items : sum(itmes), reverse=True)\\nnumber_2d',\n",
       "  '# 합이 큰 순으로 정렬\\nnumber_2d = [[9,9], [1,100], [10,200]]\\nnumber_2d.sort(key=(lambda items : sum(itmes), reverse==True)\\nnumber_2d',\n",
       "  '# 합이 큰 순으로 정렬\\nnumber_2d = [[9,9], [1,100], [10,200]]\\nnumber_2d.sort(key=(lambda items : sum(items), reverse==True)\\nnumber_2d',\n",
       "  '# 합이 큰 순으로 정렬\\nnumber_2d = [[9,9], [1,100], [10,200]]\\nnumber_2d.sort(key=(lambda items : sum(items), reverse=True)\\nnumber_2d',\n",
       "  '# 합이 큰 순으로 정렬\\nnumber_2d = [[9,9], [1,100], [10,200]]\\nnumber_2d.sort(key=(lambda items : sum(items), reverse=True)\\nnumber_2d',\n",
       "  '# 합이 큰 순으로 정렬\\nnumber_2d = [[9,9], [1,100], [10,200]]\\nnumber_2d.sort(key=(lambda items : sum(items), reverse = True)\\nnumber_2d',\n",
       "  '# 합이 큰 순으로 정렬\\nnumber_2d = [[9,9], [1,100], [10,200]]\\nnumber_2d.sort(key=(lambda items : sum(items), reversed = True)\\nnumber_2d',\n",
       "  '# 합이 큰 순으로 정렬\\nnumber_2d = [[9,9], [1,100], [10,200]]\\nnumber_2d.sort(key=(lambda items : sum(items), reverse == True)\\nnumber_2d',\n",
       "  '# 합이 큰 순으로 정렬\\nnumber_2d = [[9,9], [1,100], [10,200]]\\nnumber_2d.sort(key=lambda items : sum(items), reverse =True)\\nnumber_2d',\n",
       "  \"students = [{'name' : '홍', 'score' : 99},\\n           {'name' : '김', 'score' : 50}\\n           {'name' : '박', 'score' : 77}\\n           {'score' : 99}]\",\n",
       "  \"students = [{'name' : '홍', 'score' : 99},\\n           {'name' : '김', 'score' : 50}\\n           {'name' : '박', 'score' : 77}\\n           {'score' : 99}]\",\n",
       "  \"students = [{'name' : '홍', 'score' : 99},\\n           {'name' : '김', 'score' : 50},\\n           {'name' : '박', 'score' : 77},\\n           {'score' : 99}]\",\n",
       "  \"name_select = lambda data : data.get('score')\\nname_select({'name':'홍', 'score':90})\",\n",
       "  \"# students를 name순으로 정렬(ㄱㄴㄷ 순)\\nstudnets.sort(key= lambda dat : data.get('name', ' '))\\nstudents\",\n",
       "  \"# students를 name순으로 정렬(ㄱㄴㄷ 순)\\nstudents.sort(key= lambda dat : data.get('name', ' '))\\nstudents\",\n",
       "  \"# students를 name순으로 정렬(ㄱㄴㄷ 순)\\nstudents.sort(key= lambda data : data.get('name', ' '))\\nstudentsa\",\n",
       "  \"# students를 name순으로 정렬(ㄱㄴㄷ 순)\\nstudents.sort(key= lambda data : data.get('name', ' '))\\nstudents\",\n",
       "  \"# students를 score 큰 순 정렬\\nstudents.sort(key= lambda data : data.get('score', ' '))\\nstudents\",\n",
       "  \"# students를 score 큰 순 정렬\\nstudents.sort(key= lambda data : data.get('score', ' '),reverse = True)\\nstudents\",\n",
       "  \"books = \\\\\\n[{'no':1, 'title':'더트릭컬', 'writer': '폴빠','price':'19,800'},\\n{'no':2, 'title’:’흔한남매', 'writer’:’백난도', 'price’:’15,120'},\\n{'no':3, 'title':'단 한 번의 삶', 'writer':'김영하', 'price':'15,120'},\\n{'no':4, 'title':'가격잘못', 'writer':'홍길동', 'price':'ㅁ'},\\n{'no':5, 'title':'가격이숫자', 'writer':'백난도', 'price':30200},\\n{'no':6, 'title':'가격이없음', 'writer':'이길동’},] 정렬\",\n",
       "  \"books = \\\\\\n[{'no':1, 'title':'더트릭컬', 'writer': '폴빠','price':'19,800'},\\n{'no':2, 'title’:’흔한남매', 'writer’:’백난도', 'price’:’15,120'},\\n{'no':3, 'title':'단 한 번의 삶', 'writer':'김영하', 'price':'15,120'},\\n{'no':4, 'title':'가격잘못', 'writer':'홍길동', 'price':'ㅁ'},\\n{'no':5, 'title':'가격이숫자', 'writer':'백난도', 'price':30200},\\n{'no':6, 'title':'가격이없음', 'writer':'이길동’},] \",\n",
       "  \"books = \\\\\\n[{'no':1, 'title':'더트릭컬', 'writer': '폴빠','price':'19,800'},\\n{'no':2, 'title’:’흔한남매', 'writer’:’백난도', 'price’:’15,120'},\\n{'no':3, 'title':'단 한 번의 삶', 'writer':'김영하', 'price':'15,120'},\\n{'no':4, 'title':'가격잘못', 'writer':'홍길동', 'price':'ㅁ'},\\n{'no':5, 'title':'가격이숫자', 'writer':'백난도', 'price':30200},\\n{'no':6, 'title':'가격이없음', 'writer':'이길동'},] \",\n",
       "  \"books = \\\\\\n[{'no':1, 'title':'더트릭컬', 'writer': '폴빠','price':'19,800'},\\n{'no':2, 'title':'흔한남매', 'writer’:’백난도', 'price':'15,120'},\\n{'no':3, 'title':'단 한 번의 삶', 'writer':'김영하', 'price':'15,120'},\\n{'no':4, 'title':'가격잘못', 'writer':'홍길동', 'price':'ㅁ'},\\n{'no':5, 'title':'가격이숫자', 'writer':'백난도', 'price':30200},\\n{'no':6, 'title':'가격이없음', 'writer':'이길동'},] \",\n",
       "  \"books = \\\\\\n[{'no':1, 'title':'더트릭컬', 'writer': '폴빠','price':'19,800'},\\n{'no':2, 'title':'흔한남매', 'writer’:’백난도', 'price':'15,120'},\\n{'no':3, 'title':'단 한 번의 삶', 'writer':'김영하', 'price':'15,120'},\\n{'no':4, 'title':'가격잘못', 'writer':'홍길동', 'price':'ㅁ'},\\n{'no':5, 'title':'가격이숫자', 'writer':'백난도', 'price':30200},\\n{'no':6, 'title':'가격이없음', 'writer':'이길동'},] \",\n",
       "  \"books = \\\\\\n[{'no':1, 'title':'더트릭컬', 'writer': '폴빠','price':'19,800'},\\n{'no':2, 'title':'흔한남매', 'writer’:’백난도', 'price':'15,120'},\\n{'no':3, 'title':'단 한 번의 삶', 'writer':'김영하', 'price':'15,120'},\\n{'no':4, 'title':'가격잘못', 'writer':'홍길동', 'price':'ㅁ'},\\n{'no':5, 'title':'가격이숫자', 'writer':'백난도', 'price':30200},\\n{'no':6, 'title':'가격이없음', 'writer':'이길동'},] \",\n",
       "  \"books = \\\\\\n[{'no':1, 'title':'더트릭컬', 'writer': '폴빠','price':'19,800'},\\n{'no':2, 'title':'흔한남매', 'writer':'백난도', 'price':'15,120'},\\n{'no':3, 'title':'단 한 번의 삶', 'writer':'김영하', 'price':'15,120'},\\n{'no':4, 'title':'가격잘못', 'writer':'홍길동', 'price':'ㅁ'},\\n{'no':5, 'title':'가격이숫자', 'writer':'백난도', 'price':30200},\\n{'no':6, 'title':'가격이없음', 'writer':'이길동'},] \",\n",
       "  \"books.sort(key= lambda data : data.get('no', ''))\",\n",
       "  \"books.sort(key= lambda data : data.get('no', ''))\\nbooks\",\n",
       "  \"books.sort(key= lambda data : data.get('no', ''))\\nbooks\",\n",
       "  \"# 예제 : bokks 정렬(no, title, price)\\nbooks = \\\\\\n[{'no':2, 'title':'더트릭컬', 'writer': '폴빠','price':'19,800'},\\n{'no':1, 'title':'흔한남매', 'writer':'백난도', 'price':'15,120'},\\n{'no':3, 'title':'단 한 번의 삶', 'writer':'김영하', 'price':'15,120'},\\n{'no':4, 'title':'가격잘못', 'writer':'홍길동', 'price':'ㅁ'},\\n{'no':5, 'title':'가격이숫자', 'writer':'백난도', 'price':30200},\\n{'no':6, 'title':'가격이없음', 'writer':'이길동'},] \",\n",
       "  \"books.sort(key= lambda data : data.get('no', ''))\\nbooks\",\n",
       "  \"books.sort(key = lambda data : data.get('title', ''))\",\n",
       "  \"books.sort(key = lambda data : data.get('title', ''))\\nbooks\",\n",
       "  \"books.sort(key= lambda data : data.get['no'])\\nbooks\",\n",
       "  \"books.sort(key= lambda data : data['no'])\\nbooks\",\n",
       "  \"books.sort(key = lambda data : data['title'])\\nbooks\",\n",
       "  \"books.sort(key = lambda data : data['title'])\\nbooks\",\n",
       "  \"books.sort(key = int(lambda data : data.get('price', '')))\",\n",
       "  \"books.sort(key = (lambda data : data.get('price', ''))\",\n",
       "  \"books.sort(key = lambda data : data.get('price', ''))\",\n",
       "  'def parse_int (price):\\n    print(type(price))\\nparse_int(None)',\n",
       "  \"def parse_int (price):\\n    if isinstance(price,str) and price.replace(',','').isdigit():\\n        return int(price.replace(',', ''))\\n    elif isinstance(price,int):\\n        return price\\n    else:\\n        return 0\\n        \\nparse_int(None)\",\n",
       "  \"def parse_int (price):\\n    if isinstance(price,str) and price.replace(',','').isdigit():\\n        return int(price.replace(',', ''))\\n    elif isinstance(price,int):\\n        return price\\n    else:\\n        return 0\\nparse_int = lambda price : \\n            int(price.replace(',','')\\\\\\n                if isinstance(price,str) and price.replace(',','').isdigit() else \\\\\\n            price if isinstance(price,int) else 0       )\\nparse_int(None)\",\n",
       "  \"def parse_int (price):\\n    if isinstance(price,str) and price.replace(',','').isdigit():\\n        return int(price.replace(',', ''))\\n    elif isinstance(price,int):\\n        return price\\n    else:\\n        return 0\\nparse_int = lambda price : \\\\\\n            int(price.replace(',','')\\\\\\n                if isinstance(price,str) and price.replace(',','').isdigit() else \\\\\\n            price if isinstance(price,int) else 0       )\\nparse_int(None)\",\n",
       "  \"books.sort(key = lambda data : parse_int('price'))\",\n",
       "  \"books.sort(key = lambda data : parse_int('price'))\\nbooks\",\n",
       "  \"books.sort(key = lambda data : parse_int('price'))\\nbooks\",\n",
       "  \"books.sort(key = lambda data : parse_int('price', parse_int))\\nbooks\",\n",
       "  \"books.sort(key = lambda data : data('price', parse_int))\\nbooks\",\n",
       "  \"parse_int = lambda book : \\\\\\n            int(book.get('price').replace(',','')\\\\\\n                if isinstance(book.get('price'),str) and price.replace(',','').isdigit() else \\\\\\n            price if isinstance(book.get('price'),int) else 0       )\\nparse_int(None)\",\n",
       "  \"parse_int = lambda book : \\\\\\n            int(book.get('price').replace(',','')\\\\\\n                if isinstance(book.get('price'),str) and price.replace(',','').isdigit() else \\\\\\n            price if isinstance(book.get('price'),int) else 0       )\\nparse_int({None})\",\n",
       "  \"parse_int = lambda book : \\\\\\n            int(book.get('price').replace(',','')\\\\\\n                if isinstance(book.get('price'),str) and price.replace(',','').isdigit() else \\\\\\n            price if isinstance(book.get('price'),int) else 0       )\\nparse_int({'no': 1, 'title': '흔한남매', 'writer': '백난도', 'price': '15,120'})\",\n",
       "  \"parse_int = lambda book : \\\\\\n            int(book.get('price').replace(',','')\\\\\\n                if isinstance(book.get('price'),str) and book.get('price').replace(',','').isdigit() else \\\\\\n            price if isinstance(book.get('price'),int) else 0       )\\nparse_int({'no': 1, 'title': '흔한남매', 'writer': '백난도', 'price': '15,120'})\",\n",
       "  \"def parse_int (price):\\n    if str(price,str) and price.replace(',','').isdigit():\\n        return int(str(price).replace(',', ''))\\n    else:\\n        return 0\\nparse_int(None)\",\n",
       "  \"def parse_int (price):\\n    if str(price) and price.replace(',','').isdigit():\\n        return int(str(price).replace(',', ''))\\n    else:\\n        return 0\\nparse_int(None)\",\n",
       "  \"def parse_int (price):\\n    if str(price) and str(price).replace(',','').isdigit():\\n        return int(str(price).replace(',', ''))\\n    else:\\n        return 0\\nparse_int(None)\",\n",
       "  \"copyBooks = books.copy() #복제\\ncopyBooks.sort(key= lambda book : \\\\\\n            int(book.get('price').replace(',','')\\\\\\n                if isinstance(book.get('price'),str) and book.get('price').replace(',','').isdigit() else \\\\\\n            price if isinstance(book.get('price'),int) else 0,\\n               reverse = True))\\ncopyBooks\",\n",
       "  \"copyBooks = books.copy() #복제\\ncopyBooks.sort(key= lambda book : \\\\\\n            int(book.get('price').replace(',','')\\\\\\n                if isinstance(book.get('price'),str) and book.get('price').replace(',','').isdigit() else \\\\\\n            price if isinstance(book.get('price'),int) else \\\\\\n                0,\\n               reverse = True))\\ncopyBooks\",\n",
       "  \"copyBooks = books.copy() #복제\\ncopyBooks.sort(key= lambda book : \\\\\\n            int(book.get('price').replace(',','')\\\\\\n                if isinstance(book.get('price'),str) and book.get('price').replace(',','').isdigit() else \\\\\\n            price if isinstance(book.get('price'),int) else \\\\\\n                0,\\n            reverse = True))\\ncopyBooks\",\n",
       "  \"copyBooks = books.copy() #복제\\ncopyBooks.sort(key= lambda book : \\\\\\n            int(book.get('price').replace(',','')\\\\\\n                if isinstance(book.get('price'),str) and book.get('price').replace(',','').isdigit() else \\\\\\n            book.get('price') if isinstance(book.get('price'),int) else \\\\\\n                0,\\n            reverse = True))\\ncopyBooks\",\n",
       "  \"copyBooks = books.copy() #복제\\ncopyBooks.sort(key= lambda book : \\\\\\n            int(book.get('price').replace(',','')\\\\\\n                if isinstance(book.get('price'),str) and book.get('price').replace(',','').isdigit() else \\\\\\n            book.get('price') if isinstance(book.get('price'), int) else \\\\\\n                0,\\n            reverse = True))\\ncopyBooks\",\n",
       "  \"copyBooks = books.copy() #복제\\ncopyBooks.sort(key= lambda book : \\\\\\n            int(book.get('price').replace(',',''))\\\\\\n                if isinstance(book.get('price'),str) and book.get('price').replace(',','').isdigit() else \\\\\\n            book.get('price') if isinstance(book.get('price'), int) else \\\\\\n                0,\\n            reverse = True))\\ncopyBooks\",\n",
       "  \"copyBooks = books.copy() #복제\\ncopyBooks.sort(key= lambda book : \\\\\\n            int(book.get('price').replace(',',''))\\\\\\n                if isinstance(book.get('price'),str) and book.get('price').replace(',','').isdigit() else \\\\\\n            book.get('price') if isinstance(book.get('price'), int) else \\\\\\n                0,\\n            reverse = True)\\ncopyBooks\",\n",
       "  '#1번. 함수의 인자로 리스트를 받은 후 리스트 내에 있는 모든 정수값에 대한 최대값과 최소값을 리턴하는 함수를 작성하세요\\ndata_list = []\\ndef get_max_min(data_list):\\n    return max & min',\n",
       "  '#1번. 함수의 인자로 리스트를 받은 후 리스트 내에 있는 모든 정수값에 대한 최대값과 최소값을 리턴하는 함수를 작성하세요\\ndata_list = []\\ndef get_max_min(data_list):\\n    return max & min\\nmax',\n",
       "  '#1번. 함수의 인자로 리스트를 받은 후 리스트 내에 있는 모든 정수값에 대한 최대값과 최소값을 리턴하는 함수를 작성하세요\\ndata_list = []\\ndef get_max_min(data_list):\\n    return max & min\\ndata_list(max)',\n",
       "  '#1번. 함수의 인자로 리스트를 받은 후 리스트 내에 있는 모든 정수값에 대한 최대값과 최소값을 리턴하는 함수를 작성하세요\\ndata_list = []\\ndef get_max_min(data_list):\\n    return max & min\\ndata_list[max]',\n",
       "  '#1번. 함수의 인자로 리스트를 받은 후 리스트 내에 있는 모든 정수값에 대한 최대값과 최소값을 리턴하는 함수를 작성하세요\\ndata_list = []\\ndef get_max_min(data_list):\\n    return max & min',\n",
       "  'globals() #전역변수리스트',\n",
       "  'a =10',\n",
       "  'globals() #전역변수리스트'],\n",
       " '_oh': {2: 3,\n",
       "  4: 3,\n",
       "  5: 3,\n",
       "  8: '홀수',\n",
       "  9: ('홀수', '짝수'),\n",
       "  10: ('홀수', '홀수'),\n",
       "  11: ('홀수', '짝수'),\n",
       "  14: 1,\n",
       "  16: '홀수',\n",
       "  17: -4,\n",
       "  18: 4,\n",
       "  19: 1,\n",
       "  20: 'negative',\n",
       "  33: '재시험',\n",
       "  34: 'A팀',\n",
       "  36: ('A팀', '유효하지 않음', '유효하지 않음'),\n",
       "  38: ('D학점', '유효하지 않음'),\n",
       "  41: (-1, 2),\n",
       "  50: [25, 15, 100, 4.0],\n",
       "  51: 5,\n",
       "  52: [10, 6, 16, 4.0, 64],\n",
       "  66: [1, 2, 3],\n",
       "  68: [1, 2, 3],\n",
       "  70: [2, 4, 6, 8, 10, 12, 14, 16, 18],\n",
       "  72: [2, 4, 6, 8, 10, 12, 14, 16, 18],\n",
       "  73: [2, 4, 6, 8, 10, 12, 14, 16, 18],\n",
       "  78: [2, 4, 6, 8, 10, 12, 14, 16, 18],\n",
       "  80: [2, 4, 6, 8, 10, 12, 14, 16, 18],\n",
       "  81: [2, 4, 6, 8, 10, 12, 14, 16, 18],\n",
       "  83: [2, 4, 6, 8, 10, 12, 14, 16, 18],\n",
       "  86: <map at 0x22c0ea845b0>,\n",
       "  87: <map at 0x22c0ea84310>,\n",
       "  88: <map at 0x22c0ea863e0>,\n",
       "  89: [2, 4, 6, 8, 10, 12, 14, 16, 18],\n",
       "  92: <map at 0x22c0ea84370>,\n",
       "  93: ['5,000', '5000', '6,000', '1000', '5,000', '5000', '6,000', '1000'],\n",
       "  96: 500000,\n",
       "  97: 500000,\n",
       "  99: <map at 0x22c0c7cd060>,\n",
       "  109: ['2025', '01', '01'],\n",
       "  110: ({'year': 2025, 'month': 1, 'day': 1},\n",
       "   {'year': 1995, 'month': 12, 'day': 21}),\n",
       "  111: ({'year': 2025, 'month': 1, 'day': 1},\n",
       "   {'year': 1995, 'month': 12, 'day': 21}),\n",
       "  124: ({'year': 2025, 'month': 1, 'day': 1},\n",
       "   {'year': 1995, 'month': 12, 'day': 21}),\n",
       "  131: {'name': '홍길동', 'year': 2000, 'month': 1, 'day': 1},\n",
       "  132: {'year': 2025, 'month': 10, 'day': 10},\n",
       "  133: {'name': '홍길동', 'year': 2000, 'month': 1, 'day': 1},\n",
       "  137: [{'name': '홍길동', 'year': 2000, 'month': 1, 'day': 1},\n",
       "   {'name': '신길동', 'year': 1995, 'month': 12, 'day': 18}],\n",
       "  138: [{'name': '홍길동', 'year': 2000, 'month': 1, 'day': 1},\n",
       "   {'name': '신길동', 'year': 1995, 'month': 12, 'day': 18}],\n",
       "  143: '2000-09-9',\n",
       "  144: '2000-09-9',\n",
       "  145: '2000-09-09',\n",
       "  146: '2000-09-09',\n",
       "  147: '2000-09-09',\n",
       "  148: {'birth': '2000-09-09'},\n",
       "  160: {'name': 'hong', 'birth': '2000-01-01'},\n",
       "  166: [{'name': '홍길동', 'birth': '2000-01-01'},\n",
       "   {'name': '신길동', 'birth': '1995-12-18'}],\n",
       "  169: [1, 3, 5, 7, 9],\n",
       "  171: [1, 3, 5, 7, 9],\n",
       "  173: [1.2, 1.5, 10.5, -12.2],\n",
       "  175: [1, 3.0, 100, -2],\n",
       "  177: [1, 3.0, 100, -2],\n",
       "  178: [(2, 'two'), (3, 'three'), (1, 'one'), (4, 'four')],\n",
       "  180: [(2, 'two'), (3, 'three'), (1, 'one'), (4, 'four')],\n",
       "  182: [(2, 'two'), (3, 'three'), (1, 'one'), (4, 'four')],\n",
       "  184: [[10, 1], [9, 9], [1, 100]],\n",
       "  200: [[10, 200], [1, 100], [9, 9]],\n",
       "  204: 90,\n",
       "  208: [{'score': 99},\n",
       "   {'name': '홍', 'score': 99},\n",
       "   {'name': '박', 'score': 77},\n",
       "   {'name': '김', 'score': 50}],\n",
       "  209: [{'score': 99},\n",
       "   {'name': '홍', 'score': 99},\n",
       "   {'name': '박', 'score': 77},\n",
       "   {'name': '김', 'score': 50}],\n",
       "  210: [{'score': 99},\n",
       "   {'name': '홍', 'score': 99},\n",
       "   {'name': '박', 'score': 77},\n",
       "   {'name': '김', 'score': 50}],\n",
       "  219: [{'no': 1, 'title': '더트릭컬', 'writer': '폴빠', 'price': '19,800'},\n",
       "   {'no': 2, 'title': '흔한남매', 'writer': '백난도', 'price': '15,120'},\n",
       "   {'no': 3, 'title': '단 한 번의 삶', 'writer': '김영하', 'price': '15,120'},\n",
       "   {'no': 4, 'title': '가격잘못', 'writer': '홍길동', 'price': 'ㅁ'},\n",
       "   {'no': 5, 'title': '가격이숫자', 'writer': '백난도', 'price': 30200},\n",
       "   {'no': 6, 'title': '가격이없음', 'writer': '이길동'}],\n",
       "  220: [{'no': 1, 'title': '더트릭컬', 'writer': '폴빠', 'price': '19,800'},\n",
       "   {'no': 2, 'title': '흔한남매', 'writer': '백난도', 'price': '15,120'},\n",
       "   {'no': 3, 'title': '단 한 번의 삶', 'writer': '김영하', 'price': '15,120'},\n",
       "   {'no': 4, 'title': '가격잘못', 'writer': '홍길동', 'price': 'ㅁ'},\n",
       "   {'no': 5, 'title': '가격이숫자', 'writer': '백난도', 'price': 30200},\n",
       "   {'no': 6, 'title': '가격이없음', 'writer': '이길동'}],\n",
       "  222: [{'no': 5, 'title': '가격이숫자', 'writer': '백난도', 'price': 30200},\n",
       "   {'no': 6, 'title': '가격이없음', 'writer': '이길동'},\n",
       "   {'no': 4, 'title': '가격잘못', 'writer': '홍길동', 'price': 'ㅁ'},\n",
       "   {'no': 3, 'title': '단 한 번의 삶', 'writer': '김영하', 'price': '15,120'},\n",
       "   {'no': 2, 'title': '더트릭컬', 'writer': '폴빠', 'price': '19,800'},\n",
       "   {'no': 1, 'title': '흔한남매', 'writer': '백난도', 'price': '15,120'}],\n",
       "  224: [{'no': 5, 'title': '가격이숫자', 'writer': '백난도', 'price': 30200},\n",
       "   {'no': 6, 'title': '가격이없음', 'writer': '이길동'},\n",
       "   {'no': 4, 'title': '가격잘못', 'writer': '홍길동', 'price': 'ㅁ'},\n",
       "   {'no': 3, 'title': '단 한 번의 삶', 'writer': '김영하', 'price': '15,120'},\n",
       "   {'no': 2, 'title': '더트릭컬', 'writer': '폴빠', 'price': '19,800'},\n",
       "   {'no': 1, 'title': '흔한남매', 'writer': '백난도', 'price': '15,120'}],\n",
       "  226: [{'no': 5, 'title': '가격이숫자', 'writer': '백난도', 'price': 30200},\n",
       "   {'no': 6, 'title': '가격이없음', 'writer': '이길동'},\n",
       "   {'no': 4, 'title': '가격잘못', 'writer': '홍길동', 'price': 'ㅁ'},\n",
       "   {'no': 3, 'title': '단 한 번의 삶', 'writer': '김영하', 'price': '15,120'},\n",
       "   {'no': 2, 'title': '더트릭컬', 'writer': '폴빠', 'price': '19,800'},\n",
       "   {'no': 1, 'title': '흔한남매', 'writer': '백난도', 'price': '15,120'}],\n",
       "  227: [{'no': 5, 'title': '가격이숫자', 'writer': '백난도', 'price': 30200},\n",
       "   {'no': 6, 'title': '가격이없음', 'writer': '이길동'},\n",
       "   {'no': 4, 'title': '가격잘못', 'writer': '홍길동', 'price': 'ㅁ'},\n",
       "   {'no': 3, 'title': '단 한 번의 삶', 'writer': '김영하', 'price': '15,120'},\n",
       "   {'no': 2, 'title': '더트릭컬', 'writer': '폴빠', 'price': '19,800'},\n",
       "   {'no': 1, 'title': '흔한남매', 'writer': '백난도', 'price': '15,120'}],\n",
       "  228: [{'no': 5, 'title': '가격이숫자', 'writer': '백난도', 'price': 30200},\n",
       "   {'no': 6, 'title': '가격이없음', 'writer': '이길동'},\n",
       "   {'no': 4, 'title': '가격잘못', 'writer': '홍길동', 'price': 'ㅁ'},\n",
       "   {'no': 3, 'title': '단 한 번의 삶', 'writer': '김영하', 'price': '15,120'},\n",
       "   {'no': 2, 'title': '더트릭컬', 'writer': '폴빠', 'price': '19,800'},\n",
       "   {'no': 1, 'title': '흔한남매', 'writer': '백난도', 'price': '15,120'}],\n",
       "  233: 0,\n",
       "  235: 0,\n",
       "  237: [{'no': 5, 'title': '가격이숫자', 'writer': '백난도', 'price': 30200},\n",
       "   {'no': 6, 'title': '가격이없음', 'writer': '이길동'},\n",
       "   {'no': 4, 'title': '가격잘못', 'writer': '홍길동', 'price': 'ㅁ'},\n",
       "   {'no': 3, 'title': '단 한 번의 삶', 'writer': '김영하', 'price': '15,120'},\n",
       "   {'no': 2, 'title': '더트릭컬', 'writer': '폴빠', 'price': '19,800'},\n",
       "   {'no': 1, 'title': '흔한남매', 'writer': '백난도', 'price': '15,120'}],\n",
       "  238: [{'no': 5, 'title': '가격이숫자', 'writer': '백난도', 'price': 30200},\n",
       "   {'no': 6, 'title': '가격이없음', 'writer': '이길동'},\n",
       "   {'no': 4, 'title': '가격잘못', 'writer': '홍길동', 'price': 'ㅁ'},\n",
       "   {'no': 3, 'title': '단 한 번의 삶', 'writer': '김영하', 'price': '15,120'},\n",
       "   {'no': 2, 'title': '더트릭컬', 'writer': '폴빠', 'price': '19,800'},\n",
       "   {'no': 1, 'title': '흔한남매', 'writer': '백난도', 'price': '15,120'}],\n",
       "  244: 15120,\n",
       "  247: 0,\n",
       "  254: [{'no': 5, 'title': '가격이숫자', 'writer': '백난도', 'price': 30200},\n",
       "   {'no': 2, 'title': '더트릭컬', 'writer': '폴빠', 'price': '19,800'},\n",
       "   {'no': 3, 'title': '단 한 번의 삶', 'writer': '김영하', 'price': '15,120'},\n",
       "   {'no': 1, 'title': '흔한남매', 'writer': '백난도', 'price': '15,120'},\n",
       "   {'no': 6, 'title': '가격이없음', 'writer': '이길동'},\n",
       "   {'no': 4, 'title': '가격잘못', 'writer': '홍길동', 'price': 'ㅁ'}],\n",
       "  256: <function max>,\n",
       "  260: {...}},\n",
       " '_dh': [WindowsPath('C:/ai/source/01_python')],\n",
       " 'In': ['',\n",
       "  'def add(a,b):\\n    return a+b',\n",
       "  'add(1,2)',\n",
       "  'add2 = lambda a,b : a+b',\n",
       "  'add2(1,2)',\n",
       "  'add(1,2)',\n",
       "  '# ex1. 매개변수로 들어온 값이 짝수인지 홀수인지 return 함수를 람다식으로 만들어보시오',\n",
       "  '# ex2. 두 매개변수의 차이를 return하는 함수를 람다식으로 만들어보시오',\n",
       "  '# ex1. 매개변수로 들어온 값이 짝수인지 홀수인지 return하는 함수를 람다식으로 만들어보시오\\ndef even_odd_chk(num):\\n    if num%2:\\n        result = \"홀수\"\\n    else:\\n        result = \"짝수\"\\n    return result\\neven_odd_chk(5)',\n",
       "  '# ex1. 매개변수로 들어온 값이 짝수인지 홀수인지 return하는 함수를 람다식으로 만들어보시오\\ndef even_odd_chk(num):\\n    if num%2:\\n        result = \"홀수\"\\n    else:\\n        result = \"짝수\"\\n    return result\\neven_odd_chk(5), even_odd_chk(-4)',\n",
       "  '# ex1. 매개변수로 들어온 값이 짝수인지 홀수인지 return하는 함수를 람다식으로 만들어보시오\\ndef even_odd_chk(num):\\n    if num%2:\\n        result = \"홀수\"\\n    else:\\n        result = \"짝수\"\\n    return result\\neven_odd_chk(5), even_odd_chk(-5)',\n",
       "  '# ex1. 매개변수로 들어온 값이 짝수인지 홀수인지 return하는 함수를 람다식으로 만들어보시오\\ndef even_odd_chk(num):\\n    if num%2:\\n        result = \"홀수\"\\n    else:\\n        result = \"짝수\"\\n    return result\\neven_odd_chk(5), even_odd_chk(-4)',\n",
       "  '# ex1. 매개변수로 들어온 값이 짝수인지 홀수인지 return하는 함수를 람다식으로 만들어보시오\\ndef even_odd_chk(num):\\n    if num%2:\\n        result = \"홀수\"\\n    else:\\n        result = \"짝수\"\\n    return result\\neven_odd_chk(5), even_odd_chk(-4)\\neven_odd_chk2 = lambda num : num%2 ',\n",
       "  '# ex1. 매개변수로 들어온 값이 짝수인지 홀수인지 return하는 함수를 람다식으로 만들어보시오\\ndef even_odd_chk(num):\\n    if num%2:\\n        result = \"홀수\"\\n    else:\\n        result = \"짝수\"\\n    return result\\neven_odd_chk(5), even_odd_chk(-4)\\neven_odd_chk2 = lambda num : num%2 \\neven_ood_chk2(5)',\n",
       "  '# ex1. 매개변수로 들어온 값이 짝수인지 홀수인지 return하는 함수를 람다식으로 만들어보시오\\ndef even_odd_chk(num):\\n    if num%2:\\n        result = \"홀수\"\\n    else:\\n        result = \"짝수\"\\n    return result\\neven_odd_chk(5), even_odd_chk(-4)\\neven_odd_chk2 = lambda num : num%2 \\neven_odd_chk2(5)',\n",
       "  '# ex1. 매개변수로 들어온 값이 짝수인지 홀수인지 return하는 함수를 람다식으로 만들어보시오\\ndef even_odd_chk(num):\\n#    if num%2:\\n#        result = \"홀수\"\\n#    else:\\n#        result = \"짝수\"\\n    return = \"홀수\" if num%2 else \"짝수\"\\neven_odd_chk2 = lambda num : \"홀수\" if num%2 else \"짝수\"',\n",
       "  '# ex1. 매개변수로 들어온 값이 짝수인지 홀수인지 return하는 함수를 람다식으로 만들어보시오\\ndef even_odd_chk(num):\\n#    if num%2:\\n#        result = \"홀수\"\\n#    else:\\n#        result = \"짝수\"\\n    return  \"홀수\" if num%2 else \"짝수\"\\neven_odd_chk2 = lambda num : \"홀수\" if num%2 else \"짝수\"\\neven_odd_chk2(5)',\n",
       "  '# ex2. 두 매개변수의 차이를 return하는 함수를 람다식으로 만들어보시오\\ndef sub1(a,b):\\n    return a-b\\nsub2 = lambda a,b : a-b\\nsub2(1,5)',\n",
       "  '# ex2. 두 매개변수의 차이를 return하는 함수를 람다식으로 만들어보시오\\ndef sub1(a,b):\\n    return a-b\\nsub2 = lambda a,b : a-b if a>b else b-a\\nsub2(1,5)',\n",
       "  \"# ex3. 매개변수로 잔액을 받아, 잔액이 양수면 잔액을 return, 음수면 'negative'\\nex3 = lambda balance : balance if balance >=0 else 'negative'\\nex3(1)\",\n",
       "  \"# ex3. 매개변수로 잔액을 받아, 잔액이 0이상이면 잔액을 return, 음수면 'negative'\\nex3 = lambda balance : balance if balance >=0 else 'negative'\\nex3(-1)\",\n",
       "  \"# ex4. 정수를 입력받아 80점 이상은 'A팀', 60점 이상은 'B팀', 60점 미만은 '재시험'\\n                    #100점 촤과, 0점미만은 '유효하지 않음'을 return\\nex4 = lambda score : score if 100>=score>=80 'A팀' elif 80>score>>=60 'B팀' elif 60>score>=0 '재시험'else '유효하지 않음'\",\n",
       "  \"# ex4. 정수를 입력받아 80점 이상은 'A팀', 60점 이상은 'B팀', 60점 미만은 '재시험'\\n                    #100점 촤과, 0점미만은 '유효하지 않음'을 return\\nex4 = lambda score : score if 100>=score>=80 'A팀' elif 80>score>>=60 'B팀' elif 60>score>=0 '재시험' else '유효하지 않음'\",\n",
       "  \"# ex4. 정수를 입력받아 80점 이상은 'A팀', 60점 이상은 'B팀', 60점 미만은 '재시험'\\n                    #100점 촤과, 0점미만은 '유효하지 않음'을 return\\nex4 = lambda score : 'A팀' if 100>=score>=80 'A팀' elif 80>score>>=60 'B팀' elif 60>score>=0 '재시험' else '유효하지 않음'\",\n",
       "  \"# ex4. 정수를 입력받아 80점 이상은 'A팀', 60점 이상은 'B팀', 60점 미만은 '재시험'\\n                    #100점 촤과, 0점미만은 '유효하지 않음'을 return\\nex4 = lambda score : 'A팀' if 100>=score>=80 'A팀' else 80>score>>=60 'B팀' else 60>score>=0 '재시험' else '유효하지 않음'\",\n",
       "  \"# ex4. 정수를 입력받아 80점 이상은 'A팀', 60점 이상은 'B팀', 60점 미만은 '재시험'\\n                    #100점 촤과, 0점미만은 '유효하지 않음'을 return\\nex4 = lambda score : 'A팀' if 100>=score>=80 'A팀' else if 80>score>>=60 'B팀' else if 60>score>=0 '재시험' else '유효하지 않음'\",\n",
       "  \"# ex4. 정수를 입력받아 80점 이상은 'A팀', 60점 이상은 'B팀', 60점 미만은 '재시험'\\n                    #100점 촤과, 0점미만은 '유효하지 않음'을 return\\nex4 = lambda score : score if 100>=score>=80 'A팀' else if 80>score>>=60 'B팀' else if 60>score>=0 '재시험' else '유효하지 않음'\",\n",
       "  \"# ex4. 정수를 입력받아 80점 이상은 'A팀', 60점 이상은 'B팀', 60점 미만은 '재시험'\\n                    #100점 촤과, 0점미만은 '유효하지 않음'을 return\\nex4 = lambda score : score if 100>= score >=80 'A팀' else if 80>score>>=60 'B팀' else if 60>score>=0 '재시험' else '유효하지 않음'\",\n",
       "  \"# ex4. 정수를 입력받아 80점 이상은 'A팀', 60점 이상은 'B팀', 60점 미만은 '재시험'\\n                    #100점 촤과, 0점미만은 '유효하지 않음'을 return\\nex4 = lambda score : score if 100>= score >=80 'A팀' else 80>score>>=60 'B팀' \",\n",
       "  \"# ex4. 정수를 입력받아 80점 이상은 'A팀', 60점 이상은 'B팀', 60점 미만은 '재시험'\\n                    #100점 촤과, 0점미만은 '유효하지 않음'을 return\\nex4 = lambda score : score if 100>= score >=80 'A팀' else 'B팀' \",\n",
       "  \"# ex4. 정수를 입력받아 80점 이상은 'A팀', 60점 이상은 'B팀', 60점 미만은 '재시험'\\n                    #100점 촤과, 0점미만은 '유효하지 않음'을 return\\nex4 = lambda score : 'A팀' if 100>= score >=80  else 'B팀' \",\n",
       "  \"# ex4. 정수를 입력받아 80점 이상은 'A팀', 60점 이상은 'B팀', 60점 미만은 '재시험'\\n                    #100점 촤과, 0점미만은 '유효하지 않음'을 return\\ndef levelChk(score):\\n    if 80<=score<=100:\\n        result = 'A팀'\\n    elif 60<=score<80:\\n        result = 'B팀'\\n    elif 0<=score<60:\\n        result = '재시험'\\n    else :\\n        result = '유효하지 않음'\\n    return result\\nex4 = lambda score : 'A팀' if 100>= score >=80  else 'B팀' \",\n",
       "  \"# ex4. 정수를 입력받아 80점 이상은 'A팀', 60점 이상은 'B팀', 60점 미만은 '재시험'\\n                    #100점 촤과, 0점미만은 '유효하지 않음'을 return\\ndef levelChk(score):\\n    if 80<=score<=100:\\n        result = 'A팀'\\n    elif 60<=score<80:\\n        result = 'B팀'\\n    elif 0<=score<60:\\n        result = '재시험'\\n    else :\\n        result = '유효하지 않음'\\n    return result\\nex4 = lambda score : 'A팀' if 100>= score >=80  else \\\\\\n                      'B팀' if 60<= score <80 else \\\\\\n                      '재시험' if 0<= score < 60 else '재시험'\",\n",
       "  'ex4(101)',\n",
       "  'ex4(99)',\n",
       "  \"# ex4. 정수를 입력받아 80점 이상은 'A팀', 60점 이상은 'B팀', 60점 미만은 '재시험'\\n                    #100점 촤과, 0점미만은 '유효하지 않음'을 return\\ndef levelChk(score):\\n    if 80<=score<=100:\\n        result = 'A팀'\\n    elif 60<=score<80:\\n        result = 'B팀'\\n    elif 0<=score<60:\\n        result = '재시험'\\n    else :\\n        result = '유효하지 않음'\\n    return result\\nex4 = lambda score : 'A팀' if 100>= score >=80  else \\\\\\n                      'B팀' if 60<= score <80 else \\\\\\n                      '재시험' if 0<= score < 60 else \\\\\\n                      '유효하지 않음'\",\n",
       "  \"# ex4. 정수를 입력받아 80점 이상은 'A팀', 60점 이상은 'B팀', 60점 미만은 '재시험'\\n                    #100점 촤과, 0점미만은 '유효하지 않음'을 return\\ndef levelChk(score):\\n    if 80<=score<=100:\\n        result = 'A팀'\\n    elif 60<=score<80:\\n        result = 'B팀'\\n    elif 0<=score<60:\\n        result = '재시험'\\n    else :\\n        result = '유효하지 않음'\\n    return result\\nex4 = lambda score : 'A팀' if 100>= score >=80  else \\\\\\n                      'B팀' if 60<= score <80 else \\\\\\n                      '재시험' if 0<= score < 60 else \\\\\\n                      '유효하지 않음'\\nex4(99), ex4(101), ex4(-1)\",\n",
       "  \"# 점수를 입력받아 학점을 return \\nscore_grade = lambda score : 'A학점' if 100>= score >=90  else \\\\\\n                              'B학점' if 80<= score <90 else \\\\\\n                              'C학점' if 70<= score < 80 else \\\\\\n                              'D학점' if 60<= score < 70 else \\\\\\n                              'F학점' if 0<= score < 60 else \\\\\\n                              '유효하지 않음' \",\n",
       "  \"# 점수를 입력받아 학점을 return \\nscore_grade = lambda score : 'A학점' if 100>= score >=90  else \\\\\\n                              'B학점' if 80<= score <90 else \\\\\\n                              'C학점' if 70<= score < 80 else \\\\\\n                              'D학점' if 60<= score < 70 else \\\\\\n                              'F학점' if 0<= score < 60 else \\\\\\n                              '유효하지 않음' \\nscore_grade(60), score_grade(120)\",\n",
       "  '#1번. 함수의 인자로 리스트를 받은 후 리스트 내에 있는 모든 정수값에 대한 최대값과 최소값을 리턴하는 함수를 작성하세요',\n",
       "  '# ex5 safe_index함수를 람다식으로\\ndef safe_index(lst, item, start=0):\\n    return lst.index(item, start) if item in lst[start:] else -1\\nex5 = lambda lst, item, start = 0 : lst.index(item, start) if item in lst[start:] else -1',\n",
       "  '# ex5 safe_index함수를 람다식으로\\ndef safe_index(lst, item, start=0):\\n    return lst.index(item, start) if item in lst[start:] else -1\\nex5 = lambda lst, item, start = 0 : lst.index(item, start) if item in lst[start:] else -1\\nlst = [1,2,3]\\nsafe_index(lst,4), ex5(lst,3, 1)',\n",
       "  \"#2번. 체질량 지수(Body Mass Index, BMI)는 체중과 키를 이용해 비만도를 나타내는 지수로 아래의 수식에 의해 계산됩니다.\\n#     함수의 인자로 체중(kg)과 신장(m)를 입력받은 후 BMI값에 따라 '마른체형','표준','비만','고도비만' 중 하나의 상테를\\n#     출력하는 함수를 구현해 보세요\",\n",
       "  '#3번. 직각삼각형의 밑변과 높이를 입력받은 후 삼각형의 면적과 둘레를 계산하는 함수를 작성하세요.',\n",
       "  '#4번. 함수의 인자로 시작과 끝 숫자가 주어질 때 시작부터 끝까지의 모든 정수값의 합을 리턴하는 함수를 작성하세요.',\n",
       "  '#5번. 함수의 인자로 문자열을 포함하는 리스트가 입력될 때 각 문자열의 첫 세글자로만 구성된 리스트를 리턴하는 함수와 람닥실을\\n#    작성하세요.',\n",
       "  '#6. 다음 코드를 람다 함수 형태로 수정할 때 알맞은 코드를 작성하시오.',\n",
       "  '#7. ex =[1,2,3,4,5]를 [1,4,9,16,25]의 결과를 얻을 수 있도록 람다함수와 map()함수를 사용하여 구현과 리스트 컴프리헨션으로\\n#   구하시오.',\n",
       "  '#9번. 다음 코드의 실행 결과는?',\n",
       "  '#10번. n개의 벡터(리스트나 튜플, 셋등)들의 크기가 같은지 여부를 return하는\\n#     vector_size_check(*vector_var)를 한 줄의 코드(리스트 컴프리헨션 이용)로 작성하시오.',\n",
       "  \"# 람다식을 list에 들어갈 수 있음\\nadd = lambda a, b : a + b\\nsub = lambda a, b : a - b\\nmul = lambda a, b : a * b\\ndiv = lambda a, b : a / b if b else '두번째 인자가 0이면 못 나눔'\\noperations = [add, sub, mul, div] #사칙연산 함수들\\n\\ndef act_opertions(a, b, operations = operations) : # a,b의 사칙연산 결과를 return\\n    result = []\\n    for op in operations :\\n        result.append(op(a, b))\\n    return result\\n\\nact_opertions(20, 5)\",\n",
       "  'operations.append(lambda x, y : x**y)\\nlen(operations)',\n",
       "  'act_opertions(8, 2)',\n",
       "  '#11번. 다음과 같은 결과를 얻기 위해 하나의 스칼라값을 리스트나 튜플, 셋등 벡터에 곱하는 코드를 작성하시오.',\n",
       "  '#1번. 다음 코드의 실행 결과는?',\n",
       "  '#2번. 함수 영역과 변수들의 참조 영역에 따른 동작을 보여주기 위한 문제입니다. 오류가 발생하는 라인을 찾고\\n#    문제를 해결하기 위한 코드를 작성하며, 실행 결과를 쓰세요.',\n",
       "  '#3번. 다음 구문을 실행한 결과는',\n",
       "  '#4번. 다음 구문의 실행 결과는?',\n",
       "  '#5번. 다음 구문의 실행 결과는?',\n",
       "  '#6번. 파이썬 함수에 대한 설명 중 잘못된 것은?',\n",
       "  '#7번. 다음과 같은 구문이 있을 경우 오류가 발생하는 함수 호출은?',\n",
       "  '#8번. 다음 보기가 설명하는 것을 작성하기 위한 키워드를 쓰세요.(영문 소문자로 쓰세요)',\n",
       "  'map_template(lambda a:a, [1,2,3])',\n",
       "  'def map_template(func, L=[]):\\n    result = []\\n    for item in L:\\n        result.appemd(item)\\n    return result',\n",
       "  'map_template(lambda a:a, [1,2,3])',\n",
       "  'def map_template(func, L=[]):\\n    result = []\\n    for item in L:\\n        result.append(item)\\n    return result',\n",
       "  'map_template(lambda a:a, [1,2,3])',\n",
       "  'def map_template(func, L=[]):\\n    result = []\\n    for item in L:\\n        result.append(func(item))\\n    return result',\n",
       "  'map_template(lambda a:a, [1,2,3])',\n",
       "  'list_dat = [1,2,3,4,5,6,7,8,9]\\ndef x_2(x):\\n    return x*2\\nmap_template(x_2, list_data)',\n",
       "  'list_data = [1,2,3,4,5,6,7,8,9]\\ndef x_2(x):\\n    return x*2\\nmap_template(x_2, list_data)',\n",
       "  'def map_template(func, L=[]):\\n    result = []\\n    for item in L:\\n        result.append(func(item))\\n    return result',\n",
       "  'list_data = [1,2,3,4,5,6,7,8,9]\\ndef x_2(x):\\n    return x*2\\nmap_template(x_2, list_data)',\n",
       "  'list_data = [1,2,3,4,5,6,7,8,9]\\ndef x_2(x):\\n    return x*2\\nmap_template(x_2, list_data)',\n",
       "  'list_data = [1,2,3,4,5,6,7,8,9]\\ndef x_2(x):\\n#    return x*2\\n#map_template(x_2, list_data)\\nx_2= lamabda x : x*2',\n",
       "  'list_data = [1,2,3,4,5,6,7,8,9]\\ndef x_2(x):\\n#    return x*2\\n#map_template(x_2, list_data)\\nx_2= lambda x : x*2',\n",
       "  'list_data = [1,2,3,4,5,6,7,8,9]\\ndef x_2(x):\\n#    return x*2\\n#map_template(x_2, list_data)\\nx_2 = lambda x : x*2',\n",
       "  'list_data = [1,2,3,4,5,6,7,8,9]\\n#def x_2(x):\\n#    return x*2\\nmap_template(x_2, list_data)\\nx_2 = lambda x : x*2',\n",
       "  'map_template(lambda x:x*2, list_data)',\n",
       "  'list_data = [1,2,3,4,5,6,7,8,9]\\n#def x_2(x):\\n#    return x*2\\nmap_template(x_2, list_data)\\nx_2 = lambda x : x*2',\n",
       "  'map_template(lambda x:x*2, list_data)',\n",
       "  'list_data = [1,2,3,4,5,6,7,8,9]\\n#def x_2(x):\\n#    return x*2\\nx_2 = lambda x : x*2\\nmap_template(x_2, list_data)',\n",
       "  '# 리스트 컴프리헨션\\n[item*2 for item in lst_data]',\n",
       "  '# 리스트 컴프리헨션\\n[item*2 for item in list_data]',\n",
       "  'map(lambda x; x*2, list_data)',\n",
       "  'map(lambda x ; x*2, list_data)',\n",
       "  'map(lambda x : x*2, list_data)',\n",
       "  'map(lambda x : x*2, list_data)',\n",
       "  'map(lambda x : x*2 , list_data)',\n",
       "  'list(map(lambda x : x*2 , list_data))',\n",
       "  \"for data in map(lambda x:x*2, list_data):\\n    print(data, end = ' ')\",\n",
       "  \"'''\\n예제 1 prices = ['5,000', '5000', '6,000', '1000','5,000', '5000', '6,000', '1000’]를 [5000,5000,6000,1000]식으로 바꾸시오\\n'''\\nprices = ['5,000', '5000', '6,000', '1000','5,000', '5000', '6,000', '1000']\\nprices_int = [5000, 5000, 6000, 1000]\",\n",
       "  \"'''\\n예제 1 prices = ['5,000', '5000', '6,000', '1000','5,000', '5000', '6,000', '1000’]를 [5000,5000,6000,1000]식으로 바꾸시오\\n'''\\nprices = ['5,000', '5000', '6,000', '1000','5,000', '5000', '6,000', '1000']\\nmap(lambda x : x, prices)\",\n",
       "  \"'''\\n예제 1 prices = ['5,000', '5000', '6,000', '1000','5,000', '5000', '6,000', '1000’]를 [5000,5000,6000,1000]식으로 바꾸시오\\n'''\\nprices = ['5,000', '5000', '6,000', '1000','5,000', '5000', '6,000', '1000']\\nlist(map(lambda x : x, prices))\",\n",
       "  \"'''\\n예제 1 prices = ['5,000', '5000', '6,000', '1000','5,000', '5000', '6,000', '1000’]를 [5000,5000,6000,1000]식으로 바꾸시오\\n'''\\nprices = ['5,000', '5000', '6,000', '1000','5,000', '5000', '6,000', '1000']\\nreplace(map(lambda x : x, prices))\",\n",
       "  \"'''\\n예제 1 prices = ['5,000', '5000', '6,000', '1000','5,000', '5000', '6,000', '1000’]를 [5000,5000,6000,1000]식으로 바꾸시오\\n'''\\nprices = ['5,000', '5000', '6,000', '1000','5,000', '5000', '6,000', '1000']\\ndef toint(value):\\n    return int(value.replace(',',''))\\ntoint(prices)\",\n",
       "  \"'''\\n예제 1 prices = ['5,000', '5000', '6,000', '1000','5,000', '5000', '6,000', '1000’]를 [5000,5000,6000,1000]식으로 바꾸시오\\n'''\\nprices = ['5,000', '5000', '6,000', '1000','5,000', '5000', '6,000', '1000']\\ndef toint(value):\\n    return int(value.replace(',',''))\\ntoint('500000')\",\n",
       "  \"'''\\n예제 1 prices = ['5,000', '5000', '6,000', '1000','5,000', '5000', '6,000', '1000’]를 [5000,5000,6000,1000]식으로 바꾸시오\\n'''\\nprices = ['5,000', '5000', '6,000', '1000','5,000', '5000', '6,000', '1000']\\ndef toint(value):\\n    return int(value.replace(',',''))\\ntoint('500,000')\",\n",
       "  \"'''\\n예제 1 prices = ['5,000', '5000', '6,000', '1000','5,000', '5000', '6,000', '1000’]를 [5000,5000,6000,1000]식으로 바꾸시오\\n'''\\nprices = ['5,000', '5000', '6,000', '1000','5,000', '5000', '6,000', '1000']\\n#def toint(value):\\n#    return int(value.replace(',',''))\\n#toint('500,000')\\nmap(lambda value : int(value.replace(',',''), prices))\",\n",
       "  \"'''\\n예제 1 prices = ['5,000', '5000', '6,000', '1000','5,000', '5000', '6,000', '1000’]를 [5000,5000,6000,1000]식으로 바꾸시오\\n'''\\nprices = ['5,000', '5000', '6,000', '1000','5,000', '5000', '6,000', '1000']\\n#def toint(value):\\n#    return int(value.replace(',',''))\\n#toint('500,000')\\nmap(lambda value : int(value.replace(',','')),prices)\",\n",
       "  \"'''\\n예제 1 prices = ['5,000', '5000', '6,000', '1000','5,000', '5000', '6,000', '1000’]를 [5000,5000,6000,1000]식으로 바꾸시오\\n'''\\nprices = ['5,000', '5000', '6,000', '1000','5,000', '5000', '6,000', '1000']\\n#def toint(value):\\n#    return int(value.replace(',',''))\\n#toint('500,000')\\nprices_int = map(lambda value : int(value.replace(',','')),prices)\\nfor price in prices_int:\\n    print(price, end = ' ')\",\n",
       "  \"'''\\n예제 1 prices = ['5,000', '5000', '6,000', '1000','5,000', '5000', '6,000', '1000’]를 [5000,5000,6000,1000]식으로 바꾸시오\\n'''\\nprices = ['5,000', '5000', '6,000', '1000','5,000', '5000', '6,000', '1000']\\n#def toint(value):\\n#    return int(value.replace(',',''))\\n#toint('500,000')\\nprices_int = map(lambda value : int(sorted.value.replace(',','')),prices)\\nfor price in prices_int:\\n    print(price, end = ' ')\",\n",
       "  \"'''\\n예제 1 prices = ['5,000', '5000', '6,000', '1000','5,000', '5000', '6,000', '1000’]를 [5000,5000,6000,1000]식으로 바꾸시오\\n'''\\nprices = ['5,000', '5000', '6,000', '1000','5,000', '5000', '6,000', '1000']\\n#def toint(value):\\n#    return int(value.replace(',',''))\\n#toint('500,000')\\nprices_int = map(lambda value : int(sort.value.replace(',','')),prices)\\nfor price in prices_int:\\n    print(price, end = ' ')\",\n",
       "  \"'''\\n예제 1 prices = ['5,000', '5000', '6,000', '1000','5,000', '5000', '6,000', '1000’]를 [5000,5000,6000,1000]식으로 바꾸시오\\n'''\\nprices = ['5,000', '5000', '6,000', '1000','5,000', '5000', '6,000', '1000']\\n#def toint(value):\\n#    return int(value.replace(',',''))\\n#toint('500,000')\\nprices_int = map(lambda value : int(value.replace(',','')),prices)\\n\\nfor price in prices_int:\\n    print(sorted.price, end = ' ')\",\n",
       "  \"'''\\n예제 1 prices = ['5,000', '5000', '6,000', '1000','5,000', '5000', '6,000', '1000’]를 [5000,5000,6000,1000]식으로 바꾸시오\\n'''\\nprices = ['5,000', '5000', '6,000', '1000','5,000', '5000', '6,000', '1000']\\n#def toint(value):\\n#    return int(value.replace(',',''))\\n#toint('500,000')\\nprices_int = map(lambda value : int(value.replace(',','')),prices)\\n\\nfor price in prices_int:\\n    print(price, end = ' ')\",\n",
       "  '\\'\\'\\'\\n예제 2\\nmembers1 = [{\\'name\\':\\'홍길동\\', \\'birth\\':\\'2000-01-01’},\\n{\\'name\\':\\'신길동\\', \\'birth\\':\\'1995-12-18\\'},]를\\nmembers2 = [\\n{\\'name\\':\\'홍길동\\', \\'year\\':2000, \\'month\\':1,\\'day\\':1},\\n{\\'name\\':\\'신길동\\', \\'year\\':1995, \\'month\\':12, \\'day\\':18},] 변환\\n\\'\\'\\'\\nmembers1 = [{\\'name\\':\\'홍길동\\', \\'birth\\':\\'2000-01-01\\'},{\\'name\\':\\'신길동\\', \\'birth\\':\\'1995-12-18\\'}]\\n# \\'2000-01-01\\' => {\\'year\\' : 2000, \\'month\\' : 1, \\'day\\':1}\\ndef func2 (**args) :\\n    for key, value in args.items():\\n        print(\"{}:{}\".format(key,value))\\nfun2()\\n    ',\n",
       "  '\\'\\'\\'\\n예제 2\\nmembers1 = [{\\'name\\':\\'홍길동\\', \\'birth\\':\\'2000-01-01’},\\n{\\'name\\':\\'신길동\\', \\'birth\\':\\'1995-12-18\\'},]를\\nmembers2 = [\\n{\\'name\\':\\'홍길동\\', \\'year\\':2000, \\'month\\':1,\\'day\\':1},\\n{\\'name\\':\\'신길동\\', \\'year\\':1995, \\'month\\':12, \\'day\\':18},] 변환\\n\\'\\'\\'\\nmembers1 = [{\\'name\\':\\'홍길동\\', \\'birth\\':\\'2000-01-01\\'},{\\'name\\':\\'신길동\\', \\'birth\\':\\'1995-12-18\\'}]\\n# \\'2000-01-01\\' => {\\'year\\' : 2000, \\'month\\' : 1, \\'day\\':1}\\ndef func2 (**args) :\\n    for key, value in args.items():\\n        print(\"{}:{}\".format(key,value))\\nfun2(name = \\'홍길동\\', age = 30, tel = \\'010-0000-0000\\', address = \\'서울 관악구\\', width=300, color=\\'red\\')\\n    ',\n",
       "  '\\'\\'\\'\\n예제 2\\nmembers1 = [{\\'name\\':\\'홍길동\\', \\'birth\\':\\'2000-01-01’},\\n{\\'name\\':\\'신길동\\', \\'birth\\':\\'1995-12-18\\'},]를\\nmembers2 = [\\n{\\'name\\':\\'홍길동\\', \\'year\\':2000, \\'month\\':1,\\'day\\':1},\\n{\\'name\\':\\'신길동\\', \\'year\\':1995, \\'month\\':12, \\'day\\':18},] 변환\\n\\'\\'\\'\\nmembers1 = [{\\'name\\':\\'홍길동\\', \\'birth\\':\\'2000-01-01\\'},{\\'name\\':\\'신길동\\', \\'birth\\':\\'1995-12-18\\'}]\\n# \\'2000-01-01\\' => {\\'year\\' : 2000, \\'month\\' : 1, \\'day\\':1}\\ndef func2 (**args) :\\n    for key, value in args.items():\\n        print(\"{}:{}\".format(key,value))\\nfunc2(name = \\'홍길동\\', age = 30, tel = \\'010-0000-0000\\', address = \\'서울 관악구\\', width=300, color=\\'red\\')\\n    ',\n",
       "  \"'''\\n예제 2\\nmembers1 = [{'name':'홍길동', 'birth':'2000-01-01’},\\n{'name':'신길동', 'birth':'1995-12-18'},]를\\nmembers2 = [\\n{'name':'홍길동', 'year':2000, 'month':1,'day':1},\\n{'name':'신길동', 'year':1995, 'month':12, 'day':18},] 변환\\n'''\\nmembers1 = [{'name':'홍길동', 'birth':'2000-01-01'},{'name':'신길동', 'birth':'1995-12-18'}]\\n# '2000-01-01' => {'year' : 2000, 'month' : 1, 'day':1}\\ndef split_date(date):\\n    split_date = date.split('-')\\n    return split_date\\nsplit_dat('2025-01-01')\\n    \",\n",
       "  \"'''\\n예제 2\\nmembers1 = [{'name':'홍길동', 'birth':'2000-01-01’},\\n{'name':'신길동', 'birth':'1995-12-18'},]를\\nmembers2 = [\\n{'name':'홍길동', 'year':2000, 'month':1,'day':1},\\n{'name':'신길동', 'year':1995, 'month':12, 'day':18},] 변환\\n'''\\nmembers1 = [{'name':'홍길동', 'birth':'2000-01-01'},{'name':'신길동', 'birth':'1995-12-18'}]\\n# '2000-01-01' => {'year' : 2000, 'month' : 1, 'day':1}\\ndef split_date(date):\\n    split_date = date.split('-')\\n    return split_date\\nsplit_date('2025-01-01')\\n    \",\n",
       "  \"'''\\n예제 2\\nmembers1 = [{'name':'홍길동', 'birth':'2000-01-01’},\\n{'name':'신길동', 'birth':'1995-12-18'},]를\\nmembers2 = [\\n{'name':'홍길동', 'year':2000, 'month':1,'day':1},\\n{'name':'신길동', 'year':1995, 'month':12, 'day':18},] 변환\\n'''\\nmembers1 = [{'name':'홍길동', 'birth':'2000-01-01'},{'name':'신길동', 'birth':'1995-12-18'}]\\n# '2000-01-01' => {'year' : 2000, 'month' : 1, 'day':1}\\ndef split_date(date):\\n    split_date = date.split('-')\\n    return {\\n            'year':int(split_date[0]),\\n            'month':int(split_date[1]),\\n            'day' : int(split_date[2])\\n    }\\nsplit_date('2025-01-01'), split_date('1995-12-21')\\n    \",\n",
       "  \"'''\\n예제 2\\nmembers1 = [{'name':'홍길동', 'birth':'2000-01-01’},\\n{'name':'신길동', 'birth':'1995-12-18'},]를\\nmembers2 = [\\n{'name':'홍길동', 'year':2000, 'month':1,'day':1},\\n{'name':'신길동', 'year':1995, 'month':12, 'day':18},] 변환\\n'''\\nmembers1 = [{'name':'홍길동', 'birth':'2000-01-01'},{'name':'신길동', 'birth':'1995-12-18'}]\\n# '2000-01-01' => {'year' : 2000, 'month' : 1, 'day':1}\\ndef split_date(date):\\n    split_date = date.split('-')\\n    return {\\n            'year':int(split_date[0]),\\n            'month':int(split_date[1]),\\n            'day' : int(split_date[2])\\n    }\\nsplit_date('2025-01-01'), split_date('1995-12-21')\\n    \",\n",
       "  \"def split_date(date):\\n    return {\\n            'year':int(split_date[0]),\\n            'month':int(split_date[1]),\\n            'day' : int(split_date[2])\\n    }\\nsplit_date('2025-01-01'), split_date('1995-12-21')\\nmap(lambda date : int(date.split('-')), 'year', 'month', 'day')\",\n",
       "  \"def split_date(date):\\n    return {\\n            'year':int(split_date[0]),\\n            'month':int(split_date[1]),\\n            'day' : int(split_date[2])\\n    }\\nsplit_date('2025-01-01'), split_date('1995-12-21')\\nmap(lambda date : int(date.split('-')[]), 'year', 'month', 'day')\",\n",
       "  \"def split_date(date):\\n    return {\\n            'year':int(split_date[0]),\\n            'month':int(split_date[1]),\\n            'day' : int(split_date[2])\\n    }\\nsplit_date('2025-01-01'), split_date('1995-12-21')\\nmap(lambda date : int(date.split('-')[0]), 'year', 'month', 'day')\",\n",
       "  \"split_date = date.splint('-')\\nmap(lambda date : int(splite_date[]), 'year', 'month', 'day')\",\n",
       "  \"split_date = date.splint('-')\\nmap(lambda date : int(split_date[]), 'year', 'month', 'day')\",\n",
       "  \"split_date = date.splint('-')\\nmap(lambda date : int(split_date), ['year', 'month', 'day'])\",\n",
       "  \"split_date = date.split('-')\\nmap(lambda date : int(split_date), ['year', 'month', 'day'])\",\n",
       "  \"split_date = date.split('-')\\nmap(lambda date : int(split_date[]), ['year', 'month', 'day'])\",\n",
       "  \"split_date = date.split('-')\\nmap(lambda date : int(split_date), ['year', 'month', 'day'])\",\n",
       "  \"'''\\n예제 2\\nmembers1 = [{'name':'홍길동', 'birth':'2000-01-01’},\\n{'name':'신길동', 'birth':'1995-12-18'},]를\\nmembers2 = [\\n{'name':'홍길동', 'year':2000, 'month':1,'day':1},\\n{'name':'신길동', 'year':1995, 'month':12, 'day':18},] 변환\\n'''\\nmembers1 = [{'name':'홍길동', 'birth':'2000-01-01'},{'name':'신길동', 'birth':'1995-12-18'}]\\n# '2000-01-01' => {'year' : 2000, 'month' : 1, 'day':1}\\ndef split_date(date):\\n    split_date = date.split('-')\\n        return {\\n            'year':int(split_date[0]),\\n            'month':int(split_date[1]),\\n            'day' : int(split_date[2])\\n    }\\nsplit_date('2025-01-01'), split_date('1995-12-21')\\n    \",\n",
       "  \"'''\\n예제 2\\nmembers1 = [{'name':'홍길동', 'birth':'2000-01-01’},\\n{'name':'신길동', 'birth':'1995-12-18'},]를\\nmembers2 = [\\n{'name':'홍길동', 'year':2000, 'month':1,'day':1},\\n{'name':'신길동', 'year':1995, 'month':12, 'day':18},] 변환\\n'''\\nmembers1 = [{'name':'홍길동', 'birth':'2000-01-01'},{'name':'신길동', 'birth':'1995-12-18'}]\\n# '2000-01-01' => {'year' : 2000, 'month' : 1, 'day':1}\\ndef split_date(date):\\n    split_date = date.split('-')\\n        return {\\n            'year':int(split_date[0]),\\n            'month':int(split_date[1]),\\n            'day' : int(split_date[2])\\n    }\\nsplit_date('2025-01-01'), split_date('1995-12-21')\\n    \",\n",
       "  \"'''\\n예제 2\\nmembers1 = [{'name':'홍길동', 'birth':'2000-01-01’},\\n{'name':'신길동', 'birth':'1995-12-18'},]를\\nmembers2 = [\\n{'name':'홍길동', 'year':2000, 'month':1,'day':1},\\n{'name':'신길동', 'year':1995, 'month':12, 'day':18},] 변환\\n'''\\nmembers1 = [{'name':'홍길동', 'birth':'2000-01-01'},{'name':'신길동', 'birth':'1995-12-18'}]\\n# '2000-01-01' => {'year' : 2000, 'month' : 1, 'day':1}\\ndef split_date(date):\\n    split_date = date.split('-')\\n        return {\\n            'year':int(split_date[0]),\\n            'month':int(split_date[1]),\\n            'day' : int(split_date[2])\\n    }\\n    \\nsplit_date('2025-01-01'), split_date('1995-12-21')\\n    \",\n",
       "  \"'''\\n예제 2\\nmembers1 = [{'name':'홍길동', 'birth':'2000-01-01’},\\n{'name':'신길동', 'birth':'1995-12-18'},]를\\nmembers2 = [\\n{'name':'홍길동', 'year':2000, 'month':1,'day':1},\\n{'name':'신길동', 'year':1995, 'month':12, 'day':18},] 변환\\n'''\\nmembers1 = [{'name':'홍길동', 'birth':'2000-01-01'},{'name':'신길동', 'birth':'1995-12-18'}]\\n# '2000-01-01' => {'year' : 2000, 'month' : 1, 'day':1}\\ndef split_date(date):\\n        split_date = date.split('-')\\n        return {\\n            'year':int(split_date[0]),\\n            'month':int(split_date[1]),\\n            'day' : int(split_date[2])\\n    }\\n    \\nsplit_date('2025-01-01'), split_date('1995-12-21')\",\n",
       "  \"def split_date(data):\\n    return {\\n        'year' : int(data['birth'].split('-')[0])\\n        'month' : int(data['birth'].split('-')[1])\\n        'day' : int(data['birth'].split('-')[2])\\n    }\\nsplit_date('2025-01-01'), split_date('1995-12-21')\",\n",
       "  \"def split_date(data):\\n    return {\\n        'year' : int(data['birth'].split('-')[0],)\\n        'month' : int(data['birth'].split('-')[1],)\\n        'day' : int(data['birth'].split('-')[2])\\n    }\\nsplit_date('2025-01-01'), split_date('1995-12-21')\",\n",
       "  \"def split_date(data):\\n    return {\\n        'year' : int(data['birth'].split('-')[0]),\\n        'month' : int(data['birth'].split('-')[1]),\\n        'day' : int(data['birth'].split('-')[2])\\n    }\\nsplit_date('2025-01-01'), split_date('1995-12-21')\",\n",
       "  \"def split_date(data):\\n    return {\\n        'year' : int(data['birth'].split('-')[0]),\\n        'month' : int(data['birth'].split('-')[1]),\\n        'day' : int(data['birth'].split('-')[2])\\n    }\",\n",
       "  \"def split_date(data):\\n    return {\\n        'year' : int(data['birth'].split('-')[0]),\\n        'month' : int(data['birth'].split('-')[1]),\\n        'day' : int(data['birth'].split('-')[2])\\n    }\\nsplit_date({'birth:2025-10-10'})\",\n",
       "  \"def split_date(data):\\n    return {\\n        'year' : int(data['birth'].split('-')[0]),\\n        'month' : int(data['birth'].split('-')[1]),\\n        'day' : int(data['birth'].split('-')[2])\\n    }\\nsplit_date({'birth : 2025-10-10'})\",\n",
       "  \"def member_preprocessing(member):\\n    return{\\n        'name' : member.get('name', '이름없음'), #member['name']\\n        'year' : int(member.get('birth').split('-')[0]),\\n        'month' : int(member.get('birth').split('-')[1]),\\n        'day' : int(member.get('birth').split('-')[2]),\\n    }\\nmember_preprocessing({'name' : '홍길동', 'birth':'2000-01-01'})\",\n",
       "  \"def split_date(data):\\n    return {\\n        'year' : int(data['birth'].split('-')[0]),\\n        'month' : int(data['birth'].split('-')[1]),\\n        'day' : int(data['birth'].split('-')[2])\\n    }\\nsplit_date({'birth' : '2025-10-10'})\",\n",
       "  \"def member_preprocessing(member):\\n    return{\\n        'name' : member.get('name', '이름없음'), #member['name']\\n        'year' : int(member.get('birth').split('-')[0]),\\n        'month' : int(member.get('birth').split('-')[1]),\\n        'day' : int(member.get('birth').split('-')[2]),\\n    }\\nmember_preprocessing({'name' : '홍길동', 'birth':'2000-01-01'})\",\n",
       "  \"members2 = list(map(lambda member : {\\n                                'name' : member.get('name', '이름없음'), \\n                                'year' : int(member.get('birth').split('-')[0]),\\n                                'month' : int(member.get('birth').split('-')[1]),\\n                                'day' : int(member.get('birth').split('-')[2]),\\n                            }, \\n                   members1)\\n               )\",\n",
       "  \"members2 = list(map(lambda member : {\\n                                'name' : member.get('name', '이름없음'), \\n                                'year' : int(member.get('birth').split('-')[0]),\\n                                'month' : int(member.get('birth').split('-')[1]),\\n                                'day' : int(member.get('birth').split('-')[2]),\\n                            }, \\n                   members1)\\n               )\",\n",
       "  \"members2 = list(map(lambda member : {\\n                                'name' : member.get('name', '이름없음'), \\n                                'year' : int(member.get('birth').split('-')[0]),\\n                                'month' : int(member.get('birth').split('-')[1]),\\n                                'day' : int(member.get('birth').split('-')[2]),\\n                            }, members1 \\n                   )\\n               )\",\n",
       "  \"members2 = list(map(lambda member : {\\n                                'name' : member.get('name', '이름없음'), \\n                                'year' : int(member.get('birth').split('-')[0]),\\n                                'month' : int(member.get('birth').split('-')[1]),\\n                                'day' : int(member.get('birth').split('-')[2]),\\n                            }, members1 \\n                   )\\n               )\\nmembers2\",\n",
       "  \"members2 = list(map(lambda member : {\\n                                'name' : member.get('name', '이름없음'), \\n                                'year' : int(member.get('birth').split('-')[0]),\\n                                'month' : int(member.get('birth').split('-')[1]),\\n                                'day' : int(member.get('birth').split('-')[2]),\\n                            }, members1 \\n                   )\\n               )\\nmembers2\",\n",
       "  \"'''\\n예제3 members2를 members1로 전환\\n'''\\nmembers1 = list(map(lambda member : {\\n                                'name' : member.get('name', '이름없음'), \\n                                'birht' : int(member.get('year', 'month', 'day').join('-')[0])\\n                                }, members2\\n                   )\\n               )\",\n",
       "  \"'''\\n예제3 members2를 members1로 전환\\n'''\\nmembers1 = list(map(lambda member : {\\n                                'name' : member.get('name', '이름없음'), \\n                                'birth' : int(member.get('year', 'month', 'day').join('-')[0])\\n                                }, members2\\n                   )\\n               )\",\n",
       "  '\\'\\'\\'\\n예제3 members2를 members1로 전환\\n\\'\\'\\'\\ndef join_data(data):\\n    return \"{}-{:02}-{}\".format(data.get(\\'year\\'), data.get(month), data.get(\\'day\\'))\\njoin_date({\\'year\\':2000, \\'month\\': 9, \\'day\\': 9})',\n",
       "  '\\'\\'\\'\\n예제3 members2를 members1로 전환\\n\\'\\'\\'\\ndef join_date(data):\\n    return \"{}-{:02}-{}\".format(data.get(\\'year\\'), data.get(month), data.get(\\'day\\'))\\njoin_date({\\'year\\':2000, \\'month\\': 9, \\'day\\': 9})',\n",
       "  '\\'\\'\\'\\n예제3 members2를 members1로 전환\\n\\'\\'\\'\\ndef join_date(data):\\n    return \"{}-{:02}-{}\".format(data.get(\\'year\\'), data.get(\\'month\\'), data.get(\\'day\\'))\\njoin_date({\\'year\\':2000, \\'month\\': 9, \\'day\\': 9})',\n",
       "  '\\'\\'\\'\\n예제3 members2를 members1로 전환\\n\\'\\'\\'\\ndef join_date(data):\\n    return \"{}-{:02}-{}\".format(data.get(\\'year\\'), data.get(\\'month\\'), data.get(\\'day\\'))\\njoin_date({\\'year\\':2000, \\'month\\': 9, \\'day\\': 9})',\n",
       "  '\\'\\'\\'\\n예제3 members2를 members1로 전환\\n\\'\\'\\'\\ndef join_date(data):\\n    return \"{}-{:02}-{:02}\".format(data.get(\\'year\\'), data.get(\\'month\\'), data.get(\\'day\\'))\\njoin_date({\\'year\\':2000, \\'month\\': 9, \\'day\\': 9})',\n",
       "  'def join_date(data):\\n    return \"{year}-{month:02}-{day:02}\".format(year=data.get(\\'year\\'), \\n                                                month=data.get(\\'month\\'), \\n                                                day=data.get(\\'day\\'))\\njoin_date({\\'year\\':2000, \\'month\\': 9, \\'day\\': 9})',\n",
       "  'def join_date(data):\\n    return \"{year}-{month:02}-{day:02}\".format(**data)\\njoin_date({\\'year\\':2000, \\'month\\': 9, \\'day\\': 9})',\n",
       "  'def join_date(data):\\n    return {\"birth\":\"{year}-{month:02}-{day:02}\".format(**data)}\\njoin_date({\\'year\\':2000, \\'month\\': 9, \\'day\\': 9})',\n",
       "  'def join_date(data):\\n    return {\"name\":birth\":\"{year}-{month:02}-{day:02}\".format(**data)}\\njoin_date({\\'year\\':2000, \\'month\\': 9, \\'day\\': 9})',\n",
       "  'def join_date(data):\\n    return {\"name\": \"birth\":\"{year}-{month:02}-{day:02}\".format(**data)}\\njoin_date({\\'year\\':2000, \\'month\\': 9, \\'day\\': 9})',\n",
       "  'def join_date(data):\\n    return {\"name\": \"birth\":\"{year}-{month:02}-{day:02}\".format(**data)}\\njoin_date({\\'name\\':hong \\'year\\':2000, \\'month\\': 9, \\'day\\': 9})',\n",
       "  'def join_date(data):\\n    return {\"name\":, \"birth\":\"{year}-{month:02}-{day:02}\".format(**data)}\\njoin_date({\\'name\\':hong \\'year\\':2000, \\'month\\': 9, \\'day\\': 9})',\n",
       "  'def join_date(data):\\n    return {\"name\":\"birth\":\"{year}-{month:02}-{day:02}\".format(**data)}\\njoin_date({\\'name\\':hong \\'year\\':2000, \\'month\\': 9, \\'day\\': 9})',\n",
       "  'def join_date(data):\\n    return {\"name\":\"hong\"\"birth\":\"{year}-{month:02}-{day:02}\".format(**data)}\\njoin_date({\\'name\\':hong \\'year\\':2000, \\'month\\': 9, \\'day\\': 9})',\n",
       "  'def join_date(data):\\n    return {\"name\":\"\"\"birth\":\"{year}-{month:02}-{day:02}\".format(**data)}\\njoin_date({\\'name\\':hong \\'year\\':2000, \\'month\\': 9, \\'day\\': 9})',\n",
       "  'def join_date(data):\\n    return {\"name\":hong \"birth\":\"{year}-{month:02}-{day:02}\".format(**data)}\\njoin_date({\\'name\\':hong \\'year\\':2000, \\'month\\': 9, \\'day\\': 9})',\n",
       "  'def join_date(data):\\n    return {\"name\": data.get(\\'name\\'), \"birth\":\"{year}-{month:02}-{day:02}\".format(**data)}\\njoin_date({\\'name\\':hong \\'year\\':2000, \\'month\\': 9, \\'day\\': 9})',\n",
       "  'def join_date(data):\\n    return {\"name:\", \"birth\":\"{year}-{month:02}-{day:02}\".format(**data)}\\njoin_date({\\'name\\':hong \\'year\\':2000, \\'month\\': 9, \\'day\\': 9})',\n",
       "  'def members_preprocessing(member):\\n    return {\\n        \\'name\\': member.get(\\'name\\'),\\n        \\'birth\\':\"{year}-{month:02}-{day:02}\".format(**member)\\n    }',\n",
       "  'def members_preprocessing(member):\\n    return {\\n        \\'name\\': member.get(\\'name\\'),\\n        \\'birth\\':\"{year}-{month:02}-{day:02}\".format(**member)\\n    }\\nmembers_preprocessing({\\'name\\': \\'hong\\', \\'year\\':2000,\\'month\\':1,\\'day\\':1})',\n",
       "  'members1 = list(map(lambda member: {\\n         \\'name\\': member.get(\\'name\\'),\\n         \\'birth\\':\"{year}-{month:02}-{day:02}\".format(**member)\\n            } members2\\n                   ))',\n",
       "  'members1 = list(map(lambda member: {\\n         \\'name\\': member.get(\\'name\\'),\\n         \\'birth\\':int(\"{year}-{month:02}-{day:02}\".format(**member))\\n            } members2\\n                   ))',\n",
       "  'members1 = list(map(lambda member:{\\n         \\'name\\': member.get(\\'name\\'),\\n         \\'birth\\':\"{year}-{month:02}-{day:02}\".format(**member)\\n            }, members2 \\n                   ))',\n",
       "  'members1 = list(map(lambda member:{\\n         \\'name\\': member.get(\\'name\\'),\\n         \\'birth\\':\"{year}-{month:02}-{day:02}\".format(**member)\\n            }, members2 \\n                   ))',\n",
       "  'members1 = list(map(lambda member:{\\n         \\'name\\': member.get(\\'name\\'),\\n         \\'birth\\':\"{year}-{month:02}-{day:02}\".format(**member)\\n            }, members2 \\n                )\\n               )',\n",
       "  'list(map(lambda member:{\\n         \\'name\\': member.get(\\'name\\'),\\n         \\'birth\\':\"{year}-{month:02}-{day:02}\".format(**member)\\n            }, members2 \\n                )\\n               )',\n",
       "  'def filter_template(func, L=[]):\\n    result = []\\n    for item in L :\\n        if func(item):\\n            result.append(item)\\n    return result',\n",
       "  'list_data = [1,2,3,4,5,6,7,8,9]\\ndef odd_chk(value):\\n    return value%2:\\n#    if value%2 :\\n#        return True\\n#    else:\\n#        return False\\nfilter_template(lambda value : value%2, list_data)',\n",
       "  'list_data = [1,2,3,4,5,6,7,8,9]\\ndef odd_chk(value):\\n    return value%2 \\n#    if value%2 :\\n#        return True\\n#    else:\\n#        return False\\nfilter_template(lambda value : value%2, list_data)',\n",
       "  '# 리스트컴프리헨션\\n[for value in list_data if value %2 != 0]',\n",
       "  '# 리스트컴프리헨션\\n[value for value in list_data if value%2!=0]',\n",
       "  '# 예제 : 다음 리스트에서 소수점 이하가 0인 수만 추출하시오(filter/리스트컴프리헨션)\\nL = [1, 1.2, 1.5, 3.0, 10.5, 100,-2, -12.2]\\n[value for value in L if value%1 = 0]',\n",
       "  '# 예제 : 다음 리스트에서 소수점 이하가 0인 수만 추출하시오(filter/리스트컴프리헨션)\\nL = [1, 1.2, 1.5, 3.0, 10.5, 100,-2, -12.2]\\n[value for value in L if value%1!=0]',\n",
       "  '# 예제 : 다음 리스트에서 소수점 이하가 0인 수만 추출하시오(filter/리스트컴프리헨션)\\nL = [1, 1.2, 1.5, 3.0, 10.5, 100,-2, -12.2]\\n[value for value in L if value%1d=0]',\n",
       "  '# 예제 : 다음 리스트에서 소수점 이하가 0인 수만 추출하시오(filter/리스트컴프리헨션)\\nL = [1, 1.2, 1.5, 3.0, 10.5, 100,-2, -12.2]\\n[value for value in L if value%1==0]',\n",
       "  '# 예제 : 다음 리스트에서 소수점 이하가 0인 수만 추출하시오(filter/리스트컴프리헨션)\\nL = [1, 1.2, 1.5, 3.0, 10.5, 100,-2, -12.2]\\nlist(filter(lambda x : x%1==0))\\n[value for value in L if value%1==0]',\n",
       "  '# 예제 : 다음 리스트에서 소수점 이하가 0인 수만 추출하시오(filter/리스트컴프리헨션)\\nL = [1, 1.2, 1.5, 3.0, 10.5, 100,-2, -12.2]\\nlist(filter(lambda x : x%1==0, L))\\n[value for value in L if value%1==0]',\n",
       "  \"# 무조건 0번째 item을 기준으로 오름차순 정렬\\npairs = [(2, 'two'), (1, 'one'), (3, 'three'), (4, 'four')]\\npairs.sort()\\npairs\",\n",
       "  '# 1번째 item 기준으로 내림차순 정렬\\npairs.sort(key=lambda data : data[1])',\n",
       "  '# 1번째 item 기준으로 내림차순 정렬\\npairs.sort(key=lambda data : data[1])\\npairs',\n",
       "  'pairs.sort(key=lambda data : data[1], revese=True)\\npairs',\n",
       "  'pairs.sort(key=lambda data : data[1], reverse=True)\\npairs',\n",
       "  '# 합이 큰 순으로 정렬\\nnumber_2d = [[9,9], [1,100], [10,1]]\\nnumber_2d.sort(key=lambda data : data[1])',\n",
       "  '# 합이 큰 순으로 정렬\\nnumber_2d = [[9,9], [1,100], [10,1]]\\nnumber_2d.sort(key=lambda data : data[1])\\nnumber_2d',\n",
       "  '# 합이 큰 순으로 정렬\\nnumber_2d = [[9,9], [1,100], [10,200]]\\nnumber_2d.sort(key=lambda data : data[[0]+[1]])\\nnumber_2d',\n",
       "  '# 합이 큰 순으로 정렬\\nnumber_2d = [[9,9], [1,100], [10,200]]\\nnumber_2d.sort(key=lambda data : data[sum[0][1]])\\nnumber_2d',\n",
       "  '# 합이 큰 순으로 정렬\\nnumber_2d = [[9,9], [1,100], [10,200]]\\nnumber_2d.sort(key=lambda data : sum += data)\\nnumber_2d',\n",
       "  '# 합이 큰 순으로 정렬\\nnumber_2d = [[9,9], [1,100], [10,200]]\\nnumber_2d.sort(key=lambda data : sum += data,number_2d)\\nnumber_2d',\n",
       "  '# 합이 큰 순으로 정렬\\nnumber_2d = [[9,9], [1,100], [10,200]]\\nnumber_2d.sort(key=lambda data : data += data,number_2d)\\nnumber_2d',\n",
       "  '# 합이 큰 순으로 정렬\\nnumber_2d = [[9,9], [1,100], [10,200]]\\nnumber_2d.sort(key=lambda x : sum +=x ,number_2d)\\nnumber_2d',\n",
       "  '# 합이 큰 순으로 정렬\\nnumber_2d = [[9,9], [1,100], [10,200]]\\nnumber_2d.sort(key=(lambda items : sum(itmes),number_2d)\\nnumber_2d',\n",
       "  '# 합이 큰 순으로 정렬\\nnumber_2d = [[9,9], [1,100], [10,200]]\\nnumber_2d.sort(key=(lambda items : sum(itmes), reverse=True)\\nnumber_2d',\n",
       "  '# 합이 큰 순으로 정렬\\nnumber_2d = [[9,9], [1,100], [10,200]]\\nnumber_2d.sort(key=(lambda items : sum(itmes), reverse==True)\\nnumber_2d',\n",
       "  '# 합이 큰 순으로 정렬\\nnumber_2d = [[9,9], [1,100], [10,200]]\\nnumber_2d.sort(key=(lambda items : sum(items), reverse==True)\\nnumber_2d',\n",
       "  '# 합이 큰 순으로 정렬\\nnumber_2d = [[9,9], [1,100], [10,200]]\\nnumber_2d.sort(key=(lambda items : sum(items), reverse=True)\\nnumber_2d',\n",
       "  '# 합이 큰 순으로 정렬\\nnumber_2d = [[9,9], [1,100], [10,200]]\\nnumber_2d.sort(key=(lambda items : sum(items), reverse=True)\\nnumber_2d',\n",
       "  '# 합이 큰 순으로 정렬\\nnumber_2d = [[9,9], [1,100], [10,200]]\\nnumber_2d.sort(key=(lambda items : sum(items), reverse = True)\\nnumber_2d',\n",
       "  '# 합이 큰 순으로 정렬\\nnumber_2d = [[9,9], [1,100], [10,200]]\\nnumber_2d.sort(key=(lambda items : sum(items), reversed = True)\\nnumber_2d',\n",
       "  '# 합이 큰 순으로 정렬\\nnumber_2d = [[9,9], [1,100], [10,200]]\\nnumber_2d.sort(key=(lambda items : sum(items), reverse == True)\\nnumber_2d',\n",
       "  '# 합이 큰 순으로 정렬\\nnumber_2d = [[9,9], [1,100], [10,200]]\\nnumber_2d.sort(key=lambda items : sum(items), reverse =True)\\nnumber_2d',\n",
       "  \"students = [{'name' : '홍', 'score' : 99},\\n           {'name' : '김', 'score' : 50}\\n           {'name' : '박', 'score' : 77}\\n           {'score' : 99}]\",\n",
       "  \"students = [{'name' : '홍', 'score' : 99},\\n           {'name' : '김', 'score' : 50}\\n           {'name' : '박', 'score' : 77}\\n           {'score' : 99}]\",\n",
       "  \"students = [{'name' : '홍', 'score' : 99},\\n           {'name' : '김', 'score' : 50},\\n           {'name' : '박', 'score' : 77},\\n           {'score' : 99}]\",\n",
       "  \"name_select = lambda data : data.get('score')\\nname_select({'name':'홍', 'score':90})\",\n",
       "  \"# students를 name순으로 정렬(ㄱㄴㄷ 순)\\nstudnets.sort(key= lambda dat : data.get('name', ' '))\\nstudents\",\n",
       "  \"# students를 name순으로 정렬(ㄱㄴㄷ 순)\\nstudents.sort(key= lambda dat : data.get('name', ' '))\\nstudents\",\n",
       "  \"# students를 name순으로 정렬(ㄱㄴㄷ 순)\\nstudents.sort(key= lambda data : data.get('name', ' '))\\nstudentsa\",\n",
       "  \"# students를 name순으로 정렬(ㄱㄴㄷ 순)\\nstudents.sort(key= lambda data : data.get('name', ' '))\\nstudents\",\n",
       "  \"# students를 score 큰 순 정렬\\nstudents.sort(key= lambda data : data.get('score', ' '))\\nstudents\",\n",
       "  \"# students를 score 큰 순 정렬\\nstudents.sort(key= lambda data : data.get('score', ' '),reverse = True)\\nstudents\",\n",
       "  \"books = \\\\\\n[{'no':1, 'title':'더트릭컬', 'writer': '폴빠','price':'19,800'},\\n{'no':2, 'title’:’흔한남매', 'writer’:’백난도', 'price’:’15,120'},\\n{'no':3, 'title':'단 한 번의 삶', 'writer':'김영하', 'price':'15,120'},\\n{'no':4, 'title':'가격잘못', 'writer':'홍길동', 'price':'ㅁ'},\\n{'no':5, 'title':'가격이숫자', 'writer':'백난도', 'price':30200},\\n{'no':6, 'title':'가격이없음', 'writer':'이길동’},] 정렬\",\n",
       "  \"books = \\\\\\n[{'no':1, 'title':'더트릭컬', 'writer': '폴빠','price':'19,800'},\\n{'no':2, 'title’:’흔한남매', 'writer’:’백난도', 'price’:’15,120'},\\n{'no':3, 'title':'단 한 번의 삶', 'writer':'김영하', 'price':'15,120'},\\n{'no':4, 'title':'가격잘못', 'writer':'홍길동', 'price':'ㅁ'},\\n{'no':5, 'title':'가격이숫자', 'writer':'백난도', 'price':30200},\\n{'no':6, 'title':'가격이없음', 'writer':'이길동’},] \",\n",
       "  \"books = \\\\\\n[{'no':1, 'title':'더트릭컬', 'writer': '폴빠','price':'19,800'},\\n{'no':2, 'title’:’흔한남매', 'writer’:’백난도', 'price’:’15,120'},\\n{'no':3, 'title':'단 한 번의 삶', 'writer':'김영하', 'price':'15,120'},\\n{'no':4, 'title':'가격잘못', 'writer':'홍길동', 'price':'ㅁ'},\\n{'no':5, 'title':'가격이숫자', 'writer':'백난도', 'price':30200},\\n{'no':6, 'title':'가격이없음', 'writer':'이길동'},] \",\n",
       "  \"books = \\\\\\n[{'no':1, 'title':'더트릭컬', 'writer': '폴빠','price':'19,800'},\\n{'no':2, 'title':'흔한남매', 'writer’:’백난도', 'price':'15,120'},\\n{'no':3, 'title':'단 한 번의 삶', 'writer':'김영하', 'price':'15,120'},\\n{'no':4, 'title':'가격잘못', 'writer':'홍길동', 'price':'ㅁ'},\\n{'no':5, 'title':'가격이숫자', 'writer':'백난도', 'price':30200},\\n{'no':6, 'title':'가격이없음', 'writer':'이길동'},] \",\n",
       "  \"books = \\\\\\n[{'no':1, 'title':'더트릭컬', 'writer': '폴빠','price':'19,800'},\\n{'no':2, 'title':'흔한남매', 'writer’:’백난도', 'price':'15,120'},\\n{'no':3, 'title':'단 한 번의 삶', 'writer':'김영하', 'price':'15,120'},\\n{'no':4, 'title':'가격잘못', 'writer':'홍길동', 'price':'ㅁ'},\\n{'no':5, 'title':'가격이숫자', 'writer':'백난도', 'price':30200},\\n{'no':6, 'title':'가격이없음', 'writer':'이길동'},] \",\n",
       "  \"books = \\\\\\n[{'no':1, 'title':'더트릭컬', 'writer': '폴빠','price':'19,800'},\\n{'no':2, 'title':'흔한남매', 'writer’:’백난도', 'price':'15,120'},\\n{'no':3, 'title':'단 한 번의 삶', 'writer':'김영하', 'price':'15,120'},\\n{'no':4, 'title':'가격잘못', 'writer':'홍길동', 'price':'ㅁ'},\\n{'no':5, 'title':'가격이숫자', 'writer':'백난도', 'price':30200},\\n{'no':6, 'title':'가격이없음', 'writer':'이길동'},] \",\n",
       "  \"books = \\\\\\n[{'no':1, 'title':'더트릭컬', 'writer': '폴빠','price':'19,800'},\\n{'no':2, 'title':'흔한남매', 'writer':'백난도', 'price':'15,120'},\\n{'no':3, 'title':'단 한 번의 삶', 'writer':'김영하', 'price':'15,120'},\\n{'no':4, 'title':'가격잘못', 'writer':'홍길동', 'price':'ㅁ'},\\n{'no':5, 'title':'가격이숫자', 'writer':'백난도', 'price':30200},\\n{'no':6, 'title':'가격이없음', 'writer':'이길동'},] \",\n",
       "  \"books.sort(key= lambda data : data.get('no', ''))\",\n",
       "  \"books.sort(key= lambda data : data.get('no', ''))\\nbooks\",\n",
       "  \"books.sort(key= lambda data : data.get('no', ''))\\nbooks\",\n",
       "  \"# 예제 : bokks 정렬(no, title, price)\\nbooks = \\\\\\n[{'no':2, 'title':'더트릭컬', 'writer': '폴빠','price':'19,800'},\\n{'no':1, 'title':'흔한남매', 'writer':'백난도', 'price':'15,120'},\\n{'no':3, 'title':'단 한 번의 삶', 'writer':'김영하', 'price':'15,120'},\\n{'no':4, 'title':'가격잘못', 'writer':'홍길동', 'price':'ㅁ'},\\n{'no':5, 'title':'가격이숫자', 'writer':'백난도', 'price':30200},\\n{'no':6, 'title':'가격이없음', 'writer':'이길동'},] \",\n",
       "  \"books.sort(key= lambda data : data.get('no', ''))\\nbooks\",\n",
       "  \"books.sort(key = lambda data : data.get('title', ''))\",\n",
       "  \"books.sort(key = lambda data : data.get('title', ''))\\nbooks\",\n",
       "  \"books.sort(key= lambda data : data.get['no'])\\nbooks\",\n",
       "  \"books.sort(key= lambda data : data['no'])\\nbooks\",\n",
       "  \"books.sort(key = lambda data : data['title'])\\nbooks\",\n",
       "  \"books.sort(key = lambda data : data['title'])\\nbooks\",\n",
       "  \"books.sort(key = int(lambda data : data.get('price', '')))\",\n",
       "  \"books.sort(key = (lambda data : data.get('price', ''))\",\n",
       "  \"books.sort(key = lambda data : data.get('price', ''))\",\n",
       "  'def parse_int (price):\\n    print(type(price))\\nparse_int(None)',\n",
       "  \"def parse_int (price):\\n    if isinstance(price,str) and price.replace(',','').isdigit():\\n        return int(price.replace(',', ''))\\n    elif isinstance(price,int):\\n        return price\\n    else:\\n        return 0\\n        \\nparse_int(None)\",\n",
       "  \"def parse_int (price):\\n    if isinstance(price,str) and price.replace(',','').isdigit():\\n        return int(price.replace(',', ''))\\n    elif isinstance(price,int):\\n        return price\\n    else:\\n        return 0\\nparse_int = lambda price : \\n            int(price.replace(',','')\\\\\\n                if isinstance(price,str) and price.replace(',','').isdigit() else \\\\\\n            price if isinstance(price,int) else 0       )\\nparse_int(None)\",\n",
       "  \"def parse_int (price):\\n    if isinstance(price,str) and price.replace(',','').isdigit():\\n        return int(price.replace(',', ''))\\n    elif isinstance(price,int):\\n        return price\\n    else:\\n        return 0\\nparse_int = lambda price : \\\\\\n            int(price.replace(',','')\\\\\\n                if isinstance(price,str) and price.replace(',','').isdigit() else \\\\\\n            price if isinstance(price,int) else 0       )\\nparse_int(None)\",\n",
       "  \"books.sort(key = lambda data : parse_int('price'))\",\n",
       "  \"books.sort(key = lambda data : parse_int('price'))\\nbooks\",\n",
       "  \"books.sort(key = lambda data : parse_int('price'))\\nbooks\",\n",
       "  \"books.sort(key = lambda data : parse_int('price', parse_int))\\nbooks\",\n",
       "  \"books.sort(key = lambda data : data('price', parse_int))\\nbooks\",\n",
       "  \"parse_int = lambda book : \\\\\\n            int(book.get('price').replace(',','')\\\\\\n                if isinstance(book.get('price'),str) and price.replace(',','').isdigit() else \\\\\\n            price if isinstance(book.get('price'),int) else 0       )\\nparse_int(None)\",\n",
       "  \"parse_int = lambda book : \\\\\\n            int(book.get('price').replace(',','')\\\\\\n                if isinstance(book.get('price'),str) and price.replace(',','').isdigit() else \\\\\\n            price if isinstance(book.get('price'),int) else 0       )\\nparse_int({None})\",\n",
       "  \"parse_int = lambda book : \\\\\\n            int(book.get('price').replace(',','')\\\\\\n                if isinstance(book.get('price'),str) and price.replace(',','').isdigit() else \\\\\\n            price if isinstance(book.get('price'),int) else 0       )\\nparse_int({'no': 1, 'title': '흔한남매', 'writer': '백난도', 'price': '15,120'})\",\n",
       "  \"parse_int = lambda book : \\\\\\n            int(book.get('price').replace(',','')\\\\\\n                if isinstance(book.get('price'),str) and book.get('price').replace(',','').isdigit() else \\\\\\n            price if isinstance(book.get('price'),int) else 0       )\\nparse_int({'no': 1, 'title': '흔한남매', 'writer': '백난도', 'price': '15,120'})\",\n",
       "  \"def parse_int (price):\\n    if str(price,str) and price.replace(',','').isdigit():\\n        return int(str(price).replace(',', ''))\\n    else:\\n        return 0\\nparse_int(None)\",\n",
       "  \"def parse_int (price):\\n    if str(price) and price.replace(',','').isdigit():\\n        return int(str(price).replace(',', ''))\\n    else:\\n        return 0\\nparse_int(None)\",\n",
       "  \"def parse_int (price):\\n    if str(price) and str(price).replace(',','').isdigit():\\n        return int(str(price).replace(',', ''))\\n    else:\\n        return 0\\nparse_int(None)\",\n",
       "  \"copyBooks = books.copy() #복제\\ncopyBooks.sort(key= lambda book : \\\\\\n            int(book.get('price').replace(',','')\\\\\\n                if isinstance(book.get('price'),str) and book.get('price').replace(',','').isdigit() else \\\\\\n            price if isinstance(book.get('price'),int) else 0,\\n               reverse = True))\\ncopyBooks\",\n",
       "  \"copyBooks = books.copy() #복제\\ncopyBooks.sort(key= lambda book : \\\\\\n            int(book.get('price').replace(',','')\\\\\\n                if isinstance(book.get('price'),str) and book.get('price').replace(',','').isdigit() else \\\\\\n            price if isinstance(book.get('price'),int) else \\\\\\n                0,\\n               reverse = True))\\ncopyBooks\",\n",
       "  \"copyBooks = books.copy() #복제\\ncopyBooks.sort(key= lambda book : \\\\\\n            int(book.get('price').replace(',','')\\\\\\n                if isinstance(book.get('price'),str) and book.get('price').replace(',','').isdigit() else \\\\\\n            price if isinstance(book.get('price'),int) else \\\\\\n                0,\\n            reverse = True))\\ncopyBooks\",\n",
       "  \"copyBooks = books.copy() #복제\\ncopyBooks.sort(key= lambda book : \\\\\\n            int(book.get('price').replace(',','')\\\\\\n                if isinstance(book.get('price'),str) and book.get('price').replace(',','').isdigit() else \\\\\\n            book.get('price') if isinstance(book.get('price'),int) else \\\\\\n                0,\\n            reverse = True))\\ncopyBooks\",\n",
       "  \"copyBooks = books.copy() #복제\\ncopyBooks.sort(key= lambda book : \\\\\\n            int(book.get('price').replace(',','')\\\\\\n                if isinstance(book.get('price'),str) and book.get('price').replace(',','').isdigit() else \\\\\\n            book.get('price') if isinstance(book.get('price'), int) else \\\\\\n                0,\\n            reverse = True))\\ncopyBooks\",\n",
       "  \"copyBooks = books.copy() #복제\\ncopyBooks.sort(key= lambda book : \\\\\\n            int(book.get('price').replace(',',''))\\\\\\n                if isinstance(book.get('price'),str) and book.get('price').replace(',','').isdigit() else \\\\\\n            book.get('price') if isinstance(book.get('price'), int) else \\\\\\n                0,\\n            reverse = True))\\ncopyBooks\",\n",
       "  \"copyBooks = books.copy() #복제\\ncopyBooks.sort(key= lambda book : \\\\\\n            int(book.get('price').replace(',',''))\\\\\\n                if isinstance(book.get('price'),str) and book.get('price').replace(',','').isdigit() else \\\\\\n            book.get('price') if isinstance(book.get('price'), int) else \\\\\\n                0,\\n            reverse = True)\\ncopyBooks\",\n",
       "  '#1번. 함수의 인자로 리스트를 받은 후 리스트 내에 있는 모든 정수값에 대한 최대값과 최소값을 리턴하는 함수를 작성하세요\\ndata_list = []\\ndef get_max_min(data_list):\\n    return max & min',\n",
       "  '#1번. 함수의 인자로 리스트를 받은 후 리스트 내에 있는 모든 정수값에 대한 최대값과 최소값을 리턴하는 함수를 작성하세요\\ndata_list = []\\ndef get_max_min(data_list):\\n    return max & min\\nmax',\n",
       "  '#1번. 함수의 인자로 리스트를 받은 후 리스트 내에 있는 모든 정수값에 대한 최대값과 최소값을 리턴하는 함수를 작성하세요\\ndata_list = []\\ndef get_max_min(data_list):\\n    return max & min\\ndata_list(max)',\n",
       "  '#1번. 함수의 인자로 리스트를 받은 후 리스트 내에 있는 모든 정수값에 대한 최대값과 최소값을 리턴하는 함수를 작성하세요\\ndata_list = []\\ndef get_max_min(data_list):\\n    return max & min\\ndata_list[max]',\n",
       "  '#1번. 함수의 인자로 리스트를 받은 후 리스트 내에 있는 모든 정수값에 대한 최대값과 최소값을 리턴하는 함수를 작성하세요\\ndata_list = []\\ndef get_max_min(data_list):\\n    return max & min',\n",
       "  'globals() #전역변수리스트',\n",
       "  'a =10',\n",
       "  'globals() #전역변수리스트'],\n",
       " 'Out': {2: 3,\n",
       "  4: 3,\n",
       "  5: 3,\n",
       "  8: '홀수',\n",
       "  9: ('홀수', '짝수'),\n",
       "  10: ('홀수', '홀수'),\n",
       "  11: ('홀수', '짝수'),\n",
       "  14: 1,\n",
       "  16: '홀수',\n",
       "  17: -4,\n",
       "  18: 4,\n",
       "  19: 1,\n",
       "  20: 'negative',\n",
       "  33: '재시험',\n",
       "  34: 'A팀',\n",
       "  36: ('A팀', '유효하지 않음', '유효하지 않음'),\n",
       "  38: ('D학점', '유효하지 않음'),\n",
       "  41: (-1, 2),\n",
       "  50: [25, 15, 100, 4.0],\n",
       "  51: 5,\n",
       "  52: [10, 6, 16, 4.0, 64],\n",
       "  66: [1, 2, 3],\n",
       "  68: [1, 2, 3],\n",
       "  70: [2, 4, 6, 8, 10, 12, 14, 16, 18],\n",
       "  72: [2, 4, 6, 8, 10, 12, 14, 16, 18],\n",
       "  73: [2, 4, 6, 8, 10, 12, 14, 16, 18],\n",
       "  78: [2, 4, 6, 8, 10, 12, 14, 16, 18],\n",
       "  80: [2, 4, 6, 8, 10, 12, 14, 16, 18],\n",
       "  81: [2, 4, 6, 8, 10, 12, 14, 16, 18],\n",
       "  83: [2, 4, 6, 8, 10, 12, 14, 16, 18],\n",
       "  86: <map at 0x22c0ea845b0>,\n",
       "  87: <map at 0x22c0ea84310>,\n",
       "  88: <map at 0x22c0ea863e0>,\n",
       "  89: [2, 4, 6, 8, 10, 12, 14, 16, 18],\n",
       "  92: <map at 0x22c0ea84370>,\n",
       "  93: ['5,000', '5000', '6,000', '1000', '5,000', '5000', '6,000', '1000'],\n",
       "  96: 500000,\n",
       "  97: 500000,\n",
       "  99: <map at 0x22c0c7cd060>,\n",
       "  109: ['2025', '01', '01'],\n",
       "  110: ({'year': 2025, 'month': 1, 'day': 1},\n",
       "   {'year': 1995, 'month': 12, 'day': 21}),\n",
       "  111: ({'year': 2025, 'month': 1, 'day': 1},\n",
       "   {'year': 1995, 'month': 12, 'day': 21}),\n",
       "  124: ({'year': 2025, 'month': 1, 'day': 1},\n",
       "   {'year': 1995, 'month': 12, 'day': 21}),\n",
       "  131: {'name': '홍길동', 'year': 2000, 'month': 1, 'day': 1},\n",
       "  132: {'year': 2025, 'month': 10, 'day': 10},\n",
       "  133: {'name': '홍길동', 'year': 2000, 'month': 1, 'day': 1},\n",
       "  137: [{'name': '홍길동', 'year': 2000, 'month': 1, 'day': 1},\n",
       "   {'name': '신길동', 'year': 1995, 'month': 12, 'day': 18}],\n",
       "  138: [{'name': '홍길동', 'year': 2000, 'month': 1, 'day': 1},\n",
       "   {'name': '신길동', 'year': 1995, 'month': 12, 'day': 18}],\n",
       "  143: '2000-09-9',\n",
       "  144: '2000-09-9',\n",
       "  145: '2000-09-09',\n",
       "  146: '2000-09-09',\n",
       "  147: '2000-09-09',\n",
       "  148: {'birth': '2000-09-09'},\n",
       "  160: {'name': 'hong', 'birth': '2000-01-01'},\n",
       "  166: [{'name': '홍길동', 'birth': '2000-01-01'},\n",
       "   {'name': '신길동', 'birth': '1995-12-18'}],\n",
       "  169: [1, 3, 5, 7, 9],\n",
       "  171: [1, 3, 5, 7, 9],\n",
       "  173: [1.2, 1.5, 10.5, -12.2],\n",
       "  175: [1, 3.0, 100, -2],\n",
       "  177: [1, 3.0, 100, -2],\n",
       "  178: [(2, 'two'), (3, 'three'), (1, 'one'), (4, 'four')],\n",
       "  180: [(2, 'two'), (3, 'three'), (1, 'one'), (4, 'four')],\n",
       "  182: [(2, 'two'), (3, 'three'), (1, 'one'), (4, 'four')],\n",
       "  184: [[10, 1], [9, 9], [1, 100]],\n",
       "  200: [[10, 200], [1, 100], [9, 9]],\n",
       "  204: 90,\n",
       "  208: [{'score': 99},\n",
       "   {'name': '홍', 'score': 99},\n",
       "   {'name': '박', 'score': 77},\n",
       "   {'name': '김', 'score': 50}],\n",
       "  209: [{'score': 99},\n",
       "   {'name': '홍', 'score': 99},\n",
       "   {'name': '박', 'score': 77},\n",
       "   {'name': '김', 'score': 50}],\n",
       "  210: [{'score': 99},\n",
       "   {'name': '홍', 'score': 99},\n",
       "   {'name': '박', 'score': 77},\n",
       "   {'name': '김', 'score': 50}],\n",
       "  219: [{'no': 1, 'title': '더트릭컬', 'writer': '폴빠', 'price': '19,800'},\n",
       "   {'no': 2, 'title': '흔한남매', 'writer': '백난도', 'price': '15,120'},\n",
       "   {'no': 3, 'title': '단 한 번의 삶', 'writer': '김영하', 'price': '15,120'},\n",
       "   {'no': 4, 'title': '가격잘못', 'writer': '홍길동', 'price': 'ㅁ'},\n",
       "   {'no': 5, 'title': '가격이숫자', 'writer': '백난도', 'price': 30200},\n",
       "   {'no': 6, 'title': '가격이없음', 'writer': '이길동'}],\n",
       "  220: [{'no': 1, 'title': '더트릭컬', 'writer': '폴빠', 'price': '19,800'},\n",
       "   {'no': 2, 'title': '흔한남매', 'writer': '백난도', 'price': '15,120'},\n",
       "   {'no': 3, 'title': '단 한 번의 삶', 'writer': '김영하', 'price': '15,120'},\n",
       "   {'no': 4, 'title': '가격잘못', 'writer': '홍길동', 'price': 'ㅁ'},\n",
       "   {'no': 5, 'title': '가격이숫자', 'writer': '백난도', 'price': 30200},\n",
       "   {'no': 6, 'title': '가격이없음', 'writer': '이길동'}],\n",
       "  222: [{'no': 5, 'title': '가격이숫자', 'writer': '백난도', 'price': 30200},\n",
       "   {'no': 6, 'title': '가격이없음', 'writer': '이길동'},\n",
       "   {'no': 4, 'title': '가격잘못', 'writer': '홍길동', 'price': 'ㅁ'},\n",
       "   {'no': 3, 'title': '단 한 번의 삶', 'writer': '김영하', 'price': '15,120'},\n",
       "   {'no': 2, 'title': '더트릭컬', 'writer': '폴빠', 'price': '19,800'},\n",
       "   {'no': 1, 'title': '흔한남매', 'writer': '백난도', 'price': '15,120'}],\n",
       "  224: [{'no': 5, 'title': '가격이숫자', 'writer': '백난도', 'price': 30200},\n",
       "   {'no': 6, 'title': '가격이없음', 'writer': '이길동'},\n",
       "   {'no': 4, 'title': '가격잘못', 'writer': '홍길동', 'price': 'ㅁ'},\n",
       "   {'no': 3, 'title': '단 한 번의 삶', 'writer': '김영하', 'price': '15,120'},\n",
       "   {'no': 2, 'title': '더트릭컬', 'writer': '폴빠', 'price': '19,800'},\n",
       "   {'no': 1, 'title': '흔한남매', 'writer': '백난도', 'price': '15,120'}],\n",
       "  226: [{'no': 5, 'title': '가격이숫자', 'writer': '백난도', 'price': 30200},\n",
       "   {'no': 6, 'title': '가격이없음', 'writer': '이길동'},\n",
       "   {'no': 4, 'title': '가격잘못', 'writer': '홍길동', 'price': 'ㅁ'},\n",
       "   {'no': 3, 'title': '단 한 번의 삶', 'writer': '김영하', 'price': '15,120'},\n",
       "   {'no': 2, 'title': '더트릭컬', 'writer': '폴빠', 'price': '19,800'},\n",
       "   {'no': 1, 'title': '흔한남매', 'writer': '백난도', 'price': '15,120'}],\n",
       "  227: [{'no': 5, 'title': '가격이숫자', 'writer': '백난도', 'price': 30200},\n",
       "   {'no': 6, 'title': '가격이없음', 'writer': '이길동'},\n",
       "   {'no': 4, 'title': '가격잘못', 'writer': '홍길동', 'price': 'ㅁ'},\n",
       "   {'no': 3, 'title': '단 한 번의 삶', 'writer': '김영하', 'price': '15,120'},\n",
       "   {'no': 2, 'title': '더트릭컬', 'writer': '폴빠', 'price': '19,800'},\n",
       "   {'no': 1, 'title': '흔한남매', 'writer': '백난도', 'price': '15,120'}],\n",
       "  228: [{'no': 5, 'title': '가격이숫자', 'writer': '백난도', 'price': 30200},\n",
       "   {'no': 6, 'title': '가격이없음', 'writer': '이길동'},\n",
       "   {'no': 4, 'title': '가격잘못', 'writer': '홍길동', 'price': 'ㅁ'},\n",
       "   {'no': 3, 'title': '단 한 번의 삶', 'writer': '김영하', 'price': '15,120'},\n",
       "   {'no': 2, 'title': '더트릭컬', 'writer': '폴빠', 'price': '19,800'},\n",
       "   {'no': 1, 'title': '흔한남매', 'writer': '백난도', 'price': '15,120'}],\n",
       "  233: 0,\n",
       "  235: 0,\n",
       "  237: [{'no': 5, 'title': '가격이숫자', 'writer': '백난도', 'price': 30200},\n",
       "   {'no': 6, 'title': '가격이없음', 'writer': '이길동'},\n",
       "   {'no': 4, 'title': '가격잘못', 'writer': '홍길동', 'price': 'ㅁ'},\n",
       "   {'no': 3, 'title': '단 한 번의 삶', 'writer': '김영하', 'price': '15,120'},\n",
       "   {'no': 2, 'title': '더트릭컬', 'writer': '폴빠', 'price': '19,800'},\n",
       "   {'no': 1, 'title': '흔한남매', 'writer': '백난도', 'price': '15,120'}],\n",
       "  238: [{'no': 5, 'title': '가격이숫자', 'writer': '백난도', 'price': 30200},\n",
       "   {'no': 6, 'title': '가격이없음', 'writer': '이길동'},\n",
       "   {'no': 4, 'title': '가격잘못', 'writer': '홍길동', 'price': 'ㅁ'},\n",
       "   {'no': 3, 'title': '단 한 번의 삶', 'writer': '김영하', 'price': '15,120'},\n",
       "   {'no': 2, 'title': '더트릭컬', 'writer': '폴빠', 'price': '19,800'},\n",
       "   {'no': 1, 'title': '흔한남매', 'writer': '백난도', 'price': '15,120'}],\n",
       "  244: 15120,\n",
       "  247: 0,\n",
       "  254: [{'no': 5, 'title': '가격이숫자', 'writer': '백난도', 'price': 30200},\n",
       "   {'no': 2, 'title': '더트릭컬', 'writer': '폴빠', 'price': '19,800'},\n",
       "   {'no': 3, 'title': '단 한 번의 삶', 'writer': '김영하', 'price': '15,120'},\n",
       "   {'no': 1, 'title': '흔한남매', 'writer': '백난도', 'price': '15,120'},\n",
       "   {'no': 6, 'title': '가격이없음', 'writer': '이길동'},\n",
       "   {'no': 4, 'title': '가격잘못', 'writer': '홍길동', 'price': 'ㅁ'}],\n",
       "  256: <function max>,\n",
       "  260: {...}},\n",
       " 'get_ipython': <bound method InteractiveShell.get_ipython of <ipykernel.zmqshell.ZMQInteractiveShell object at 0x0000022C0BE53DC0>>,\n",
       " 'exit': <IPython.core.autocall.ZMQExitAutocall at 0x22c0be5fee0>,\n",
       " 'quit': <IPython.core.autocall.ZMQExitAutocall at 0x22c0be5fee0>,\n",
       " 'open': <function io.open(file, mode='r', buffering=-1, encoding=None, errors=None, newline=None, closefd=True, opener=None)>,\n",
       " '_': {...},\n",
       " '__': <function max>,\n",
       " '___': [{'no': 5, 'title': '가격이숫자', 'writer': '백난도', 'price': 30200},\n",
       "  {'no': 2, 'title': '더트릭컬', 'writer': '폴빠', 'price': '19,800'},\n",
       "  {'no': 3, 'title': '단 한 번의 삶', 'writer': '김영하', 'price': '15,120'},\n",
       "  {'no': 1, 'title': '흔한남매', 'writer': '백난도', 'price': '15,120'},\n",
       "  {'no': 6, 'title': '가격이없음', 'writer': '이길동'},\n",
       "  {'no': 4, 'title': '가격잘못', 'writer': '홍길동', 'price': 'ㅁ'}],\n",
       " '_i': 'a =10',\n",
       " '_ii': 'globals() #전역변수리스트',\n",
       " '_iii': '#1번. 함수의 인자로 리스트를 받은 후 리스트 내에 있는 모든 정수값에 대한 최대값과 최소값을 리턴하는 함수를 작성하세요\\ndata_list = []\\ndef get_max_min(data_list):\\n    return max & min',\n",
       " '_i1': 'def add(a,b):\\n    return a+b',\n",
       " 'add': <function __main__.<lambda>(a, b)>,\n",
       " '_i2': 'add(1,2)',\n",
       " '_2': 3,\n",
       " '_i3': 'add2 = lambda a,b : a+b',\n",
       " 'add2': <function __main__.<lambda>(a, b)>,\n",
       " '_i4': 'add2(1,2)',\n",
       " '_4': 3,\n",
       " '_i5': 'add(1,2)',\n",
       " '_5': 3,\n",
       " '_i6': '# ex1. 매개변수로 들어온 값이 짝수인지 홀수인지 return 함수를 람다식으로 만들어보시오',\n",
       " '_i7': '# ex2. 두 매개변수의 차이를 return하는 함수를 람다식으로 만들어보시오',\n",
       " '_i8': '# ex1. 매개변수로 들어온 값이 짝수인지 홀수인지 return하는 함수를 람다식으로 만들어보시오\\ndef even_odd_chk(num):\\n    if num%2:\\n        result = \"홀수\"\\n    else:\\n        result = \"짝수\"\\n    return result\\neven_odd_chk(5)',\n",
       " 'even_odd_chk': <function __main__.even_odd_chk(num)>,\n",
       " '_8': '홀수',\n",
       " '_i9': '# ex1. 매개변수로 들어온 값이 짝수인지 홀수인지 return하는 함수를 람다식으로 만들어보시오\\ndef even_odd_chk(num):\\n    if num%2:\\n        result = \"홀수\"\\n    else:\\n        result = \"짝수\"\\n    return result\\neven_odd_chk(5), even_odd_chk(-4)',\n",
       " '_9': ('홀수', '짝수'),\n",
       " '_i10': '# ex1. 매개변수로 들어온 값이 짝수인지 홀수인지 return하는 함수를 람다식으로 만들어보시오\\ndef even_odd_chk(num):\\n    if num%2:\\n        result = \"홀수\"\\n    else:\\n        result = \"짝수\"\\n    return result\\neven_odd_chk(5), even_odd_chk(-5)',\n",
       " '_10': ('홀수', '홀수'),\n",
       " '_i11': '# ex1. 매개변수로 들어온 값이 짝수인지 홀수인지 return하는 함수를 람다식으로 만들어보시오\\ndef even_odd_chk(num):\\n    if num%2:\\n        result = \"홀수\"\\n    else:\\n        result = \"짝수\"\\n    return result\\neven_odd_chk(5), even_odd_chk(-4)',\n",
       " '_11': ('홀수', '짝수'),\n",
       " '_i12': '# ex1. 매개변수로 들어온 값이 짝수인지 홀수인지 return하는 함수를 람다식으로 만들어보시오\\ndef even_odd_chk(num):\\n    if num%2:\\n        result = \"홀수\"\\n    else:\\n        result = \"짝수\"\\n    return result\\neven_odd_chk(5), even_odd_chk(-4)\\neven_odd_chk2 = lambda num : num%2 ',\n",
       " 'even_odd_chk2': <function __main__.<lambda>(num)>,\n",
       " '_i13': '# ex1. 매개변수로 들어온 값이 짝수인지 홀수인지 return하는 함수를 람다식으로 만들어보시오\\ndef even_odd_chk(num):\\n    if num%2:\\n        result = \"홀수\"\\n    else:\\n        result = \"짝수\"\\n    return result\\neven_odd_chk(5), even_odd_chk(-4)\\neven_odd_chk2 = lambda num : num%2 \\neven_ood_chk2(5)',\n",
       " '_i14': '# ex1. 매개변수로 들어온 값이 짝수인지 홀수인지 return하는 함수를 람다식으로 만들어보시오\\ndef even_odd_chk(num):\\n    if num%2:\\n        result = \"홀수\"\\n    else:\\n        result = \"짝수\"\\n    return result\\neven_odd_chk(5), even_odd_chk(-4)\\neven_odd_chk2 = lambda num : num%2 \\neven_odd_chk2(5)',\n",
       " '_14': 1,\n",
       " '_i15': '# ex1. 매개변수로 들어온 값이 짝수인지 홀수인지 return하는 함수를 람다식으로 만들어보시오\\ndef even_odd_chk(num):\\n#    if num%2:\\n#        result = \"홀수\"\\n#    else:\\n#        result = \"짝수\"\\n    return = \"홀수\" if num%2 else \"짝수\"\\neven_odd_chk2 = lambda num : \"홀수\" if num%2 else \"짝수\"',\n",
       " '_i16': '# ex1. 매개변수로 들어온 값이 짝수인지 홀수인지 return하는 함수를 람다식으로 만들어보시오\\ndef even_odd_chk(num):\\n#    if num%2:\\n#        result = \"홀수\"\\n#    else:\\n#        result = \"짝수\"\\n    return  \"홀수\" if num%2 else \"짝수\"\\neven_odd_chk2 = lambda num : \"홀수\" if num%2 else \"짝수\"\\neven_odd_chk2(5)',\n",
       " '_16': '홀수',\n",
       " '_i17': '# ex2. 두 매개변수의 차이를 return하는 함수를 람다식으로 만들어보시오\\ndef sub1(a,b):\\n    return a-b\\nsub2 = lambda a,b : a-b\\nsub2(1,5)',\n",
       " 'sub1': <function __main__.sub1(a, b)>,\n",
       " 'sub2': <function __main__.<lambda>(a, b)>,\n",
       " '_17': -4,\n",
       " '_i18': '# ex2. 두 매개변수의 차이를 return하는 함수를 람다식으로 만들어보시오\\ndef sub1(a,b):\\n    return a-b\\nsub2 = lambda a,b : a-b if a>b else b-a\\nsub2(1,5)',\n",
       " '_18': 4,\n",
       " '_i19': \"# ex3. 매개변수로 잔액을 받아, 잔액이 양수면 잔액을 return, 음수면 'negative'\\nex3 = lambda balance : balance if balance >=0 else 'negative'\\nex3(1)\",\n",
       " 'ex3': <function __main__.<lambda>(balance)>,\n",
       " '_19': 1,\n",
       " '_i20': \"# ex3. 매개변수로 잔액을 받아, 잔액이 0이상이면 잔액을 return, 음수면 'negative'\\nex3 = lambda balance : balance if balance >=0 else 'negative'\\nex3(-1)\",\n",
       " '_20': 'negative',\n",
       " '_i21': \"# ex4. 정수를 입력받아 80점 이상은 'A팀', 60점 이상은 'B팀', 60점 미만은 '재시험'\\n                    #100점 촤과, 0점미만은 '유효하지 않음'을 return\\nex4 = lambda score : score if 100>=score>=80 'A팀' elif 80>score>>=60 'B팀' elif 60>score>=0 '재시험'else '유효하지 않음'\",\n",
       " '_i22': \"# ex4. 정수를 입력받아 80점 이상은 'A팀', 60점 이상은 'B팀', 60점 미만은 '재시험'\\n                    #100점 촤과, 0점미만은 '유효하지 않음'을 return\\nex4 = lambda score : score if 100>=score>=80 'A팀' elif 80>score>>=60 'B팀' elif 60>score>=0 '재시험' else '유효하지 않음'\",\n",
       " '_i23': \"# ex4. 정수를 입력받아 80점 이상은 'A팀', 60점 이상은 'B팀', 60점 미만은 '재시험'\\n                    #100점 촤과, 0점미만은 '유효하지 않음'을 return\\nex4 = lambda score : 'A팀' if 100>=score>=80 'A팀' elif 80>score>>=60 'B팀' elif 60>score>=0 '재시험' else '유효하지 않음'\",\n",
       " '_i24': \"# ex4. 정수를 입력받아 80점 이상은 'A팀', 60점 이상은 'B팀', 60점 미만은 '재시험'\\n                    #100점 촤과, 0점미만은 '유효하지 않음'을 return\\nex4 = lambda score : 'A팀' if 100>=score>=80 'A팀' else 80>score>>=60 'B팀' else 60>score>=0 '재시험' else '유효하지 않음'\",\n",
       " '_i25': \"# ex4. 정수를 입력받아 80점 이상은 'A팀', 60점 이상은 'B팀', 60점 미만은 '재시험'\\n                    #100점 촤과, 0점미만은 '유효하지 않음'을 return\\nex4 = lambda score : 'A팀' if 100>=score>=80 'A팀' else if 80>score>>=60 'B팀' else if 60>score>=0 '재시험' else '유효하지 않음'\",\n",
       " '_i26': \"# ex4. 정수를 입력받아 80점 이상은 'A팀', 60점 이상은 'B팀', 60점 미만은 '재시험'\\n                    #100점 촤과, 0점미만은 '유효하지 않음'을 return\\nex4 = lambda score : score if 100>=score>=80 'A팀' else if 80>score>>=60 'B팀' else if 60>score>=0 '재시험' else '유효하지 않음'\",\n",
       " '_i27': \"# ex4. 정수를 입력받아 80점 이상은 'A팀', 60점 이상은 'B팀', 60점 미만은 '재시험'\\n                    #100점 촤과, 0점미만은 '유효하지 않음'을 return\\nex4 = lambda score : score if 100>= score >=80 'A팀' else if 80>score>>=60 'B팀' else if 60>score>=0 '재시험' else '유효하지 않음'\",\n",
       " '_i28': \"# ex4. 정수를 입력받아 80점 이상은 'A팀', 60점 이상은 'B팀', 60점 미만은 '재시험'\\n                    #100점 촤과, 0점미만은 '유효하지 않음'을 return\\nex4 = lambda score : score if 100>= score >=80 'A팀' else 80>score>>=60 'B팀' \",\n",
       " '_i29': \"# ex4. 정수를 입력받아 80점 이상은 'A팀', 60점 이상은 'B팀', 60점 미만은 '재시험'\\n                    #100점 촤과, 0점미만은 '유효하지 않음'을 return\\nex4 = lambda score : score if 100>= score >=80 'A팀' else 'B팀' \",\n",
       " '_i30': \"# ex4. 정수를 입력받아 80점 이상은 'A팀', 60점 이상은 'B팀', 60점 미만은 '재시험'\\n                    #100점 촤과, 0점미만은 '유효하지 않음'을 return\\nex4 = lambda score : 'A팀' if 100>= score >=80  else 'B팀' \",\n",
       " 'ex4': <function __main__.<lambda>(score)>,\n",
       " '_i31': \"# ex4. 정수를 입력받아 80점 이상은 'A팀', 60점 이상은 'B팀', 60점 미만은 '재시험'\\n                    #100점 촤과, 0점미만은 '유효하지 않음'을 return\\ndef levelChk(score):\\n    if 80<=score<=100:\\n        result = 'A팀'\\n    elif 60<=score<80:\\n        result = 'B팀'\\n    elif 0<=score<60:\\n        result = '재시험'\\n    else :\\n        result = '유효하지 않음'\\n    return result\\nex4 = lambda score : 'A팀' if 100>= score >=80  else 'B팀' \",\n",
       " 'levelChk': <function __main__.levelChk(score)>,\n",
       " '_i32': \"# ex4. 정수를 입력받아 80점 이상은 'A팀', 60점 이상은 'B팀', 60점 미만은 '재시험'\\n                    #100점 촤과, 0점미만은 '유효하지 않음'을 return\\ndef levelChk(score):\\n    if 80<=score<=100:\\n        result = 'A팀'\\n    elif 60<=score<80:\\n        result = 'B팀'\\n    elif 0<=score<60:\\n        result = '재시험'\\n    else :\\n        result = '유효하지 않음'\\n    return result\\nex4 = lambda score : 'A팀' if 100>= score >=80  else \\\\\\n                      'B팀' if 60<= score <80 else \\\\\\n                      '재시험' if 0<= score < 60 else '재시험'\",\n",
       " '_i33': 'ex4(101)',\n",
       " '_33': '재시험',\n",
       " '_i34': 'ex4(99)',\n",
       " '_34': 'A팀',\n",
       " '_i35': \"# ex4. 정수를 입력받아 80점 이상은 'A팀', 60점 이상은 'B팀', 60점 미만은 '재시험'\\n                    #100점 촤과, 0점미만은 '유효하지 않음'을 return\\ndef levelChk(score):\\n    if 80<=score<=100:\\n        result = 'A팀'\\n    elif 60<=score<80:\\n        result = 'B팀'\\n    elif 0<=score<60:\\n        result = '재시험'\\n    else :\\n        result = '유효하지 않음'\\n    return result\\nex4 = lambda score : 'A팀' if 100>= score >=80  else \\\\\\n                      'B팀' if 60<= score <80 else \\\\\\n                      '재시험' if 0<= score < 60 else \\\\\\n                      '유효하지 않음'\",\n",
       " '_i36': \"# ex4. 정수를 입력받아 80점 이상은 'A팀', 60점 이상은 'B팀', 60점 미만은 '재시험'\\n                    #100점 촤과, 0점미만은 '유효하지 않음'을 return\\ndef levelChk(score):\\n    if 80<=score<=100:\\n        result = 'A팀'\\n    elif 60<=score<80:\\n        result = 'B팀'\\n    elif 0<=score<60:\\n        result = '재시험'\\n    else :\\n        result = '유효하지 않음'\\n    return result\\nex4 = lambda score : 'A팀' if 100>= score >=80  else \\\\\\n                      'B팀' if 60<= score <80 else \\\\\\n                      '재시험' if 0<= score < 60 else \\\\\\n                      '유효하지 않음'\\nex4(99), ex4(101), ex4(-1)\",\n",
       " '_36': ('A팀', '유효하지 않음', '유효하지 않음'),\n",
       " '_i37': \"# 점수를 입력받아 학점을 return \\nscore_grade = lambda score : 'A학점' if 100>= score >=90  else \\\\\\n                              'B학점' if 80<= score <90 else \\\\\\n                              'C학점' if 70<= score < 80 else \\\\\\n                              'D학점' if 60<= score < 70 else \\\\\\n                              'F학점' if 0<= score < 60 else \\\\\\n                              '유효하지 않음' \",\n",
       " 'score_grade': <function __main__.<lambda>(score)>,\n",
       " '_i38': \"# 점수를 입력받아 학점을 return \\nscore_grade = lambda score : 'A학점' if 100>= score >=90  else \\\\\\n                              'B학점' if 80<= score <90 else \\\\\\n                              'C학점' if 70<= score < 80 else \\\\\\n                              'D학점' if 60<= score < 70 else \\\\\\n                              'F학점' if 0<= score < 60 else \\\\\\n                              '유효하지 않음' \\nscore_grade(60), score_grade(120)\",\n",
       " '_38': ('D학점', '유효하지 않음'),\n",
       " '_i39': '#1번. 함수의 인자로 리스트를 받은 후 리스트 내에 있는 모든 정수값에 대한 최대값과 최소값을 리턴하는 함수를 작성하세요',\n",
       " '_i40': '# ex5 safe_index함수를 람다식으로\\ndef safe_index(lst, item, start=0):\\n    return lst.index(item, start) if item in lst[start:] else -1\\nex5 = lambda lst, item, start = 0 : lst.index(item, start) if item in lst[start:] else -1',\n",
       " 'safe_index': <function __main__.safe_index(lst, item, start=0)>,\n",
       " 'ex5': <function __main__.<lambda>(lst, item, start=0)>,\n",
       " '_i41': '# ex5 safe_index함수를 람다식으로\\ndef safe_index(lst, item, start=0):\\n    return lst.index(item, start) if item in lst[start:] else -1\\nex5 = lambda lst, item, start = 0 : lst.index(item, start) if item in lst[start:] else -1\\nlst = [1,2,3]\\nsafe_index(lst,4), ex5(lst,3, 1)',\n",
       " 'lst': [1, 2, 3],\n",
       " '_41': (-1, 2),\n",
       " '_i42': \"#2번. 체질량 지수(Body Mass Index, BMI)는 체중과 키를 이용해 비만도를 나타내는 지수로 아래의 수식에 의해 계산됩니다.\\n#     함수의 인자로 체중(kg)과 신장(m)를 입력받은 후 BMI값에 따라 '마른체형','표준','비만','고도비만' 중 하나의 상테를\\n#     출력하는 함수를 구현해 보세요\",\n",
       " '_i43': '#3번. 직각삼각형의 밑변과 높이를 입력받은 후 삼각형의 면적과 둘레를 계산하는 함수를 작성하세요.',\n",
       " '_i44': '#4번. 함수의 인자로 시작과 끝 숫자가 주어질 때 시작부터 끝까지의 모든 정수값의 합을 리턴하는 함수를 작성하세요.',\n",
       " '_i45': '#5번. 함수의 인자로 문자열을 포함하는 리스트가 입력될 때 각 문자열의 첫 세글자로만 구성된 리스트를 리턴하는 함수와 람닥실을\\n#    작성하세요.',\n",
       " '_i46': '#6. 다음 코드를 람다 함수 형태로 수정할 때 알맞은 코드를 작성하시오.',\n",
       " '_i47': '#7. ex =[1,2,3,4,5]를 [1,4,9,16,25]의 결과를 얻을 수 있도록 람다함수와 map()함수를 사용하여 구현과 리스트 컴프리헨션으로\\n#   구하시오.',\n",
       " '_i48': '#9번. 다음 코드의 실행 결과는?',\n",
       " '_i49': '#10번. n개의 벡터(리스트나 튜플, 셋등)들의 크기가 같은지 여부를 return하는\\n#     vector_size_check(*vector_var)를 한 줄의 코드(리스트 컴프리헨션 이용)로 작성하시오.',\n",
       " '_i50': \"# 람다식을 list에 들어갈 수 있음\\nadd = lambda a, b : a + b\\nsub = lambda a, b : a - b\\nmul = lambda a, b : a * b\\ndiv = lambda a, b : a / b if b else '두번째 인자가 0이면 못 나눔'\\noperations = [add, sub, mul, div] #사칙연산 함수들\\n\\ndef act_opertions(a, b, operations = operations) : # a,b의 사칙연산 결과를 return\\n    result = []\\n    for op in operations :\\n        result.append(op(a, b))\\n    return result\\n\\nact_opertions(20, 5)\",\n",
       " 'sub': <function __main__.<lambda>(a, b)>,\n",
       " 'mul': <function __main__.<lambda>(a, b)>,\n",
       " 'div': <function __main__.<lambda>(a, b)>,\n",
       " 'operations': [<function __main__.<lambda>(a, b)>,\n",
       "  <function __main__.<lambda>(a, b)>,\n",
       "  <function __main__.<lambda>(a, b)>,\n",
       "  <function __main__.<lambda>(a, b)>,\n",
       "  <function __main__.<lambda>(x, y)>],\n",
       " 'act_opertions': <function __main__.act_opertions(a, b, operations=[<function <lambda> at 0x0000022C0EB10B80>, <function <lambda> at 0x0000022C0EB11510>, <function <lambda> at 0x0000022C0EB12170>, <function <lambda> at 0x0000022C0EB11F30>, <function <lambda> at 0x0000022C0EB10F70>])>,\n",
       " '_50': [25, 15, 100, 4.0],\n",
       " '_i51': 'operations.append(lambda x, y : x**y)\\nlen(operations)',\n",
       " '_51': 5,\n",
       " '_i52': 'act_opertions(8, 2)',\n",
       " '_52': [10, 6, 16, 4.0, 64],\n",
       " '_i53': '#11번. 다음과 같은 결과를 얻기 위해 하나의 스칼라값을 리스트나 튜플, 셋등 벡터에 곱하는 코드를 작성하시오.',\n",
       " '_i54': '#1번. 다음 코드의 실행 결과는?',\n",
       " '_i55': '#2번. 함수 영역과 변수들의 참조 영역에 따른 동작을 보여주기 위한 문제입니다. 오류가 발생하는 라인을 찾고\\n#    문제를 해결하기 위한 코드를 작성하며, 실행 결과를 쓰세요.',\n",
       " '_i56': '#3번. 다음 구문을 실행한 결과는',\n",
       " '_i57': '#4번. 다음 구문의 실행 결과는?',\n",
       " '_i58': '#5번. 다음 구문의 실행 결과는?',\n",
       " '_i59': '#6번. 파이썬 함수에 대한 설명 중 잘못된 것은?',\n",
       " '_i60': '#7번. 다음과 같은 구문이 있을 경우 오류가 발생하는 함수 호출은?',\n",
       " '_i61': '#8번. 다음 보기가 설명하는 것을 작성하기 위한 키워드를 쓰세요.(영문 소문자로 쓰세요)',\n",
       " '_i62': 'map_template(lambda a:a, [1,2,3])',\n",
       " '_i63': 'def map_template(func, L=[]):\\n    result = []\\n    for item in L:\\n        result.appemd(item)\\n    return result',\n",
       " 'map_template': <function __main__.map_template(func, L=[])>,\n",
       " '_i64': 'map_template(lambda a:a, [1,2,3])',\n",
       " '_i65': 'def map_template(func, L=[]):\\n    result = []\\n    for item in L:\\n        result.append(item)\\n    return result',\n",
       " '_i66': 'map_template(lambda a:a, [1,2,3])',\n",
       " '_66': [1, 2, 3],\n",
       " '_i67': 'def map_template(func, L=[]):\\n    result = []\\n    for item in L:\\n        result.append(func(item))\\n    return result',\n",
       " '_i68': 'map_template(lambda a:a, [1,2,3])',\n",
       " '_68': [1, 2, 3],\n",
       " '_i69': 'list_dat = [1,2,3,4,5,6,7,8,9]\\ndef x_2(x):\\n    return x*2\\nmap_template(x_2, list_data)',\n",
       " 'list_dat': [1, 2, 3, 4, 5, 6, 7, 8, 9],\n",
       " 'x_2': <function __main__.<lambda>(x)>,\n",
       " '_i70': 'list_data = [1,2,3,4,5,6,7,8,9]\\ndef x_2(x):\\n    return x*2\\nmap_template(x_2, list_data)',\n",
       " 'list_data': [1, 2, 3, 4, 5, 6, 7, 8, 9],\n",
       " '_70': [2, 4, 6, 8, 10, 12, 14, 16, 18],\n",
       " '_i71': 'def map_template(func, L=[]):\\n    result = []\\n    for item in L:\\n        result.append(func(item))\\n    return result',\n",
       " '_i72': 'list_data = [1,2,3,4,5,6,7,8,9]\\ndef x_2(x):\\n    return x*2\\nmap_template(x_2, list_data)',\n",
       " '_72': [2, 4, 6, 8, 10, 12, 14, 16, 18],\n",
       " '_i73': 'list_data = [1,2,3,4,5,6,7,8,9]\\ndef x_2(x):\\n    return x*2\\nmap_template(x_2, list_data)',\n",
       " '_73': [2, 4, 6, 8, 10, 12, 14, 16, 18],\n",
       " '_i74': 'list_data = [1,2,3,4,5,6,7,8,9]\\ndef x_2(x):\\n#    return x*2\\n#map_template(x_2, list_data)\\nx_2= lamabda x : x*2',\n",
       " '_i75': 'list_data = [1,2,3,4,5,6,7,8,9]\\ndef x_2(x):\\n#    return x*2\\n#map_template(x_2, list_data)\\nx_2= lambda x : x*2',\n",
       " '_i76': 'list_data = [1,2,3,4,5,6,7,8,9]\\ndef x_2(x):\\n#    return x*2\\n#map_template(x_2, list_data)\\nx_2 = lambda x : x*2',\n",
       " '_i77': 'list_data = [1,2,3,4,5,6,7,8,9]\\n#def x_2(x):\\n#    return x*2\\nmap_template(x_2, list_data)\\nx_2 = lambda x : x*2',\n",
       " '_i78': 'map_template(lambda x:x*2, list_data)',\n",
       " '_78': [2, 4, 6, 8, 10, 12, 14, 16, 18],\n",
       " '_i79': 'list_data = [1,2,3,4,5,6,7,8,9]\\n#def x_2(x):\\n#    return x*2\\nmap_template(x_2, list_data)\\nx_2 = lambda x : x*2',\n",
       " '_i80': 'map_template(lambda x:x*2, list_data)',\n",
       " '_80': [2, 4, 6, 8, 10, 12, 14, 16, 18],\n",
       " '_i81': 'list_data = [1,2,3,4,5,6,7,8,9]\\n#def x_2(x):\\n#    return x*2\\nx_2 = lambda x : x*2\\nmap_template(x_2, list_data)',\n",
       " '_81': [2, 4, 6, 8, 10, 12, 14, 16, 18],\n",
       " '_i82': '# 리스트 컴프리헨션\\n[item*2 for item in lst_data]',\n",
       " '_i83': '# 리스트 컴프리헨션\\n[item*2 for item in list_data]',\n",
       " '_83': [2, 4, 6, 8, 10, 12, 14, 16, 18],\n",
       " '_i84': 'map(lambda x; x*2, list_data)',\n",
       " '_i85': 'map(lambda x ; x*2, list_data)',\n",
       " '_i86': 'map(lambda x : x*2, list_data)',\n",
       " '_86': <map at 0x22c0ea845b0>,\n",
       " '_i87': 'map(lambda x : x*2, list_data)',\n",
       " '_87': <map at 0x22c0ea84310>,\n",
       " '_i88': 'map(lambda x : x*2 , list_data)',\n",
       " '_88': <map at 0x22c0ea863e0>,\n",
       " '_i89': 'list(map(lambda x : x*2 , list_data))',\n",
       " '_89': [2, 4, 6, 8, 10, 12, 14, 16, 18],\n",
       " '_i90': \"for data in map(lambda x:x*2, list_data):\\n    print(data, end = ' ')\",\n",
       " 'data': 18,\n",
       " '_i91': \"'''\\n예제 1 prices = ['5,000', '5000', '6,000', '1000','5,000', '5000', '6,000', '1000’]를 [5000,5000,6000,1000]식으로 바꾸시오\\n'''\\nprices = ['5,000', '5000', '6,000', '1000','5,000', '5000', '6,000', '1000']\\nprices_int = [5000, 5000, 6000, 1000]\",\n",
       " 'prices': ['5,000',\n",
       "  '5000',\n",
       "  '6,000',\n",
       "  '1000',\n",
       "  '5,000',\n",
       "  '5000',\n",
       "  '6,000',\n",
       "  '1000'],\n",
       " 'prices_int': <map at 0x22c0c775c90>,\n",
       " '_i92': \"'''\\n예제 1 prices = ['5,000', '5000', '6,000', '1000','5,000', '5000', '6,000', '1000’]를 [5000,5000,6000,1000]식으로 바꾸시오\\n'''\\nprices = ['5,000', '5000', '6,000', '1000','5,000', '5000', '6,000', '1000']\\nmap(lambda x : x, prices)\",\n",
       " '_92': <map at 0x22c0ea84370>,\n",
       " '_i93': \"'''\\n예제 1 prices = ['5,000', '5000', '6,000', '1000','5,000', '5000', '6,000', '1000’]를 [5000,5000,6000,1000]식으로 바꾸시오\\n'''\\nprices = ['5,000', '5000', '6,000', '1000','5,000', '5000', '6,000', '1000']\\nlist(map(lambda x : x, prices))\",\n",
       " '_93': ['5,000', '5000', '6,000', '1000', '5,000', '5000', '6,000', '1000'],\n",
       " '_i94': \"'''\\n예제 1 prices = ['5,000', '5000', '6,000', '1000','5,000', '5000', '6,000', '1000’]를 [5000,5000,6000,1000]식으로 바꾸시오\\n'''\\nprices = ['5,000', '5000', '6,000', '1000','5,000', '5000', '6,000', '1000']\\nreplace(map(lambda x : x, prices))\",\n",
       " '_i95': \"'''\\n예제 1 prices = ['5,000', '5000', '6,000', '1000','5,000', '5000', '6,000', '1000’]를 [5000,5000,6000,1000]식으로 바꾸시오\\n'''\\nprices = ['5,000', '5000', '6,000', '1000','5,000', '5000', '6,000', '1000']\\ndef toint(value):\\n    return int(value.replace(',',''))\\ntoint(prices)\",\n",
       " 'toint': <function __main__.toint(value)>,\n",
       " '_i96': \"'''\\n예제 1 prices = ['5,000', '5000', '6,000', '1000','5,000', '5000', '6,000', '1000’]를 [5000,5000,6000,1000]식으로 바꾸시오\\n'''\\nprices = ['5,000', '5000', '6,000', '1000','5,000', '5000', '6,000', '1000']\\ndef toint(value):\\n    return int(value.replace(',',''))\\ntoint('500000')\",\n",
       " '_96': 500000,\n",
       " '_i97': \"'''\\n예제 1 prices = ['5,000', '5000', '6,000', '1000','5,000', '5000', '6,000', '1000’]를 [5000,5000,6000,1000]식으로 바꾸시오\\n'''\\nprices = ['5,000', '5000', '6,000', '1000','5,000', '5000', '6,000', '1000']\\ndef toint(value):\\n    return int(value.replace(',',''))\\ntoint('500,000')\",\n",
       " '_97': 500000,\n",
       " '_i98': \"'''\\n예제 1 prices = ['5,000', '5000', '6,000', '1000','5,000', '5000', '6,000', '1000’]를 [5000,5000,6000,1000]식으로 바꾸시오\\n'''\\nprices = ['5,000', '5000', '6,000', '1000','5,000', '5000', '6,000', '1000']\\n#def toint(value):\\n#    return int(value.replace(',',''))\\n#toint('500,000')\\nmap(lambda value : int(value.replace(',',''), prices))\",\n",
       " '_i99': \"'''\\n예제 1 prices = ['5,000', '5000', '6,000', '1000','5,000', '5000', '6,000', '1000’]를 [5000,5000,6000,1000]식으로 바꾸시오\\n'''\\nprices = ['5,000', '5000', '6,000', '1000','5,000', '5000', '6,000', '1000']\\n#def toint(value):\\n#    return int(value.replace(',',''))\\n#toint('500,000')\\nmap(lambda value : int(value.replace(',','')),prices)\",\n",
       " '_99': <map at 0x22c0c7cd060>,\n",
       " '_i100': \"'''\\n예제 1 prices = ['5,000', '5000', '6,000', '1000','5,000', '5000', '6,000', '1000’]를 [5000,5000,6000,1000]식으로 바꾸시오\\n'''\\nprices = ['5,000', '5000', '6,000', '1000','5,000', '5000', '6,000', '1000']\\n#def toint(value):\\n#    return int(value.replace(',',''))\\n#toint('500,000')\\nprices_int = map(lambda value : int(value.replace(',','')),prices)\\nfor price in prices_int:\\n    print(price, end = ' ')\",\n",
       " 'price': 1000,\n",
       " '_i101': \"'''\\n예제 1 prices = ['5,000', '5000', '6,000', '1000','5,000', '5000', '6,000', '1000’]를 [5000,5000,6000,1000]식으로 바꾸시오\\n'''\\nprices = ['5,000', '5000', '6,000', '1000','5,000', '5000', '6,000', '1000']\\n#def toint(value):\\n#    return int(value.replace(',',''))\\n#toint('500,000')\\nprices_int = map(lambda value : int(sorted.value.replace(',','')),prices)\\nfor price in prices_int:\\n    print(price, end = ' ')\",\n",
       " '_i102': \"'''\\n예제 1 prices = ['5,000', '5000', '6,000', '1000','5,000', '5000', '6,000', '1000’]를 [5000,5000,6000,1000]식으로 바꾸시오\\n'''\\nprices = ['5,000', '5000', '6,000', '1000','5,000', '5000', '6,000', '1000']\\n#def toint(value):\\n#    return int(value.replace(',',''))\\n#toint('500,000')\\nprices_int = map(lambda value : int(sort.value.replace(',','')),prices)\\nfor price in prices_int:\\n    print(price, end = ' ')\",\n",
       " '_i103': \"'''\\n예제 1 prices = ['5,000', '5000', '6,000', '1000','5,000', '5000', '6,000', '1000’]를 [5000,5000,6000,1000]식으로 바꾸시오\\n'''\\nprices = ['5,000', '5000', '6,000', '1000','5,000', '5000', '6,000', '1000']\\n#def toint(value):\\n#    return int(value.replace(',',''))\\n#toint('500,000')\\nprices_int = map(lambda value : int(value.replace(',','')),prices)\\n\\nfor price in prices_int:\\n    print(sorted.price, end = ' ')\",\n",
       " '_i104': \"'''\\n예제 1 prices = ['5,000', '5000', '6,000', '1000','5,000', '5000', '6,000', '1000’]를 [5000,5000,6000,1000]식으로 바꾸시오\\n'''\\nprices = ['5,000', '5000', '6,000', '1000','5,000', '5000', '6,000', '1000']\\n#def toint(value):\\n#    return int(value.replace(',',''))\\n#toint('500,000')\\nprices_int = map(lambda value : int(value.replace(',','')),prices)\\n\\nfor price in prices_int:\\n    print(price, end = ' ')\",\n",
       " '_i105': '\\'\\'\\'\\n예제 2\\nmembers1 = [{\\'name\\':\\'홍길동\\', \\'birth\\':\\'2000-01-01’},\\n{\\'name\\':\\'신길동\\', \\'birth\\':\\'1995-12-18\\'},]를\\nmembers2 = [\\n{\\'name\\':\\'홍길동\\', \\'year\\':2000, \\'month\\':1,\\'day\\':1},\\n{\\'name\\':\\'신길동\\', \\'year\\':1995, \\'month\\':12, \\'day\\':18},] 변환\\n\\'\\'\\'\\nmembers1 = [{\\'name\\':\\'홍길동\\', \\'birth\\':\\'2000-01-01\\'},{\\'name\\':\\'신길동\\', \\'birth\\':\\'1995-12-18\\'}]\\n# \\'2000-01-01\\' => {\\'year\\' : 2000, \\'month\\' : 1, \\'day\\':1}\\ndef func2 (**args) :\\n    for key, value in args.items():\\n        print(\"{}:{}\".format(key,value))\\nfun2()\\n    ',\n",
       " 'members1': [{'name': '홍길동', 'birth': '2000-01-01'},\n",
       "  {'name': '신길동', 'birth': '1995-12-18'}],\n",
       " 'func2': <function __main__.func2(**args)>,\n",
       " '_i106': '\\'\\'\\'\\n예제 2\\nmembers1 = [{\\'name\\':\\'홍길동\\', \\'birth\\':\\'2000-01-01’},\\n{\\'name\\':\\'신길동\\', \\'birth\\':\\'1995-12-18\\'},]를\\nmembers2 = [\\n{\\'name\\':\\'홍길동\\', \\'year\\':2000, \\'month\\':1,\\'day\\':1},\\n{\\'name\\':\\'신길동\\', \\'year\\':1995, \\'month\\':12, \\'day\\':18},] 변환\\n\\'\\'\\'\\nmembers1 = [{\\'name\\':\\'홍길동\\', \\'birth\\':\\'2000-01-01\\'},{\\'name\\':\\'신길동\\', \\'birth\\':\\'1995-12-18\\'}]\\n# \\'2000-01-01\\' => {\\'year\\' : 2000, \\'month\\' : 1, \\'day\\':1}\\ndef func2 (**args) :\\n    for key, value in args.items():\\n        print(\"{}:{}\".format(key,value))\\nfun2(name = \\'홍길동\\', age = 30, tel = \\'010-0000-0000\\', address = \\'서울 관악구\\', width=300, color=\\'red\\')\\n    ',\n",
       " '_i107': '\\'\\'\\'\\n예제 2\\nmembers1 = [{\\'name\\':\\'홍길동\\', \\'birth\\':\\'2000-01-01’},\\n{\\'name\\':\\'신길동\\', \\'birth\\':\\'1995-12-18\\'},]를\\nmembers2 = [\\n{\\'name\\':\\'홍길동\\', \\'year\\':2000, \\'month\\':1,\\'day\\':1},\\n{\\'name\\':\\'신길동\\', \\'year\\':1995, \\'month\\':12, \\'day\\':18},] 변환\\n\\'\\'\\'\\nmembers1 = [{\\'name\\':\\'홍길동\\', \\'birth\\':\\'2000-01-01\\'},{\\'name\\':\\'신길동\\', \\'birth\\':\\'1995-12-18\\'}]\\n# \\'2000-01-01\\' => {\\'year\\' : 2000, \\'month\\' : 1, \\'day\\':1}\\ndef func2 (**args) :\\n    for key, value in args.items():\\n        print(\"{}:{}\".format(key,value))\\nfunc2(name = \\'홍길동\\', age = 30, tel = \\'010-0000-0000\\', address = \\'서울 관악구\\', width=300, color=\\'red\\')\\n    ',\n",
       " '_i108': \"'''\\n예제 2\\nmembers1 = [{'name':'홍길동', 'birth':'2000-01-01’},\\n{'name':'신길동', 'birth':'1995-12-18'},]를\\nmembers2 = [\\n{'name':'홍길동', 'year':2000, 'month':1,'day':1},\\n{'name':'신길동', 'year':1995, 'month':12, 'day':18},] 변환\\n'''\\nmembers1 = [{'name':'홍길동', 'birth':'2000-01-01'},{'name':'신길동', 'birth':'1995-12-18'}]\\n# '2000-01-01' => {'year' : 2000, 'month' : 1, 'day':1}\\ndef split_date(date):\\n    split_date = date.split('-')\\n    return split_date\\nsplit_dat('2025-01-01')\\n    \",\n",
       " 'split_date': <function __main__.split_date(data)>,\n",
       " '_i109': \"'''\\n예제 2\\nmembers1 = [{'name':'홍길동', 'birth':'2000-01-01’},\\n{'name':'신길동', 'birth':'1995-12-18'},]를\\nmembers2 = [\\n{'name':'홍길동', 'year':2000, 'month':1,'day':1},\\n{'name':'신길동', 'year':1995, 'month':12, 'day':18},] 변환\\n'''\\nmembers1 = [{'name':'홍길동', 'birth':'2000-01-01'},{'name':'신길동', 'birth':'1995-12-18'}]\\n# '2000-01-01' => {'year' : 2000, 'month' : 1, 'day':1}\\ndef split_date(date):\\n    split_date = date.split('-')\\n    return split_date\\nsplit_date('2025-01-01')\\n    \",\n",
       " '_109': ['2025', '01', '01'],\n",
       " '_i110': \"'''\\n예제 2\\nmembers1 = [{'name':'홍길동', 'birth':'2000-01-01’},\\n{'name':'신길동', 'birth':'1995-12-18'},]를\\nmembers2 = [\\n{'name':'홍길동', 'year':2000, 'month':1,'day':1},\\n{'name':'신길동', 'year':1995, 'month':12, 'day':18},] 변환\\n'''\\nmembers1 = [{'name':'홍길동', 'birth':'2000-01-01'},{'name':'신길동', 'birth':'1995-12-18'}]\\n# '2000-01-01' => {'year' : 2000, 'month' : 1, 'day':1}\\ndef split_date(date):\\n    split_date = date.split('-')\\n    return {\\n            'year':int(split_date[0]),\\n            'month':int(split_date[1]),\\n            'day' : int(split_date[2])\\n    }\\nsplit_date('2025-01-01'), split_date('1995-12-21')\\n    \",\n",
       " '_110': ({'year': 2025, 'month': 1, 'day': 1},\n",
       "  {'year': 1995, 'month': 12, 'day': 21}),\n",
       " '_i111': \"'''\\n예제 2\\nmembers1 = [{'name':'홍길동', 'birth':'2000-01-01’},\\n{'name':'신길동', 'birth':'1995-12-18'},]를\\nmembers2 = [\\n{'name':'홍길동', 'year':2000, 'month':1,'day':1},\\n{'name':'신길동', 'year':1995, 'month':12, 'day':18},] 변환\\n'''\\nmembers1 = [{'name':'홍길동', 'birth':'2000-01-01'},{'name':'신길동', 'birth':'1995-12-18'}]\\n# '2000-01-01' => {'year' : 2000, 'month' : 1, 'day':1}\\ndef split_date(date):\\n    split_date = date.split('-')\\n    return {\\n            'year':int(split_date[0]),\\n            'month':int(split_date[1]),\\n            'day' : int(split_date[2])\\n    }\\nsplit_date('2025-01-01'), split_date('1995-12-21')\\n    \",\n",
       " '_111': ({'year': 2025, 'month': 1, 'day': 1},\n",
       "  {'year': 1995, 'month': 12, 'day': 21}),\n",
       " '_i112': \"def split_date(date):\\n    return {\\n            'year':int(split_date[0]),\\n            'month':int(split_date[1]),\\n            'day' : int(split_date[2])\\n    }\\nsplit_date('2025-01-01'), split_date('1995-12-21')\\nmap(lambda date : int(date.split('-')), 'year', 'month', 'day')\",\n",
       " '_i113': \"def split_date(date):\\n    return {\\n            'year':int(split_date[0]),\\n            'month':int(split_date[1]),\\n            'day' : int(split_date[2])\\n    }\\nsplit_date('2025-01-01'), split_date('1995-12-21')\\nmap(lambda date : int(date.split('-')[]), 'year', 'month', 'day')\",\n",
       " '_i114': \"def split_date(date):\\n    return {\\n            'year':int(split_date[0]),\\n            'month':int(split_date[1]),\\n            'day' : int(split_date[2])\\n    }\\nsplit_date('2025-01-01'), split_date('1995-12-21')\\nmap(lambda date : int(date.split('-')[0]), 'year', 'month', 'day')\",\n",
       " '_i115': \"\\nsplit_date = date.splint('-')\\nmap(lambda date : int(splite_date[]), 'year', 'month', 'day')\",\n",
       " '_i116': \"\\nsplit_date = date.splint('-')\\nmap(lambda date : int(split_date[]), 'year', 'month', 'day')\",\n",
       " '_i117': \"\\nsplit_date = date.splint('-')\\nmap(lambda date : int(split_date), ['year', 'month', 'day'])\",\n",
       " '_i118': \"split_date = date.split('-')\\nmap(lambda date : int(split_date), ['year', 'month', 'day'])\",\n",
       " '_i119': \"split_date = date.split('-')\\nmap(lambda date : int(split_date[]), ['year', 'month', 'day'])\",\n",
       " '_i120': \"split_date = date.split('-')\\nmap(lambda date : int(split_date), ['year', 'month', 'day'])\",\n",
       " '_i121': \"'''\\n예제 2\\nmembers1 = [{'name':'홍길동', 'birth':'2000-01-01’},\\n{'name':'신길동', 'birth':'1995-12-18'},]를\\nmembers2 = [\\n{'name':'홍길동', 'year':2000, 'month':1,'day':1},\\n{'name':'신길동', 'year':1995, 'month':12, 'day':18},] 변환\\n'''\\nmembers1 = [{'name':'홍길동', 'birth':'2000-01-01'},{'name':'신길동', 'birth':'1995-12-18'}]\\n# '2000-01-01' => {'year' : 2000, 'month' : 1, 'day':1}\\ndef split_date(date):\\n    split_date = date.split('-')\\n        return {\\n            'year':int(split_date[0]),\\n            'month':int(split_date[1]),\\n            'day' : int(split_date[2])\\n    }\\nsplit_date('2025-01-01'), split_date('1995-12-21')\\n    \",\n",
       " '_i122': \"'''\\n예제 2\\nmembers1 = [{'name':'홍길동', 'birth':'2000-01-01’},\\n{'name':'신길동', 'birth':'1995-12-18'},]를\\nmembers2 = [\\n{'name':'홍길동', 'year':2000, 'month':1,'day':1},\\n{'name':'신길동', 'year':1995, 'month':12, 'day':18},] 변환\\n'''\\nmembers1 = [{'name':'홍길동', 'birth':'2000-01-01'},{'name':'신길동', 'birth':'1995-12-18'}]\\n# '2000-01-01' => {'year' : 2000, 'month' : 1, 'day':1}\\ndef split_date(date):\\n    split_date = date.split('-')\\n        return {\\n            'year':int(split_date[0]),\\n            'month':int(split_date[1]),\\n            'day' : int(split_date[2])\\n    }\\nsplit_date('2025-01-01'), split_date('1995-12-21')\\n    \",\n",
       " '_i123': \"'''\\n예제 2\\nmembers1 = [{'name':'홍길동', 'birth':'2000-01-01’},\\n{'name':'신길동', 'birth':'1995-12-18'},]를\\nmembers2 = [\\n{'name':'홍길동', 'year':2000, 'month':1,'day':1},\\n{'name':'신길동', 'year':1995, 'month':12, 'day':18},] 변환\\n'''\\nmembers1 = [{'name':'홍길동', 'birth':'2000-01-01'},{'name':'신길동', 'birth':'1995-12-18'}]\\n# '2000-01-01' => {'year' : 2000, 'month' : 1, 'day':1}\\ndef split_date(date):\\n    split_date = date.split('-')\\n        return {\\n            'year':int(split_date[0]),\\n            'month':int(split_date[1]),\\n            'day' : int(split_date[2])\\n    }\\n    \\nsplit_date('2025-01-01'), split_date('1995-12-21')\\n    \",\n",
       " '_i124': \"'''\\n예제 2\\nmembers1 = [{'name':'홍길동', 'birth':'2000-01-01’},\\n{'name':'신길동', 'birth':'1995-12-18'},]를\\nmembers2 = [\\n{'name':'홍길동', 'year':2000, 'month':1,'day':1},\\n{'name':'신길동', 'year':1995, 'month':12, 'day':18},] 변환\\n'''\\nmembers1 = [{'name':'홍길동', 'birth':'2000-01-01'},{'name':'신길동', 'birth':'1995-12-18'}]\\n# '2000-01-01' => {'year' : 2000, 'month' : 1, 'day':1}\\ndef split_date(date):\\n        split_date = date.split('-')\\n        return {\\n            'year':int(split_date[0]),\\n            'month':int(split_date[1]),\\n            'day' : int(split_date[2])\\n    }\\n    \\nsplit_date('2025-01-01'), split_date('1995-12-21')\",\n",
       " '_124': ({'year': 2025, 'month': 1, 'day': 1},\n",
       "  {'year': 1995, 'month': 12, 'day': 21}),\n",
       " '_i125': \"def split_date(data):\\n    return {\\n        'year' : int(data['birth'].split('-')[0])\\n        'month' : int(data['birth'].split('-')[1])\\n        'day' : int(data['birth'].split('-')[2])\\n    }\\nsplit_date('2025-01-01'), split_date('1995-12-21')\",\n",
       " '_i126': \"def split_date(data):\\n    return {\\n        'year' : int(data['birth'].split('-')[0],)\\n        'month' : int(data['birth'].split('-')[1],)\\n        'day' : int(data['birth'].split('-')[2])\\n    }\\nsplit_date('2025-01-01'), split_date('1995-12-21')\",\n",
       " '_i127': \"def split_date(data):\\n    return {\\n        'year' : int(data['birth'].split('-')[0]),\\n        'month' : int(data['birth'].split('-')[1]),\\n        'day' : int(data['birth'].split('-')[2])\\n    }\\nsplit_date('2025-01-01'), split_date('1995-12-21')\",\n",
       " '_i128': \"def split_date(data):\\n    return {\\n        'year' : int(data['birth'].split('-')[0]),\\n        'month' : int(data['birth'].split('-')[1]),\\n        'day' : int(data['birth'].split('-')[2])\\n    }\",\n",
       " '_i129': \"def split_date(data):\\n    return {\\n        'year' : int(data['birth'].split('-')[0]),\\n        'month' : int(data['birth'].split('-')[1]),\\n        'day' : int(data['birth'].split('-')[2])\\n    }\\nsplit_date({'birth:2025-10-10'})\",\n",
       " '_i130': \"def split_date(data):\\n    return {\\n        'year' : int(data['birth'].split('-')[0]),\\n        'month' : int(data['birth'].split('-')[1]),\\n        'day' : int(data['birth'].split('-')[2])\\n    }\\nsplit_date({'birth : 2025-10-10'})\",\n",
       " '_i131': \"def member_preprocessing(member):\\n    return{\\n        'name' : member.get('name', '이름없음'), #member['name']\\n        'year' : int(member.get('birth').split('-')[0]),\\n        'month' : int(member.get('birth').split('-')[1]),\\n        'day' : int(member.get('birth').split('-')[2]),\\n    }\\nmember_preprocessing({'name' : '홍길동', 'birth':'2000-01-01'})\",\n",
       " 'member_preprocessing': <function __main__.member_preprocessing(member)>,\n",
       " '_131': {'name': '홍길동', 'year': 2000, 'month': 1, 'day': 1},\n",
       " '_i132': \"def split_date(data):\\n    return {\\n        'year' : int(data['birth'].split('-')[0]),\\n        'month' : int(data['birth'].split('-')[1]),\\n        'day' : int(data['birth'].split('-')[2])\\n    }\\nsplit_date({'birth' : '2025-10-10'})\",\n",
       " '_132': {'year': 2025, 'month': 10, 'day': 10},\n",
       " '_i133': \"def member_preprocessing(member):\\n    return{\\n        'name' : member.get('name', '이름없음'), #member['name']\\n        'year' : int(member.get('birth').split('-')[0]),\\n        'month' : int(member.get('birth').split('-')[1]),\\n        'day' : int(member.get('birth').split('-')[2]),\\n    }\\nmember_preprocessing({'name' : '홍길동', 'birth':'2000-01-01'})\",\n",
       " '_133': {'name': '홍길동', 'year': 2000, 'month': 1, 'day': 1},\n",
       " '_i134': \"members2 = list(map(lambda member : {\\n                                'name' : member.get('name', '이름없음'), \\n                                'year' : int(member.get('birth').split('-')[0]),\\n                                'month' : int(member.get('birth').split('-')[1]),\\n                                'day' : int(member.get('birth').split('-')[2]),\\n                            }, \\n                   members1)\\n               )\",\n",
       " 'members2': [{'name': '홍길동', 'year': 2000, 'month': 1, 'day': 1},\n",
       "  {'name': '신길동', 'year': 1995, 'month': 12, 'day': 18}],\n",
       " '_i135': \"members2 = list(map(lambda member : {\\n                                'name' : member.get('name', '이름없음'), \\n                                'year' : int(member.get('birth').split('-')[0]),\\n                                'month' : int(member.get('birth').split('-')[1]),\\n                                'day' : int(member.get('birth').split('-')[2]),\\n                            }, \\n                   members1)\\n               )\",\n",
       " '_i136': \"members2 = list(map(lambda member : {\\n                                'name' : member.get('name', '이름없음'), \\n                                'year' : int(member.get('birth').split('-')[0]),\\n                                'month' : int(member.get('birth').split('-')[1]),\\n                                'day' : int(member.get('birth').split('-')[2]),\\n                            }, members1 \\n                   )\\n               )\",\n",
       " '_i137': \"members2 = list(map(lambda member : {\\n                                'name' : member.get('name', '이름없음'), \\n                                'year' : int(member.get('birth').split('-')[0]),\\n                                'month' : int(member.get('birth').split('-')[1]),\\n                                'day' : int(member.get('birth').split('-')[2]),\\n                            }, members1 \\n                   )\\n               )\\nmembers2\",\n",
       " '_137': [{'name': '홍길동', 'year': 2000, 'month': 1, 'day': 1},\n",
       "  {'name': '신길동', 'year': 1995, 'month': 12, 'day': 18}],\n",
       " '_i138': \"members2 = list(map(lambda member : {\\n                                'name' : member.get('name', '이름없음'), \\n                                'year' : int(member.get('birth').split('-')[0]),\\n                                'month' : int(member.get('birth').split('-')[1]),\\n                                'day' : int(member.get('birth').split('-')[2]),\\n                            }, members1 \\n                   )\\n               )\\nmembers2\",\n",
       " '_138': [{'name': '홍길동', 'year': 2000, 'month': 1, 'day': 1},\n",
       "  {'name': '신길동', 'year': 1995, 'month': 12, 'day': 18}],\n",
       " '_i139': \"'''\\n예제3 members2를 members1로 전환\\n'''\\nmembers1 = list(map(lambda member : {\\n                                'name' : member.get('name', '이름없음'), \\n                                'birht' : int(member.get('year', 'month', 'day').join('-')[0])\\n                                }, members2\\n                   )\\n               )\",\n",
       " '_i140': \"'''\\n예제3 members2를 members1로 전환\\n'''\\nmembers1 = list(map(lambda member : {\\n                                'name' : member.get('name', '이름없음'), \\n                                'birth' : int(member.get('year', 'month', 'day').join('-')[0])\\n                                }, members2\\n                   )\\n               )\",\n",
       " '_i141': '\\'\\'\\'\\n예제3 members2를 members1로 전환\\n\\'\\'\\'\\ndef join_data(data):\\n    return \"{}-{:02}-{}\".format(data.get(\\'year\\'), data.get(month), data.get(\\'day\\'))\\njoin_date({\\'year\\':2000, \\'month\\': 9, \\'day\\': 9})',\n",
       " 'join_data': <function __main__.join_data(data)>,\n",
       " '_i142': '\\'\\'\\'\\n예제3 members2를 members1로 전환\\n\\'\\'\\'\\ndef join_date(data):\\n    return \"{}-{:02}-{}\".format(data.get(\\'year\\'), data.get(month), data.get(\\'day\\'))\\njoin_date({\\'year\\':2000, \\'month\\': 9, \\'day\\': 9})',\n",
       " 'join_date': <function __main__.join_date(data)>,\n",
       " '_i143': '\\'\\'\\'\\n예제3 members2를 members1로 전환\\n\\'\\'\\'\\ndef join_date(data):\\n    return \"{}-{:02}-{}\".format(data.get(\\'year\\'), data.get(\\'month\\'), data.get(\\'day\\'))\\njoin_date({\\'year\\':2000, \\'month\\': 9, \\'day\\': 9})',\n",
       " '_143': '2000-09-9',\n",
       " '_i144': '\\'\\'\\'\\n예제3 members2를 members1로 전환\\n\\'\\'\\'\\ndef join_date(data):\\n    return \"{}-{:02}-{}\".format(data.get(\\'year\\'), data.get(\\'month\\'), data.get(\\'day\\'))\\njoin_date({\\'year\\':2000, \\'month\\': 9, \\'day\\': 9})',\n",
       " '_144': '2000-09-9',\n",
       " '_i145': '\\'\\'\\'\\n예제3 members2를 members1로 전환\\n\\'\\'\\'\\ndef join_date(data):\\n    return \"{}-{:02}-{:02}\".format(data.get(\\'year\\'), data.get(\\'month\\'), data.get(\\'day\\'))\\njoin_date({\\'year\\':2000, \\'month\\': 9, \\'day\\': 9})',\n",
       " '_145': '2000-09-09',\n",
       " '_i146': 'def join_date(data):\\n    return \"{year}-{month:02}-{day:02}\".format(year=data.get(\\'year\\'), \\n                                                month=data.get(\\'month\\'), \\n                                                day=data.get(\\'day\\'))\\njoin_date({\\'year\\':2000, \\'month\\': 9, \\'day\\': 9})',\n",
       " '_146': '2000-09-09',\n",
       " '_i147': 'def join_date(data):\\n    return \"{year}-{month:02}-{day:02}\".format(**data)\\njoin_date({\\'year\\':2000, \\'month\\': 9, \\'day\\': 9})',\n",
       " '_147': '2000-09-09',\n",
       " '_i148': 'def join_date(data):\\n    return {\"birth\":\"{year}-{month:02}-{day:02}\".format(**data)}\\njoin_date({\\'year\\':2000, \\'month\\': 9, \\'day\\': 9})',\n",
       " '_148': {'birth': '2000-09-09'},\n",
       " '_i149': 'def join_date(data):\\n    return {\"name\":birth\":\"{year}-{month:02}-{day:02}\".format(**data)}\\njoin_date({\\'year\\':2000, \\'month\\': 9, \\'day\\': 9})',\n",
       " '_i150': 'def join_date(data):\\n    return {\"name\": \"birth\":\"{year}-{month:02}-{day:02}\".format(**data)}\\njoin_date({\\'year\\':2000, \\'month\\': 9, \\'day\\': 9})',\n",
       " '_i151': 'def join_date(data):\\n    return {\"name\": \"birth\":\"{year}-{month:02}-{day:02}\".format(**data)}\\njoin_date({\\'name\\':hong \\'year\\':2000, \\'month\\': 9, \\'day\\': 9})',\n",
       " '_i152': 'def join_date(data):\\n    return {\"name\":, \"birth\":\"{year}-{month:02}-{day:02}\".format(**data)}\\njoin_date({\\'name\\':hong \\'year\\':2000, \\'month\\': 9, \\'day\\': 9})',\n",
       " '_i153': 'def join_date(data):\\n    return {\"name\":\"birth\":\"{year}-{month:02}-{day:02}\".format(**data)}\\njoin_date({\\'name\\':hong \\'year\\':2000, \\'month\\': 9, \\'day\\': 9})',\n",
       " '_i154': 'def join_date(data):\\n    return {\"name\":\"hong\"\"birth\":\"{year}-{month:02}-{day:02}\".format(**data)}\\njoin_date({\\'name\\':hong \\'year\\':2000, \\'month\\': 9, \\'day\\': 9})',\n",
       " '_i155': 'def join_date(data):\\n    return {\"name\":\"\"\"birth\":\"{year}-{month:02}-{day:02}\".format(**data)}\\njoin_date({\\'name\\':hong \\'year\\':2000, \\'month\\': 9, \\'day\\': 9})',\n",
       " '_i156': 'def join_date(data):\\n    return {\"name\":hong \"birth\":\"{year}-{month:02}-{day:02}\".format(**data)}\\njoin_date({\\'name\\':hong \\'year\\':2000, \\'month\\': 9, \\'day\\': 9})',\n",
       " '_i157': 'def join_date(data):\\n    return {\"name\": data.get(\\'name\\'), \"birth\":\"{year}-{month:02}-{day:02}\".format(**data)}\\njoin_date({\\'name\\':hong \\'year\\':2000, \\'month\\': 9, \\'day\\': 9})',\n",
       " '_i158': 'def join_date(data):\\n    return {\"name:\", \"birth\":\"{year}-{month:02}-{day:02}\".format(**data)}\\njoin_date({\\'name\\':hong \\'year\\':2000, \\'month\\': 9, \\'day\\': 9})',\n",
       " '_i159': 'def members_preprocessing(member):\\n    return {\\n        \\'name\\': member.get(\\'name\\'),\\n        \\'birth\\':\"{year}-{month:02}-{day:02}\".format(**member)\\n    }',\n",
       " 'members_preprocessing': <function __main__.members_preprocessing(member)>,\n",
       " '_i160': 'def members_preprocessing(member):\\n    return {\\n        \\'name\\': member.get(\\'name\\'),\\n        \\'birth\\':\"{year}-{month:02}-{day:02}\".format(**member)\\n    }\\nmembers_preprocessing({\\'name\\': \\'hong\\', \\'year\\':2000,\\'month\\':1,\\'day\\':1})',\n",
       " '_160': {'name': 'hong', 'birth': '2000-01-01'},\n",
       " '_i161': 'members1 = list(map(lambda member: {\\n         \\'name\\': member.get(\\'name\\'),\\n         \\'birth\\':\"{year}-{month:02}-{day:02}\".format(**member)\\n            } members2\\n                   ))',\n",
       " '_i162': 'members1 = list(map(lambda member: {\\n         \\'name\\': member.get(\\'name\\'),\\n         \\'birth\\':int(\"{year}-{month:02}-{day:02}\".format(**member))\\n            } members2\\n                   ))',\n",
       " '_i163': 'members1 = list(map(lambda member:{\\n         \\'name\\': member.get(\\'name\\'),\\n         \\'birth\\':\"{year}-{month:02}-{day:02}\".format(**member)\\n            }, members2 \\n                   ))',\n",
       " '_i164': 'members1 = list(map(lambda member:{\\n         \\'name\\': member.get(\\'name\\'),\\n         \\'birth\\':\"{year}-{month:02}-{day:02}\".format(**member)\\n            }, members2 \\n                   ))',\n",
       " '_i165': 'members1 = list(map(lambda member:{\\n         \\'name\\': member.get(\\'name\\'),\\n         \\'birth\\':\"{year}-{month:02}-{day:02}\".format(**member)\\n            }, members2 \\n                )\\n               )',\n",
       " '_i166': 'list(map(lambda member:{\\n         \\'name\\': member.get(\\'name\\'),\\n         \\'birth\\':\"{year}-{month:02}-{day:02}\".format(**member)\\n            }, members2 \\n                )\\n               )',\n",
       " '_166': [{'name': '홍길동', 'birth': '2000-01-01'},\n",
       "  {'name': '신길동', 'birth': '1995-12-18'}],\n",
       " '_i167': 'def filter_template(func, L=[]):\\n    result = []\\n    for item in L :\\n        if func(item):\\n            result.append(item)\\n    return result',\n",
       " 'filter_template': <function __main__.filter_template(func, L=[])>,\n",
       " '_i168': 'list_data = [1,2,3,4,5,6,7,8,9]\\ndef odd_chk(value):\\n    return value%2:\\n#    if value%2 :\\n#        return True\\n#    else:\\n#        return False\\nfilter_template(lambda value : value%2, list_data)',\n",
       " '_i169': 'list_data = [1,2,3,4,5,6,7,8,9]\\ndef odd_chk(value):\\n    return value%2 \\n#    if value%2 :\\n#        return True\\n#    else:\\n#        return False\\nfilter_template(lambda value : value%2, list_data)',\n",
       " 'odd_chk': <function __main__.odd_chk(value)>,\n",
       " '_169': [1, 3, 5, 7, 9],\n",
       " '_i170': '# 리스트컴프리헨션\\n[for value in list_data if value %2 != 0]',\n",
       " '_i171': '# 리스트컴프리헨션\\n[value for value in list_data if value%2!=0]',\n",
       " '_171': [1, 3, 5, 7, 9],\n",
       " '_i172': '# 예제 : 다음 리스트에서 소수점 이하가 0인 수만 추출하시오(filter/리스트컴프리헨션)\\nL = [1, 1.2, 1.5, 3.0, 10.5, 100,-2, -12.2]\\n[value for value in L if value%1 = 0]',\n",
       " '_i173': '# 예제 : 다음 리스트에서 소수점 이하가 0인 수만 추출하시오(filter/리스트컴프리헨션)\\nL = [1, 1.2, 1.5, 3.0, 10.5, 100,-2, -12.2]\\n[value for value in L if value%1!=0]',\n",
       " 'L': [1, 1.2, 1.5, 3.0, 10.5, 100, -2, -12.2],\n",
       " '_173': [1.2, 1.5, 10.5, -12.2],\n",
       " '_i174': '# 예제 : 다음 리스트에서 소수점 이하가 0인 수만 추출하시오(filter/리스트컴프리헨션)\\nL = [1, 1.2, 1.5, 3.0, 10.5, 100,-2, -12.2]\\n[value for value in L if value%1d=0]',\n",
       " '_i175': '# 예제 : 다음 리스트에서 소수점 이하가 0인 수만 추출하시오(filter/리스트컴프리헨션)\\nL = [1, 1.2, 1.5, 3.0, 10.5, 100,-2, -12.2]\\n[value for value in L if value%1==0]',\n",
       " '_175': [1, 3.0, 100, -2],\n",
       " '_i176': '# 예제 : 다음 리스트에서 소수점 이하가 0인 수만 추출하시오(filter/리스트컴프리헨션)\\nL = [1, 1.2, 1.5, 3.0, 10.5, 100,-2, -12.2]\\nlist(filter(lambda x : x%1==0))\\n[value for value in L if value%1==0]',\n",
       " '_i177': '# 예제 : 다음 리스트에서 소수점 이하가 0인 수만 추출하시오(filter/리스트컴프리헨션)\\nL = [1, 1.2, 1.5, 3.0, 10.5, 100,-2, -12.2]\\nlist(filter(lambda x : x%1==0, L))\\n[value for value in L if value%1==0]',\n",
       " '_177': [1, 3.0, 100, -2],\n",
       " '_i178': \"# 무조건 0번째 item을 기준으로 오름차순 정렬\\npairs = [(2, 'two'), (1, 'one'), (3, 'three'), (4, 'four')]\\npairs.sort()\\npairs\",\n",
       " 'pairs': [(2, 'two'), (3, 'three'), (1, 'one'), (4, 'four')],\n",
       " '_178': [(2, 'two'), (3, 'three'), (1, 'one'), (4, 'four')],\n",
       " '_i179': '# 1번째 item 기준으로 내림차순 정렬\\npairs.sort(key=lambda data : data[1])',\n",
       " '_i180': '# 1번째 item 기준으로 내림차순 정렬\\npairs.sort(key=lambda data : data[1])\\npairs',\n",
       " '_180': [(2, 'two'), (3, 'three'), (1, 'one'), (4, 'four')],\n",
       " '_i181': 'pairs.sort(key=lambda data : data[1], revese=True)\\npairs',\n",
       " '_i182': 'pairs.sort(key=lambda data : data[1], reverse=True)\\npairs',\n",
       " '_182': [(2, 'two'), (3, 'three'), (1, 'one'), (4, 'four')],\n",
       " '_i183': '# 합이 큰 순으로 정렬\\nnumber_2d = [[9,9], [1,100], [10,1]]\\nnumber_2d.sort(key=lambda data : data[1])',\n",
       " 'number_2d': [[10, 200], [1, 100], [9, 9]],\n",
       " '_i184': '# 합이 큰 순으로 정렬\\nnumber_2d = [[9,9], [1,100], [10,1]]\\nnumber_2d.sort(key=lambda data : data[1])\\nnumber_2d',\n",
       " '_184': [[10, 1], [9, 9], [1, 100]],\n",
       " '_i185': '# 합이 큰 순으로 정렬\\nnumber_2d = [[9,9], [1,100], [10,200]]\\nnumber_2d.sort(key=lambda data : data[[0]+[1]])\\nnumber_2d',\n",
       " '_i186': '# 합이 큰 순으로 정렬\\nnumber_2d = [[9,9], [1,100], [10,200]]\\nnumber_2d.sort(key=lambda data : data[sum[0][1]])\\nnumber_2d',\n",
       " '_i187': '# 합이 큰 순으로 정렬\\nnumber_2d = [[9,9], [1,100], [10,200]]\\nnumber_2d.sort(key=lambda data : sum += data)\\nnumber_2d',\n",
       " '_i188': '# 합이 큰 순으로 정렬\\nnumber_2d = [[9,9], [1,100], [10,200]]\\nnumber_2d.sort(key=lambda data : sum += data,number_2d)\\nnumber_2d',\n",
       " '_i189': '# 합이 큰 순으로 정렬\\nnumber_2d = [[9,9], [1,100], [10,200]]\\nnumber_2d.sort(key=lambda data : data += data,number_2d)\\nnumber_2d',\n",
       " '_i190': '# 합이 큰 순으로 정렬\\nnumber_2d = [[9,9], [1,100], [10,200]]\\nnumber_2d.sort(key=lambda x : sum +=x ,number_2d)\\nnumber_2d',\n",
       " '_i191': '# 합이 큰 순으로 정렬\\nnumber_2d = [[9,9], [1,100], [10,200]]\\nnumber_2d.sort(key=(lambda items : sum(itmes),number_2d)\\nnumber_2d',\n",
       " '_i192': '# 합이 큰 순으로 정렬\\nnumber_2d = [[9,9], [1,100], [10,200]]\\nnumber_2d.sort(key=(lambda items : sum(itmes), reverse=True)\\nnumber_2d',\n",
       " '_i193': '# 합이 큰 순으로 정렬\\nnumber_2d = [[9,9], [1,100], [10,200]]\\nnumber_2d.sort(key=(lambda items : sum(itmes), reverse==True)\\nnumber_2d',\n",
       " '_i194': '# 합이 큰 순으로 정렬\\nnumber_2d = [[9,9], [1,100], [10,200]]\\nnumber_2d.sort(key=(lambda items : sum(items), reverse==True)\\nnumber_2d',\n",
       " '_i195': '# 합이 큰 순으로 정렬\\nnumber_2d = [[9,9], [1,100], [10,200]]\\nnumber_2d.sort(key=(lambda items : sum(items), reverse=True)\\nnumber_2d',\n",
       " '_i196': '# 합이 큰 순으로 정렬\\nnumber_2d = [[9,9], [1,100], [10,200]]\\nnumber_2d.sort(key=(lambda items : sum(items), reverse=True)\\nnumber_2d',\n",
       " '_i197': '# 합이 큰 순으로 정렬\\nnumber_2d = [[9,9], [1,100], [10,200]]\\nnumber_2d.sort(key=(lambda items : sum(items), reverse = True)\\nnumber_2d',\n",
       " '_i198': '# 합이 큰 순으로 정렬\\nnumber_2d = [[9,9], [1,100], [10,200]]\\nnumber_2d.sort(key=(lambda items : sum(items), reversed = True)\\nnumber_2d',\n",
       " '_i199': '# 합이 큰 순으로 정렬\\nnumber_2d = [[9,9], [1,100], [10,200]]\\nnumber_2d.sort(key=(lambda items : sum(items), reverse == True)\\nnumber_2d',\n",
       " '_i200': '# 합이 큰 순으로 정렬\\nnumber_2d = [[9,9], [1,100], [10,200]]\\nnumber_2d.sort(key=lambda items : sum(items), reverse =True)\\nnumber_2d',\n",
       " '_200': [[10, 200], [1, 100], [9, 9]],\n",
       " '_i201': \"students = [{'name' : '홍', 'score' : 99},\\n           {'name' : '김', 'score' : 50}\\n           {'name' : '박', 'score' : 77}\\n           {'score' : 99}]\",\n",
       " '_i202': \"students = [{'name' : '홍', 'score' : 99},\\n           {'name' : '김', 'score' : 50}\\n           {'name' : '박', 'score' : 77}\\n           {'score' : 99}]\",\n",
       " '_i203': \"students = [{'name' : '홍', 'score' : 99},\\n           {'name' : '김', 'score' : 50},\\n           {'name' : '박', 'score' : 77},\\n           {'score' : 99}]\",\n",
       " 'students': [{'score': 99},\n",
       "  {'name': '홍', 'score': 99},\n",
       "  {'name': '박', 'score': 77},\n",
       "  {'name': '김', 'score': 50}],\n",
       " '_i204': \"name_select = lambda data : data.get('score')\\nname_select({'name':'홍', 'score':90})\",\n",
       " 'name_select': <function __main__.<lambda>(data)>,\n",
       " '_204': 90,\n",
       " '_i205': \"# students를 name순으로 정렬(ㄱㄴㄷ 순)\\nstudnets.sort(key= lambda dat : data.get('name', ' '))\\nstudents\",\n",
       " '_i206': \"# students를 name순으로 정렬(ㄱㄴㄷ 순)\\nstudents.sort(key= lambda dat : data.get('name', ' '))\\nstudents\",\n",
       " '_i207': \"# students를 name순으로 정렬(ㄱㄴㄷ 순)\\nstudents.sort(key= lambda data : data.get('name', ' '))\\nstudentsa\",\n",
       " '_i208': \"# students를 name순으로 정렬(ㄱㄴㄷ 순)\\nstudents.sort(key= lambda data : data.get('name', ' '))\\nstudents\",\n",
       " '_208': [{'score': 99},\n",
       "  {'name': '홍', 'score': 99},\n",
       "  {'name': '박', 'score': 77},\n",
       "  {'name': '김', 'score': 50}],\n",
       " '_i209': \"# students를 score 큰 순 정렬\\nstudents.sort(key= lambda data : data.get('score', ' '))\\nstudents\",\n",
       " '_209': [{'score': 99},\n",
       "  {'name': '홍', 'score': 99},\n",
       "  {'name': '박', 'score': 77},\n",
       "  {'name': '김', 'score': 50}],\n",
       " '_i210': \"# students를 score 큰 순 정렬\\nstudents.sort(key= lambda data : data.get('score', ' '),reverse = True)\\nstudents\",\n",
       " '_210': [{'score': 99},\n",
       "  {'name': '홍', 'score': 99},\n",
       "  {'name': '박', 'score': 77},\n",
       "  {'name': '김', 'score': 50}],\n",
       " '_i211': \"books = \\\\\\n[{'no':1, 'title':'더트릭컬', 'writer': '폴빠','price':'19,800'},\\n{'no':2, 'title’:’흔한남매', 'writer’:’백난도', 'price’:’15,120'},\\n{'no':3, 'title':'단 한 번의 삶', 'writer':'김영하', 'price':'15,120'},\\n{'no':4, 'title':'가격잘못', 'writer':'홍길동', 'price':'ㅁ'},\\n{'no':5, 'title':'가격이숫자', 'writer':'백난도', 'price':30200},\\n{'no':6, 'title':'가격이없음', 'writer':'이길동’},] 정렬\",\n",
       " '_i212': \"books = \\\\\\n[{'no':1, 'title':'더트릭컬', 'writer': '폴빠','price':'19,800'},\\n{'no':2, 'title’:’흔한남매', 'writer’:’백난도', 'price’:’15,120'},\\n{'no':3, 'title':'단 한 번의 삶', 'writer':'김영하', 'price':'15,120'},\\n{'no':4, 'title':'가격잘못', 'writer':'홍길동', 'price':'ㅁ'},\\n{'no':5, 'title':'가격이숫자', 'writer':'백난도', 'price':30200},\\n{'no':6, 'title':'가격이없음', 'writer':'이길동’},] \",\n",
       " '_i213': \"books = \\\\\\n[{'no':1, 'title':'더트릭컬', 'writer': '폴빠','price':'19,800'},\\n{'no':2, 'title’:’흔한남매', 'writer’:’백난도', 'price’:’15,120'},\\n{'no':3, 'title':'단 한 번의 삶', 'writer':'김영하', 'price':'15,120'},\\n{'no':4, 'title':'가격잘못', 'writer':'홍길동', 'price':'ㅁ'},\\n{'no':5, 'title':'가격이숫자', 'writer':'백난도', 'price':30200},\\n{'no':6, 'title':'가격이없음', 'writer':'이길동'},] \",\n",
       " '_i214': \"books = \\\\\\n[{'no':1, 'title':'더트릭컬', 'writer': '폴빠','price':'19,800'},\\n{'no':2, 'title':'흔한남매', 'writer’:’백난도', 'price':'15,120'},\\n{'no':3, 'title':'단 한 번의 삶', 'writer':'김영하', 'price':'15,120'},\\n{'no':4, 'title':'가격잘못', 'writer':'홍길동', 'price':'ㅁ'},\\n{'no':5, 'title':'가격이숫자', 'writer':'백난도', 'price':30200},\\n{'no':6, 'title':'가격이없음', 'writer':'이길동'},] \",\n",
       " '_i215': \"books = \\\\\\n[{'no':1, 'title':'더트릭컬', 'writer': '폴빠','price':'19,800'},\\n{'no':2, 'title':'흔한남매', 'writer’:’백난도', 'price':'15,120'},\\n{'no':3, 'title':'단 한 번의 삶', 'writer':'김영하', 'price':'15,120'},\\n{'no':4, 'title':'가격잘못', 'writer':'홍길동', 'price':'ㅁ'},\\n{'no':5, 'title':'가격이숫자', 'writer':'백난도', 'price':30200},\\n{'no':6, 'title':'가격이없음', 'writer':'이길동'},] \",\n",
       " '_i216': \"books = \\\\\\n[{'no':1, 'title':'더트릭컬', 'writer': '폴빠','price':'19,800'},\\n{'no':2, 'title':'흔한남매', 'writer’:’백난도', 'price':'15,120'},\\n{'no':3, 'title':'단 한 번의 삶', 'writer':'김영하', 'price':'15,120'},\\n{'no':4, 'title':'가격잘못', 'writer':'홍길동', 'price':'ㅁ'},\\n{'no':5, 'title':'가격이숫자', 'writer':'백난도', 'price':30200},\\n{'no':6, 'title':'가격이없음', 'writer':'이길동'},] \",\n",
       " '_i217': \"books = \\\\\\n[{'no':1, 'title':'더트릭컬', 'writer': '폴빠','price':'19,800'},\\n{'no':2, 'title':'흔한남매', 'writer':'백난도', 'price':'15,120'},\\n{'no':3, 'title':'단 한 번의 삶', 'writer':'김영하', 'price':'15,120'},\\n{'no':4, 'title':'가격잘못', 'writer':'홍길동', 'price':'ㅁ'},\\n{'no':5, 'title':'가격이숫자', 'writer':'백난도', 'price':30200},\\n{'no':6, 'title':'가격이없음', 'writer':'이길동'},] \",\n",
       " 'books': [{'no': 5, 'title': '가격이숫자', 'writer': '백난도', 'price': 30200},\n",
       "  {'no': 6, 'title': '가격이없음', 'writer': '이길동'},\n",
       "  {'no': 4, 'title': '가격잘못', 'writer': '홍길동', 'price': 'ㅁ'},\n",
       "  {'no': 3, 'title': '단 한 번의 삶', 'writer': '김영하', 'price': '15,120'},\n",
       "  {'no': 2, 'title': '더트릭컬', 'writer': '폴빠', 'price': '19,800'},\n",
       "  {'no': 1, 'title': '흔한남매', 'writer': '백난도', 'price': '15,120'}],\n",
       " '_i218': \"books.sort(key= lambda data : data.get('no', ''))\",\n",
       " '_i219': \"books.sort(key= lambda data : data.get('no', ''))\\nbooks\",\n",
       " '_219': [{'no': 1, 'title': '더트릭컬', 'writer': '폴빠', 'price': '19,800'},\n",
       "  {'no': 2, 'title': '흔한남매', 'writer': '백난도', 'price': '15,120'},\n",
       "  {'no': 3, 'title': '단 한 번의 삶', 'writer': '김영하', 'price': '15,120'},\n",
       "  {'no': 4, 'title': '가격잘못', 'writer': '홍길동', 'price': 'ㅁ'},\n",
       "  {'no': 5, 'title': '가격이숫자', 'writer': '백난도', 'price': 30200},\n",
       "  {'no': 6, 'title': '가격이없음', 'writer': '이길동'}],\n",
       " '_i220': \"books.sort(key= lambda data : data.get('no', ''))\\nbooks\",\n",
       " '_220': [{'no': 1, 'title': '더트릭컬', 'writer': '폴빠', 'price': '19,800'},\n",
       "  {'no': 2, 'title': '흔한남매', 'writer': '백난도', 'price': '15,120'},\n",
       "  {'no': 3, 'title': '단 한 번의 삶', 'writer': '김영하', 'price': '15,120'},\n",
       "  {'no': 4, 'title': '가격잘못', 'writer': '홍길동', 'price': 'ㅁ'},\n",
       "  {'no': 5, 'title': '가격이숫자', 'writer': '백난도', 'price': 30200},\n",
       "  {'no': 6, 'title': '가격이없음', 'writer': '이길동'}],\n",
       " '_i221': \"# 예제 : bokks 정렬(no, title, price)\\nbooks = \\\\\\n[{'no':2, 'title':'더트릭컬', 'writer': '폴빠','price':'19,800'},\\n{'no':1, 'title':'흔한남매', 'writer':'백난도', 'price':'15,120'},\\n{'no':3, 'title':'단 한 번의 삶', 'writer':'김영하', 'price':'15,120'},\\n{'no':4, 'title':'가격잘못', 'writer':'홍길동', 'price':'ㅁ'},\\n{'no':5, 'title':'가격이숫자', 'writer':'백난도', 'price':30200},\\n{'no':6, 'title':'가격이없음', 'writer':'이길동'},] \",\n",
       " '_i222': \"books.sort(key= lambda data : data.get('no', ''))\\nbooks\",\n",
       " '_222': [{'no': 5, 'title': '가격이숫자', 'writer': '백난도', 'price': 30200},\n",
       "  {'no': 6, 'title': '가격이없음', 'writer': '이길동'},\n",
       "  {'no': 4, 'title': '가격잘못', 'writer': '홍길동', 'price': 'ㅁ'},\n",
       "  {'no': 3, 'title': '단 한 번의 삶', 'writer': '김영하', 'price': '15,120'},\n",
       "  {'no': 2, 'title': '더트릭컬', 'writer': '폴빠', 'price': '19,800'},\n",
       "  {'no': 1, 'title': '흔한남매', 'writer': '백난도', 'price': '15,120'}],\n",
       " '_i223': \"books.sort(key = lambda data : data.get('title', ''))\",\n",
       " '_i224': \"books.sort(key = lambda data : data.get('title', ''))\\nbooks\",\n",
       " '_224': [{'no': 5, 'title': '가격이숫자', 'writer': '백난도', 'price': 30200},\n",
       "  {'no': 6, 'title': '가격이없음', 'writer': '이길동'},\n",
       "  {'no': 4, 'title': '가격잘못', 'writer': '홍길동', 'price': 'ㅁ'},\n",
       "  {'no': 3, 'title': '단 한 번의 삶', 'writer': '김영하', 'price': '15,120'},\n",
       "  {'no': 2, 'title': '더트릭컬', 'writer': '폴빠', 'price': '19,800'},\n",
       "  {'no': 1, 'title': '흔한남매', 'writer': '백난도', 'price': '15,120'}],\n",
       " '_i225': \"books.sort(key= lambda data : data.get['no'])\\nbooks\",\n",
       " '_i226': \"books.sort(key= lambda data : data['no'])\\nbooks\",\n",
       " '_226': [{'no': 5, 'title': '가격이숫자', 'writer': '백난도', 'price': 30200},\n",
       "  {'no': 6, 'title': '가격이없음', 'writer': '이길동'},\n",
       "  {'no': 4, 'title': '가격잘못', 'writer': '홍길동', 'price': 'ㅁ'},\n",
       "  {'no': 3, 'title': '단 한 번의 삶', 'writer': '김영하', 'price': '15,120'},\n",
       "  {'no': 2, 'title': '더트릭컬', 'writer': '폴빠', 'price': '19,800'},\n",
       "  {'no': 1, 'title': '흔한남매', 'writer': '백난도', 'price': '15,120'}],\n",
       " '_i227': \"books.sort(key = lambda data : data['title'])\\nbooks\",\n",
       " '_227': [{'no': 5, 'title': '가격이숫자', 'writer': '백난도', 'price': 30200},\n",
       "  {'no': 6, 'title': '가격이없음', 'writer': '이길동'},\n",
       "  {'no': 4, 'title': '가격잘못', 'writer': '홍길동', 'price': 'ㅁ'},\n",
       "  {'no': 3, 'title': '단 한 번의 삶', 'writer': '김영하', 'price': '15,120'},\n",
       "  {'no': 2, 'title': '더트릭컬', 'writer': '폴빠', 'price': '19,800'},\n",
       "  {'no': 1, 'title': '흔한남매', 'writer': '백난도', 'price': '15,120'}],\n",
       " '_i228': \"books.sort(key = lambda data : data['title'])\\nbooks\",\n",
       " '_228': [{'no': 5, 'title': '가격이숫자', 'writer': '백난도', 'price': 30200},\n",
       "  {'no': 6, 'title': '가격이없음', 'writer': '이길동'},\n",
       "  {'no': 4, 'title': '가격잘못', 'writer': '홍길동', 'price': 'ㅁ'},\n",
       "  {'no': 3, 'title': '단 한 번의 삶', 'writer': '김영하', 'price': '15,120'},\n",
       "  {'no': 2, 'title': '더트릭컬', 'writer': '폴빠', 'price': '19,800'},\n",
       "  {'no': 1, 'title': '흔한남매', 'writer': '백난도', 'price': '15,120'}],\n",
       " '_i229': \"books.sort(key = int(lambda data : data.get('price', '')))\",\n",
       " '_i230': \"books.sort(key = (lambda data : data.get('price', ''))\",\n",
       " '_i231': \"books.sort(key = lambda data : data.get('price', ''))\",\n",
       " '_i232': 'def parse_int (price):\\n    print(type(price))\\nparse_int(None)',\n",
       " 'parse_int': <function __main__.parse_int(price)>,\n",
       " '_i233': \"def parse_int (price):\\n    if isinstance(price,str) and price.replace(',','').isdigit():\\n        return int(price.replace(',', ''))\\n    elif isinstance(price,int):\\n        return price\\n    else:\\n        return 0\\n        \\nparse_int(None)\",\n",
       " '_233': 0,\n",
       " '_i234': \"def parse_int (price):\\n    if isinstance(price,str) and price.replace(',','').isdigit():\\n        return int(price.replace(',', ''))\\n    elif isinstance(price,int):\\n        return price\\n    else:\\n        return 0\\nparse_int = lambda price : \\n            int(price.replace(',','')\\\\\\n                if isinstance(price,str) and price.replace(',','').isdigit() else \\\\\\n            price if isinstance(price,int) else 0       )\\nparse_int(None)\",\n",
       " '_i235': \"def parse_int (price):\\n    if isinstance(price,str) and price.replace(',','').isdigit():\\n        return int(price.replace(',', ''))\\n    elif isinstance(price,int):\\n        return price\\n    else:\\n        return 0\\nparse_int = lambda price : \\\\\\n            int(price.replace(',','')\\\\\\n                if isinstance(price,str) and price.replace(',','').isdigit() else \\\\\\n            price if isinstance(price,int) else 0       )\\nparse_int(None)\",\n",
       " '_235': 0,\n",
       " '_i236': \"books.sort(key = lambda data : parse_int('price'))\",\n",
       " '_i237': \"books.sort(key = lambda data : parse_int('price'))\\nbooks\",\n",
       " '_237': [{'no': 5, 'title': '가격이숫자', 'writer': '백난도', 'price': 30200},\n",
       "  {'no': 6, 'title': '가격이없음', 'writer': '이길동'},\n",
       "  {'no': 4, 'title': '가격잘못', 'writer': '홍길동', 'price': 'ㅁ'},\n",
       "  {'no': 3, 'title': '단 한 번의 삶', 'writer': '김영하', 'price': '15,120'},\n",
       "  {'no': 2, 'title': '더트릭컬', 'writer': '폴빠', 'price': '19,800'},\n",
       "  {'no': 1, 'title': '흔한남매', 'writer': '백난도', 'price': '15,120'}],\n",
       " '_i238': \"books.sort(key = lambda data : parse_int('price'))\\nbooks\",\n",
       " '_238': [{'no': 5, 'title': '가격이숫자', 'writer': '백난도', 'price': 30200},\n",
       "  {'no': 6, 'title': '가격이없음', 'writer': '이길동'},\n",
       "  {'no': 4, 'title': '가격잘못', 'writer': '홍길동', 'price': 'ㅁ'},\n",
       "  {'no': 3, 'title': '단 한 번의 삶', 'writer': '김영하', 'price': '15,120'},\n",
       "  {'no': 2, 'title': '더트릭컬', 'writer': '폴빠', 'price': '19,800'},\n",
       "  {'no': 1, 'title': '흔한남매', 'writer': '백난도', 'price': '15,120'}],\n",
       " '_i239': \"books.sort(key = lambda data : parse_int('price', parse_int))\\nbooks\",\n",
       " '_i240': \"books.sort(key = lambda data : data('price', parse_int))\\nbooks\",\n",
       " '_i241': \"parse_int = lambda book : \\\\\\n            int(book.get('price').replace(',','')\\\\\\n                if isinstance(book.get('price'),str) and price.replace(',','').isdigit() else \\\\\\n            price if isinstance(book.get('price'),int) else 0       )\\nparse_int(None)\",\n",
       " '_i242': \"parse_int = lambda book : \\\\\\n            int(book.get('price').replace(',','')\\\\\\n                if isinstance(book.get('price'),str) and price.replace(',','').isdigit() else \\\\\\n            price if isinstance(book.get('price'),int) else 0       )\\nparse_int({None})\",\n",
       " '_i243': \"parse_int = lambda book : \\\\\\n            int(book.get('price').replace(',','')\\\\\\n                if isinstance(book.get('price'),str) and price.replace(',','').isdigit() else \\\\\\n            price if isinstance(book.get('price'),int) else 0       )\\nparse_int({'no': 1, 'title': '흔한남매', 'writer': '백난도', 'price': '15,120'})\",\n",
       " '_i244': \"parse_int = lambda book : \\\\\\n            int(book.get('price').replace(',','')\\\\\\n                if isinstance(book.get('price'),str) and book.get('price').replace(',','').isdigit() else \\\\\\n            price if isinstance(book.get('price'),int) else 0       )\\nparse_int({'no': 1, 'title': '흔한남매', 'writer': '백난도', 'price': '15,120'})\",\n",
       " '_244': 15120,\n",
       " '_i245': \"def parse_int (price):\\n    if str(price,str) and price.replace(',','').isdigit():\\n        return int(str(price).replace(',', ''))\\n    else:\\n        return 0\\nparse_int(None)\",\n",
       " '_i246': \"def parse_int (price):\\n    if str(price) and price.replace(',','').isdigit():\\n        return int(str(price).replace(',', ''))\\n    else:\\n        return 0\\nparse_int(None)\",\n",
       " '_i247': \"def parse_int (price):\\n    if str(price) and str(price).replace(',','').isdigit():\\n        return int(str(price).replace(',', ''))\\n    else:\\n        return 0\\nparse_int(None)\",\n",
       " '_247': 0,\n",
       " '_i248': \"copyBooks = books.copy() #복제\\ncopyBooks.sort(key= lambda book : \\\\\\n            int(book.get('price').replace(',','')\\\\\\n                if isinstance(book.get('price'),str) and book.get('price').replace(',','').isdigit() else \\\\\\n            price if isinstance(book.get('price'),int) else 0,\\n               reverse = True))\\ncopyBooks\",\n",
       " 'copyBooks': [{'no': 5, 'title': '가격이숫자', 'writer': '백난도', 'price': 30200},\n",
       "  {'no': 2, 'title': '더트릭컬', 'writer': '폴빠', 'price': '19,800'},\n",
       "  {'no': 3, 'title': '단 한 번의 삶', 'writer': '김영하', 'price': '15,120'},\n",
       "  {'no': 1, 'title': '흔한남매', 'writer': '백난도', 'price': '15,120'},\n",
       "  {'no': 6, 'title': '가격이없음', 'writer': '이길동'},\n",
       "  {'no': 4, 'title': '가격잘못', 'writer': '홍길동', 'price': 'ㅁ'}],\n",
       " '_i249': \"copyBooks = books.copy() #복제\\ncopyBooks.sort(key= lambda book : \\\\\\n            int(book.get('price').replace(',','')\\\\\\n                if isinstance(book.get('price'),str) and book.get('price').replace(',','').isdigit() else \\\\\\n            price if isinstance(book.get('price'),int) else \\\\\\n                0,\\n               reverse = True))\\ncopyBooks\",\n",
       " '_i250': \"copyBooks = books.copy() #복제\\ncopyBooks.sort(key= lambda book : \\\\\\n            int(book.get('price').replace(',','')\\\\\\n                if isinstance(book.get('price'),str) and book.get('price').replace(',','').isdigit() else \\\\\\n            price if isinstance(book.get('price'),int) else \\\\\\n                0,\\n            reverse = True))\\ncopyBooks\",\n",
       " '_i251': \"copyBooks = books.copy() #복제\\ncopyBooks.sort(key= lambda book : \\\\\\n            int(book.get('price').replace(',','')\\\\\\n                if isinstance(book.get('price'),str) and book.get('price').replace(',','').isdigit() else \\\\\\n            book.get('price') if isinstance(book.get('price'),int) else \\\\\\n                0,\\n            reverse = True))\\ncopyBooks\",\n",
       " '_i252': \"copyBooks = books.copy() #복제\\ncopyBooks.sort(key= lambda book : \\\\\\n            int(book.get('price').replace(',','')\\\\\\n                if isinstance(book.get('price'),str) and book.get('price').replace(',','').isdigit() else \\\\\\n            book.get('price') if isinstance(book.get('price'), int) else \\\\\\n                0,\\n            reverse = True))\\ncopyBooks\",\n",
       " '_i253': \"copyBooks = books.copy() #복제\\ncopyBooks.sort(key= lambda book : \\\\\\n            int(book.get('price').replace(',',''))\\\\\\n                if isinstance(book.get('price'),str) and book.get('price').replace(',','').isdigit() else \\\\\\n            book.get('price') if isinstance(book.get('price'), int) else \\\\\\n                0,\\n            reverse = True))\\ncopyBooks\",\n",
       " '_i254': \"copyBooks = books.copy() #복제\\ncopyBooks.sort(key= lambda book : \\\\\\n            int(book.get('price').replace(',',''))\\\\\\n                if isinstance(book.get('price'),str) and book.get('price').replace(',','').isdigit() else \\\\\\n            book.get('price') if isinstance(book.get('price'), int) else \\\\\\n                0,\\n            reverse = True)\\ncopyBooks\",\n",
       " '_254': [{'no': 5, 'title': '가격이숫자', 'writer': '백난도', 'price': 30200},\n",
       "  {'no': 2, 'title': '더트릭컬', 'writer': '폴빠', 'price': '19,800'},\n",
       "  {'no': 3, 'title': '단 한 번의 삶', 'writer': '김영하', 'price': '15,120'},\n",
       "  {'no': 1, 'title': '흔한남매', 'writer': '백난도', 'price': '15,120'},\n",
       "  {'no': 6, 'title': '가격이없음', 'writer': '이길동'},\n",
       "  {'no': 4, 'title': '가격잘못', 'writer': '홍길동', 'price': 'ㅁ'}],\n",
       " '_i255': '#1번. 함수의 인자로 리스트를 받은 후 리스트 내에 있는 모든 정수값에 대한 최대값과 최소값을 리턴하는 함수를 작성하세요\\ndata_list = []\\ndef get_max_min(data_list):\\n    return max & min',\n",
       " 'data_list': [],\n",
       " 'get_max_min': <function __main__.get_max_min(data_list)>,\n",
       " '_i256': '#1번. 함수의 인자로 리스트를 받은 후 리스트 내에 있는 모든 정수값에 대한 최대값과 최소값을 리턴하는 함수를 작성하세요\\ndata_list = []\\ndef get_max_min(data_list):\\n    return max & min\\nmax',\n",
       " '_256': <function max>,\n",
       " '_i257': '#1번. 함수의 인자로 리스트를 받은 후 리스트 내에 있는 모든 정수값에 대한 최대값과 최소값을 리턴하는 함수를 작성하세요\\ndata_list = []\\ndef get_max_min(data_list):\\n    return max & min\\ndata_list(max)',\n",
       " '_i258': '#1번. 함수의 인자로 리스트를 받은 후 리스트 내에 있는 모든 정수값에 대한 최대값과 최소값을 리턴하는 함수를 작성하세요\\ndata_list = []\\ndef get_max_min(data_list):\\n    return max & min\\ndata_list[max]',\n",
       " '_i259': '#1번. 함수의 인자로 리스트를 받은 후 리스트 내에 있는 모든 정수값에 대한 최대값과 최소값을 리턴하는 함수를 작성하세요\\ndata_list = []\\ndef get_max_min(data_list):\\n    return max & min',\n",
       " '_i260': 'globals() #전역변수리스트',\n",
       " '_260': {...},\n",
       " '_i261': 'a =10',\n",
       " 'a': 10,\n",
       " '_i262': 'globals() #전역변수리스트'}"
      ]
     },
     "execution_count": 262,
     "metadata": {},
     "output_type": "execute_result"
    }
   ],
   "source": [
    "globals() #전역변수리스트"
   ]
  },
  {
   "cell_type": "code",
   "execution_count": 263,
   "id": "2b47f86d",
   "metadata": {},
   "outputs": [
    {
     "data": {
      "text/plain": [
       "False"
      ]
     },
     "execution_count": 263,
     "metadata": {},
     "output_type": "execute_result"
    }
   ],
   "source": [
    "all([True, True, True, False]) # 모든 요소가 다 True인지 여부"
   ]
  },
  {
   "cell_type": "markdown",
   "id": "464942e6",
   "metadata": {},
   "source": [
    "# 6절 연습문제\n",
    "\n",
    "## 실습형"
   ]
  },
  {
   "cell_type": "code",
   "execution_count": 276,
   "id": "62a7ac13",
   "metadata": {},
   "outputs": [
    {
     "ename": "NameError",
     "evalue": "name 'Max_' is not defined",
     "output_type": "error",
     "traceback": [
      "\u001b[1;31m---------------------------------------------------------------------------\u001b[0m",
      "\u001b[1;31mNameError\u001b[0m                                 Traceback (most recent call last)",
      "Cell \u001b[1;32mIn[276], line 6\u001b[0m\n\u001b[0;32m      4\u001b[0m     Min_ \u001b[38;5;241m=\u001b[39m \u001b[38;5;28mmin\u001b[39m(data_list)\n\u001b[0;32m      5\u001b[0m     \u001b[38;5;28;01mreturn\u001b[39;00m {\u001b[38;5;124m'\u001b[39m\u001b[38;5;124m최댓값\u001b[39m\u001b[38;5;124m'\u001b[39m:Max_,\u001b[38;5;124m'\u001b[39m\u001b[38;5;124m최소값\u001b[39m\u001b[38;5;124m'\u001b[39m: Min_}\n\u001b[1;32m----> 6\u001b[0m get_max_min(\u001b[43mMax_\u001b[49m)\n",
      "\u001b[1;31mNameError\u001b[0m: name 'Max_' is not defined"
     ]
    }
   ],
   "source": [
    "#1번. 함수의 인자로 리스트를 받은 후 리스트 내에 있는 모든 정수값에 대한 최대값과 최소값을 리턴하는 함수를 작성하세요\n",
    "def get_max_min(data_list):\n",
    "    Max_ = max(data_list)\n",
    "    Min_ = min(data_list)\n",
    "    return {'최댓값':Max_,'최소값': Min_}\n",
    "get_max_min(Max_)"
   ]
  },
  {
   "cell_type": "code",
   "execution_count": 42,
   "id": "9fe08ec4",
   "metadata": {},
   "outputs": [],
   "source": [
    "#2번. 체질량 지수(Body Mass Index, BMI)는 체중과 키를 이용해 비만도를 나타내는 지수로 아래의 수식에 의해 계산됩니다.\n",
    "#     함수의 인자로 체중(kg)과 신장(m)를 입력받은 후 BMI값에 따라 '마른체형','표준','비만','고도비만' 중 하나의 상테를\n",
    "#     출력하는 함수를 구현해 보세요"
   ]
  },
  {
   "cell_type": "code",
   "execution_count": 264,
   "id": "1a4df40f",
   "metadata": {},
   "outputs": [
    {
     "data": {
      "text/plain": [
       "{'넓이': 6.0, '둘레': 12.0}"
      ]
     },
     "execution_count": 264,
     "metadata": {},
     "output_type": "execute_result"
    }
   ],
   "source": [
    "#3번. 직각삼각형의 밑변과 높이를 입력받은 후 삼각형의 면적과 둘레를 계산하는 함수를 작성하세요.\n",
    "import math\n",
    "def get_triangle(w, h):\n",
    "    area = w*h*0.5\n",
    "    # math.sqrt() : 제곱근\n",
    "    perimeter = w+h+math.sqrt(w*w + h*h)\n",
    "    # return area, perimeter\n",
    "    return {'넓이':area, '둘레':perimeter}\n",
    "get_triangle(3,4)"
   ]
  },
  {
   "cell_type": "code",
   "execution_count": 44,
   "id": "e53f9bf6",
   "metadata": {},
   "outputs": [],
   "source": [
    "#4번. 함수의 인자로 시작과 끝 숫자가 주어질 때 시작부터 끝까지의 모든 정수값의 합을 리턴하는 함수를 작성하세요."
   ]
  },
  {
   "cell_type": "code",
   "execution_count": 45,
   "id": "a811825e",
   "metadata": {},
   "outputs": [],
   "source": [
    "#5번. 함수의 인자로 문자열을 포함하는 리스트가 입력될 때 각 문자열의 첫 세글자로만 구성된 리스트를 리턴하는 함수와 람닥실을\n",
    "#    작성하세요."
   ]
  },
  {
   "cell_type": "code",
   "execution_count": 46,
   "id": "6101cfda",
   "metadata": {},
   "outputs": [],
   "source": [
    "#6번. 다음 코드를 람다 함수 형태로 수정할 때 알맞은 코드를 작성하시오."
   ]
  },
  {
   "cell_type": "code",
   "execution_count": 47,
   "id": "700818bd",
   "metadata": {},
   "outputs": [],
   "source": [
    "#7번. ex =[1,2,3,4,5]를 [1,4,9,16,25]의 결과를 얻을 수 있도록 람다함수와 map()함수를 사용하여 구현과 리스트 컴프리헨션으로\n",
    "#    구하시오."
   ]
  },
  {
   "cell_type": "code",
   "execution_count": null,
   "id": "9214eaf7",
   "metadata": {},
   "outputs": [],
   "source": [
    "#8번. 다음 코드를 각각 실행하면 서로 다른 결과가 나온다. 이런 결과가 나오는 이유를 서술하시오."
   ]
  },
  {
   "cell_type": "code",
   "execution_count": 48,
   "id": "a09442ab",
   "metadata": {},
   "outputs": [],
   "source": [
    "#9번. 다음 코드의 실행 결과는?"
   ]
  },
  {
   "cell_type": "code",
   "execution_count": 49,
   "id": "411d5242",
   "metadata": {},
   "outputs": [],
   "source": [
    "#10번. n개의 벡터(리스트나 튜플, 셋등)들의 크기가 같은지 여부를 return하는\n",
    "#     vector_size_check(*vector_var)를 한 줄의 코드(리스트 컴프리헨션 이용)로 작성하시오."
   ]
  },
  {
   "cell_type": "code",
   "execution_count": 53,
   "id": "52f5470e",
   "metadata": {},
   "outputs": [],
   "source": [
    "#11번. 다음과 같은 결과를 얻기 위해 하나의 스칼라값을 리스트나 튜플, 셋등 벡터에 곱하는 코드를 작성하시오."
   ]
  },
  {
   "cell_type": "code",
   "execution_count": null,
   "id": "ab274eba",
   "metadata": {},
   "outputs": [],
   "source": []
  },
  {
   "cell_type": "code",
   "execution_count": 54,
   "id": "f1528680",
   "metadata": {},
   "outputs": [],
   "source": [
    "#1번. 다음 코드의 실행 결과는?"
   ]
  },
  {
   "cell_type": "code",
   "execution_count": 55,
   "id": "e3544451",
   "metadata": {},
   "outputs": [],
   "source": [
    "#2번. 함수 영역과 변수들의 참조 영역에 따른 동작을 보여주기 위한 문제입니다. 오류가 발생하는 라인을 찾고\n",
    "#    문제를 해결하기 위한 코드를 작성하며, 실행 결과를 쓰세요."
   ]
  },
  {
   "cell_type": "code",
   "execution_count": 56,
   "id": "624d8eed",
   "metadata": {},
   "outputs": [],
   "source": [
    "#3번. 다음 구문을 실행한 결과는?"
   ]
  },
  {
   "cell_type": "code",
   "execution_count": 57,
   "id": "ce092b68",
   "metadata": {},
   "outputs": [],
   "source": [
    "#4번. 다음 구문의 실행 결과는?"
   ]
  },
  {
   "cell_type": "code",
   "execution_count": 58,
   "id": "ce611187",
   "metadata": {},
   "outputs": [],
   "source": [
    "#5번. 다음 구문의 실행 결과는?"
   ]
  },
  {
   "cell_type": "code",
   "execution_count": 59,
   "id": "b340011b",
   "metadata": {},
   "outputs": [],
   "source": [
    "#6번. 파이썬 함수에 대한 설명 중 잘못된 것은?"
   ]
  },
  {
   "cell_type": "code",
   "execution_count": 60,
   "id": "f380a1e3",
   "metadata": {},
   "outputs": [],
   "source": [
    "#7번. 다음과 같은 구문이 있을 경우 오류가 발생하는 함수 호출은?"
   ]
  },
  {
   "cell_type": "code",
   "execution_count": 61,
   "id": "16850537",
   "metadata": {},
   "outputs": [],
   "source": [
    "#8번. 다음 보기가 설명하는 것을 작성하기 위한 키워드를 쓰세요.(영문 소문자로 쓰세요)"
   ]
  }
 ],
 "metadata": {
  "kernelspec": {
   "display_name": "Python 3 (ipykernel)",
   "language": "python",
   "name": "python3"
  },
  "language_info": {
   "codemirror_mode": {
    "name": "ipython",
    "version": 3
   },
   "file_extension": ".py",
   "mimetype": "text/x-python",
   "name": "python",
   "nbconvert_exporter": "python",
   "pygments_lexer": "ipython3",
   "version": "3.10.9"
  },
  "toc": {
   "base_numbering": 1,
   "nav_menu": {},
   "number_sections": false,
   "sideBar": true,
   "skip_h1_title": false,
   "title_cell": "Table of Contents",
   "title_sidebar": "Contents",
   "toc_cell": false,
   "toc_position": {
    "height": "calc(100% - 180px)",
    "left": "10px",
    "top": "150px",
    "width": "382.391px"
   },
   "toc_section_display": true,
   "toc_window_display": true
  }
 },
 "nbformat": 4,
 "nbformat_minor": 5
}
