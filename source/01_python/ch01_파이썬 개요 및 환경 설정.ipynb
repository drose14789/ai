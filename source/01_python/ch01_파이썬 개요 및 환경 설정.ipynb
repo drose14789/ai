{
 "cells": [
  {
   "cell_type": "code",
   "execution_count": 1,
   "id": "f1ed7990",
   "metadata": {},
   "outputs": [
    {
     "data": {
      "text/html": [
       "\n",
       "<style>\n",
       "div.container{width:90% !important;}\n",
       "div.cell.code_cell.rendered{width:100%;}\n",
       "div.input_prompt{padding:0px;}\n",
       "div.CodeMirror {font-family:Consolas; font-size:12pt;}\n",
       "div.text_cell_render.rendered_html{font-size:12pt;}\n",
       "div.output {font-size:12pt; font-weight:bold;}\n",
       "div.input{font-family:Consolas; font-size:12pt;}\n",
       "div.prompt {min-width:70px;}\n",
       "div#toc-wrapper{padding-top:120px;}\n",
       "div.text_cell_render ul li{font-size:12pt;padding:5px;}\n",
       "table.dataframe{font-size:12px;}\n",
       "</style>\n"
      ],
      "text/plain": [
       "<IPython.core.display.HTML object>"
      ]
     },
     "metadata": {},
     "output_type": "display_data"
    }
   ],
   "source": [
    "from IPython.display import display, HTML\n",
    "display(HTML (\"\"\"\n",
    "<style>\n",
    "div.container{width:90% !important;}\n",
    "div.cell.code_cell.rendered{width:100%;}\n",
    "div.input_prompt{padding:0px;}\n",
    "div.CodeMirror {font-family:Consolas; font-size:12pt;}\n",
    "div.text_cell_render.rendered_html{font-size:12pt;}\n",
    "div.output {font-size:12pt; font-weight:bold;}\n",
    "div.input{font-family:Consolas; font-size:12pt;}\n",
    "div.prompt {min-width:70px;}\n",
    "div#toc-wrapper{padding-top:120px;}\n",
    "div.text_cell_render ul li{font-size:12pt;padding:5px;}\n",
    "table.dataframe{font-size:12px;}\n",
    "</style>\n",
    "\"\"\"))"
   ]
  },
  {
   "cell_type": "markdown",
   "id": "78d01d50",
   "metadata": {},
   "source": [
    "<b><font size=\"7\" color=\"red\">ch01. 파이썬 개요 및 환경 설정</font></b>\n",
    "\n",
    "# 1.마크 다운이란?\n",
    "- 코드와 함꼐 문서화를 할 수 있음\n",
    "- 다양한 문서화 문법 ex. README.md\n",
    "\n",
    "# 2.주피터 노트북 사용법(큰제목)\n",
    "- shift+Enter: 포커스된 셀이 실행되고, 커서가 다음셀로 이동\n",
    "- alt+Enter: 포커스된 셀이 실행되고, 다음셀이 생성된 후, 다음셀로 이동\n",
    "- ctrl+Enter: 포커스된 셀이 실행되고, 포커스 이동이 없음"
   ]
  },
  {
   "cell_type": "code",
   "execution_count": 3,
   "id": "531a18df",
   "metadata": {},
   "outputs": [],
   "source": [
    "#셀 하나하나에 파이썬 소스 입력 -> 실행"
   ]
  },
  {
   "cell_type": "code",
   "execution_count": 4,
   "id": "6e3abb9f",
   "metadata": {},
   "outputs": [
    {
     "name": "stdout",
     "output_type": "stream",
     "text": [
      "Hello, Python\n",
      "홍길동\n"
     ]
    }
   ],
   "source": [
    "# print()함수를 이용해서 출력 (블럭잡고 ctrl+/ : 블럭주석 토글)\n",
    "# print('Hello, Python')\n",
    "# print('홍길동')\n",
    "print(\"Hello, Python\\n홍길동\")"
   ]
  },
  {
   "cell_type": "code",
   "execution_count": 7,
   "id": "1152704a",
   "metadata": {},
   "outputs": [
    {
     "name": "stdout",
     "output_type": "stream",
     "text": [
      "27\n",
      "252\n"
     ]
    }
   ],
   "source": [
    "age = 25 # 숫자\n",
    "duration = \"2\" #문자\n",
    "print(age + int (duration))\n",
    "print(str (age) + duration)\n",
    "# view 메뉴 -> toggle line Number 선택"
   ]
  },
  {
   "cell_type": "code",
   "execution_count": 8,
   "id": "97e539a5",
   "metadata": {},
   "outputs": [
    {
     "name": "stdout",
     "output_type": "stream",
     "text": [
      "0\n",
      "1\n",
      "2\n",
      "3\n",
      "4\n",
      "5\n",
      "6\n",
      "7\n",
      "8\n",
      "9\n"
     ]
    }
   ],
   "source": [
    "#for i in range(10):\n",
    "#   print(i)\n",
    "#stop기능\n",
    "#kernel 메뉴의 restart"
   ]
  },
  {
   "cell_type": "code",
   "execution_count": 12,
   "id": "a12eb050",
   "metadata": {},
   "outputs": [
    {
     "data": {
      "text/plain": [
       "5"
      ]
     },
     "execution_count": 12,
     "metadata": {},
     "output_type": "execute_result"
    }
   ],
   "source": [
    "print = 5\n",
    "print"
   ]
  },
  {
   "cell_type": "code",
   "execution_count": 13,
   "id": "22f06f47",
   "metadata": {},
   "outputs": [],
   "source": [
    "# 실수로 할당된 print 변수를 삭제1\n",
    "del print\n",
    "# 실수로 할당된 print 변수를 삭제2 : kernel 재시작"
   ]
  },
  {
   "cell_type": "code",
   "execution_count": 14,
   "id": "95f529e4",
   "metadata": {
    "scrolled": true
   },
   "outputs": [
    {
     "name": "stdout",
     "output_type": "stream",
     "text": [
      "Hello\n"
     ]
    }
   ],
   "source": [
    "print('Hello')"
   ]
  },
  {
   "cell_type": "markdown",
   "id": "b7d5dd15",
   "metadata": {},
   "source": [
    "# 3. ESC키 누르고\n",
    "- dd : 셀삭제\n",
    "- a : 윗셀 추가\n",
    "- b : 아랫셀 추가\n",
    "- m : 마크다운 셀로 변경\n",
    "- y : 코드 셀로 바꾸기\n",
    "- h : 핫키(단축키) 안내\n",
    "- o : 해당셀의 실행결과 접기/펴기"
   ]
  },
  {
   "cell_type": "code",
   "execution_count": 15,
   "id": "2c9c8e21",
   "metadata": {},
   "outputs": [
    {
     "name": "stdout",
     "output_type": "stream",
     "text": [
      " C 드라이브의 볼륨에는 이름이 없습니다.\n",
      " 볼륨 일련 번호: A014-DCD6\n",
      "\n",
      " C:\\ai\\source\\01_python 디렉터리\n",
      "\n",
      "2025-09-12  오전 10:49    <DIR>          .\n",
      "2025-09-12  오전 10:49    <DIR>          ..\n",
      "2025-09-12  오전 09:22    <DIR>          .ipynb_checkpoints\n",
      "2025-09-12  오전 10:49             5,937 ch01_파이썬 개요 및 환경 설정.ipynb\n",
      "2025-09-12  오전 10:33             5,154 ch02_자료형과 연산자.ipynb\n",
      "               2개 파일              11,091 바이트\n",
      "               3개 디렉터리  163,683,221,504 바이트 남음\n"
     ]
    }
   ],
   "source": [
    "# ! 주치터 노트북에서 cmd명령어 수행\n",
    "!dir"
   ]
  },
  {
   "cell_type": "code",
   "execution_count": 16,
   "id": "faebeb8a",
   "metadata": {},
   "outputs": [
    {
     "name": "stdout",
     "output_type": "stream",
     "text": [
      " C 드라이브의 볼륨에는 이름이 없습니다.\n",
      " 볼륨 일련 번호: A014-DCD6\n",
      "\n",
      " C:\\ai\\source\\01_python 디렉터리\n",
      "\n",
      "2025-09-12  오전 10:53    <DIR>          .\n",
      "2025-09-12  오전 10:53    <DIR>          ..\n",
      "2025-09-12  오전 09:22    <DIR>          .ipynb_checkpoints\n",
      "2025-09-12  오전 10:53             7,270 ch01_파이썬 개요 및 환경 설정.ipynb\n",
      "2025-09-12  오전 10:33             5,154 ch02_자료형과 연산자.ipynb\n",
      "               2개 파일              12,424 바이트\n",
      "               3개 디렉터리  163,683,069,952 바이트 남음\n"
     ]
    }
   ],
   "source": [
    "# % 매직 명령어(주피터 노트북 자체 명령어) 매직 명령어 사용할 시 리눅스 명령어 사용\n",
    "%ls"
   ]
  },
  {
   "cell_type": "code",
   "execution_count": null,
   "id": "87d7c04d",
   "metadata": {},
   "outputs": [],
   "source": []
  }
 ],
 "metadata": {
  "kernelspec": {
   "display_name": "Python 3 (ipykernel)",
   "language": "python",
   "name": "python3"
  },
  "language_info": {
   "codemirror_mode": {
    "name": "ipython",
    "version": 3
   },
   "file_extension": ".py",
   "mimetype": "text/x-python",
   "name": "python",
   "nbconvert_exporter": "python",
   "pygments_lexer": "ipython3",
   "version": "3.10.9"
  },
  "toc": {
   "base_numbering": 1,
   "nav_menu": {},
   "number_sections": false,
   "sideBar": true,
   "skip_h1_title": false,
   "title_cell": "Table of Contents",
   "title_sidebar": "Contents",
   "toc_cell": false,
   "toc_position": {},
   "toc_section_display": true,
   "toc_window_display": true
  }
 },
 "nbformat": 4,
 "nbformat_minor": 5
}
