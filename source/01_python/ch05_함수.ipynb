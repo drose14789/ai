{
 "cells": [
  {
   "cell_type": "code",
   "execution_count": 1,
   "id": "c5b42aed",
   "metadata": {},
   "outputs": [
    {
     "data": {
      "text/html": [
       "\n",
       "<style>\n",
       "div.container{width:90% !important;}\n",
       "div.cell.code_cell.rendered{width:100%;}\n",
       "div.input_prompt{padding:0px;}\n",
       "div.CodeMirror {font-family:Consolas; font-size:12pt;}\n",
       "div.text_cell_render.rendered_html{font-size:12pt;}\n",
       "div.output {font-size:12pt; font-weight:bold;}\n",
       "div.input{font-family:Consolas; font-size:12pt;}\n",
       "div.prompt {min-width:70px;}\n",
       "div#toc-wrapper{padding-top:120px;}\n",
       "div.text_cell_render ul li{font-size:12pt;padding:5px;}\n",
       "table.dataframe{font-size:12px;}\n",
       "</style>\n"
      ],
      "text/plain": [
       "<IPython.core.display.HTML object>"
      ]
     },
     "metadata": {},
     "output_type": "display_data"
    }
   ],
   "source": [
    "from IPython.display import display, HTML\n",
    "display(HTML (\"\"\"\n",
    "<style>\n",
    "div.container{width:90% !important;}\n",
    "div.cell.code_cell.rendered{width:100%;}\n",
    "div.input_prompt{padding:0px;}\n",
    "div.CodeMirror {font-family:Consolas; font-size:12pt;}\n",
    "div.text_cell_render.rendered_html{font-size:12pt;}\n",
    "div.output {font-size:12pt; font-weight:bold;}\n",
    "div.input{font-family:Consolas; font-size:12pt;}\n",
    "div.prompt {min-width:70px;}\n",
    "div#toc-wrapper{padding-top:120px;}\n",
    "div.text_cell_render ul li{font-size:12pt;padding:5px;}\n",
    "table.dataframe{font-size:12px;}\n",
    "</style>\n",
    "\"\"\"))"
   ]
  },
  {
   "cell_type": "markdown",
   "id": "21f22cbd",
   "metadata": {},
   "source": [
    "<b><font size=\"7\" color=\"red\">ch05. 함수</font></b>\n",
    "- 반복해서 사용할 코드를 묶엇 놓고 그것에 이름을 붙인 것\n",
    "- 오버로딩 불가(같은 이름의 함수는 덮어씀)\n",
    "- 함수 정의\n",
    "```\n",
    "def 함수명([매개변수1, 매개변수2, ..]):\n",
    "    명령어1\n",
    "    명령어2.....\n",
    "```\n",
    "# 1절. 함수의 정의 및 사용\n",
    "## 1.1  함수 정의"
   ]
  },
  {
   "cell_type": "code",
   "execution_count": 2,
   "id": "58b9eb70",
   "metadata": {},
   "outputs": [],
   "source": [
    "def my_message(x, msg): # msg를 x번 출력하는 함수 정의\n",
    "    for i in range(x):\n",
    "        print(i, msg)"
   ]
  },
  {
   "cell_type": "code",
   "execution_count": 3,
   "id": "b078ce7a",
   "metadata": {},
   "outputs": [
    {
     "name": "stdout",
     "output_type": "stream",
     "text": [
      "0 Hello\n",
      "1 Hello\n",
      "2 Hello\n"
     ]
    }
   ],
   "source": [
    "# 함수 사용 == 함수 호출\n",
    "my_message(3, 'Hello')"
   ]
  },
  {
   "cell_type": "code",
   "execution_count": 4,
   "id": "8bcffa1f",
   "metadata": {},
   "outputs": [
    {
     "name": "stdout",
     "output_type": "stream",
     "text": [
      "0 Hello\n",
      "1 Hello\n",
      "0 Python\n",
      "1 Python\n",
      "2 Python\n"
     ]
    }
   ],
   "source": [
    "# 함수 이름 변경\n",
    "my_msg = my_message\n",
    "my_message(2,  'Hello')\n",
    "my_msg(3, 'Python')"
   ]
  },
  {
   "cell_type": "code",
   "execution_count": 5,
   "id": "babfce81",
   "metadata": {},
   "outputs": [
    {
     "data": {
      "text/plain": [
       "(function, function)"
      ]
     },
     "execution_count": 5,
     "metadata": {},
     "output_type": "execute_result"
    }
   ],
   "source": [
    "type(my_msg), type(my_message)"
   ]
  },
  {
   "cell_type": "code",
   "execution_count": 6,
   "id": "c55fa31a",
   "metadata": {},
   "outputs": [
    {
     "name": "stdout",
     "output_type": "stream",
     "text": [
      "Hello\n",
      "Hello\n"
     ]
    }
   ],
   "source": [
    "print('Hello') # 파이썬 내장 함수(import 하지 않고 사용할 수 있는 함수)\n",
    "print = 5\n",
    "#print('Hello')\n",
    "del print\n",
    "print('Hello')"
   ]
  },
  {
   "cell_type": "code",
   "execution_count": 7,
   "id": "1340dcc1",
   "metadata": {},
   "outputs": [
    {
     "name": "stdout",
     "output_type": "stream",
     "text": [
      "0 Hello\n",
      "1 Hello\n"
     ]
    }
   ],
   "source": [
    "my_message(2, 'Hello')"
   ]
  },
  {
   "cell_type": "code",
   "execution_count": 9,
   "id": "bb8d50a2",
   "metadata": {},
   "outputs": [
    {
     "name": "stdout",
     "output_type": "stream",
     "text": [
      "0 Hello\n",
      "1 Hello\n"
     ]
    },
    {
     "ename": "TypeError",
     "evalue": "'int' object is not callable",
     "output_type": "error",
     "traceback": [
      "\u001b[1;31m---------------------------------------------------------------------------\u001b[0m",
      "\u001b[1;31mTypeError\u001b[0m                                 Traceback (most recent call last)",
      "Cell \u001b[1;32mIn[9], line 3\u001b[0m\n\u001b[0;32m      1\u001b[0m my_message \u001b[38;5;241m=\u001b[39m \u001b[38;5;241m5\u001b[39m\n\u001b[0;32m      2\u001b[0m my_msg(\u001b[38;5;241m2\u001b[39m, \u001b[38;5;124m'\u001b[39m\u001b[38;5;124mHello\u001b[39m\u001b[38;5;124m'\u001b[39m)\n\u001b[1;32m----> 3\u001b[0m \u001b[43mmy_message\u001b[49m\u001b[43m(\u001b[49m\u001b[38;5;241;43m2\u001b[39;49m\u001b[43m,\u001b[49m\u001b[43m \u001b[49m\u001b[38;5;124;43m'\u001b[39;49m\u001b[38;5;124;43mHello\u001b[39;49m\u001b[38;5;124;43m'\u001b[39;49m\u001b[43m)\u001b[49m\n",
      "\u001b[1;31mTypeError\u001b[0m: 'int' object is not callable"
     ]
    }
   ],
   "source": [
    "my_message = 5\n",
    "my_msg(2, 'Hello')\n",
    "my_message(2, 'Hello')"
   ]
  },
  {
   "cell_type": "code",
   "execution_count": 10,
   "id": "7d52109a",
   "metadata": {},
   "outputs": [
    {
     "ename": "NameError",
     "evalue": "name 'my_message' is not defined",
     "output_type": "error",
     "traceback": [
      "\u001b[1;31m---------------------------------------------------------------------------\u001b[0m",
      "\u001b[1;31mNameError\u001b[0m                                 Traceback (most recent call last)",
      "Cell \u001b[1;32mIn[10], line 2\u001b[0m\n\u001b[0;32m      1\u001b[0m \u001b[38;5;28;01mdel\u001b[39;00m my_message\n\u001b[1;32m----> 2\u001b[0m \u001b[43mmy_message\u001b[49m(\u001b[38;5;241m2\u001b[39m,\u001b[38;5;124m'\u001b[39m\u001b[38;5;124mHello\u001b[39m\u001b[38;5;124m'\u001b[39m)\n",
      "\u001b[1;31mNameError\u001b[0m: name 'my_message' is not defined"
     ]
    }
   ],
   "source": [
    "del my_message # 변수 및 함수 제거하여도 \n",
    "my_message(2,'Hello') # 사용자 정의함수, 라이브러리 함수는 del 하여도 사용불가"
   ]
  },
  {
   "cell_type": "code",
   "execution_count": 11,
   "id": "b8975132",
   "metadata": {},
   "outputs": [],
   "source": [
    "# Python에서는 함수 중복 정의 불가(오버로딩 불가)\n",
    "def my_hello(): _\n",
    "    print('Hello Python')\n",
    "    print('Hello World')\n",
    "def my_hello(cnt): # cnt번 출력\n",
    "    for i in range(cnt):\n",
    "        print('Hello, Python', end = '\\t')\n",
    "        print('Hello, World')"
   ]
  },
  {
   "cell_type": "code",
   "execution_count": 12,
   "id": "83b4154c",
   "metadata": {},
   "outputs": [
    {
     "ename": "TypeError",
     "evalue": "my_hello() missing 1 required positional argument: 'cnt'",
     "output_type": "error",
     "traceback": [
      "\u001b[1;31m---------------------------------------------------------------------------\u001b[0m",
      "\u001b[1;31mTypeError\u001b[0m                                 Traceback (most recent call last)",
      "Cell \u001b[1;32mIn[12], line 1\u001b[0m\n\u001b[1;32m----> 1\u001b[0m \u001b[43mmy_hello\u001b[49m\u001b[43m(\u001b[49m\u001b[43m)\u001b[49m\n",
      "\u001b[1;31mTypeError\u001b[0m: my_hello() missing 1 required positional argument: 'cnt'"
     ]
    }
   ],
   "source": [
    "my_hello()"
   ]
  },
  {
   "cell_type": "code",
   "execution_count": 13,
   "id": "52454815",
   "metadata": {},
   "outputs": [
    {
     "name": "stdout",
     "output_type": "stream",
     "text": [
      "Hello, Python\tHello, World\n",
      "Hello, Python\tHello, World\n"
     ]
    }
   ],
   "source": [
    "my_hello(2)"
   ]
  },
  {
   "cell_type": "code",
   "execution_count": 16,
   "id": "cd412380",
   "metadata": {},
   "outputs": [
    {
     "name": "stdout",
     "output_type": "stream",
     "text": [
      "Hello, Python\tHello, World\n",
      "Hello, Python\tHello, World\n"
     ]
    }
   ],
   "source": [
    "if __name__ == '__main__':\n",
    "    my_hello(2)"
   ]
  },
  {
   "cell_type": "code",
   "execution_count": 1,
   "id": "28a5fff9",
   "metadata": {},
   "outputs": [],
   "source": [
    "import ch05 # ch05모듈이 해석되서 메모리 로드"
   ]
  },
  {
   "cell_type": "code",
   "execution_count": 2,
   "id": "b58b70fd",
   "metadata": {},
   "outputs": [
    {
     "name": "stdout",
     "output_type": "stream",
     "text": [
      "ch05\n",
      "Hello, Python\tHello, World\n",
      "Hello, Python\tHello, World\n",
      "Hello, Python\tHello, World\n"
     ]
    }
   ],
   "source": [
    "ch05.my_hello(3)"
   ]
  },
  {
   "cell_type": "code",
   "execution_count": 3,
   "id": "d34b00eb",
   "metadata": {},
   "outputs": [
    {
     "name": "stdout",
     "output_type": "stream",
     "text": [
      "ch05\n",
      "Hello, Python\tHello, World\n",
      "Hello, Python\tHello, World\n",
      "Hello, Python\tHello, World\n"
     ]
    }
   ],
   "source": [
    "from ch05 import my_hello # ch05모듈안의 my_hell만 메모리 로드\n",
    "my_hello(3)"
   ]
  },
  {
   "cell_type": "markdown",
   "id": "7ad09924",
   "metadata": {},
   "source": [
    "## 1.2 docstring"
   ]
  },
  {
   "cell_type": "code",
   "execution_count": 4,
   "id": "013aab81",
   "metadata": {},
   "outputs": [],
   "source": [
    "def my_function():\n",
    "    '''\n",
    "    함수의 첫 라인에 독스트링을 포함할 수 있습니다\n",
    "    독스트링은 함수의 설명서를 달아주는 역할\n",
    "    주석보다 많은 기능(함수 호출시 shift+tab으로 독스트링을 볼 수 있음)\n",
    "    '''\n",
    "    pass"
   ]
  },
  {
   "cell_type": "code",
   "execution_count": 6,
   "id": "5b0ee133",
   "metadata": {
    "scrolled": true
   },
   "outputs": [
    {
     "name": "stdout",
     "output_type": "stream",
     "text": [
      "\n",
      "    함수의 첫 라인에 독스트링을 포함할 수 있습니다\n",
      "    독스트링은 함수의 설명서를 달아주는 역할\n",
      "    주석보다 많은 기능(함수 호출시 shift+tab으로 독스트링을 볼 수 있음)\n",
      "    \n"
     ]
    }
   ],
   "source": [
    "print(my_function.__doc__)"
   ]
  },
  {
   "cell_type": "code",
   "execution_count": 7,
   "id": "eb4aef95",
   "metadata": {},
   "outputs": [],
   "source": [
    "def fibonacci(n):\n",
    "    '''\n",
    "    매개변수로 들어온 n값 미만의 피보나치 수열을 출력하는 함수\n",
    "    ex. n=10 : 0, 1, 1, 2, 3, 5, 8\n",
    "        n=100 : 0 1 1 2 3 5 8 13 21 34 55 89\n",
    "    '''\n",
    "    a, b = 0, 1 # 함수 내에 선언하 변수 : 지역변수(반:전역변수)\n",
    "    while a < n:\n",
    "        print(a, end = ' ')\n",
    "        a, b = b, a+b\n",
    "    print() # 개행"
   ]
  },
  {
   "cell_type": "code",
   "execution_count": 8,
   "id": "bb2d41a9",
   "metadata": {},
   "outputs": [
    {
     "name": "stdout",
     "output_type": "stream",
     "text": [
      "0 1 1 2 3 5 8 13 21 34 55 89 \n"
     ]
    }
   ],
   "source": [
    "fibonacci(100)"
   ]
  },
  {
   "cell_type": "code",
   "execution_count": 9,
   "id": "16508fed",
   "metadata": {},
   "outputs": [
    {
     "name": "stdout",
     "output_type": "stream",
     "text": [
      "0 1 1 2 3 5 8 \n"
     ]
    }
   ],
   "source": [
    "fibonacci(10)"
   ]
  },
  {
   "cell_type": "code",
   "execution_count": 10,
   "id": "c8765642",
   "metadata": {},
   "outputs": [
    {
     "name": "stdout",
     "output_type": "stream",
     "text": [
      "0 1 1 2 3 5 8 13 21 34 55 89 144 233 377 610 987 \n"
     ]
    }
   ],
   "source": [
    "fibonacci(1000)"
   ]
  },
  {
   "cell_type": "code",
   "execution_count": 11,
   "id": "e21b46b6",
   "metadata": {},
   "outputs": [
    {
     "name": "stdout",
     "output_type": "stream",
     "text": [
      "0 1 1 2 3 5 8 13 21 34 55 89 144 233 377 610 987 1597 2584 4181 6765 \n"
     ]
    }
   ],
   "source": [
    "fibonacci(10000)"
   ]
  },
  {
   "cell_type": "code",
   "execution_count": 12,
   "id": "bcd82b18",
   "metadata": {},
   "outputs": [
    {
     "ename": "NameError",
     "evalue": "name 'a' is not defined",
     "output_type": "error",
     "traceback": [
      "\u001b[1;31m---------------------------------------------------------------------------\u001b[0m",
      "\u001b[1;31mNameError\u001b[0m                                 Traceback (most recent call last)",
      "Cell \u001b[1;32mIn[12], line 1\u001b[0m\n\u001b[1;32m----> 1\u001b[0m \u001b[43ma\u001b[49m, b\n",
      "\u001b[1;31mNameError\u001b[0m: name 'a' is not defined"
     ]
    }
   ],
   "source": [
    "a, b # 지역변수는 함수내에서만 사용가능"
   ]
  },
  {
   "cell_type": "markdown",
   "id": "55b5f6bf",
   "metadata": {},
   "source": [
    "## 1.3 지역변수(local var)와 전역변수(global var)"
   ]
  },
  {
   "cell_type": "code",
   "execution_count": 17,
   "id": "2d4b4e25",
   "metadata": {},
   "outputs": [
    {
     "name": "stdout",
     "output_type": "stream",
     "text": [
      "함수안 : 100\n",
      "함수밖 : 100\n"
     ]
    }
   ],
   "source": [
    "global_var = 100\n",
    "def func1():\n",
    "    print('함수안 :', global_var)\n",
    "func1()\n",
    "print(\"함수밖 :\", global_var)"
   ]
  },
  {
   "cell_type": "code",
   "execution_count": 19,
   "id": "2bf3f028",
   "metadata": {},
   "outputs": [
    {
     "name": "stdout",
     "output_type": "stream",
     "text": [
      "함수안: 200\n"
     ]
    }
   ],
   "source": [
    "def func2():\n",
    "    local_var = 200 # 지역변수(함수내에서 할당)\n",
    "    print('함수안:',local_var)\n",
    "func2()"
   ]
  },
  {
   "cell_type": "code",
   "execution_count": 20,
   "id": "7db0cb92",
   "metadata": {},
   "outputs": [],
   "source": [
    "#print('함수밖에서 지역변수 :', local_var) #에러"
   ]
  },
  {
   "cell_type": "code",
   "execution_count": 21,
   "id": "33522279",
   "metadata": {},
   "outputs": [
    {
     "name": "stdout",
     "output_type": "stream",
     "text": [
      "g_var : 200\n",
      "g_var : 100\n"
     ]
    }
   ],
   "source": [
    "# 렉시컬 특성 : 변수가 어디서 선언되었는지에 따라\n",
    "# 변수의 범위가 정해짐(지역vs전역)\n",
    "g_var = 100 # 전역변수\n",
    "def func3():\n",
    "    g_var = 200\n",
    "    print('g_var :',g_var) #지역변수 (함수내에서 할당)\n",
    "func3()\n",
    "print('g_var :', g_var)"
   ]
  },
  {
   "cell_type": "code",
   "execution_count": 22,
   "id": "85190275",
   "metadata": {},
   "outputs": [
    {
     "ename": "UnboundLocalError",
     "evalue": "local variable 'g_var' referenced before assignment",
     "output_type": "error",
     "traceback": [
      "\u001b[1;31m---------------------------------------------------------------------------\u001b[0m",
      "\u001b[1;31mUnboundLocalError\u001b[0m                         Traceback (most recent call last)",
      "Cell \u001b[1;32mIn[22], line 5\u001b[0m\n\u001b[0;32m      3\u001b[0m     \u001b[38;5;28mprint\u001b[39m(\u001b[38;5;124m'\u001b[39m\u001b[38;5;124mg_var :\u001b[39m\u001b[38;5;124m'\u001b[39m,g_var)\n\u001b[0;32m      4\u001b[0m     g_var \u001b[38;5;241m=\u001b[39m \u001b[38;5;241m200\u001b[39m \u001b[38;5;66;03m# 지역변수 (함수내에서 할당)\u001b[39;00m\n\u001b[1;32m----> 5\u001b[0m \u001b[43mfunc3\u001b[49m\u001b[43m(\u001b[49m\u001b[43m)\u001b[49m\n\u001b[0;32m      6\u001b[0m \u001b[38;5;28mprint\u001b[39m(\u001b[38;5;124m'\u001b[39m\u001b[38;5;124mg_var :\u001b[39m\u001b[38;5;124m'\u001b[39m, g_var)\n",
      "Cell \u001b[1;32mIn[22], line 3\u001b[0m, in \u001b[0;36mfunc3\u001b[1;34m()\u001b[0m\n\u001b[0;32m      2\u001b[0m \u001b[38;5;28;01mdef\u001b[39;00m \u001b[38;5;21mfunc3\u001b[39m():\n\u001b[1;32m----> 3\u001b[0m     \u001b[38;5;28mprint\u001b[39m(\u001b[38;5;124m'\u001b[39m\u001b[38;5;124mg_var :\u001b[39m\u001b[38;5;124m'\u001b[39m,\u001b[43mg_var\u001b[49m)\n\u001b[0;32m      4\u001b[0m     g_var \u001b[38;5;241m=\u001b[39m \u001b[38;5;241m200\u001b[39m\n",
      "\u001b[1;31mUnboundLocalError\u001b[0m: local variable 'g_var' referenced before assignment"
     ]
    }
   ],
   "source": [
    "# 렉시컬 특성\n",
    "g_var = 100 # 전역변수\n",
    "def func3():\n",
    "    print('g_var :',g_var)\n",
    "    g_var = 200 # 지역변수 (함수내에서 할당)\n",
    "func3()\n",
    "print('g_var :', g_var)"
   ]
  },
  {
   "cell_type": "code",
   "execution_count": 23,
   "id": "2411bd6f",
   "metadata": {},
   "outputs": [
    {
     "name": "stdout",
     "output_type": "stream",
     "text": [
      "g_var : 100\n",
      "g_var : 200\n"
     ]
    }
   ],
   "source": [
    "#렉시컬 특성\n",
    "g_var = 100 # 전역변수\n",
    "def func3():\n",
    "    global g_var # 함수내에서의 g_var는 전역변수를 쓰겠다\n",
    "    print('g_var :',g_var)\n",
    "    g_var = 200 # 지역변수 (함수내에서 할당)\n",
    "func3()\n",
    "print('g_var :', g_var)"
   ]
  },
  {
   "cell_type": "markdown",
   "id": "1820dab9",
   "metadata": {},
   "source": [
    "## 1.4 값에 의한 호출\n",
    "- 함수에 인수로 전달되는 변수 스칼라변수(문자, 숫자, 논리형)"
   ]
  },
  {
   "cell_type": "code",
   "execution_count": 24,
   "id": "c9e38652",
   "metadata": {},
   "outputs": [
    {
     "data": {
      "text/plain": [
       "1651452700464"
      ]
     },
     "execution_count": 24,
     "metadata": {},
     "output_type": "execute_result"
    }
   ],
   "source": [
    "foo = 'a' # 전역변수\n",
    "id(foo)"
   ]
  },
  {
   "cell_type": "code",
   "execution_count": 25,
   "id": "a44e07b8",
   "metadata": {},
   "outputs": [
    {
     "name": "stdout",
     "output_type": "stream",
     "text": [
      "before a 의 주소는 1651452700464\n",
      "after aaa 의 주소는 1651535805808\n"
     ]
    }
   ],
   "source": [
    "def func1(f): # 매개변수는 지역변수\n",
    "    print('before', f, '의 주소는', id(f))\n",
    "    f = f*3\n",
    "    print('after', f, '의 주소는', id(f))\n",
    "func1(foo)"
   ]
  },
  {
   "cell_type": "code",
   "execution_count": 26,
   "id": "e37ad61c",
   "metadata": {},
   "outputs": [
    {
     "name": "stdout",
     "output_type": "stream",
     "text": [
      "foo = a 의 주소는 1651452700464\n"
     ]
    }
   ],
   "source": [
    "print('foo =', foo, '의 주소는', id(foo))"
   ]
  },
  {
   "cell_type": "markdown",
   "id": "0d466709",
   "metadata": {},
   "source": [
    "## 1.5 참조에 의한 호출\n",
    "- 함수에 인수로 전달되는 변수가 리스트, 튜플, 셋, 딕셔너리, 기타 객체일 경우"
   ]
  },
  {
   "cell_type": "code",
   "execution_count": 27,
   "id": "07446095",
   "metadata": {},
   "outputs": [
    {
     "data": {
      "text/plain": [
       "1651531323072"
      ]
     },
     "execution_count": 27,
     "metadata": {},
     "output_type": "execute_result"
    }
   ],
   "source": [
    "L = [1, 2, 3, 4, 5]\n",
    "id(L)"
   ]
  },
  {
   "cell_type": "code",
   "execution_count": 28,
   "id": "f38f87d0",
   "metadata": {},
   "outputs": [
    {
     "name": "stdout",
     "output_type": "stream",
     "text": [
      "before: [1, 2, 3, 4, 5] 의 주소는 1651531323072\n",
      "after: [1, 2, 3, 4, 5, 6] 의 주소는 1651531323072\n"
     ]
    }
   ],
   "source": [
    "def func2(f): # 매개변수는 지역변수\n",
    "    print('before:', f, '의 주소는', id(L))\n",
    "    f.append(6)\n",
    "    print('after:', f, '의 주소는', id(L))\n",
    "func2(L)"
   ]
  },
  {
   "cell_type": "code",
   "execution_count": 29,
   "id": "92336252",
   "metadata": {},
   "outputs": [
    {
     "name": "stdout",
     "output_type": "stream",
     "text": [
      "L= [1, 2, 3, 4, 5, 6] 의 주소는 1651531323072\n"
     ]
    }
   ],
   "source": [
    "print('L=', L, '의 주소는', id(L))"
   ]
  },
  {
   "cell_type": "markdown",
   "id": "7f28194d",
   "metadata": {},
   "source": [
    "# 2절. 함수의 실행 결과를 반환하는 return"
   ]
  },
  {
   "cell_type": "code",
   "execution_count": 31,
   "id": "0186e6c2",
   "metadata": {},
   "outputs": [],
   "source": [
    "def fibonacci_print(n):\n",
    "    '''\n",
    "    매개변수로 들어온 n값 미만의 피보나치 수열을 출력하는 함수\n",
    "    ex. n=10 : 0, 1, 1, 2, 3, 5, 8\n",
    "        n=100 : 0 1 1 2 3 5 8 13 21 34 55 89\n",
    "    '''\n",
    "    a, b = 0, 1 # 함수 내에 선언하 변수 : 지역변수(반:전역변수)\n",
    "    while a < n:\n",
    "        print(a, end = ' ')\n",
    "        a, b = b, a+b\n",
    "    print() # 개행\n",
    "def fibonacci(n):\n",
    "    \"n미만의 피보나치수열을 리스트로 return\"\n",
    "    result = [] # 피보나치수열을 append할 리스트\n",
    "    a, b = 0, 1\n",
    "    while a<n:\n",
    "        result.append(a) # 리스트에 append\n",
    "        a, b = b, a+b\n",
    "    return result"
   ]
  },
  {
   "cell_type": "code",
   "execution_count": 33,
   "id": "2f2cdd1c",
   "metadata": {},
   "outputs": [
    {
     "name": "stdout",
     "output_type": "stream",
     "text": [
      "[0, 1, 1, 2, 3, 5, 8]\n",
      "<class 'list'>\n"
     ]
    }
   ],
   "source": [
    "x = fibonacci(10)\n",
    "print(x)\n",
    "print(type(x))"
   ]
  },
  {
   "cell_type": "code",
   "execution_count": 34,
   "id": "aaaefb65",
   "metadata": {},
   "outputs": [
    {
     "name": "stdout",
     "output_type": "stream",
     "text": [
      "0 1 1 2 3 5 8 \n",
      "None\n",
      "<class 'NoneType'>\n"
     ]
    }
   ],
   "source": [
    "x = fibonacci_print(10)\n",
    "print(x)\n",
    "print(type(x))"
   ]
  },
  {
   "cell_type": "markdown",
   "id": "bd443601",
   "metadata": {},
   "source": [
    "### 여러개 값 return\n",
    "- 여러개 값을 갖는 튜플로 return"
   ]
  },
  {
   "cell_type": "code",
   "execution_count": 35,
   "id": "3ab78773",
   "metadata": {},
   "outputs": [],
   "source": [
    "def swap(a,b):\n",
    "    '매개변수의 순서를 바꿔서 return'\n",
    "    return b,a # return (b,a)"
   ]
  },
  {
   "cell_type": "code",
   "execution_count": 36,
   "id": "2341c6a7",
   "metadata": {},
   "outputs": [
    {
     "data": {
      "text/plain": [
       "tuple"
      ]
     },
     "execution_count": 36,
     "metadata": {},
     "output_type": "execute_result"
    }
   ],
   "source": [
    "a = swap(1,2)\n",
    "type(a)"
   ]
  },
  {
   "cell_type": "code",
   "execution_count": 37,
   "id": "9ad4f124",
   "metadata": {},
   "outputs": [
    {
     "name": "stdout",
     "output_type": "stream",
     "text": [
      "(2, 1)\n"
     ]
    }
   ],
   "source": [
    "print(a)"
   ]
  },
  {
   "cell_type": "code",
   "execution_count": 38,
   "id": "076d3685",
   "metadata": {},
   "outputs": [],
   "source": [
    "x, y = swap(1,2)"
   ]
  },
  {
   "cell_type": "code",
   "execution_count": 39,
   "id": "a2b3c778",
   "metadata": {},
   "outputs": [
    {
     "name": "stdout",
     "output_type": "stream",
     "text": [
      "2 1\n"
     ]
    }
   ],
   "source": [
    "print(x,y)"
   ]
  },
  {
   "cell_type": "code",
   "execution_count": 43,
   "id": "36e50570",
   "metadata": {},
   "outputs": [
    {
     "name": "stdout",
     "output_type": "stream",
     "text": [
      "함수 실행 전 x,y = 5 10\n",
      "함수 실행 후 x,y = 10 5\n"
     ]
    }
   ],
   "source": [
    "x=5; y=10\n",
    "print('함수 실행 전 x,y =', x,y)\n",
    "x, y = swap(x,y)\n",
    "print('함수 실행 후 x,y =', x, y)"
   ]
  },
  {
   "cell_type": "markdown",
   "id": "3717715a",
   "metadata": {},
   "source": [
    "# 3절 함수의 매개변수 ★\n",
    "## 3.1 기본 값을 갖는 매개변수"
   ]
  },
  {
   "cell_type": "code",
   "execution_count": 44,
   "id": "65452a00",
   "metadata": {},
   "outputs": [],
   "source": [
    "def make_url(ip, port=80): #순서인수가 앞에 있어야함 > 기본값을 갖는 매개변수\n",
    "    return \"http://{}:{}\".format(ip, port)"
   ]
  },
  {
   "cell_type": "code",
   "execution_count": 50,
   "id": "04dfbf45",
   "metadata": {},
   "outputs": [
    {
     "name": "stdout",
     "output_type": "stream",
     "text": [
      "http://localhost:80\n",
      "http://localhost:8090\n",
      "http://www.naver.com:80\n",
      "http://localhost:9090\n"
     ]
    }
   ],
   "source": [
    "print(make_url(\"localhost\"))\n",
    "print(make_url(\"localhost\", 8090))\n",
    "print(make_url(\"www.naver.com\"))\n",
    "print(make_url(port=9090, ip=\"localhost\"))\n",
    "#print(make_url(port=9090)) ip는 기본값을 가지지 않음 에러"
   ]
  },
  {
   "cell_type": "code",
   "execution_count": 51,
   "id": "fa5c7d4f",
   "metadata": {},
   "outputs": [],
   "source": [
    "#def make_url(port=80, ip): #순서인수가 앞에 있어야함 > 기본값을 갖는 매개변수\n",
    "#    return \"http://{}:{}\".format(ip, port) 에러"
   ]
  },
  {
   "cell_type": "markdown",
   "id": "e1da369e",
   "metadata": {},
   "source": [
    "## 3.2 기본 변수를 갖는 매개변수\n",
    "- 기본변수가 스칼라변수(문자, 숫자, 논리형)일 때\n",
    "- 기본변수가 리스트, 셋, 딕셔너리, 기타 객체일 때"
   ]
  },
  {
   "cell_type": "code",
   "execution_count": 52,
   "id": "994376b7",
   "metadata": {},
   "outputs": [],
   "source": [
    "i = 80\n",
    "# 기본 변수가 스칼라 변수일 때 : 함수가 정의 되는 시점으로 기본값 셋팅\n",
    "def make_url(ip, port=i):\n",
    "    return \"http://{}:{}\".format(ip, port)"
   ]
  },
  {
   "cell_type": "code",
   "execution_count": 53,
   "id": "67a0d27e",
   "metadata": {},
   "outputs": [
    {
     "data": {
      "text/plain": [
       "'http://localhost:80'"
      ]
     },
     "execution_count": 53,
     "metadata": {},
     "output_type": "execute_result"
    }
   ],
   "source": [
    "i = 90\n",
    "make_url(\"localhost\")"
   ]
  },
  {
   "cell_type": "code",
   "execution_count": 55,
   "id": "252be2b7",
   "metadata": {},
   "outputs": [
    {
     "name": "stdout",
     "output_type": "stream",
     "text": [
      "[10]\n"
     ]
    }
   ],
   "source": [
    "list_ = []\n",
    "# 기본 변수가 리스트, 셋, 딕셔너리, 객체일 때: 함수가 실행되는 시점으로 기본값 셋팅\n",
    "def func3(a, L = list_):\n",
    "    L.append(a)\n",
    "    return L\n",
    "print(func3(10))\n"
   ]
  },
  {
   "cell_type": "code",
   "execution_count": 57,
   "id": "418df357",
   "metadata": {},
   "outputs": [
    {
     "name": "stdout",
     "output_type": "stream",
     "text": [
      "[10, 20, 3]\n"
     ]
    }
   ],
   "source": [
    "print(func3(3))"
   ]
  },
  {
   "cell_type": "code",
   "execution_count": 58,
   "id": "00474bc4",
   "metadata": {},
   "outputs": [
    {
     "name": "stdout",
     "output_type": "stream",
     "text": [
      "list_= [10, 20, 3]\n"
     ]
    }
   ],
   "source": [
    "print(\"list_=\", list_)"
   ]
  },
  {
   "cell_type": "code",
   "execution_count": 60,
   "id": "1ec7a161",
   "metadata": {},
   "outputs": [
    {
     "name": "stdout",
     "output_type": "stream",
     "text": [
      "[10]\n",
      "[10]\n",
      "[10]\n",
      "[1, 2, 3, 10]\n",
      "[10]\n"
     ]
    }
   ],
   "source": [
    "# 실행할 때마다 L을 공유하는게 싫으면 \n",
    "def func3(a, L= None):\n",
    "    if L is None:\n",
    "        L = []\n",
    "    L.append(a)\n",
    "    return L\n",
    "print(func3(10))\n",
    "print(func3(10))\n",
    "print(func3(10))\n",
    "print(func3(10, [1,2,3]))\n",
    "print(func3(10))"
   ]
  },
  {
   "cell_type": "markdown",
   "id": "bdfdda10",
   "metadata": {},
   "source": [
    "## 3.3 순서인수, 키워드인수\n",
    "- 순서인수 : 함수에 정의된 순서대로 전달방식\n",
    "- 키워드인수 : 인수의 이름을 명시하는 방식\n",
    "- 함수 정의시 순서인수와 키워드인수가 같이 올 때는 순서인수 > 키워드인수 순으로"
   ]
  },
  {
   "cell_type": "code",
   "execution_count": 61,
   "id": "3bd84a85",
   "metadata": {},
   "outputs": [],
   "source": [
    "def func3(a, L= None): #순서 거꾸로시 에러\n",
    "    if L is None:\n",
    "        L = []\n",
    "    L.append(a)\n",
    "    return L"
   ]
  },
  {
   "cell_type": "code",
   "execution_count": 62,
   "id": "766247d0",
   "metadata": {},
   "outputs": [
    {
     "name": "stdout",
     "output_type": "stream",
     "text": [
      "[10]\n",
      "[10, 20]\n"
     ]
    }
   ],
   "source": [
    "lst = []\n",
    "print(func3(10, lst))     # 순서인수 : 함수 정의된 순서대로 전달하는 방식\n",
    "print(func3(L=lst, a=20)) # 키워드인수 : 인수의 이름을 명시하여 전달하는 방식"
   ]
  },
  {
   "cell_type": "markdown",
   "id": "72df5162",
   "metadata": {},
   "source": [
    "## 3.4 튜플 매개변수를 이용한 가변인수 설정\n",
    "- 가변인수 : 매개변수의 갯수가 가변"
   ]
  },
  {
   "cell_type": "code",
   "execution_count": 67,
   "id": "cf3ea836",
   "metadata": {},
   "outputs": [],
   "source": [
    "# 파이썬은 함수의 중복정의(오버로딩)을 지원하지 않음\n",
    "# args 앞에 * : args가 튜플로 전달받는다\n",
    "def add(*args):# 매개변수 앞에 *를 붙여 정의\n",
    "    print('args=', args)\n",
    "    '전달받은 매개변수들의 합을 return. 매개변수가 없는 경우 0을 return'\n",
    "    sum = 0 # 누적변수\n",
    "    for num in args:\n",
    "        sum = sum + num # sum += num\n",
    "    return sum"
   ]
  },
  {
   "cell_type": "code",
   "execution_count": 83,
   "id": "244799c8",
   "metadata": {},
   "outputs": [
    {
     "name": "stdout",
     "output_type": "stream",
     "text": [
      "args= (10, 20)\n",
      "30\n",
      "args= (10, 20, 30)\n",
      "60\n",
      "args= (10, 20, 30, 40)\n",
      "100\n"
     ]
    }
   ],
   "source": [
    "print(add(10, 20))\n",
    "print(add(10, 20 ,30))\n",
    "print(add(10,20,30,40))"
   ]
  },
  {
   "cell_type": "code",
   "execution_count": 85,
   "id": "2a087084",
   "metadata": {},
   "outputs": [],
   "source": [
    "# 튜플 매개변수와 일반 매개변수가 같이 있을때\n",
    "def concat(*subject, sep):\n",
    "    return sep.join(subject)"
   ]
  },
  {
   "cell_type": "code",
   "execution_count": 89,
   "id": "0918be8b",
   "metadata": {},
   "outputs": [
    {
     "ename": "TypeError",
     "evalue": "concat() missing 1 required keyword-only argument: 'sep'",
     "output_type": "error",
     "traceback": [
      "\u001b[1;31m---------------------------------------------------------------------------\u001b[0m",
      "\u001b[1;31mTypeError\u001b[0m                                 Traceback (most recent call last)",
      "Cell \u001b[1;32mIn[89], line 1\u001b[0m\n\u001b[1;32m----> 1\u001b[0m \u001b[43mconcat\u001b[49m\u001b[43m(\u001b[49m\u001b[38;5;124;43m'\u001b[39;49m\u001b[38;5;124;43mPython\u001b[39;49m\u001b[38;5;124;43m'\u001b[39;49m\u001b[43m,\u001b[49m\u001b[43m \u001b[49m\u001b[38;5;124;43m'\u001b[39;49m\u001b[38;5;124;43mHTML/CSS\u001b[39;49m\u001b[38;5;124;43m'\u001b[39;49m\u001b[43m,\u001b[49m\u001b[43m \u001b[49m\u001b[38;5;124;43m'\u001b[39;49m\u001b[38;5;124;43mJavaScript\u001b[39;49m\u001b[38;5;124;43m'\u001b[39;49m\u001b[43m,\u001b[49m\u001b[43m \u001b[49m\u001b[38;5;124;43m'\u001b[39;49m\u001b[38;5;124;43mOracle/MySQL\u001b[39;49m\u001b[38;5;124;43m'\u001b[39;49m\u001b[43m,\u001b[49m\u001b[38;5;124;43m'\u001b[39;49m\u001b[38;5;124;43m-\u001b[39;49m\u001b[38;5;124;43m'\u001b[39;49m\u001b[43m)\u001b[49m\n",
      "\u001b[1;31mTypeError\u001b[0m: concat() missing 1 required keyword-only argument: 'sep'"
     ]
    }
   ],
   "source": [
    "concat('Python', 'HTML/CSS', 'JavaScript', 'Oracle/MySQL','-')"
   ]
  },
  {
   "cell_type": "code",
   "execution_count": 90,
   "id": "9230c5e6",
   "metadata": {},
   "outputs": [],
   "source": [
    "# 해결책1 : 매개변수 이름을 지정해서 호출\n",
    "concat('Python', 'HTML/CSS', 'JavaScript', 'Oracle/MySQL',sep ='-')"
   ]
  },
  {
   "cell_type": "code",
   "execution_count": 95,
   "id": "749d9218",
   "metadata": {},
   "outputs": [],
   "source": [
    "# 해결책2 : 기본값을 갖는 키워드인수 사용\n",
    "def concat(*args, sep = '-'): # 튜플매개변수 > 키워드인수\n",
    "    return sep.join(subject)"
   ]
  },
  {
   "cell_type": "code",
   "execution_count": 97,
   "id": "fbc10c45",
   "metadata": {},
   "outputs": [
    {
     "data": {
      "text/plain": [
       "'Python-HTML/CSS-JavaScript-Oracle/MySQL'"
      ]
     },
     "execution_count": 97,
     "metadata": {},
     "output_type": "execute_result"
    }
   ],
   "source": [
    "concat('Python', 'HTML/CSS', 'JavaScript', 'Oracle/MySQL')"
   ]
  },
  {
   "cell_type": "code",
   "execution_count": 100,
   "id": "661c061f",
   "metadata": {},
   "outputs": [],
   "source": [
    "#해결책3 : sep을 순서인수로 앞으로 -강추\n",
    "def concat(sep, *args):\n",
    "    return sep.join(args)"
   ]
  },
  {
   "cell_type": "code",
   "execution_count": 101,
   "id": "9e5ba593",
   "metadata": {},
   "outputs": [
    {
     "data": {
      "text/plain": [
       "'Python-HTML/CSS-JavaScript-Oracle/MySQL'"
      ]
     },
     "execution_count": 101,
     "metadata": {},
     "output_type": "execute_result"
    }
   ],
   "source": [
    "concat('-', 'Python', 'HTML/CSS', 'JavaScript', 'Oracle/MySQL')"
   ]
  },
  {
   "cell_type": "code",
   "execution_count": 69,
   "id": "ea368dd5",
   "metadata": {},
   "outputs": [],
   "source": [
    "def concat(*args, sep):\n",
    "    return sep.join(args)"
   ]
  },
  {
   "cell_type": "code",
   "execution_count": 82,
   "id": "63b149e2",
   "metadata": {},
   "outputs": [
    {
     "name": "stdout",
     "output_type": "stream",
     "text": [
      "earth/mars/venus\n"
     ]
    }
   ],
   "source": [
    "print(concat(\"earth\", \"mars\", \"venus\", sep = \"/\"))"
   ]
  },
  {
   "cell_type": "code",
   "execution_count": 74,
   "id": "be99f473",
   "metadata": {},
   "outputs": [],
   "source": [
    "def concat(sep, *args):\n",
    "    return sep.join(args)"
   ]
  },
  {
   "cell_type": "code",
   "execution_count": 75,
   "id": "a0d7adf4",
   "metadata": {},
   "outputs": [
    {
     "name": "stdout",
     "output_type": "stream",
     "text": [
      "earth/mars/venus\n"
     ]
    }
   ],
   "source": [
    "print(concat(\"/\",\"earth\", \"mars\", \"venus\"))"
   ]
  },
  {
   "cell_type": "code",
   "execution_count": 76,
   "id": "6b67fee8",
   "metadata": {},
   "outputs": [],
   "source": [
    "def concat(sep = \"/\", *args):\n",
    "    return sep.join(args)"
   ]
  },
  {
   "cell_type": "code",
   "execution_count": 77,
   "id": "e94a315b",
   "metadata": {},
   "outputs": [
    {
     "name": "stdout",
     "output_type": "stream",
     "text": [
      "marsearthvenus\n"
     ]
    }
   ],
   "source": [
    "print(concat(\"earth\", \"mars\", \"venus\"))"
   ]
  },
  {
   "cell_type": "code",
   "execution_count": 78,
   "id": "069d4ce1",
   "metadata": {},
   "outputs": [],
   "source": [
    "def concat(*args,sep = \"/\"):\n",
    "    return sep.join(args)"
   ]
  },
  {
   "cell_type": "code",
   "execution_count": 102,
   "id": "8a151227",
   "metadata": {},
   "outputs": [
    {
     "data": {
      "text/plain": [
       "'marsearthvenus'"
      ]
     },
     "execution_count": 102,
     "metadata": {},
     "output_type": "execute_result"
    }
   ],
   "source": [
    "concat(\"earth\", \"mars\",\"venus\")"
   ]
  },
  {
   "cell_type": "markdown",
   "id": "ebf2c184",
   "metadata": {},
   "source": [
    "## 3.5 딕셔너리 매개변수\n",
    "- 딕셔너리 인수 : 여러개의 키워드 인수를 딕셔너리 형태로 받아서 가변인수로 처리"
   ]
  },
  {
   "cell_type": "code",
   "execution_count": 108,
   "id": "31e11d13",
   "metadata": {},
   "outputs": [],
   "source": [
    "def func5(**args): # args : 딕셔너리로 전달받음\n",
    "    print(args)"
   ]
  },
  {
   "cell_type": "code",
   "execution_count": 113,
   "id": "765b22dc",
   "metadata": {},
   "outputs": [
    {
     "name": "stdout",
     "output_type": "stream",
     "text": [
      "{'name': '홍길동', 'age': 30, 'tel': '010-0000-0000', 'address': '서울 관악구', 'width': 300, 'color': 'red'}\n"
     ]
    }
   ],
   "source": [
    "func5(name = '홍길동', age = 30, tel = '010-0000-0000', address = '서울 관악구', width=300, color='red')"
   ]
  },
  {
   "cell_type": "code",
   "execution_count": 125,
   "id": "8e908591",
   "metadata": {},
   "outputs": [],
   "source": [
    "def func5(**args): # args : 딕셔너리로 전달받음\n",
    "    print('이름 :', args.get('name', '몰라'))\n",
    "    print('나이 :', args.get('age', 20))\n",
    "    print('전화 :', args.get('tel', '없음'))\n",
    "    print('주소 :', args.get('address', '서울 종로'))"
   ]
  },
  {
   "cell_type": "code",
   "execution_count": 127,
   "id": "4e74c444",
   "metadata": {},
   "outputs": [
    {
     "name": "stdout",
     "output_type": "stream",
     "text": [
      "이름 : 홍길동\n",
      "나이 : 30\n",
      "전화 : 010-0000-0000\n",
      "주소 : 서울 관악구\n"
     ]
    }
   ],
   "source": [
    "func5(name = '홍길동', age = 30, tel = '010-0000-0000',address = '서울 관악구',  width=300, color='red')"
   ]
  },
  {
   "cell_type": "code",
   "execution_count": 128,
   "id": "7b0f468a",
   "metadata": {},
   "outputs": [],
   "source": [
    "def func5(**args):\n",
    "    print(args)\n",
    "    print(type(args))\n",
    "    for key, value in args.items():\n",
    "        print(\"{}:{}\".format(key,value))"
   ]
  },
  {
   "cell_type": "code",
   "execution_count": 130,
   "id": "2eb82f25",
   "metadata": {},
   "outputs": [
    {
     "name": "stdout",
     "output_type": "stream",
     "text": [
      "{'name': '홍길동', 'age': 30, 'tel': '010-0000-0000', 'address': '서울 관악구', 'width': 300, 'color': 'red'}\n",
      "<class 'dict'>\n",
      "name:홍길동\n",
      "age:30\n",
      "tel:010-0000-0000\n",
      "address:서울 관악구\n",
      "width:300\n",
      "color:red\n"
     ]
    }
   ],
   "source": [
    "func5(name = '홍길동', age = 30, tel = '010-0000-0000', address = '서울 관악구', width=300, color='red')"
   ]
  },
  {
   "cell_type": "code",
   "execution_count": 145,
   "id": "ee3bccc1",
   "metadata": {},
   "outputs": [],
   "source": [
    "def func5(**args):\n",
    "    print(args)\n",
    "    print(type(args))\n",
    "    if not 'addrss' in args: # args에 address 키가 없으면 if문 True\n",
    "       # args['address'] = '서울시 관악구'\n",
    "       # args.update({'address' : '서울시 관악구'})\n",
    "        args.update(address = '서울시 관악구')\n",
    "    for key, value in args.items():\n",
    "        print(\"{}:{}\".format(key,value))"
   ]
  },
  {
   "cell_type": "code",
   "execution_count": 146,
   "id": "fc07812e",
   "metadata": {},
   "outputs": [
    {
     "name": "stdout",
     "output_type": "stream",
     "text": [
      "{'name': '홍길동', 'age': 30, 'tel': '010-0000-0000'}\n",
      "<class 'dict'>\n",
      "name:홍길동\n",
      "age:30\n",
      "tel:010-0000-0000\n",
      "address:서울시 관악구\n"
     ]
    }
   ],
   "source": [
    "func5(name = '홍길동', age = 30, tel = '010-0000-0000')"
   ]
  },
  {
   "cell_type": "markdown",
   "id": "048517e2",
   "metadata": {},
   "source": [
    "## 3.6 함수 정의시 매개변수의 순서\n",
    "- 순서인수 > 튜플인수(*) > 키워드인수(기본값) > 딕셔너리인수(**)"
   ]
  },
  {
   "cell_type": "code",
   "execution_count": 147,
   "id": "7c6f076b",
   "metadata": {},
   "outputs": [],
   "source": [
    "# 순서인수 > 튜플인수 > 딕셔너리인수\n",
    "def func6(a, b, *c, **d):\n",
    "    print('순서인수 a = ', a)\n",
    "    print('순서인수 b = ', b)\n",
    "    print('튜플인수 c = ', c)\n",
    "    print('딕셔너리인수 d = ', d)"
   ]
  },
  {
   "cell_type": "code",
   "execution_count": 149,
   "id": "4142a860",
   "metadata": {},
   "outputs": [
    {
     "name": "stdout",
     "output_type": "stream",
     "text": [
      "순서인수 a =  10\n",
      "순서인수 b =  20\n",
      "튜플인수 c =  (1, 2, 3, 4, 5, 6, 7, 8, 9)\n",
      "딕셔너리인수 d =  {'name': '홍길동', 'age': 30, 'address': '신림'}\n"
     ]
    }
   ],
   "source": [
    "func6(10, 20, 1, 2, 3, 4, 5, 6, 7, 8, 9, name = '홍길동', age = 30, address = '신림' )"
   ]
  },
  {
   "cell_type": "code",
   "execution_count": 155,
   "id": "dda0e4bc",
   "metadata": {},
   "outputs": [],
   "source": [
    "# 순서인수 > 튜플인수> 키워드인수 > 딕셔너리인수\n",
    "def func7(a, b, c, *d, e=10,**f):\n",
    "    print('순서인수 a = ', a)\n",
    "    print('순서인수 b = ', b)\n",
    "    print('순서인수 c = ', c)\n",
    "    print('튜플인수 d = ', d)\n",
    "    print('키워드인수(기본값) = ', e)\n",
    "    print('딕셔너리인수 = ', f)"
   ]
  },
  {
   "cell_type": "code",
   "execution_count": 161,
   "id": "3093ba34",
   "metadata": {},
   "outputs": [
    {
     "name": "stdout",
     "output_type": "stream",
     "text": [
      "순서인수 a =  10\n",
      "순서인수 b =  20\n",
      "순서인수 c =  30\n",
      "튜플인수 d =  ()\n",
      "키워드인수(기본값) =  10\n",
      "딕셔너리인수 =  {}\n",
      "순서인수 a =  10\n",
      "순서인수 b =  20\n",
      "순서인수 c =  30\n",
      "튜플인수 d =  (4, 5)\n",
      "키워드인수(기본값) =  10\n",
      "딕셔너리인수 =  {'name': '홍길동'}\n",
      "순서인수 a =  10\n",
      "순서인수 b =  20\n",
      "순서인수 c =  30\n",
      "튜플인수 d =  (4, 5)\n",
      "키워드인수(기본값) =  100\n",
      "딕셔너리인수 =  {'shape': 'rect', 'width': 20, 'height': 30}\n"
     ]
    }
   ],
   "source": [
    "func7(10, 20, 30)\n",
    "(func7(10, 20, 30, 4, 5, name = '홍길동'))\n",
    "(func7(10, 20, 30, 4, 5, e=100, shape = 'rect', width = 20, height = 30))"
   ]
  },
  {
   "cell_type": "markdown",
   "id": "6c52f423",
   "metadata": {},
   "source": [
    "## 3.7 인수의 언패킹\n",
    "### 튜플인수 언패킹\n",
    "- 언패킹 : 함수 호출시 매개변수 앞에 * 붙임\n",
    "- 패킹 : 함수 정의시 매개변수 앞에 *나 ** 붙임(튜플매개변수)"
   ]
  },
  {
   "cell_type": "code",
   "execution_count": 162,
   "id": "0234fa18",
   "metadata": {},
   "outputs": [],
   "source": [
    "#패킹\n",
    "def add(*args):\n",
    "    sum = 0\n",
    "    for num in args :\n",
    "        sum += num\n",
    "    return sum\n"
   ]
  },
  {
   "cell_type": "code",
   "execution_count": 163,
   "id": "4c956a89",
   "metadata": {},
   "outputs": [
    {
     "data": {
      "text/plain": [
       "6"
      ]
     },
     "execution_count": 163,
     "metadata": {},
     "output_type": "execute_result"
    }
   ],
   "source": [
    "add(1,2,3)"
   ]
  },
  {
   "cell_type": "code",
   "execution_count": 164,
   "id": "47d670a7",
   "metadata": {},
   "outputs": [
    {
     "ename": "TypeError",
     "evalue": "unsupported operand type(s) for +=: 'int' and 'tuple'",
     "output_type": "error",
     "traceback": [
      "\u001b[1;31m---------------------------------------------------------------------------\u001b[0m",
      "\u001b[1;31mTypeError\u001b[0m                                 Traceback (most recent call last)",
      "Cell \u001b[1;32mIn[164], line 2\u001b[0m\n\u001b[0;32m      1\u001b[0m numbers \u001b[38;5;241m=\u001b[39m (\u001b[38;5;241m1\u001b[39m, \u001b[38;5;241m2\u001b[39m, \u001b[38;5;241m3\u001b[39m)\n\u001b[1;32m----> 2\u001b[0m \u001b[43madd\u001b[49m\u001b[43m(\u001b[49m\u001b[43mnumbers\u001b[49m\u001b[43m)\u001b[49m\n",
      "Cell \u001b[1;32mIn[162], line 4\u001b[0m, in \u001b[0;36madd\u001b[1;34m(*args)\u001b[0m\n\u001b[0;32m      2\u001b[0m \u001b[38;5;28msum\u001b[39m \u001b[38;5;241m=\u001b[39m \u001b[38;5;241m0\u001b[39m\n\u001b[0;32m      3\u001b[0m \u001b[38;5;28;01mfor\u001b[39;00m num \u001b[38;5;129;01min\u001b[39;00m args :\n\u001b[1;32m----> 4\u001b[0m     \u001b[38;5;28msum\u001b[39m \u001b[38;5;241m+\u001b[39m\u001b[38;5;241m=\u001b[39m num\n\u001b[0;32m      5\u001b[0m \u001b[38;5;28;01mreturn\u001b[39;00m \u001b[38;5;28msum\u001b[39m\n",
      "\u001b[1;31mTypeError\u001b[0m: unsupported operand type(s) for +=: 'int' and 'tuple'"
     ]
    }
   ],
   "source": [
    "numbers = (1, 2, 3)\n",
    "add(numbers)"
   ]
  },
  {
   "cell_type": "code",
   "execution_count": 165,
   "id": "903700d4",
   "metadata": {},
   "outputs": [
    {
     "data": {
      "text/plain": [
       "6"
      ]
     },
     "execution_count": 165,
     "metadata": {},
     "output_type": "execute_result"
    }
   ],
   "source": [
    "add(*numbers) # 언패킹 : 변수 앞에 *를 븉여 튜플을 언패킹 하여 전달"
   ]
  },
  {
   "cell_type": "markdown",
   "id": "cb909cc9",
   "metadata": {},
   "source": [
    "### 딕셔너리 인수 언패킹"
   ]
  },
  {
   "cell_type": "code",
   "execution_count": 166,
   "id": "51b1f7dc",
   "metadata": {},
   "outputs": [],
   "source": [
    "def func8(**data):\n",
    "    print(data)\n",
    "    for item in data.items():\n",
    "        print(item)"
   ]
  },
  {
   "cell_type": "code",
   "execution_count": 168,
   "id": "5d0b7b99",
   "metadata": {},
   "outputs": [
    {
     "name": "stdout",
     "output_type": "stream",
     "text": [
      "{'shape': 'rect', 'width': 40, 'height': 30}\n",
      "('shape', 'rect')\n",
      "('width', 40)\n",
      "('height', 30)\n"
     ]
    }
   ],
   "source": [
    "func8(shape ='rect', width = 40, height =30)"
   ]
  },
  {
   "cell_type": "code",
   "execution_count": 171,
   "id": "26758271",
   "metadata": {},
   "outputs": [],
   "source": [
    "info = {'shape':'rect', 'width': 40, 'height':30}"
   ]
  },
  {
   "cell_type": "code",
   "execution_count": 172,
   "id": "01433e12",
   "metadata": {},
   "outputs": [
    {
     "ename": "TypeError",
     "evalue": "func8() takes 0 positional arguments but 1 was given",
     "output_type": "error",
     "traceback": [
      "\u001b[1;31m---------------------------------------------------------------------------\u001b[0m",
      "\u001b[1;31mTypeError\u001b[0m                                 Traceback (most recent call last)",
      "Cell \u001b[1;32mIn[172], line 1\u001b[0m\n\u001b[1;32m----> 1\u001b[0m \u001b[43mfunc8\u001b[49m\u001b[43m(\u001b[49m\u001b[43minfo\u001b[49m\u001b[43m)\u001b[49m\n",
      "\u001b[1;31mTypeError\u001b[0m: func8() takes 0 positional arguments but 1 was given"
     ]
    }
   ],
   "source": [
    "func8(info)"
   ]
  },
  {
   "cell_type": "code",
   "execution_count": 173,
   "id": "39e308b3",
   "metadata": {},
   "outputs": [
    {
     "name": "stdout",
     "output_type": "stream",
     "text": [
      "{'shape': 'rect', 'width': 40, 'height': 30}\n",
      "('shape', 'rect')\n",
      "('width', 40)\n",
      "('height', 30)\n"
     ]
    }
   ],
   "source": [
    "func8(**info)"
   ]
  },
  {
   "cell_type": "code",
   "execution_count": null,
   "id": "95201eb7",
   "metadata": {},
   "outputs": [],
   "source": []
  }
 ],
 "metadata": {
  "kernelspec": {
   "display_name": "Python 3 (ipykernel)",
   "language": "python",
   "name": "python3"
  },
  "language_info": {
   "codemirror_mode": {
    "name": "ipython",
    "version": 3
   },
   "file_extension": ".py",
   "mimetype": "text/x-python",
   "name": "python",
   "nbconvert_exporter": "python",
   "pygments_lexer": "ipython3",
   "version": "3.10.9"
  },
  "toc": {
   "base_numbering": 1,
   "nav_menu": {},
   "number_sections": false,
   "sideBar": true,
   "skip_h1_title": false,
   "title_cell": "Table of Contents",
   "title_sidebar": "Contents",
   "toc_cell": false,
   "toc_position": {
    "height": "calc(100% - 180px)",
    "left": "10px",
    "top": "150px",
    "width": "382.391px"
   },
   "toc_section_display": true,
   "toc_window_display": false
  }
 },
 "nbformat": 4,
 "nbformat_minor": 5
}
