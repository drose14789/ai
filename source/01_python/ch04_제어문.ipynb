{
 "cells": [
  {
   "cell_type": "code",
   "execution_count": 3,
   "id": "d4a2f1eb",
   "metadata": {},
   "outputs": [
    {
     "data": {
      "text/html": [
       "\n",
       "<style>\n",
       "div.container{width:90% !important;}\n",
       "div.cell.code_cell.rendered{width:100%;}\n",
       "div.input_prompt{padding:0px;}\n",
       "div.CodeMirror {font-family:Consolas; font-size:12pt;}\n",
       "div.text_cell_render.rendered_html{font-size:12pt;}\n",
       "div.output {font-size:12pt; font-weight:bold;}\n",
       "div.input{font-family:Consolas; font-size:12pt;}\n",
       "div.prompt {min-width:70px;}\n",
       "div#toc-wrapper{padding-top:120px;}\n",
       "div.text_cell_render ul li{font-size:12pt;padding:5px;}\n",
       "table.dataframe{font-size:12px;}\n",
       "</style>\n"
      ],
      "text/plain": [
       "<IPython.core.display.HTML object>"
      ]
     },
     "metadata": {},
     "output_type": "display_data"
    }
   ],
   "source": [
    "from IPython.display import display, HTML\n",
    "display(HTML (\"\"\"\n",
    "<style>\n",
    "div.container{width:90% !important;}\n",
    "div.cell.code_cell.rendered{width:100%;}\n",
    "div.input_prompt{padding:0px;}\n",
    "div.CodeMirror {font-family:Consolas; font-size:12pt;}\n",
    "div.text_cell_render.rendered_html{font-size:12pt;}\n",
    "div.output {font-size:12pt; font-weight:bold;}\n",
    "div.input{font-family:Consolas; font-size:12pt;}\n",
    "div.prompt {min-width:70px;}\n",
    "div#toc-wrapper{padding-top:120px;}\n",
    "div.text_cell_render ul li{font-size:12pt;padding:5px;}\n",
    "table.dataframe{font-size:12px;}\n",
    "</style>\n",
    "\"\"\"))"
   ]
  },
  {
   "cell_type": "markdown",
   "id": "712fbc82",
   "metadata": {},
   "source": [
    "<b><font size=\"7\" color=\"red\">ch04. 제어문</font></b>\n",
    "- 조건문 : if문\n",
    "- 반복문 : for문(반복횟수), while문(조건)\n",
    "**모두 중첩가능**\n",
    "\n",
    "# 1절. 조건문(if)\n",
    "```\n",
    "if 조건1:\n",
    "    조건1이 True일 경우 수행할 명령어들(들여쓰기 중요. if절 단독 사용 가능)\n",
    "elif 조건2:\n",
    "    조건1이 False이고, 조건2가 True일 경우 수행할 명령어들\n",
    "else:\n",
    "    모든 조건이 False일 경우 수행할 명령어들(elif나 else는 단독 사용 불가)\n",
    "```"
   ]
  },
  {
   "cell_type": "code",
   "execution_count": 7,
   "id": "35f889f5",
   "metadata": {},
   "outputs": [
    {
     "name": "stdout",
     "output_type": "stream",
     "text": [
      "Enter your sore >50\n",
      "재시험 응시하세요\n",
      "화이팅\n"
     ]
    }
   ],
   "source": [
    "score = int(input('Enter your score >'))\n",
    "if score>=80:\n",
    "    print('참 잘했어요')\n",
    "    print('다음에도 기대할게요')\n",
    "elif score>=60:\n",
    "    print('분발하세요')\n",
    "    print('뭐 그대로 고생하셨어요')\n",
    "else:\n",
    "    print('재시험 응시하세요')\n",
    "    print('화이팅')"
   ]
  },
  {
   "cell_type": "code",
   "execution_count": 16,
   "id": "43ecdec3",
   "metadata": {},
   "outputs": [
    {
     "name": "stdout",
     "output_type": "stream",
     "text": [
      "점수5\n",
      "입력하신 점수 5점은 F학점\n"
     ]
    }
   ],
   "source": [
    "#ex. 점수를 입력받아 학점출력(A, B, C, D, F, 유효하지 않는 점수)\n",
    "score = int(input('점수'))\n",
    "if 90<=score<=100:\n",
    "    grade = 'A학점'\n",
    "elif 80<=score<90:\n",
    "    grade = 'B학점'\n",
    "elif 70<=score<80:\n",
    "    grade = 'C학점'\n",
    "elif 60<=score<70:\n",
    "    grade = 'D학점'\n",
    "elif 0<=score<60:\n",
    "    grade = 'F학점'\n",
    "else:\n",
    "    grade = '유효하지 않는 점수'\n",
    "print(f\"입력하신 점수 {score}점은 {grade}\")"
   ]
  },
  {
   "cell_type": "markdown",
   "id": "2407a597",
   "metadata": {},
   "source": [
    "# 2절. 반복문\n",
    "## 2.1 for-in(for)문\n",
    "```\n",
    "for 임시변수 in 나열가능한 자료:\n",
    "    반복할 문장1\n",
    "    반복할 문장2\n",
    "else:\n",
    "    나열가능한 자료를 다 소요하여 for블록을 다 수행한 후, 최종 한 번 실행할 문장들\n",
    "    for문안의 break를 수행할 경우, else블록을 수행하지 않음(else는 선택)\n",
    "```"
   ]
  },
  {
   "cell_type": "code",
   "execution_count": 17,
   "id": "2c690526",
   "metadata": {},
   "outputs": [
    {
     "name": "stdout",
     "output_type": "stream",
     "text": [
      "1\t3\t5\t7\t9\tDone\n",
      "end\n"
     ]
    }
   ],
   "source": [
    "for i in range(1, 10, 2):\n",
    "    print(i, end=\"\\t\")\n",
    "else: \n",
    "    print('Done')\n",
    "print('end')"
   ]
  },
  {
   "cell_type": "code",
   "execution_count": 19,
   "id": "ea317b6d",
   "metadata": {},
   "outputs": [
    {
     "name": "stdout",
     "output_type": "stream",
     "text": [
      "1\t3\t5\t7\t9\tDone\n",
      "end\n"
     ]
    }
   ],
   "source": [
    "for i in range(1, 10, 2):\n",
    "    print(i, end=\"\\t\")\n",
    "\n",
    "print('Done')\n",
    "print('end')"
   ]
  },
  {
   "cell_type": "code",
   "execution_count": 21,
   "id": "bf69c77d",
   "metadata": {},
   "outputs": [
    {
     "name": "stdout",
     "output_type": "stream",
     "text": [
      "0\t1\t2\t3\t4\tend\n"
     ]
    }
   ],
   "source": [
    "for i in range(10):\n",
    "    if i == 5:\n",
    "        break # 현재 반복문을 빠져나가\n",
    "    print(i, end=\"\\t\")\n",
    "else: \n",
    "    print('\\nDone')\n",
    "print('end')"
   ]
  },
  {
   "cell_type": "code",
   "execution_count": 22,
   "id": "49ca9bc9",
   "metadata": {},
   "outputs": [
    {
     "name": "stdout",
     "output_type": "stream",
     "text": [
      "1~100까지 합은 5050\n"
     ]
    }
   ],
   "source": [
    "# 1~100R까지 합을 계산하고 출력하시오(for문)\n",
    "sum = 0 # 누적변수\n",
    "for i in range(1, 101):\n",
    "    sum += i # sum = sum+i\n",
    "else:\n",
    "    print(\"1~100까지 합은\", sum)"
   ]
  },
  {
   "cell_type": "code",
   "execution_count": 23,
   "id": "feb7c841",
   "metadata": {},
   "outputs": [
    {
     "name": "stdout",
     "output_type": "stream",
     "text": [
      "1~100까지 짝수들의 합은 2550\n"
     ]
    }
   ],
   "source": [
    "sum = 0\n",
    "for i in range(1, 101):\n",
    "    if i%2 ==0:\n",
    "        sum += i \n",
    "else:\n",
    "    print(\"1~100까지 짝수들의 합은\", sum)"
   ]
  },
  {
   "cell_type": "markdown",
   "id": "654ad847",
   "metadata": {},
   "source": [
    "## 2.2 while문\n",
    "```\n",
    "while 조건:\n",
    "    조건이 True일 경우 반복할 문장들\n",
    "else:\n",
    "    조건이 False일 경우 한 번 실행할 문장들(else구문은 선택사항)\n",
    "    while문내의 break 수행할 경우 else구문은 실해되지 않음\n",
    "```"
   ]
  },
  {
   "cell_type": "code",
   "execution_count": 27,
   "id": "c3d6d170",
   "metadata": {},
   "outputs": [
    {
     "name": "stdout",
     "output_type": "stream",
     "text": [
      "1~100까지 짝수들의 합은 2550\n"
     ]
    }
   ],
   "source": [
    "# 1~100까지 짝수들의 합을 계산하고 출력하시오(while문)\n",
    "sum = 0\n",
    "i = 0\n",
    "while i <= 100:\n",
    "    if i%2==0:\n",
    "        sum += i\n",
    "    i += 1\n",
    "else:\n",
    "    print(\"1~100까지 짝수들의 합은\", sum)"
   ]
  },
  {
   "cell_type": "code",
   "execution_count": 79,
   "id": "ede1a026",
   "metadata": {},
   "outputs": [
    {
     "name": "stdout",
     "output_type": "stream",
     "text": [
      "첫번째 정수4\n",
      "두번째 정수-1\n",
      "-1~4까지 누적합은 3\n"
     ]
    }
   ],
   "source": [
    "# ex1. 사용자에게 두 정수를 입력받아, 작은수부터 큰수까지 홀수의 합을 누적해서 출력 \n",
    "\"\"\"\n",
    "num1 = int(input('첫번째 정수'))\n",
    "num2 = int(input('두번째 정수'))\n",
    "sum = 0\n",
    "if num1 > num2:\n",
    "    for i in range(num2, num1+1):\n",
    "        if (i%2 == 1) | (i%2==-1):\n",
    "            sum += i\n",
    "elif num2 > num1:\n",
    "    for i in range(num1, num2+1):\n",
    "        if (i%2 == 1) | (i%2==-1):\n",
    "            sum += i\n",
    "print('작은수부터 큰수까지 홀수의 합:',sum)\n",
    "\"\"\"\n",
    "# 두 정수를 입력\n",
    "first = int(input('첫번째 정수'))\n",
    "second = int(input('두번째 정수'))\n",
    "# 두 정수 중 작은 수와 큰 수\n",
    "if first > second:\n",
    "#    temp = first\n",
    "#    first = second\n",
    "#    second = temp\n",
    "    first, second = second, first \n",
    "# 누적\n",
    "sum = 0\n",
    "for i in range(first, second+1):\n",
    "    if i%2: #(i%2 == 1) | (i%2==-1):\n",
    "        sum += i\n",
    "print(\"{}~{}까지 누적합은 {}\".format(first, second, sum))"
   ]
  },
  {
   "cell_type": "code",
   "execution_count": 112,
   "id": "564851ff",
   "metadata": {},
   "outputs": [
    {
     "data": {
      "text/plain": [
       "[20, 21, 27, 32, 35, 36]"
      ]
     },
     "execution_count": 112,
     "metadata": {},
     "output_type": "execute_result"
    }
   ],
   "source": [
    "# ex2. 1~45까지의 로또 번호 6개를 추출하여 정렬된 로또번호를 출력하는 프로그램을 구현하시오\n",
    "import random\n",
    "#random.seed(3)\n",
    "#random.random() # 0이상 1미만의 실수 난수\n",
    "#random.choice(['남자','여자']) # 남자나 여자를 선택(활률일치)\n",
    "#random.choices(['사기꾼','비사기꾼'], weights = [0.1, 0.9]) # 활률 0.1, 활률 0.9\n",
    "#random.randint(1,45) # 1~45의 정수 난수\n",
    "\"\"\"\n",
    "lotto_lst = [] # 추출된 로또번호를 담을 변수\n",
    "cnt = 0 # 임의의 수 발생 횟수\n",
    "while len(lotto_lst) < 6:\n",
    "    temp = random.randint(1,45) # 임의의 수를 temp변수\n",
    "    cnt += 1\n",
    "    if not temp in lotto_lst:\n",
    "        lotto_lst.append(temp)\n",
    "print(f\"{cnt}번 로또번호 추출함:{(lotto_lst)}\")\n",
    "# 정렬 알고리즘\n",
    "for i in range(len(lotto_lst)-1):\n",
    "    for j in range(i+1,len(lotto_lst)):\n",
    "        if lotto_lst[i] > lotto_lst[j]:\n",
    "            lotto_lst[i], lotto_lst[j] = lotto_lst[j], lotto_lst[i]\n",
    "print(\"정렬후 :\", lotto_lst)\n",
    "\"\"\"\n",
    "#ex2를 set 이용\n",
    "\"\"\" \n",
    "lotto_set = set() # 빈 셋\n",
    "while len(lotto_set) < 6:\n",
    "    lotto_set.add(random.randint(1,45))\n",
    "sorted(list(lotto_set))\n",
    "\"\"\"\n",
    "# 1~45 중 6개 뽑아 정렬\n",
    "sorted(random.sample(range(1,46),6))"
   ]
  },
  {
   "cell_type": "markdown",
   "id": "6d303435",
   "metadata": {},
   "source": [
    "## 2.3 break, continue\n",
    "- break : 현재 반복문 탈출\n",
    "- continue : 수행중인 반복문을 멈추고 조건절로"
   ]
  },
  {
   "cell_type": "code",
   "execution_count": 116,
   "id": "8a2f701d",
   "metadata": {},
   "outputs": [
    {
     "name": "stdout",
     "output_type": "stream",
     "text": [
      "1 2 3 4 END\n"
     ]
    }
   ],
   "source": [
    "num = 0\n",
    "while num < 10:\n",
    "    num += 1\n",
    "    if num == 5:\n",
    "        break\n",
    "    print(num, end = ' ')\n",
    "print('END')\n"
   ]
  },
  {
   "cell_type": "code",
   "execution_count": 118,
   "id": "e451d2bf",
   "metadata": {},
   "outputs": [
    {
     "name": "stdout",
     "output_type": "stream",
     "text": [
      "1 2 3 4 6 7 8 9 10 END\n"
     ]
    }
   ],
   "source": [
    "num = 0\n",
    "while num < 10:\n",
    "    num += 1 # num 변수를 1 증가\n",
    "    if num == 5:\n",
    "        continue\n",
    "    print(num, end = ' ')\n",
    "print('END')\n"
   ]
  },
  {
   "cell_type": "code",
   "execution_count": 122,
   "id": "277e7d52",
   "metadata": {},
   "outputs": [
    {
     "name": "stdout",
     "output_type": "stream",
     "text": [
      "컴퓨터가 발생한 random 수: 8\n",
      "1~100 사이의 수를 맞춰 보세요:8\n",
      "축하 맞추셨습니다\n",
      "BYE\n"
     ]
    }
   ],
   "source": [
    "# 숫자 찾기 게임\n",
    "'''\n",
    "1~100 사이의 정수 맞추기 프로그램\n",
    "(프로그램 안에서 random수가 만들어지고, 그 random수 맞추기)\n",
    "1단계 : 숫자를 못 맞추면 UP/DOWN을 출력하고, 맞추면 축하메시지 출력하고 종료\n",
    "2단계 : 숫자를 못 맞추면 min(0), max(100)를 조정하고, 맞추면 축하메시지 출력하고 종료\n",
    "3단계 : 2단계의 기회를 5회로 제한 5회의 기회가 지나면 실패 메시지 출력하고 종료\n",
    "        5회 이내에 맞추면 축하메시지 출력하고 종료\n",
    "    (2단계와 3단계는 연습문제)\n",
    "'''\n",
    "import random\n",
    "randomNum = random.randint(1,100)\n",
    "print(\"컴퓨터가 발생한 random 수:\", randomNum)\n",
    "while True:\n",
    "    inputNum = int(input(\"1~100 사이의 수를 맞춰 보세요:\"))\n",
    "    if (inputNum<1) | (inputNum >100):\n",
    "        print('수의 범위를 벗어났습니다.')\n",
    "    elif inputNum < randomNum:\n",
    "        print('UP ↑')\n",
    "    elif inputNum > randomNum:\n",
    "        print('Down ↓')\n",
    "    else:\n",
    "        print(\"축하 맞추셨습니다\")\n",
    "        break\n",
    "print(\"BYE\")"
   ]
  },
  {
   "cell_type": "code",
   "execution_count": 126,
   "id": "6eebe61e",
   "metadata": {},
   "outputs": [
    {
     "name": "stdout",
     "output_type": "stream",
     "text": [
      "컴퓨터가 발생한 random 수: 61\n",
      "1~100 사이의 수를 맞춰 보세요:61\n",
      "축하 맞추셨습니다\n",
      "BYE\n"
     ]
    }
   ],
   "source": [
    "import random\n",
    "randomNum = random.randint(1,100)\n",
    "print(\"컴퓨터가 발생한 random 수:\", randomNum)\n",
    "inputNum = 0\n",
    "while randomNum != inputNum:\n",
    "    inputNum = int(input(\"1~100 사이의 수를 맞춰 보세요:\"))\n",
    "    if (inputNum<1) | (inputNum >100):\n",
    "        print('수의 범위를 벗어났습니다.')\n",
    "    elif inputNum < randomNum:\n",
    "        print('UP ↑')\n",
    "    elif inputNum > randomNum:\n",
    "        print('Down ↓')\n",
    "    else:\n",
    "        print(\"축하 맞추셨습니다\")\n",
    "print(\"BYE\")"
   ]
  },
  {
   "cell_type": "markdown",
   "id": "1cabadec",
   "metadata": {},
   "source": [
    "# 3절 중첩루프\n",
    "(반복문 안의 반복문)"
   ]
  },
  {
   "cell_type": "code",
   "execution_count": null,
   "id": "4dff88e1",
   "metadata": {},
   "outputs": [],
   "source": [
    "# 2~9단 구구단 출력\n",
    "'''\n",
    "for i in range(1, 10):\n",
    "    for j in range(2, 10):\n",
    "        print(f\"{i}x{j}={i*j}\", end='\\t')\n",
    "'''\n",
    "for i in range(1, 10):\n",
    "    print(\"{:6}\".format(str(i)+'단'),end='\\t')\n",
    "print() #개행\n",
    "for i in range(1, 10):\n",
    "    for j in range(2, 10):\n",
    "        print(\"{}x{}={:2}\".format(j, i, i*j), end='\\t')\n",
    "    print()"
   ]
  },
  {
   "cell_type": "code",
   "execution_count": 7,
   "id": "ff75b5db",
   "metadata": {},
   "outputs": [
    {
     "name": "stdout",
     "output_type": "stream",
     "text": [
      "0행0열 :1\t0행1열 :2\t0행2열 :3\t0행3열 :4\t\n",
      "1행0열 :5\t1행1열 :6\t1행2열 :7\t1행3열 :8\t\n"
     ]
    }
   ],
   "source": [
    "lst_2d = [[1, 2, 3, 4],\n",
    "         [5, 6, 7, 8]]\n",
    "for i in range(len(lst_2d)): #행\n",
    "    for j in range(len(lst_2d[i])): #열\n",
    "        print(f\"{i}행{j}열 :{lst_2d[i][j]}\", end = '\\t')\n",
    "    print()\n",
    "    "
   ]
  },
  {
   "cell_type": "markdown",
   "id": "2390ff65",
   "metadata": {},
   "source": [
    "# 4절 중첩루프 탈출\n"
   ]
  },
  {
   "cell_type": "code",
   "execution_count": 6,
   "id": "9338371c",
   "metadata": {},
   "outputs": [
    {
     "name": "stdout",
     "output_type": "stream",
     "text": [
      "0 1\n",
      "0 2\n",
      "DONE\n"
     ]
    }
   ],
   "source": [
    "# 중첩 루프 탈출1. flag변수 이용\n",
    "flag = False # break를 만나면 True\n",
    "for a in range(0, 3): # a=0일때 1일때, 2일때\n",
    "    for b in range(1, 3): # b=1일때, 2일때\n",
    "        if a==b:\n",
    "            flag = True\n",
    "            break\n",
    "        print(a,b)\n",
    "    # break를 만나면 오는 곳\n",
    "    if flag:\n",
    "        break\n",
    "print('DONE')"
   ]
  },
  {
   "cell_type": "code",
   "execution_count": null,
   "id": "28d2521f",
   "metadata": {},
   "outputs": [],
   "source": [
    "#중첩 루프 탈출 방법2. 예외(Exception)처리 이용 - 9/29일쯤"
   ]
  },
  {
   "cell_type": "markdown",
   "id": "347a85ff",
   "metadata": {},
   "source": [
    "# 5절 연습문제"
   ]
  },
  {
   "cell_type": "code",
   "execution_count": 18,
   "id": "55b338b0",
   "metadata": {},
   "outputs": [
    {
     "name": "stdout",
     "output_type": "stream",
     "text": [
      "양의 정수를 입려하세요9\n",
      "입력하신 양의 정수는 9이고 홀수입니다\n"
     ]
    }
   ],
   "source": [
    "#1.양의 정수를 입력 받아 홀수인지 짝수인지 판별하는 프로그램을 작성하세요. 양의 정수가 아니면 숫자를 다시 입력 받아야합니다.\n",
    "'''\n",
    "inputStr = input('양의 정수를 입력하세요')\n",
    "while True:\n",
    "    print('inputStr이 양의 정수인지 여부:',inputStr.isdigit())\n",
    "    num = int(inputStr)\n",
    "    if num < 0:\n",
    "        print('양의 정수가 아닙니다.')\n",
    "    elif num > 0:\n",
    "        print('양의 정수가 맞습니다.')\n",
    "        if num % 2 == 0 :\n",
    "            print('짝수')\n",
    "        elif num % 2 == 1 :\n",
    "            print('홀수')\n",
    "        break\n",
    "print('Done')\n",
    "'''\n",
    "inputStr = ''\n",
    "while (inputStr.isdigit()==False) | (inputStr == '0') :\n",
    "    inputStr = input('양의 정수를 입려하세요')\n",
    "inputNum = int(inputStr)\n",
    "even_odd = '홀수' if inputNum%2 else '짝수'\n",
    "#if inputNum%2:\n",
    "#    even_odd = '홀수'\n",
    "#else:\n",
    "#    even_odd = '짝수'\n",
    "print('입력하신 양의 정수는 {}이고 {}입니다'.format(inputNum, even_odd))"
   ]
  },
  {
   "cell_type": "code",
   "execution_count": 24,
   "id": "492f9531",
   "metadata": {},
   "outputs": [
    {
     "name": "stdout",
     "output_type": "stream",
     "text": [
      " (1) \t (2) \n",
      "*****\t*\n",
      "*****\t**\n",
      "*****\t***\n",
      "*****\t****\n",
      "*****\t*****\n"
     ]
    }
   ],
   "source": [
    "#2.중첩for문을 이용하여 아래 패턴의 별을 출력하는 프로그램을 작성하세요\n",
    "print(\"{:^5}\\t{:^5}\".format(\"(1)\", \"(2)\"))\n",
    "'''\n",
    "for i in range(5):\n",
    "    for j in range(5):\n",
    "        print('*'*5, end='\\t')\n",
    "    print()\n",
    "'''\n",
    "for i in range(5):\n",
    "    print('*'*5, end='\\t')\n",
    "    for j in range(i+1):\n",
    "        print('*', end = '')\n",
    "    print()\n",
    "#for i in range(5):\n",
    "#    print('*'*(i+1))\n",
    "#star = \"*\"\n",
    "#for j in rnage(5):\n",
    "#    print(star)\n",
    "#   star += \"*\""
   ]
  },
  {
   "cell_type": "code",
   "execution_count": 42,
   "id": "942dfaa4",
   "metadata": {},
   "outputs": [
    {
     "name": "stdout",
     "output_type": "stream",
     "text": [
      "165\n"
     ]
    }
   ],
   "source": [
    "#3.다음 코드는 1부터 30까지 (30포함) 자연수 중에서 3의 배수의 총 합을 출력하는 프로그램입니다. 빈칸의 코드를 완성하시오\n",
    "sum = 0\n",
    "for i in range(1,31):\n",
    "    if i%3 ==0 : #if not i%3:\n",
    "        sum = sum + i\n",
    "    else:\n",
    "        pass\n",
    "print(sum)"
   ]
  },
  {
   "cell_type": "code",
   "execution_count": 4,
   "id": "b7785afc",
   "metadata": {},
   "outputs": [
    {
     "name": "stdout",
     "output_type": "stream",
     "text": [
      "2 3 6 7 10 "
     ]
    }
   ],
   "source": [
    "#4.다음 코드의 실행결과가\"1 3 5 7 9\"가 되도록 빈칸을 완성하시오\n",
    "num = 0\n",
    "while num <= 10:\n",
    "    if num&2: \n",
    "        print(num,end=\" \")\n",
    "    num += 1"
   ]
  },
  {
   "cell_type": "code",
   "execution_count": 6,
   "id": "2e5b3a41",
   "metadata": {},
   "outputs": [
    {
     "name": "stdout",
     "output_type": "stream",
     "text": [
      "123\n",
      "4567\n",
      "89\n"
     ]
    }
   ],
   "source": [
    "#5.다음 2차원 리스트의 모든 값을 출력하는 코드입니다. 빈칸을 완성하시오\n",
    "list2d = [[1,2,3],[4,5,6,7],[8,9]]\n",
    "for row in list2d:\n",
    "    for data in row:\n",
    "        print(data, end='')\n",
    "    print()"
   ]
  },
  {
   "cell_type": "code",
   "execution_count": 8,
   "id": "a0fa8a58",
   "metadata": {},
   "outputs": [
    {
     "name": "stdout",
     "output_type": "stream",
     "text": [
      "0 apple\n",
      "1 banana\n"
     ]
    }
   ],
   "source": [
    "#6.다음 빈칸에 들어갈 함수 이름은?\n",
    "colors = {\"red\":'apple',\"yellow\":'banana'}\n",
    "for i, v in enumerate(colors.values()):\n",
    "    print(i,v)"
   ]
  },
  {
   "cell_type": "code",
   "execution_count": 9,
   "id": "1adac5c3",
   "metadata": {},
   "outputs": [
    {
     "name": "stdout",
     "output_type": "stream",
     "text": [
      "1 0\n"
     ]
    }
   ],
   "source": [
    "#7.다음 코드의 실행결과는?\n",
    "for i in range(0,2):\n",
    "    for j in range(0,2):\n",
    "        if i==j:\n",
    "            break\n",
    "        print(i,j)"
   ]
  },
  {
   "cell_type": "code",
   "execution_count": 12,
   "id": "c7bb7af7",
   "metadata": {},
   "outputs": [
    {
     "name": "stdout",
     "output_type": "stream",
     "text": [
      "0 0\n",
      "1 0\n",
      "1 1\n"
     ]
    }
   ],
   "source": [
    "#8.다음 코드의 실행 결과로 출력될 수 없는 것으?\n",
    "## 1번 00 2번 01 3번 10 4번 11\n",
    "### 2번\n",
    "for i in range(0,2):\n",
    "    for j in range(0,2):\n",
    "        print(i,j)\n",
    "        if i==j:\n",
    "            break\n"
   ]
  },
  {
   "cell_type": "code",
   "execution_count": 10,
   "id": "51406c21",
   "metadata": {},
   "outputs": [
    {
     "name": "stdout",
     "output_type": "stream",
     "text": [
      "3579\n",
      "3 5 7 9 "
     ]
    }
   ],
   "source": [
    "#9.다음 코드의 실행결과는?\n",
    "L = [3,4,5,6,7,8,9,10]\n",
    "for i, data in enumerate(L):\n",
    "    if i%2 == 0:\n",
    "        print(data, end='')\n",
    "#참고\n",
    "#print(L[::2])\n",
    "print() # 개행\n",
    "for data in L[::2]:\n",
    "    print(data, end=' ')"
   ]
  },
  {
   "cell_type": "code",
   "execution_count": 1,
   "id": "a4f07e11",
   "metadata": {},
   "outputs": [
    {
     "name": "stdout",
     "output_type": "stream",
     "text": [
      "컴퓨터가 발생한 random 수: 17\n",
      "1~100 사이의 수를 맞춰 보세요:1\n",
      "UP ↑\n",
      "1~100 사이의 수를 맞춰 보세요:90\n",
      "Down ↓\n",
      "1~100 사이의 수를 맞춰 보세요:17\n",
      "축하 맞추셨습니다\n",
      "BYE\n"
     ]
    }
   ],
   "source": [
    "#10.1~100 사이의 정수 맞추기 프로그램\n",
    "#(프로그램 안에서 random수가 만들어지고, 그 random수 맞추기)\n",
    "#1단계 : 숫자를 못 맞추면 UP/DOWN을 출력하고, 맞추면 축하메시지 출력하고 종료\n",
    "import random\n",
    "randomNum = random.randint(1,100)\n",
    "print(\"컴퓨터가 발생한 random 수:\", randomNum)\n",
    "while True:\n",
    "    inputNum = int(input(\"1~100 사이의 수를 맞춰 보세요:\"))\n",
    "    if (inputNum<1) | (inputNum >100):\n",
    "        print('수의 범위를 벗어났습니다.')\n",
    "    elif inputNum < randomNum:\n",
    "        print('UP ↑')\n",
    "    elif inputNum > randomNum:\n",
    "        print('Down ↓')\n",
    "    else:\n",
    "        print(\"축하 맞추셨습니다\")\n",
    "        break\n",
    "print(\"BYE\")"
   ]
  },
  {
   "cell_type": "code",
   "execution_count": 2,
   "id": "fccb950e",
   "metadata": {},
   "outputs": [
    {
     "name": "stdout",
     "output_type": "stream",
     "text": [
      "컴퓨터가 발생한 random 수: 20\n",
      "1~100 사이의 수를 맞춰 보세요:1\n",
      "UP ↑\n",
      "2~100 사이의 수를 맞춰 보세요:50\n",
      "Down ↓\n",
      "2~49 사이의 수를 맞춰 보세요:51\n",
      "수의 범위를 벗어났습니다.수의 범위는 2~49이고,51를 입력\n",
      "2~49 사이의 수를 맞춰 보세요:33\n",
      "Down ↓\n",
      "2~32 사이의 수를 맞춰 보세요:31\n",
      "Down ↓\n",
      "2~30 사이의 수를 맞춰 보세요:29\n",
      "Down ↓\n",
      "2~28 사이의 수를 맞춰 보세요:20\n",
      "축하 맞추셨습니다\n",
      "bye\n"
     ]
    }
   ],
   "source": [
    "#2단계 : 숫자를 못 맞추면 min(0), max(100)를 조정하고, 맞추면 축하메시지 출력하고 종료\n",
    "import random\n",
    "randomNum = random.randint(1,100)\n",
    "print(\"컴퓨터가 발생한 random 수:\", randomNum)\n",
    "inputNum = 0\n",
    "Min_ = 1\n",
    "Max_ = 100\n",
    "while True:\n",
    "    inputNum = int(input(f\"{Min_}~{Max_} 사이의 수를 맞춰 보세요:\"))\n",
    "    if (inputNum< Min_) | (inputNum > Max_):\n",
    "        print(f'수의 범위를 벗어났습니다.수의 범위는 {Min_}~{Max_}이고,{inputNum}를 입력')\n",
    "    elif inputNum < randomNum:\n",
    "        Min_ = inputNum +1\n",
    "        print('UP ↑')\n",
    "    elif inputNum > randomNum:\n",
    "        Max_ = inputNum -1\n",
    "        print('Down ↓')\n",
    "    else:\n",
    "        print(\"축하 맞추셨습니다\")\n",
    "        break\n",
    "print('bye')   "
   ]
  },
  {
   "cell_type": "code",
   "execution_count": 11,
   "id": "75775465",
   "metadata": {},
   "outputs": [
    {
     "name": "stdout",
     "output_type": "stream",
     "text": [
      "컴퓨터가 발생한 random 수: 9\n",
      "1~100 사이의 수를 맞춰 보세요(남은 기회는5):9\n",
      "축하 맞추셨습니다\n",
      "기회를 모두 사용하셨습니다. 실패하셨습니다. bye\n"
     ]
    }
   ],
   "source": [
    "#3단계 : 2단계의 기회를 5회로 제한 5회의 기회가 지나면 실패 메시지 출력하고 종료\n",
    "#        5회 이내에 맞추면 축하메시지 출력하고 종료\n",
    "import random\n",
    "randomNum = random.randint(1,100)\n",
    "print(\"컴퓨터가 발생한 random 수:\", randomNum)\n",
    "inputNum = 0\n",
    "Min_ = 1\n",
    "Max_ = 100\n",
    "num = 6\n",
    "#for cnt in range(5, 0, -1):\n",
    "#   inputNum = int(input(f\"{Min_}~{Max_} 사이의 수를 맞춰 보세요(남은 기회는{num}):\"))\n",
    "\n",
    "while num > 1:\n",
    "    num -= 1\n",
    "    inputNum = int(input(f\"{Min_}~{Max_} 사이의 수를 맞춰 보세요(남은 기회는{num}):\"))\n",
    "    if (inputNum < Min_) | (inputNum > Max_):\n",
    "        print(f'수의 범위를 벗어났습니다.수의 범위는 {Min_}~{Max_}이고,{inputNum}를 입력')\n",
    "    elif inputNum < randomNum :\n",
    "        Min_ = inputNum +1\n",
    "        print('UP ↑')\n",
    "    elif inputNum > randomNum:\n",
    "        Max_ = inputNum -1\n",
    "        print('Down ↓')\n",
    "    else:\n",
    "        print(\"축하 맞추셨습니다\")\n",
    "        break\n",
    "else:\n",
    "    print('기회를 모두 사용하셨습니다. 실패하셨습니다. bye') \n"
   ]
  }
 ],
 "metadata": {
  "kernelspec": {
   "display_name": "Python 3 (ipykernel)",
   "language": "python",
   "name": "python3"
  },
  "language_info": {
   "codemirror_mode": {
    "name": "ipython",
    "version": 3
   },
   "file_extension": ".py",
   "mimetype": "text/x-python",
   "name": "python",
   "nbconvert_exporter": "python",
   "pygments_lexer": "ipython3",
   "version": "3.10.9"
  },
  "toc": {
   "base_numbering": 1,
   "nav_menu": {},
   "number_sections": false,
   "sideBar": true,
   "skip_h1_title": false,
   "title_cell": "Table of Contents",
   "title_sidebar": "Contents",
   "toc_cell": false,
   "toc_position": {
    "height": "calc(100% - 180px)",
    "left": "10px",
    "top": "150px",
    "width": "382.391px"
   },
   "toc_section_display": true,
   "toc_window_display": true
  }
 },
 "nbformat": 4,
 "nbformat_minor": 5
}
